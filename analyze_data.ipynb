{
 "cells": [
  {
   "cell_type": "code",
   "execution_count": 25,
   "metadata": {
    "collapsed": true
   },
   "outputs": [],
   "source": [
    "import pickle\n",
    "import datetime\n",
    "from blockchain import blockexplorer"
   ]
  },
  {
   "cell_type": "code",
   "execution_count": 26,
   "metadata": {
    "collapsed": false
   },
   "outputs": [],
   "source": [
    "dbFile = \"simple_loop_process.dat\"\n",
    "timeFile = \"times.txt\"\n",
    "timeDiffFile = \"times_diff.txt\"\n",
    "actualTimeFile = \"actual_times.txt\"\n",
    "blockchains = []\n",
    "times = []\n",
    "timeDiffs = []\n",
    "actual_diffs = []"
   ]
  },
  {
   "cell_type": "markdown",
   "metadata": {},
   "source": [
    "Reads data from the dbFile. This reads in blocks so we can manipulate them. The type of each block is simpleBlock from blockchain explorer."
   ]
  },
  {
   "cell_type": "code",
   "execution_count": 27,
   "metadata": {
    "collapsed": true
   },
   "outputs": [],
   "source": [
    "def readData():\n",
    "    with open(dbFile,\"rb\") as f:\n",
    "        for _ in range(407908):\n",
    "            try:\n",
    "                blockchains.append(pickle.load(f))\n",
    "            except:\n",
    "                break"
   ]
  },
  {
   "cell_type": "markdown",
   "metadata": {},
   "source": [
    "Writes the times to a file. Should only need to be done once, but whatever."
   ]
  },
  {
   "cell_type": "code",
   "execution_count": 28,
   "metadata": {
    "collapsed": true
   },
   "outputs": [],
   "source": [
    "def writeTimes():\n",
    "    with open(timeFile,\"w\") as f:\n",
    "        for value in blockchains:\n",
    "            f.write(str(value.time)+\"\\n\")\n",
    "            "
   ]
  },
  {
   "cell_type": "markdown",
   "metadata": {},
   "source": [
    "Reads in the times from the timeFile."
   ]
  },
  {
   "cell_type": "code",
   "execution_count": 29,
   "metadata": {
    "collapsed": true
   },
   "outputs": [],
   "source": [
    "def readTimes():\n",
    "    global times\n",
    "    times = [line.rstrip('\\n') for line in open(timeFile)]"
   ]
  },
  {
   "cell_type": "code",
   "execution_count": 30,
   "metadata": {
    "collapsed": true
   },
   "outputs": [],
   "source": [
    "readData()"
   ]
  },
  {
   "cell_type": "code",
   "execution_count": 40,
   "metadata": {
    "collapsed": false
   },
   "outputs": [
    {
     "data": {
      "text/plain": [
       "401470"
      ]
     },
     "execution_count": 40,
     "metadata": {},
     "output_type": "execute_result"
    }
   ],
   "source": [
    "#check that we read in the blocks\n",
    "len(blockchains)"
   ]
  },
  {
   "cell_type": "code",
   "execution_count": 32,
   "metadata": {
    "collapsed": false
   },
   "outputs": [],
   "source": [
    "readTimes()"
   ]
  },
  {
   "cell_type": "code",
   "execution_count": 41,
   "metadata": {
    "collapsed": false
   },
   "outputs": [
    {
     "data": {
      "text/plain": [
       "401470"
      ]
     },
     "execution_count": 41,
     "metadata": {},
     "output_type": "execute_result"
    }
   ],
   "source": [
    "#check that we read in the times\n",
    "len(times)"
   ]
  },
  {
   "cell_type": "markdown",
   "metadata": {},
   "source": [
    "This is a test block. Allows you to examine the timing and info about block. Ignore this as its lame"
   ]
  },
  {
   "cell_type": "code",
   "execution_count": 42,
   "metadata": {
    "collapsed": false
   },
   "outputs": [
    {
     "name": "stdout",
     "output_type": "stream",
     "text": [
      "<type 'datetime.datetime'>\n",
      "2016-04-18 05:42:25\n",
      "-10.0\n",
      "(-1, 50)\n"
     ]
    }
   ],
   "source": [
    "#print blockchains[0].time\n",
    "#print blockchains[0].hash\n",
    "#print blockchains[0].height\n",
    "#print \"########\"\n",
    "#print blockchains[1].time\n",
    "#print blockchains[1].hash\n",
    "#print blockchains[1].height\n",
    "#print \"########\"\n",
    "#print int(blockchains[0].time) - int(blockchains[1].time)\n",
    "a = datetime.datetime.fromtimestamp(1460972535)\n",
    "b = datetime.datetime.fromtimestamp(1460972545)\n",
    "print type(a)\n",
    "print b\n",
    "#Mon, 18 Apr 2016 09:42:15 GMT\n",
    "#Mon, 18 Apr 2016 09:42:25 GMT\n",
    "#print type(blockchains[0].main_chain )\n",
    "c =  a - b\n",
    "print c.total_seconds()\n",
    "print divmod(c.days * 86400 + c.seconds, 60)"
   ]
  },
  {
   "cell_type": "markdown",
   "metadata": {},
   "source": [
    "Function that iterates over the times list and computes the difference between two times next to each other. Writes out to time_diff.txt. Reports the block height, time, and whether in main chain for each block as well as the time between each block. The last digit is seconds between blocks. Sample:\n",
    "```\n",
    "407864(1460995794,True) - 407863(1460992454,True)==> 0:55:40 ==>3340.0\n",
    "```"
   ]
  },
  {
   "cell_type": "code",
   "execution_count": 37,
   "metadata": {
    "collapsed": false
   },
   "outputs": [],
   "source": [
    "def processTimes():\n",
    "    global times\n",
    "    global timeDiffs\n",
    "    f = open(timeDiffFile,\"w\")\n",
    "    for i in range(len(times)):\n",
    "        if i == len(times)-1:\n",
    "            break\n",
    "        #value = int(times[i]) - int(times[i+1])\n",
    "        value = datetime.datetime.fromtimestamp(int(blockchains[i].time)) - datetime.datetime.fromtimestamp(int(blockchains[i+1].time))\n",
    "        \n",
    "        timeDiffs.append(divmod(c.days * 86400 + c.seconds, 60))\n",
    "        f.write(str(blockchains[i].height)+\"(\"+str(blockchains[i].time)+\",\"+str(blockchains[i].main_chain)+\")\"+\" - \"+str(blockchains[i+1].height)+\"(\"+str(blockchains[i+1].time)+\",\"+str(blockchains[i+1].main_chain)+\")\"+\"==> \"+str(value)+\" ==>\"+str(value.total_seconds())+\"\\n\")\n",
    "    f.close()"
   ]
  },
  {
   "cell_type": "code",
   "execution_count": 38,
   "metadata": {
    "collapsed": false
   },
   "outputs": [],
   "source": [
    "processTimes()"
   ]
  },
  {
   "cell_type": "code",
   "execution_count": 43,
   "metadata": {
    "collapsed": false
   },
   "outputs": [
    {
     "data": {
      "text/plain": [
       "401470"
      ]
     },
     "execution_count": 43,
     "metadata": {},
     "output_type": "execute_result"
    }
   ],
   "source": [
    "#test that we have the right data\n",
    "len(timeDiffs)"
   ]
  },
  {
   "cell_type": "code",
   "execution_count": null,
   "metadata": {
    "collapsed": false
   },
   "outputs": [],
   "source": []
  },
  {
   "cell_type": "markdown",
   "metadata": {},
   "source": [
    "Function that converts unix time to human readable times and writes them to a file. Ignore this"
   ]
  },
  {
   "cell_type": "code",
   "execution_count": 44,
   "metadata": {
    "collapsed": false
   },
   "outputs": [],
   "source": [
    "def convertTimes():\n",
    "    global times\n",
    "    global actual_diffs\n",
    "    f = open(actualTimeFile,\"w\")\n",
    "    for value in times:\n",
    "        value = datetime.datetime.fromtimestamp(int(value)).strftime('%Y-%m-%d %H:%M:%S')\n",
    "        f.write(value+\"\\n\")\n",
    "    for value in timeDiffs:\n",
    "        value2 = datetime.datetime.fromtimestamp(int(value)).strftime('%Y-%m-%d %H:%M:%S')\n",
    "        actual_diffs.append(value2)\n",
    "    f.close()"
   ]
  },
  {
   "cell_type": "code",
   "execution_count": null,
   "metadata": {
    "collapsed": false
   },
   "outputs": [],
   "source": []
  },
  {
   "cell_type": "code",
   "execution_count": null,
   "metadata": {
    "collapsed": false
   },
   "outputs": [],
   "source": []
  },
  {
   "cell_type": "code",
   "execution_count": null,
   "metadata": {
    "collapsed": false
   },
   "outputs": [],
   "source": []
  },
  {
   "cell_type": "code",
   "execution_count": null,
   "metadata": {
    "collapsed": false
   },
   "outputs": [],
   "source": []
  },
  {
   "cell_type": "code",
   "execution_count": null,
   "metadata": {
    "collapsed": true
   },
   "outputs": [],
   "source": []
  }
 ],
 "metadata": {
  "kernelspec": {
   "display_name": "Python 2",
   "language": "python",
   "name": "python2"
  },
  "language_info": {
   "codemirror_mode": {
    "name": "ipython",
    "version": 2
   },
   "file_extension": ".py",
   "mimetype": "text/x-python",
   "name": "python",
   "nbconvert_exporter": "python",
   "pygments_lexer": "ipython2",
   "version": "2.7.9"
  }
 },
 "nbformat": 4,
 "nbformat_minor": 0
}
