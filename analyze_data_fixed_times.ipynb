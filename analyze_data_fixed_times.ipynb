{
 "cells": [
  {
   "cell_type": "code",
   "execution_count": 1,
   "metadata": {
    "collapsed": false
   },
   "outputs": [],
   "source": [
    "import pickle\n",
    "import datetime\n",
    "from blockchain import blockexplorer\n",
    "import pandas as pd\n",
    "import numpy as np\n",
    "import matplotlib.pyplot as plt\n",
    "from operator import itemgetter, attrgetter, methodcaller\n",
    "%matplotlib inline"
   ]
  },
  {
   "cell_type": "code",
   "execution_count": 2,
   "metadata": {
    "collapsed": false
   },
   "outputs": [],
   "source": [
    "dbFile = \"simple_loop_process.dat\"\n",
    "timeFile = \"new_data/times.txt\"\n",
    "timeDiffFile = \"new_data/times_diff.txt\"\n",
    "actualTimeFile = \"new_data/actual_times.txt\"\n",
    "blockchains = []\n",
    "times = []\n",
    "timeDiffs = []\n",
    "actual_diffs = []\n",
    "orphans = []\n",
    "outliers = []"
   ]
  },
  {
   "cell_type": "markdown",
   "metadata": {},
   "source": [
    "Reads data from the dbFile. This reads in blocks so we can manipulate them. The type of each block is simpleBlock from blockchain explorer."
   ]
  },
  {
   "cell_type": "code",
   "execution_count": 3,
   "metadata": {
    "collapsed": true
   },
   "outputs": [],
   "source": [
    "def readData():\n",
    "    with open(dbFile,\"rb\") as f:\n",
    "        for _ in range(407908):\n",
    "            try:\n",
    "                blockchains.append(pickle.load(f))\n",
    "            except:\n",
    "                break"
   ]
  },
  {
   "cell_type": "markdown",
   "metadata": {},
   "source": [
    "Writes the times to a file. Should only need to be done once, but whatever."
   ]
  },
  {
   "cell_type": "code",
   "execution_count": 4,
   "metadata": {
    "collapsed": true
   },
   "outputs": [],
   "source": [
    "def writeTimes():\n",
    "    with open(timeFile,\"w\") as f:\n",
    "        for value in blockchains:\n",
    "            f.write(str(value.time)+\"\\n\")\n",
    "            "
   ]
  },
  {
   "cell_type": "markdown",
   "metadata": {},
   "source": [
    "Reads in the times from the timeFile."
   ]
  },
  {
   "cell_type": "code",
   "execution_count": 5,
   "metadata": {
    "collapsed": true
   },
   "outputs": [],
   "source": [
    "def readTimes():\n",
    "    global times\n",
    "    times = [line.rstrip('\\n') for line in open(timeFile)]"
   ]
  },
  {
   "cell_type": "code",
   "execution_count": 6,
   "metadata": {
    "collapsed": true
   },
   "outputs": [],
   "source": [
    "readData()\n",
    "blockchains = blockchains[131:]"
   ]
  },
  {
   "cell_type": "code",
   "execution_count": 7,
   "metadata": {
    "collapsed": false
   },
   "outputs": [
    {
     "data": {
      "text/plain": [
       "401339"
      ]
     },
     "execution_count": 7,
     "metadata": {},
     "output_type": "execute_result"
    }
   ],
   "source": [
    "#check that we read in the blocks\n",
    "len(blockchains)"
   ]
  },
  {
   "cell_type": "code",
   "execution_count": 8,
   "metadata": {
    "collapsed": false
   },
   "outputs": [
    {
     "data": {
      "text/plain": [
       "401339"
      ]
     },
     "execution_count": 8,
     "metadata": {},
     "output_type": "execute_result"
    }
   ],
   "source": [
    "###SORT BY HEIGHT\n",
    "#sorted(blockchains, key=lambda simple_block: student[2])\n",
    "blockchains = sorted(blockchains, key=attrgetter('height'), reverse=True)\n",
    "len(blockchains)"
   ]
  },
  {
   "cell_type": "code",
   "execution_count": 9,
   "metadata": {
    "collapsed": false
   },
   "outputs": [],
   "source": [
    "def BlockInfo(index):\n",
    "    print \"Height: \",blockchains[index].height\n",
    "    print \"Time: \",blockchains[index].time\n",
    "    print \"Actual Time \",datetime.datetime.fromtimestamp(int(blockchains[index].time)).strftime('%Y-%m-%d %H:%M:%S')\n",
    "    print \"HASH: \",blockchains[index].hash\n",
    "    print \"Main Chain: \",blockchains[index].main_chain"
   ]
  },
  {
   "cell_type": "code",
   "execution_count": 10,
   "metadata": {
    "collapsed": false
   },
   "outputs": [
    {
     "name": "stdout",
     "output_type": "stream",
     "text": [
      "Height:  407643\n",
      "Time:  1460862365\n",
      "Actual Time  2016-04-16 23:06:05\n",
      "HASH:  0000000000000000041030af5a8b0439fe45057b1722afefb846a33ef83baf60\n",
      "Main Chain:  True\n",
      "############\n",
      "Height:  407642\n",
      "Time:  1460861880\n",
      "Actual Time  2016-04-16 22:58:00\n",
      "HASH:  00000000000000000501f88d2568af7f0ff4b5476aa35ed287691795c3b6af5b\n",
      "Main Chain:  True\n",
      "############\n",
      "Height:  407641\n",
      "Time:  1460861372\n",
      "Actual Time  2016-04-16 22:49:32\n",
      "HASH:  0000000000000000029e5d5f74fbda1d82de2867db02bba756d952ba7c4fbca8\n",
      "Main Chain:  True\n"
     ]
    }
   ],
   "source": [
    "BlockInfo(130)\n",
    "print \"############\"\n",
    "BlockInfo(131)\n",
    "print \"############\"\n",
    "BlockInfo(132)"
   ]
  },
  {
   "cell_type": "code",
   "execution_count": 11,
   "metadata": {
    "collapsed": true
   },
   "outputs": [],
   "source": [
    "writeTimes()"
   ]
  },
  {
   "cell_type": "code",
   "execution_count": 12,
   "metadata": {
    "collapsed": false
   },
   "outputs": [],
   "source": [
    "readTimes()"
   ]
  },
  {
   "cell_type": "code",
   "execution_count": 13,
   "metadata": {
    "collapsed": false
   },
   "outputs": [
    {
     "data": {
      "text/plain": [
       "401339"
      ]
     },
     "execution_count": 13,
     "metadata": {},
     "output_type": "execute_result"
    }
   ],
   "source": [
    "#check that we read in the times\n",
    "len(times)"
   ]
  },
  {
   "cell_type": "code",
   "execution_count": 14,
   "metadata": {
    "collapsed": true
   },
   "outputs": [],
   "source": [
    "def write_actual_times():\n",
    "    with open(actualTimeFile,\"w\") as f:\n",
    "        for value in blockchains:\n",
    "            f.write(str(value.height)+\" \"+datetime.datetime.fromtimestamp(int(value.time)).strftime('%Y-%m-%d %H:%M:%S')+\"\\n\")"
   ]
  },
  {
   "cell_type": "code",
   "execution_count": 15,
   "metadata": {
    "collapsed": false
   },
   "outputs": [],
   "source": [
    "#times = times.sort()\n",
    "write_actual_times()\n",
    "#blockchains = blockchains2"
   ]
  },
  {
   "cell_type": "markdown",
   "metadata": {},
   "source": [
    "This is a test block. Allows you to examine the timing and info about block. Ignore this as its lame"
   ]
  },
  {
   "cell_type": "code",
   "execution_count": 16,
   "metadata": {
    "collapsed": false
   },
   "outputs": [
    {
     "name": "stdout",
     "output_type": "stream",
     "text": [
      "<type 'datetime.datetime'>\n",
      "2016-04-18 05:42:25\n",
      "-10.0\n",
      "(-1, 50)\n"
     ]
    }
   ],
   "source": [
    "#print blockchains[0].time\n",
    "#print blockchains[0].hash\n",
    "#print blockchains[0].height\n",
    "#print \"########\"\n",
    "#print blockchains[1].time\n",
    "#print blockchains[1].hash\n",
    "#print blockchains[1].height\n",
    "#print \"########\"\n",
    "#print int(blockchains[0].time) - int(blockchains[1].time)\n",
    "a = datetime.datetime.fromtimestamp(1460972535)\n",
    "b = datetime.datetime.fromtimestamp(1460972545)\n",
    "print type(a)\n",
    "print b\n",
    "#Mon, 18 Apr 2016 09:42:15 GMT\n",
    "#Mon, 18 Apr 2016 09:42:25 GMT\n",
    "#print type(blockchains[0].main_chain )\n",
    "c =  a - b\n",
    "print c.total_seconds()\n",
    "print divmod(c.days * 86400 + c.seconds, 60)"
   ]
  },
  {
   "cell_type": "markdown",
   "metadata": {},
   "source": [
    "Function that iterates over the times list and computes the difference between two times next to each other. Writes out to time_diff.txt. Reports the block height, time, and whether in main chain for each block as well as the time between each block. The last digit is seconds between blocks. Sample:\n",
    "```\n",
    "407864(1460995794,True) - 407863(1460992454,True)==> 0:55:40 ==>3340.0\n",
    "```"
   ]
  },
  {
   "cell_type": "code",
   "execution_count": 17,
   "metadata": {
    "collapsed": false
   },
   "outputs": [],
   "source": [
    "def processTimes():\n",
    "    global times\n",
    "    global timeDiffs\n",
    "    timeDiffs = []\n",
    "    counter = 0\n",
    "    f = open(timeDiffFile,\"w\")\n",
    "    for i in range(len(times)):\n",
    "        if i == len(times)-1:\n",
    "            break\n",
    "        #value = int(times[i]) - int(times[i+1])\n",
    "        value = datetime.datetime.fromtimestamp(int(blockchains[i].time)) - datetime.datetime.fromtimestamp(int(blockchains[i+1].time))\n",
    "        \n",
    "        timeDiffs.append(value.total_seconds())\n",
    "        f.write(str(counter)+\": \"+str(blockchains[i].height)+\"(\"+str(blockchains[i].time)+\",\"+str(blockchains[i].main_chain)+\",\"+datetime.datetime.fromtimestamp(int(blockchains[i].time)).strftime('%Y-%m-%d %H:%M:%S')+\")\"+\" - \"+str(blockchains[i+1].height)+\"(\"+str(blockchains[i+1].time)+\",\"+str(blockchains[i+1].main_chain)+\",\"+datetime.datetime.fromtimestamp(int(blockchains[i+1].time)).strftime('%Y-%m-%d %H:%M:%S')+\")\"+\"==> \"+str(value)+\" ==>\"+str(value.total_seconds())+\" secs ==> \"+str(value.total_seconds()/60)+\" mins\\n\")\n",
    "        counter += 1\n",
    "    f.close()"
   ]
  },
  {
   "cell_type": "code",
   "execution_count": 18,
   "metadata": {
    "collapsed": false
   },
   "outputs": [],
   "source": [
    "processTimes()"
   ]
  },
  {
   "cell_type": "code",
   "execution_count": 19,
   "metadata": {
    "collapsed": false
   },
   "outputs": [
    {
     "data": {
      "text/plain": [
       "401338"
      ]
     },
     "execution_count": 19,
     "metadata": {},
     "output_type": "execute_result"
    }
   ],
   "source": [
    "#test that we have the right data\n",
    "len(timeDiffs)"
   ]
  },
  {
   "cell_type": "code",
   "execution_count": 20,
   "metadata": {
    "collapsed": false
   },
   "outputs": [
    {
     "data": {
      "text/plain": [
       "1429.0"
      ]
     },
     "execution_count": 20,
     "metadata": {},
     "output_type": "execute_result"
    }
   ],
   "source": [
    "timeDiffs[0]"
   ]
  },
  {
   "cell_type": "markdown",
   "metadata": {},
   "source": [
    "Function that converts unix time to human readable times and writes them to a file. Ignore this"
   ]
  },
  {
   "cell_type": "code",
   "execution_count": 21,
   "metadata": {
    "collapsed": false
   },
   "outputs": [],
   "source": [
    "def convertTimes():\n",
    "    global times\n",
    "    global actual_diffs\n",
    "    f = open(actualTimeFile,\"w\")\n",
    "    for value in times:\n",
    "        value = datetime.datetime.fromtimestamp(int(value)).strftime('%Y-%m-%d %H:%M:%S')\n",
    "        f.write(value+\"\\n\")\n",
    "    for value in timeDiffs:\n",
    "        value2 = datetime.datetime.fromtimestamp(int(value)).strftime('%Y-%m-%d %H:%M:%S')\n",
    "        actual_diffs.append(value2)\n",
    "    f.close()"
   ]
  },
  {
   "cell_type": "markdown",
   "metadata": {
    "collapsed": false
   },
   "source": [
    "This converts the data that is negative to positive values"
   ]
  },
  {
   "cell_type": "code",
   "execution_count": 22,
   "metadata": {
    "collapsed": false
   },
   "outputs": [],
   "source": [
    "timeDiff_data = []\n",
    "for value in timeDiffs:\n",
    "    if value < 0:\n",
    "        timeDiff_data.append(-1*value)\n",
    "    else:\n",
    "        timeDiff_data.append(value)"
   ]
  },
  {
   "cell_type": "code",
   "execution_count": 23,
   "metadata": {
    "collapsed": false
   },
   "outputs": [],
   "source": [
    "#import matplotlib.pyplot as plt\n",
    "def plot_data(seq):\n",
    "    #plt.plot([1,2,3,4])\n",
    "    plt.plot(timeDiff_data, seq)\n",
    "    plt.ylabel('Time between blocks')\n",
    "    plt.xlabel('Sequence')\n",
    "    plt.show()"
   ]
  },
  {
   "cell_type": "code",
   "execution_count": 34,
   "metadata": {
    "collapsed": false
   },
   "outputs": [],
   "source": [
    "seq = []\n",
    "for i in range(1,len(timeDiffs)+1):\n",
    "    seq.append(i)\n",
    "    \n",
    "blocks = []\n",
    "for i in range(len(blockchains)):\n",
    "    blocks.append(blockchains[i].height)"
   ]
  },
  {
   "cell_type": "code",
   "execution_count": 35,
   "metadata": {
    "collapsed": false
   },
   "outputs": [
    {
     "data": {
      "text/plain": [
       "1429.0"
      ]
     },
     "execution_count": 35,
     "metadata": {},
     "output_type": "execute_result"
    }
   ],
   "source": [
    "#plot_data(seq)\n",
    "timeDiff_data[0]"
   ]
  },
  {
   "cell_type": "code",
   "execution_count": 38,
   "metadata": {
    "collapsed": false
   },
   "outputs": [
    {
     "name": "stdout",
     "output_type": "stream",
     "text": [
      "401338\n",
      "401338\n",
      "401339\n"
     ]
    }
   ],
   "source": [
    "print len(timeDiff_data)\n",
    "print len(seq)\n",
    "print len(blocks)\n",
    "del blocks[-1]"
   ]
  },
  {
   "cell_type": "code",
   "execution_count": 39,
   "metadata": {
    "collapsed": true
   },
   "outputs": [],
   "source": [
    "def convertToMin(arr):\n",
    "    temp = []\n",
    "    for i in range(len(arr)):\n",
    "        temp.append(arr[i]/60)\n",
    "    return temp"
   ]
  },
  {
   "cell_type": "code",
   "execution_count": 40,
   "metadata": {
    "collapsed": true
   },
   "outputs": [],
   "source": [
    "del seq[-1]\n",
    "del timeDiff_data[-1]"
   ]
  },
  {
   "cell_type": "code",
   "execution_count": 72,
   "metadata": {
    "collapsed": true
   },
   "outputs": [],
   "source": [
    "del timeDiff_data[-1]"
   ]
  },
  {
   "cell_type": "code",
   "execution_count": 64,
   "metadata": {
    "collapsed": false
   },
   "outputs": [
    {
     "name": "stdout",
     "output_type": "stream",
     "text": [
      "               index       time\n",
      "count      50.000000  50.000000\n",
      "mean   406949.960000   8.075333\n",
      "std        14.144964   7.659377\n",
      "min    406926.000000   0.133333\n",
      "25%    406938.250000   1.791667\n",
      "50%    406949.500000   5.966667\n",
      "75%    406961.750000  10.595833\n",
      "max    406974.000000  34.066667\n"
     ]
    }
   ],
   "source": [
    "#df = pd.DataFrame({'index':seq,'time':convertToMin(timeDiff_data)})\n",
    "df = pd.DataFrame({'index':blocks[800:850],'time':convertToMin(timeDiff_data[800:850])})\n",
    "#df = pd.DataFrame({'time':convertToMin(timeDiff_data[800:850])})\n",
    "\n",
    "#df = pd.DataFrame({'index':seq[0:50],'time':timeDiff_data[0:50]})\n",
    "#df = pd.DataFrame({'index':seq[0:50],'time':convertToMin(timeDiff_data[0:50])})\n",
    "#df = pd.DataFrame({'index':seq[300:400],'time':convertToMin(timeDiff_data[300:400])})\n",
    "#df = pd.DataFrame({'index':seq[300:400],'time':timeDiff_data[300:400]})\n",
    "print df.describe()"
   ]
  },
  {
   "cell_type": "code",
   "execution_count": 47,
   "metadata": {
    "collapsed": false
   },
   "outputs": [
    {
     "name": "stdout",
     "output_type": "stream",
     "text": [
      "16.2333333333\n"
     ]
    }
   ],
   "source": [
    "#my_plot = df.plot(kind='bar')\n",
    "timeDiff_mins = convertToMin(timeDiff_data)\n",
    "temp = convertToMin(timeDiff_data[0:50])\n",
    "print temp[6]"
   ]
  },
  {
   "cell_type": "code",
   "execution_count": 51,
   "metadata": {
    "collapsed": false
   },
   "outputs": [
    {
     "name": "stdout",
     "output_type": "stream",
     "text": [
      "     index       time\n",
      "45  406930   0.650000\n",
      "46  406929   3.683333\n",
      "47  406928   0.283333\n",
      "48  406927  17.266667\n",
      "49  406926  10.633333\n"
     ]
    }
   ],
   "source": [
    "print df.tail()"
   ]
  },
  {
   "cell_type": "code",
   "execution_count": 65,
   "metadata": {
    "collapsed": false
   },
   "outputs": [
    {
     "data": {
      "text/plain": [
       "<matplotlib.axes._subplots.AxesSubplot at 0x122b19a10>"
      ]
     },
     "execution_count": 65,
     "metadata": {},
     "output_type": "execute_result"
    },
    {
     "data": {
      "image/png": "[encoded data removed]",
      "text/plain": [
       "<matplotlib.figure.Figure at 0x121fae150>"
      ]
     },
     "metadata": {},
     "output_type": "display_data"
    }
   ],
   "source": [
    "df.plot(kind='line',x='index',y='time')"
   ]
  },
  {
   "cell_type": "code",
   "execution_count": null,
   "metadata": {
    "collapsed": true
   },
   "outputs": [],
   "source": []
  },
  {
   "cell_type": "code",
   "execution_count": 63,
   "metadata": {
    "collapsed": false
   },
   "outputs": [
    {
     "data": {
      "text/plain": [
       "[]"
      ]
     },
     "execution_count": 63,
     "metadata": {},
     "output_type": "execute_result"
    },
    {
     "data": {
      "image/png": "[encoded data removed]",
      "text/plain": [
       "<matplotlib.figure.Figure at 0x12038a910>"
      ]
     },
     "metadata": {},
     "output_type": "display_data"
    }
   ],
   "source": [
    "df2 = pd.DataFrame({'time':convertToMin(timeDiff_data)})\n",
    "#df2.plot(kind='hist',bins=100)\n",
    "df2.hist(bins=200)\n",
    "plt.semilogy()"
   ]
  },
  {
   "cell_type": "code",
   "execution_count": 34,
   "metadata": {
    "collapsed": false
   },
   "outputs": [
    {
     "data": {
      "text/html": [
       "<div>\n",
       "<table border=\"1\" class=\"dataframe\">\n",
       "  <thead>\n",
       "    <tr style=\"text-align: right;\">\n",
       "      <th></th>\n",
       "      <th>time</th>\n",
       "    </tr>\n",
       "  </thead>\n",
       "  <tbody>\n",
       "    <tr>\n",
       "      <th>count</th>\n",
       "      <td>50.000000</td>\n",
       "    </tr>\n",
       "    <tr>\n",
       "      <th>mean</th>\n",
       "      <td>10.073333</td>\n",
       "    </tr>\n",
       "    <tr>\n",
       "      <th>std</th>\n",
       "      <td>8.060469</td>\n",
       "    </tr>\n",
       "    <tr>\n",
       "      <th>min</th>\n",
       "      <td>0.716667</td>\n",
       "    </tr>\n",
       "    <tr>\n",
       "      <th>25%</th>\n",
       "      <td>3.579167</td>\n",
       "    </tr>\n",
       "    <tr>\n",
       "      <th>50%</th>\n",
       "      <td>7.566667</td>\n",
       "    </tr>\n",
       "    <tr>\n",
       "      <th>75%</th>\n",
       "      <td>16.179167</td>\n",
       "    </tr>\n",
       "    <tr>\n",
       "      <th>max</th>\n",
       "      <td>29.216667</td>\n",
       "    </tr>\n",
       "  </tbody>\n",
       "</table>\n",
       "</div>"
      ],
      "text/plain": [
       "            time\n",
       "count  50.000000\n",
       "mean   10.073333\n",
       "std     8.060469\n",
       "min     0.716667\n",
       "25%     3.579167\n",
       "50%     7.566667\n",
       "75%    16.179167\n",
       "max    29.216667"
      ]
     },
     "execution_count": 34,
     "metadata": {},
     "output_type": "execute_result"
    }
   ],
   "source": [
    "df2.describe()\n"
   ]
  },
  {
   "cell_type": "code",
   "execution_count": 35,
   "metadata": {
    "collapsed": false
   },
   "outputs": [
    {
     "data": {
      "text/plain": [
       "<matplotlib.axes._subplots.AxesSubplot at 0x11f99da50>"
      ]
     },
     "execution_count": 35,
     "metadata": {},
     "output_type": "execute_result"
    },
    {
     "data": {
      "image/png": "[encoded data removed]",
      "text/plain": [
       "<matplotlib.figure.Figure at 0x11f9bf710>"
      ]
     },
     "metadata": {},
     "output_type": "display_data"
    }
   ],
   "source": [
    "df.plot(kind='hist',bins=25)"
   ]
  },
  {
   "cell_type": "code",
   "execution_count": 36,
   "metadata": {
    "collapsed": false
   },
   "outputs": [],
   "source": [
    "def outlier(points,thresh=10):\n",
    "    if len(points.shape) == 1:\n",
    "        points = points[:,None]\n",
    "    median = np.median(points, axis=0)\n",
    "    diff = np.sum((points - median)**2, axis=-1)\n",
    "    diff = np.sqrt(diff)\n",
    "    med_abs_deviation = np.median(diff)\n",
    "\n",
    "    modified_z_score = 0.6745 * diff / med_abs_deviation\n",
    "\n",
    "    return modified_z_score > thresh"
   ]
  },
  {
   "cell_type": "code",
   "execution_count": 37,
   "metadata": {
    "collapsed": false
   },
   "outputs": [
    {
     "data": {
      "text/plain": [
       "401337"
      ]
     },
     "execution_count": 37,
     "metadata": {},
     "output_type": "execute_result"
    }
   ],
   "source": [
    "df3 = pd.DataFrame({'index':seq,'time':timeDiff_data})\n",
    "\n",
    "x = outlier(df3['time'])\n",
    "len(x)"
   ]
  },
  {
   "cell_type": "code",
   "execution_count": 38,
   "metadata": {
    "collapsed": false
   },
   "outputs": [],
   "source": [
    "def remove_outliers(df):\n",
    "    temp = []\n",
    "    x = outlier(df)\n",
    "    for i in range(len(df)):\n",
    "        if x[i] == True:\n",
    "            print \"Removing \",df[i]\n",
    "        else:\n",
    "            temp.append(df[i])\n",
    "    return temp"
   ]
  },
  {
   "cell_type": "code",
   "execution_count": 39,
   "metadata": {
    "collapsed": false
   },
   "outputs": [
    {
     "name": "stdout",
     "output_type": "stream",
     "text": [
      "Removing  4699.0\n",
      "Removing  4537.0\n",
      "Removing  5018.0\n",
      "Removing  5426.0\n",
      "Removing  4973.0\n",
      "Removing  5097.0\n",
      "Removing  5641.0\n",
      "Removing  4564.0\n",
      "Removing  4702.0\n",
      "Removing  4797.0\n",
      "Removing  4784.0\n",
      "Removing  5048.0\n",
      "Removing  4988.0\n",
      "Removing  5280.0\n",
      "Removing  4724.0\n",
      "Removing  4800.0\n",
      "Removing  4600.0\n",
      "Removing  6524.0\n",
      "Removing  4620.0\n",
      "Removing  4823.0\n",
      "Removing  5683.0\n",
      "Removing  5268.0\n",
      "Removing  6095.0\n",
      "Removing  5488.0\n",
      "Removing  5408.0\n",
      "Removing  4767.0\n",
      "Removing  4529.0\n",
      "Removing  4917.0\n",
      "Removing  5296.0\n",
      "Removing  5449.0\n",
      "Removing  4576.0\n",
      "Removing  4530.0\n",
      "Removing  4678.0\n",
      "Removing  4968.0\n",
      "Removing  5568.0\n",
      "Removing  7335.0\n",
      "Removing  5194.0\n",
      "Removing  6140.0\n",
      "Removing  4601.0\n",
      "Removing  5522.0\n",
      "Removing  5045.0\n",
      "Removing  5803.0\n",
      "Removing  6631.0\n",
      "Removing  4779.0\n",
      "Removing  5208.0\n",
      "Removing  4527.0\n",
      "Removing  5122.0\n",
      "Removing  7741.0\n",
      "Removing  5359.0\n",
      "Removing  5434.0\n",
      "Removing  5836.0\n",
      "Removing  5610.0\n",
      "Removing  5726.0\n",
      "Removing  5441.0\n",
      "Removing  6201.0\n",
      "Removing  7124.0\n",
      "Removing  4580.0\n",
      "Removing  6002.0\n",
      "Removing  4958.0\n",
      "Removing  5431.0\n",
      "Removing  6166.0\n",
      "Removing  4924.0\n",
      "Removing  6702.0\n",
      "Removing  4589.0\n",
      "Removing  4735.0\n",
      "Removing  4931.0\n",
      "Removing  5155.0\n",
      "Removing  4911.0\n",
      "Removing  5088.0\n",
      "Removing  5010.0\n",
      "Removing  4860.0\n",
      "Removing  5936.0\n",
      "Removing  4622.0\n",
      "Removing  4859.0\n",
      "Removing  5613.0\n",
      "Removing  4722.0\n",
      "Removing  5005.0\n",
      "Removing  5271.0\n",
      "Removing  5463.0\n",
      "Removing  4517.0\n",
      "Removing  5719.0\n",
      "Removing  5054.0\n",
      "Removing  4556.0\n",
      "Removing  6729.0\n",
      "Removing  4858.0\n",
      "Removing  4546.0\n",
      "Removing  6323.0\n",
      "Removing  6388.0\n",
      "Removing  5220.0\n",
      "Removing  4551.0\n",
      "Removing  6265.0\n",
      "Removing  5794.0\n",
      "Removing  4640.0\n",
      "Removing  5064.0\n",
      "Removing  4825.0\n",
      "Removing  4789.0\n",
      "Removing  4558.0\n",
      "Removing  5438.0\n",
      "Removing  4688.0\n",
      "Removing  4818.0\n",
      "Removing  4783.0\n",
      "Removing  5000.0\n",
      "Removing  4545.0\n",
      "Removing  5403.0\n",
      "Removing  5568.0\n",
      "Removing  4594.0\n",
      "Removing  5123.0\n",
      "Removing  4795.0\n",
      "Removing  5882.0\n",
      "Removing  5170.0\n",
      "Removing  4625.0\n",
      "Removing  6628.0\n",
      "Removing  5405.0\n",
      "Removing  4734.0\n",
      "Removing  5071.0\n",
      "Removing  4597.0\n",
      "Removing  4596.0\n",
      "Removing  6837.0\n",
      "Removing  4935.0\n",
      "Removing  5092.0\n",
      "Removing  4698.0\n",
      "Removing  5168.0\n",
      "Removing  4625.0\n",
      "Removing  5433.0\n",
      "Removing  5527.0\n",
      "Removing  4653.0\n",
      "Removing  4953.0\n",
      "Removing  4923.0\n",
      "Removing  5090.0\n",
      "Removing  7125.0\n",
      "Removing  7178.0\n",
      "Removing  4964.0\n",
      "Removing  8690.0\n",
      "Removing  5083.0\n",
      "Removing  4815.0\n",
      "Removing  5710.0\n",
      "Removing  6129.0\n",
      "Removing  4940.0\n",
      "Removing  6603.0\n",
      "Removing  7162.0\n",
      "Removing  5507.0\n",
      "Removing  6283.0\n",
      "Removing  4696.0\n",
      "Removing  5947.0\n",
      "Removing  5329.0\n",
      "Removing  4731.0\n",
      "Removing  4571.0\n",
      "Removing  8461.0\n",
      "Removing  4837.0\n",
      "Removing  5041.0\n",
      "Removing  4823.0\n",
      "Removing  4785.0\n",
      "Removing  5076.0\n",
      "Removing  5990.0\n",
      "Removing  4715.0\n",
      "Removing  5836.0\n",
      "Removing  4702.0\n",
      "Removing  5270.0\n",
      "Removing  5066.0\n",
      "Removing  4564.0\n",
      "Removing  5272.0\n",
      "Removing  4694.0\n",
      "Removing  6088.0\n",
      "Removing  7231.0\n",
      "Removing  4987.0\n",
      "Removing  4532.0\n",
      "Removing  5173.0\n",
      "Removing  4775.0\n",
      "Removing  5602.0\n",
      "Removing  5484.0\n",
      "Removing  6391.0\n",
      "Removing  6669.0\n",
      "Removing  5243.0\n",
      "Removing  5094.0\n",
      "Removing  7019.0\n",
      "Removing  7269.0\n",
      "Removing  24676.0\n",
      "Removing  7017.0\n",
      "Removing  8153.0\n",
      "Removing  6961.0\n",
      "Removing  7994.0\n",
      "Removing  6997.0\n",
      "Removing  7281.0\n",
      "Removing  6307.0\n",
      "Removing  4595.0\n",
      "Removing  5395.0\n",
      "Removing  5475.0\n",
      "Removing  4601.0\n",
      "Removing  4914.0\n",
      "Removing  5446.0\n",
      "Removing  5222.0\n",
      "Removing  5746.0\n",
      "Removing  5264.0\n",
      "Removing  5404.0\n",
      "Removing  5745.0\n",
      "Removing  5263.0\n",
      "Removing  4829.0\n",
      "Removing  4516.0\n",
      "Removing  5344.0\n",
      "Removing  5752.0\n",
      "Removing  5135.0\n",
      "Removing  7115.0\n",
      "Removing  12534.0\n",
      "Removing  5097.0\n",
      "Removing  6352.0\n",
      "Removing  5490.0\n",
      "Removing  11175.0\n",
      "Removing  5772.0\n",
      "Removing  7326.0\n",
      "Removing  5092.0\n",
      "Removing  4797.0\n",
      "Removing  6208.0\n",
      "Removing  6123.0\n",
      "Removing  9259.0\n",
      "Removing  6490.0\n",
      "Removing  13579.0\n",
      "Removing  7214.0\n",
      "Removing  4633.0\n",
      "Removing  6315.0\n",
      "Removing  5088.0\n",
      "Removing  4754.0\n",
      "Removing  5052.0\n",
      "Removing  4672.0\n",
      "Removing  4943.0\n",
      "Removing  4801.0\n",
      "Removing  4688.0\n",
      "Removing  5038.0\n",
      "Removing  4667.0\n",
      "Removing  5158.0\n",
      "Removing  4909.0\n",
      "Removing  4797.0\n",
      "Removing  4515.0\n",
      "Removing  6794.0\n",
      "Removing  6874.0\n",
      "Removing  5190.0\n",
      "Removing  4783.0\n",
      "Removing  4663.0\n",
      "Removing  5291.0\n",
      "Removing  4788.0\n",
      "Removing  4715.0\n",
      "Removing  5872.0\n",
      "Removing  4700.0\n",
      "Removing  4698.0\n",
      "Removing  5133.0\n",
      "Removing  4861.0\n",
      "Removing  4608.0\n",
      "Removing  5071.0\n",
      "Removing  4759.0\n",
      "Removing  4805.0\n",
      "Removing  7261.0\n",
      "Removing  5198.0\n",
      "Removing  6176.0\n",
      "Removing  6003.0\n",
      "Removing  6727.0\n",
      "Removing  5173.0\n",
      "Removing  22099.0\n",
      "Removing  11493.0\n",
      "Removing  4672.0\n",
      "Removing  6605.0\n",
      "Removing  5540.0\n",
      "Removing  5170.0\n",
      "Removing  6717.0\n",
      "Removing  6697.0\n",
      "Removing  4588.0\n",
      "Removing  6075.0\n",
      "Removing  6447.0\n",
      "Removing  5016.0\n",
      "Removing  4891.0\n",
      "Removing  4753.0\n",
      "Removing  7215.0\n",
      "Removing  4590.0\n",
      "Removing  4769.0\n",
      "Removing  4820.0\n",
      "Removing  5315.0\n",
      "Removing  11644.0\n",
      "Removing  9485.0\n",
      "Removing  4813.0\n",
      "Removing  4718.0\n",
      "Removing  5575.0\n",
      "Removing  4742.0\n",
      "Removing  5008.0\n",
      "Removing  5433.0\n",
      "Removing  5041.0\n",
      "Removing  6011.0\n",
      "Removing  5587.0\n",
      "Removing  7317.0\n",
      "Removing  6331.0\n",
      "Removing  4813.0\n",
      "Removing  6115.0\n",
      "Removing  5481.0\n",
      "Removing  6255.0\n",
      "Removing  5554.0\n",
      "Removing  6865.0\n",
      "Removing  5274.0\n",
      "Removing  5467.0\n",
      "Removing  5222.0\n",
      "Removing  4694.0\n",
      "Removing  5478.0\n",
      "Removing  4724.0\n",
      "Removing  5126.0\n",
      "Removing  5240.0\n",
      "Removing  6760.0\n",
      "Removing  5992.0\n",
      "Removing  5653.0\n",
      "Removing  5201.0\n",
      "Removing  5389.0\n",
      "Removing  4722.0\n",
      "Removing  4557.0\n",
      "Removing  6925.0\n",
      "Removing  6765.0\n",
      "Removing  4750.0\n",
      "Removing  5350.0\n",
      "Removing  5930.0\n",
      "Removing  5350.0\n",
      "Removing  6107.0\n",
      "Removing  4762.0\n",
      "Removing  5230.0\n",
      "Removing  5118.0\n",
      "Removing  5494.0\n",
      "Removing  4714.0\n",
      "Removing  18041.0\n",
      "Removing  16656.0\n",
      "Removing  6738.0\n",
      "Removing  5266.0\n",
      "Removing  4751.0\n",
      "Removing  8922.0\n",
      "Removing  9779.0\n",
      "Removing  7207.0\n",
      "Removing  18321.0\n",
      "Removing  5122.0\n",
      "Removing  5041.0\n",
      "Removing  8848.0\n",
      "Removing  15605.0\n",
      "Removing  15555.0\n",
      "Removing  6377.0\n",
      "Removing  7377.0\n",
      "Removing  6140.0\n",
      "Removing  6973.0\n",
      "Removing  18120.0\n",
      "Removing  9690.0\n",
      "Removing  9391.0\n",
      "Removing  23081.0\n",
      "Removing  23050.0\n",
      "Removing  15695.0\n",
      "Removing  19805.0\n",
      "Removing  13213.0\n",
      "Removing  6373.0\n",
      "Removing  10725.0\n",
      "Removing  14279.0\n",
      "Removing  4573.0\n",
      "Removing  6571.0\n",
      "Removing  20540.0\n",
      "Removing  9045.0\n",
      "Removing  23574.0\n",
      "Removing  13849.0\n",
      "Removing  9308.0\n",
      "Removing  15828.0\n",
      "Removing  8792.0\n",
      "Removing  13552.0\n",
      "Removing  38219.0\n",
      "Removing  6340.0\n",
      "Removing  5348.0\n",
      "Removing  10361.0\n",
      "Removing  5139.0\n",
      "Removing  8067.0\n",
      "Removing  6749.0\n",
      "Removing  5480.0\n",
      "Removing  13933.0\n",
      "Removing  5106.0\n",
      "Removing  6209.0\n",
      "Removing  4584.0\n",
      "Removing  4742.0\n",
      "Removing  13058.0\n",
      "Removing  10750.0\n",
      "Removing  28124.0\n",
      "Removing  4607.0\n",
      "Removing  4998.0\n",
      "Removing  11292.0\n",
      "Removing  18517.0\n",
      "Removing  19624.0\n",
      "Removing  9742.0\n",
      "Removing  5915.0\n",
      "Removing  4773.0\n",
      "Removing  19280.0\n",
      "Removing  14093.0\n",
      "Removing  6088.0\n",
      "Removing  7932.0\n",
      "Removing  5432.0\n",
      "Removing  4891.0\n",
      "Removing  11806.0\n",
      "Removing  6951.0\n",
      "Removing  21468.0\n",
      "Removing  4840.0\n",
      "Removing  13505.0\n",
      "Removing  9603.0\n",
      "Removing  5892.0\n",
      "Removing  11698.0\n",
      "Removing  6479.0\n",
      "Removing  8790.0\n",
      "Removing  13040.0\n",
      "Removing  4587.0\n",
      "Removing  7652.0\n",
      "Removing  5797.0\n",
      "Removing  6803.0\n",
      "Removing  12685.0\n",
      "Removing  7570.0\n",
      "Removing  9715.0\n",
      "Removing  12966.0\n",
      "Removing  30425.0\n",
      "Removing  4619.0\n",
      "Removing  9026.0\n",
      "Removing  5811.0\n",
      "Removing  7462.0\n",
      "Removing  9646.0\n",
      "Removing  9444.0\n",
      "Removing  6984.0\n",
      "Removing  11452.0\n",
      "Removing  8700.0\n",
      "Removing  17973.0\n",
      "Removing  6226.0\n",
      "Removing  7755.0\n",
      "Removing  5289.0\n",
      "Removing  30013.0\n",
      "Removing  10247.0\n",
      "Removing  6917.0\n",
      "Removing  11439.0\n",
      "Removing  8229.0\n",
      "Removing  4945.0\n",
      "Removing  9439.0\n",
      "Removing  29325.0\n",
      "Removing  6260.0\n",
      "Removing  5214.0\n",
      "Removing  10537.0\n",
      "Removing  10221.0\n",
      "Removing  9824.0\n",
      "Removing  6253.0\n",
      "Removing  7921.0\n",
      "Removing  5834.0\n",
      "Removing  6573.0\n",
      "Removing  14893.0\n",
      "Removing  8398.0\n",
      "Removing  9297.0\n",
      "Removing  4680.0\n",
      "Removing  5885.0\n",
      "Removing  7968.0\n",
      "Removing  7280.0\n",
      "Removing  5551.0\n",
      "Removing  7254.0\n",
      "Removing  12316.0\n",
      "Removing  60203.0\n",
      "Removing  7722.0\n",
      "Removing  11901.0\n",
      "Removing  4653.0\n",
      "Removing  10491.0\n",
      "Removing  6117.0\n",
      "Removing  7065.0\n",
      "Removing  24907.0\n",
      "Removing  14051.0\n",
      "Removing  47127.0\n",
      "Removing  37536.0\n",
      "Removing  25996.0\n",
      "Removing  6257.0\n",
      "Removing  5896.0\n",
      "Removing  5973.0\n",
      "Removing  4772.0\n",
      "Removing  6561.0\n",
      "Removing  5764.0\n",
      "Removing  9993.0\n",
      "Removing  7672.0\n",
      "Removing  5070.0\n",
      "Removing  73782.0\n",
      "Removing  6935.0\n",
      "Removing  9237.0\n",
      "Removing  6919.0\n",
      "Removing  90390.0\n",
      "Removing  30682.0\n",
      "Removing  22840.0\n",
      "Removing  15826.0\n",
      "Removing  12138.0\n",
      "Removing  17685.0\n",
      "Removing  7965.0\n",
      "Removing  17108.0\n",
      "Removing  8777.0\n",
      "Removing  90532.0\n",
      "Removing  6062.0\n",
      "Removing  11168.0\n",
      "Removing  7306.0\n",
      "Removing  25376.0\n",
      "Removing  4733.0\n",
      "Removing  11782.0\n",
      "Removing  6343.0\n",
      "Removing  12532.0\n",
      "Removing  5481.0\n",
      "Removing  5041.0\n",
      "Removing  8812.0\n",
      "Removing  11214.0\n",
      "Removing  13426.0\n",
      "Removing  4547.0\n",
      "Removing  4624.0\n",
      "Removing  4660.0\n",
      "Removing  4634.0\n",
      "Removing  12880.0\n",
      "Removing  4998.0\n",
      "Removing  6183.0\n",
      "Removing  10509.0\n",
      "Removing  6421.0\n",
      "Removing  5000.0\n",
      "Removing  11443.0\n",
      "Removing  5091.0\n",
      "Removing  11766.0\n",
      "Removing  9306.0\n",
      "Removing  12669.0\n",
      "Removing  4664.0\n",
      "Removing  13455.0\n",
      "Removing  8607.0\n",
      "Removing  4787.0\n",
      "Removing  5234.0\n",
      "Removing  11296.0\n",
      "Removing  13342.0\n",
      "Removing  10453.0\n",
      "Removing  9953.0\n",
      "Removing  30884.0\n",
      "Removing  87157.0\n"
     ]
    }
   ],
   "source": [
    "new  = remove_outliers(df3['time'])"
   ]
  },
  {
   "cell_type": "code",
   "execution_count": 40,
   "metadata": {
    "collapsed": true
   },
   "outputs": [],
   "source": [
    "df4 = pd.DataFrame({'time':new})"
   ]
  },
  {
   "cell_type": "code",
   "execution_count": 41,
   "metadata": {
    "collapsed": false
   },
   "outputs": [
    {
     "data": {
      "image/png": "[encoded data removed]",
      "text/plain": [
       "<matplotlib.figure.Figure at 0x12025f090>"
      ]
     },
     "metadata": {},
     "output_type": "display_data"
    }
   ],
   "source": [
    "x = df4.plot(kind='hist',bins=25,range=[0, 65])"
   ]
  },
  {
   "cell_type": "code",
   "execution_count": null,
   "metadata": {
    "collapsed": false
   },
   "outputs": [],
   "source": []
  },
  {
   "cell_type": "code",
   "execution_count": 42,
   "metadata": {
    "collapsed": false
   },
   "outputs": [
    {
     "data": {
      "text/html": [
       "<div>\n",
       "<table border=\"1\" class=\"dataframe\">\n",
       "  <thead>\n",
       "    <tr style=\"text-align: right;\">\n",
       "      <th></th>\n",
       "      <th>time</th>\n",
       "    </tr>\n",
       "  </thead>\n",
       "  <tbody>\n",
       "    <tr>\n",
       "      <th>count</th>\n",
       "      <td>400814.000000</td>\n",
       "    </tr>\n",
       "    <tr>\n",
       "      <th>mean</th>\n",
       "      <td>578.019795</td>\n",
       "    </tr>\n",
       "    <tr>\n",
       "      <th>std</th>\n",
       "      <td>563.996581</td>\n",
       "    </tr>\n",
       "    <tr>\n",
       "      <th>min</th>\n",
       "      <td>0.000000</td>\n",
       "    </tr>\n",
       "    <tr>\n",
       "      <th>25%</th>\n",
       "      <td>174.000000</td>\n",
       "    </tr>\n",
       "    <tr>\n",
       "      <th>50%</th>\n",
       "      <td>408.000000</td>\n",
       "    </tr>\n",
       "    <tr>\n",
       "      <th>75%</th>\n",
       "      <td>801.000000</td>\n",
       "    </tr>\n",
       "    <tr>\n",
       "      <th>max</th>\n",
       "      <td>4511.000000</td>\n",
       "    </tr>\n",
       "  </tbody>\n",
       "</table>\n",
       "</div>"
      ],
      "text/plain": [
       "                time\n",
       "count  400814.000000\n",
       "mean      578.019795\n",
       "std       563.996581\n",
       "min         0.000000\n",
       "25%       174.000000\n",
       "50%       408.000000\n",
       "75%       801.000000\n",
       "max      4511.000000"
      ]
     },
     "execution_count": 42,
     "metadata": {},
     "output_type": "execute_result"
    }
   ],
   "source": [
    "df4.describe()"
   ]
  },
  {
   "cell_type": "code",
   "execution_count": 43,
   "metadata": {
    "collapsed": false
   },
   "outputs": [
    {
     "data": {
      "text/html": [
       "<div>\n",
       "<table border=\"1\" class=\"dataframe\">\n",
       "  <thead>\n",
       "    <tr style=\"text-align: right;\">\n",
       "      <th></th>\n",
       "      <th>time</th>\n",
       "    </tr>\n",
       "  </thead>\n",
       "  <tbody>\n",
       "    <tr>\n",
       "      <th>0</th>\n",
       "      <td>1429</td>\n",
       "    </tr>\n",
       "    <tr>\n",
       "      <th>1</th>\n",
       "      <td>220</td>\n",
       "    </tr>\n",
       "    <tr>\n",
       "      <th>2</th>\n",
       "      <td>296</td>\n",
       "    </tr>\n",
       "    <tr>\n",
       "      <th>3</th>\n",
       "      <td>305</td>\n",
       "    </tr>\n",
       "    <tr>\n",
       "      <th>4</th>\n",
       "      <td>240</td>\n",
       "    </tr>\n",
       "  </tbody>\n",
       "</table>\n",
       "</div>"
      ],
      "text/plain": [
       "   time\n",
       "0  1429\n",
       "1   220\n",
       "2   296\n",
       "3   305\n",
       "4   240"
      ]
     },
     "execution_count": 43,
     "metadata": {},
     "output_type": "execute_result"
    }
   ],
   "source": [
    "df4.head()"
   ]
  },
  {
   "cell_type": "code",
   "execution_count": 44,
   "metadata": {
    "collapsed": false
   },
   "outputs": [],
   "source": [
    "bins = np.linspace(min(df4['time']),max(df4['time']),25)"
   ]
  },
  {
   "cell_type": "code",
   "execution_count": 45,
   "metadata": {
    "collapsed": false
   },
   "outputs": [
    {
     "data": {
      "image/png": "[encoded data removed]",
      "text/plain": [
       "<matplotlib.figure.Figure at 0x1203a1d90>"
      ]
     },
     "metadata": {},
     "output_type": "display_data"
    }
   ],
   "source": [
    "fig, ax = plt.subplots(1,1)\n",
    "ax.hist(df4['time'],bins=bins,alpha=0.5,color='#EDD834')\n",
    "#ax.set_xticks(bins[:-1])\n",
    "plt.show()"
   ]
  },
  {
   "cell_type": "code",
   "execution_count": 46,
   "metadata": {
    "collapsed": true
   },
   "outputs": [],
   "source": [
    "def find_orphans():\n",
    "    global orphans\n",
    "    global blockchains\n",
    "    orphans = []\n",
    "    for i in blockchains:\n",
    "        if i.main_chain == False:\n",
    "            orphans.append(i)"
   ]
  },
  {
   "cell_type": "code",
   "execution_count": 47,
   "metadata": {
    "collapsed": false
   },
   "outputs": [
    {
     "data": {
      "text/plain": [
       "0"
      ]
     },
     "execution_count": 47,
     "metadata": {},
     "output_type": "execute_result"
    }
   ],
   "source": [
    "len(orphans)"
   ]
  },
  {
   "cell_type": "code",
   "execution_count": 48,
   "metadata": {
    "collapsed": true
   },
   "outputs": [],
   "source": [
    "find_orphans()"
   ]
  },
  {
   "cell_type": "code",
   "execution_count": 49,
   "metadata": {
    "collapsed": false
   },
   "outputs": [
    {
     "data": {
      "text/plain": [
       "817"
      ]
     },
     "execution_count": 49,
     "metadata": {},
     "output_type": "execute_result"
    }
   ],
   "source": [
    "len(orphans)"
   ]
  },
  {
   "cell_type": "code",
   "execution_count": null,
   "metadata": {
    "collapsed": false
   },
   "outputs": [],
   "source": []
  },
  {
   "cell_type": "code",
   "execution_count": null,
   "metadata": {
    "collapsed": false
   },
   "outputs": [],
   "source": []
  },
  {
   "cell_type": "code",
   "execution_count": 50,
   "metadata": {
    "collapsed": false
   },
   "outputs": [
    {
     "name": "stdout",
     "output_type": "stream",
     "text": [
      "1460907019\n",
      "00000000000000000307fce1866969b24cb465f98bf61519fbcc1f0dc05b0d80\n",
      "407722\n"
     ]
    }
   ],
   "source": [
    "print orphans[0].time\n",
    "print orphans[0].hash\n",
    "print orphans[0].height"
   ]
  },
  {
   "cell_type": "markdown",
   "metadata": {},
   "source": [
    "Segregates blocks into two lists, before and after the paper"
   ]
  },
  {
   "cell_type": "code",
   "execution_count": 82,
   "metadata": {
    "collapsed": false
   },
   "outputs": [],
   "source": [
    "def segregateBlocks():\n",
    "    threshold = 1357016625\n",
    "    before = []\n",
    "    after = []\n",
    "    for block in blockchains:\n",
    "        if block.time < threshold:\n",
    "            before.append(block)\n",
    "        else:\n",
    "            after.append(block)\n",
    "    before = sorted(before, key=attrgetter('height'), reverse=True)\n",
    "    after = sorted(after, key=attrgetter('height'), reverse=True)\n",
    "    return before,after"
   ]
  },
  {
   "cell_type": "code",
   "execution_count": 87,
   "metadata": {
    "collapsed": true
   },
   "outputs": [],
   "source": [
    "def CalcTimes(chain,fname):\n",
    "    timeDiffs = []\n",
    "    counter = 0\n",
    "    f = open(fname,\"w\")\n",
    "    for i in range(len(chain)):\n",
    "        if i == len(chain)-1:\n",
    "            break\n",
    "        #value = int(times[i]) - int(times[i+1])\n",
    "        value = datetime.datetime.fromtimestamp(int(chain[i].time)) - datetime.datetime.fromtimestamp(int(chain[i+1].time))\n",
    "        \n",
    "        timeDiffs.append(value.total_seconds())\n",
    "        f.write(str(counter)+\": \"+str(chain[i].height)+\"(\"+str(chain[i].time)+\",\"+str(chain[i].main_chain)+\",\"+datetime.datetime.fromtimestamp(int(chain[i].time)).strftime('%Y-%m-%d %H:%M:%S')+\")\"+\" - \"+str(chain[i+1].height)+\"(\"+str(chain[i+1].time)+\",\"+str(chain[i+1].main_chain)+\",\"+datetime.datetime.fromtimestamp(int(chain[i+1].time)).strftime('%Y-%m-%d %H:%M:%S')+\")\"+\"==> \"+str(value)+\" ==>\"+str(value.total_seconds())+\" secs ==> \"+str(value.total_seconds()/60)+\" mins\\n\")\n",
    "        counter += 1\n",
    "    f.close()\n",
    "    return timeDiffs"
   ]
  },
  {
   "cell_type": "code",
   "execution_count": 119,
   "metadata": {
    "collapsed": false,
    "scrolled": false
   },
   "outputs": [
    {
     "name": "stdout",
     "output_type": "stream",
     "text": [
      "208133\n",
      "193206\n"
     ]
    }
   ],
   "source": [
    "before,after = segregateBlocks()\n",
    "print len(before)\n",
    "print len(after)"
   ]
  },
  {
   "cell_type": "code",
   "execution_count": 120,
   "metadata": {
    "collapsed": false
   },
   "outputs": [],
   "source": [
    "before_diffs = CalcTimes(before,\"new_data/before_diffs.txt\")\n",
    "after_diffs = CalcTimes(after,\"new_data/after_diffs.txt\")\n",
    "\n"
   ]
  },
  {
   "cell_type": "code",
   "execution_count": 121,
   "metadata": {
    "collapsed": false
   },
   "outputs": [
    {
     "name": "stdout",
     "output_type": "stream",
     "text": [
      "208132\n",
      "208133\n",
      "208132\n"
     ]
    }
   ],
   "source": [
    "print len(before_diffs)\n",
    "print len(before)\n",
    "del before[-1]\n",
    "del after[-1]\n",
    "print len(before)"
   ]
  },
  {
   "cell_type": "code",
   "execution_count": 320,
   "metadata": {
    "collapsed": false
   },
   "outputs": [],
   "source": [
    "before_data = []\n",
    "after_data = []\n",
    "for value in before_diffs:\n",
    "    if value < 0.0:\n",
    "        before_data.append(-1*value)\n",
    "    else:\n",
    "        before_data.append(value)\n",
    "for value in after_diffs:\n",
    "    if value < 0.0:\n",
    "        after_data.append(-1*value)\n",
    "    else:\n",
    "        after_data.append(value)"
   ]
  },
  {
   "cell_type": "code",
   "execution_count": 321,
   "metadata": {
    "collapsed": false,
    "scrolled": true
   },
   "outputs": [
    {
     "name": "stdout",
     "output_type": "stream",
     "text": [
      "                time\n",
      "count  208132.000000\n",
      "mean       10.338053\n",
      "std        21.770765\n",
      "min         0.000000\n",
      "25%         3.016667\n",
      "50%         7.116667\n",
      "75%        13.916667\n",
      "max      7719.333333\n",
      "                time\n",
      "count  193205.000000\n",
      "mean        9.262994\n",
      "std         9.127835\n",
      "min         0.000000\n",
      "25%         2.783333\n",
      "50%         6.500000\n",
      "75%        12.816667\n",
      "max       129.016667\n"
     ]
    }
   ],
   "source": [
    "before_df = pd.DataFrame({'index':before,'time':convertToMin(before_data)})\n",
    "after_df = pd.DataFrame({'index':after,'time':convertToMin(after_data)})\n",
    "print before_df.describe()\n",
    "print after_df.describe()"
   ]
  },
  {
   "cell_type": "code",
   "execution_count": 126,
   "metadata": {
    "collapsed": false
   },
   "outputs": [
    {
     "data": {
      "text/plain": [
       "<matplotlib.axes._subplots.AxesSubplot at 0x127902f50>"
      ]
     },
     "execution_count": 126,
     "metadata": {},
     "output_type": "execute_result"
    },
    {
     "data": {
      "image/png": "[encoded data removed]",
      "text/plain": [
       "<matplotlib.figure.Figure at 0x1249b6250>"
      ]
     },
     "metadata": {},
     "output_type": "display_data"
    }
   ],
   "source": [
    "before_df.plot(kind='line',x='index',y='time')"
   ]
  },
  {
   "cell_type": "code",
   "execution_count": 131,
   "metadata": {
    "collapsed": false
   },
   "outputs": [
    {
     "data": {
      "text/plain": [
       "[]"
      ]
     },
     "execution_count": 131,
     "metadata": {},
     "output_type": "execute_result"
    },
    {
     "data": {
      "image/png": "[encoded data removed]",
      "text/plain": [
       "<matplotlib.figure.Figure at 0x123b5b290>"
      ]
     },
     "metadata": {},
     "output_type": "display_data"
    }
   ],
   "source": [
    "before_df2 = pd.DataFrame({'time':convertToMin(before_data)})\n",
    "#df2.plot(kind='hist',bins=100)\n",
    "before_df2.hist(bins=200)\n",
    "plt.semilogy()"
   ]
  },
  {
   "cell_type": "code",
   "execution_count": 128,
   "metadata": {
    "collapsed": false
   },
   "outputs": [
    {
     "data": {
      "text/plain": [
       "[]"
      ]
     },
     "execution_count": 128,
     "metadata": {},
     "output_type": "execute_result"
    },
    {
     "data": {
      "image/png": "[encoded data removed]",
      "text/plain": [
       "<matplotlib.figure.Figure at 0x12ea21710>"
      ]
     },
     "metadata": {},
     "output_type": "display_data"
    }
   ],
   "source": [
    "after_df2 = pd.DataFrame({'time':convertToMin(after_data)})\n",
    "#df2.plot(kind='hist',bins=100)\n",
    "after_df2.hist(bins=200)\n",
    "plt.semilogy()"
   ]
  },
  {
   "cell_type": "code",
   "execution_count": 132,
   "metadata": {
    "collapsed": false
   },
   "outputs": [
    {
     "data": {
      "text/plain": [
       "<matplotlib.axes._subplots.AxesSubplot at 0x12492bf10>"
      ]
     },
     "execution_count": 132,
     "metadata": {},
     "output_type": "execute_result"
    },
    {
     "data": {
      "image/png": "[encoded data removed]",
      "text/plain": [
       "<matplotlib.figure.Figure at 0x1287e2d50>"
      ]
     },
     "metadata": {},
     "output_type": "display_data"
    }
   ],
   "source": [
    "after_df.plot(kind='line',x='index',y='time')"
   ]
  },
  {
   "cell_type": "code",
   "execution_count": 208,
   "metadata": {
    "collapsed": true
   },
   "outputs": [],
   "source": [
    "#Takes in a chain and a threshold and returns the percent below that threshold(inclusive)\n",
    "# chain ==> a timediff chain aka a python list of times in seconds\n",
    "# threshold ==> a time in seconds so if you want 1 min you use 60\n",
    "def calculate_thresh_percent(chain,threshold):\n",
    "    #print len(chain)\n",
    "    percent = 0\n",
    "    temp_val = 0\n",
    "    for i in chain:\n",
    "        if 0<i <= threshold:\n",
    "            temp_val += 1\n",
    "    #print temp_val\n",
    "    #print len(chain)\n",
    "    percent = temp_val / float(len(chain))\n",
    "    #print percent\n",
    "    return percent,temp_val"
   ]
  },
  {
   "cell_type": "code",
   "execution_count": 209,
   "metadata": {
    "collapsed": false
   },
   "outputs": [
    {
     "name": "stdout",
     "output_type": "stream",
     "text": [
      "True\n"
     ]
    }
   ],
   "source": [
    "if 4.0 <= 60:\n",
    "    print True"
   ]
  },
  {
   "cell_type": "code",
   "execution_count": 210,
   "metadata": {
    "collapsed": false
   },
   "outputs": [
    {
     "name": "stdout",
     "output_type": "stream",
     "text": [
      "(0.08305786712278747, 17287)\n",
      "(0.09040656297714862, 17467)\n"
     ]
    }
   ],
   "source": [
    "print calculate_thresh_percent(before_data,60.0)\n",
    "print calculate_thresh_percent(after_data,60)"
   ]
  },
  {
   "cell_type": "code",
   "execution_count": 211,
   "metadata": {
    "collapsed": true
   },
   "outputs": [],
   "source": [
    "#returns a datafram with thresholds\n",
    "def calculate_thresholds(chain,max_thresh,inc=1):\n",
    "    threshs = []\n",
    "    values = []\n",
    "    blocks = []\n",
    "    index = 0\n",
    "    while index <= max_thresh: \n",
    "        threshs.append(index)\n",
    "        per,total = calculate_thresh_percent(chain,index*60)\n",
    "        values.append(per*100.00)\n",
    "        blocks.append(total)\n",
    "        index +=inc\n",
    "    return pd.DataFrame({'Thresholds':threshs,\"Percentage\":values,\"NumBlocks\":blocks})"
   ]
  },
  {
   "cell_type": "code",
   "execution_count": 251,
   "metadata": {
    "collapsed": false
   },
   "outputs": [],
   "source": [
    "thresh = 15\n",
    "before_percent = calculate_thresholds(before_data,thresh)\n",
    "after_percent = calculate_thresholds(after_data,thresh)\n",
    "overall = calculate_thresholds(timeDiff_data,thresh)"
   ]
  },
  {
   "cell_type": "code",
   "execution_count": 252,
   "metadata": {
    "collapsed": false
   },
   "outputs": [
    {
     "data": {
      "text/plain": [
       "208132"
      ]
     },
     "execution_count": 252,
     "metadata": {},
     "output_type": "execute_result"
    }
   ],
   "source": [
    "len(before_data)"
   ]
  },
  {
   "cell_type": "code",
   "execution_count": 262,
   "metadata": {
    "collapsed": false,
    "scrolled": true
   },
   "outputs": [
    {
     "data": {
      "text/html": [
       "<div>\n",
       "<table border=\"1\" class=\"dataframe\">\n",
       "  <thead>\n",
       "    <tr style=\"text-align: right;\">\n",
       "      <th></th>\n",
       "      <th>NumBlocks</th>\n",
       "      <th>Percentage</th>\n",
       "      <th>Thresholds</th>\n",
       "    </tr>\n",
       "  </thead>\n",
       "  <tbody>\n",
       "    <tr>\n",
       "      <th>0</th>\n",
       "      <td>0</td>\n",
       "      <td>0.000000</td>\n",
       "      <td>0</td>\n",
       "    </tr>\n",
       "    <tr>\n",
       "      <th>1</th>\n",
       "      <td>17467</td>\n",
       "      <td>9.040656</td>\n",
       "      <td>1</td>\n",
       "    </tr>\n",
       "    <tr>\n",
       "      <th>2</th>\n",
       "      <td>35437</td>\n",
       "      <td>18.341658</td>\n",
       "      <td>2</td>\n",
       "    </tr>\n",
       "    <tr>\n",
       "      <th>3</th>\n",
       "      <td>51670</td>\n",
       "      <td>26.743614</td>\n",
       "      <td>3</td>\n",
       "    </tr>\n",
       "    <tr>\n",
       "      <th>4</th>\n",
       "      <td>66193</td>\n",
       "      <td>34.260501</td>\n",
       "      <td>4</td>\n",
       "    </tr>\n",
       "    <tr>\n",
       "      <th>5</th>\n",
       "      <td>79455</td>\n",
       "      <td>41.124712</td>\n",
       "      <td>5</td>\n",
       "    </tr>\n",
       "    <tr>\n",
       "      <th>6</th>\n",
       "      <td>91304</td>\n",
       "      <td>47.257576</td>\n",
       "      <td>6</td>\n",
       "    </tr>\n",
       "    <tr>\n",
       "      <th>7</th>\n",
       "      <td>101853</td>\n",
       "      <td>52.717580</td>\n",
       "      <td>7</td>\n",
       "    </tr>\n",
       "    <tr>\n",
       "      <th>8</th>\n",
       "      <td>111291</td>\n",
       "      <td>57.602547</td>\n",
       "      <td>8</td>\n",
       "    </tr>\n",
       "    <tr>\n",
       "      <th>9</th>\n",
       "      <td>119931</td>\n",
       "      <td>62.074480</td>\n",
       "      <td>9</td>\n",
       "    </tr>\n",
       "    <tr>\n",
       "      <th>10</th>\n",
       "      <td>127453</td>\n",
       "      <td>65.967754</td>\n",
       "      <td>10</td>\n",
       "    </tr>\n",
       "    <tr>\n",
       "      <th>11</th>\n",
       "      <td>134209</td>\n",
       "      <td>69.464558</td>\n",
       "      <td>11</td>\n",
       "    </tr>\n",
       "    <tr>\n",
       "      <th>12</th>\n",
       "      <td>140334</td>\n",
       "      <td>72.634766</td>\n",
       "      <td>12</td>\n",
       "    </tr>\n",
       "    <tr>\n",
       "      <th>13</th>\n",
       "      <td>145760</td>\n",
       "      <td>75.443182</td>\n",
       "      <td>13</td>\n",
       "    </tr>\n",
       "    <tr>\n",
       "      <th>14</th>\n",
       "      <td>150669</td>\n",
       "      <td>77.984007</td>\n",
       "      <td>14</td>\n",
       "    </tr>\n",
       "    <tr>\n",
       "      <th>15</th>\n",
       "      <td>155196</td>\n",
       "      <td>80.327114</td>\n",
       "      <td>15</td>\n",
       "    </tr>\n",
       "  </tbody>\n",
       "</table>\n",
       "</div>"
      ],
      "text/plain": [
       "    NumBlocks  Percentage  Thresholds\n",
       "0           0    0.000000           0\n",
       "1       17467    9.040656           1\n",
       "2       35437   18.341658           2\n",
       "3       51670   26.743614           3\n",
       "4       66193   34.260501           4\n",
       "5       79455   41.124712           5\n",
       "6       91304   47.257576           6\n",
       "7      101853   52.717580           7\n",
       "8      111291   57.602547           8\n",
       "9      119931   62.074480           9\n",
       "10     127453   65.967754          10\n",
       "11     134209   69.464558          11\n",
       "12     140334   72.634766          12\n",
       "13     145760   75.443182          13\n",
       "14     150669   77.984007          14\n",
       "15     155196   80.327114          15"
      ]
     },
     "execution_count": 262,
     "metadata": {},
     "output_type": "execute_result"
    }
   ],
   "source": [
    "after_percent"
   ]
  },
  {
   "cell_type": "code",
   "execution_count": 260,
   "metadata": {
    "collapsed": false
   },
   "outputs": [
    {
     "data": {
      "text/plain": [
       "<matplotlib.axes._subplots.AxesSubplot at 0x12f4ada10>"
      ]
     },
     "execution_count": 260,
     "metadata": {},
     "output_type": "execute_result"
    },
    {
     "data": {
      "image/png": "[encoded data removed]",
      "text/plain": [
       "<matplotlib.figure.Figure at 0x12f4c7090>"
      ]
     },
     "metadata": {},
     "output_type": "display_data"
    }
   ],
   "source": [
    "before_percent.plot(kind='line',x='Thresholds',y='Percentage', title ='Before Paper: % blocks per threshold in mins')\n",
    "#before_percent.plot(kind='line',x='Thresholds',y='NumBlocks')"
   ]
  },
  {
   "cell_type": "code",
   "execution_count": 259,
   "metadata": {
    "collapsed": false
   },
   "outputs": [
    {
     "data": {
      "text/plain": [
       "<matplotlib.axes._subplots.AxesSubplot at 0x12f31bb10>"
      ]
     },
     "execution_count": 259,
     "metadata": {},
     "output_type": "execute_result"
    },
    {
     "data": {
      "image/png": "[encoded data removed]",
      "text/plain": [
       "<matplotlib.figure.Figure at 0x12f32c610>"
      ]
     },
     "metadata": {},
     "output_type": "display_data"
    }
   ],
   "source": [
    "after_percent.plot(kind='line',x='Thresholds',y='Percentage', title ='After Paper: % blocks per threshold in mins')"
   ]
  },
  {
   "cell_type": "code",
   "execution_count": 261,
   "metadata": {
    "collapsed": false
   },
   "outputs": [
    {
     "data": {
      "text/plain": [
       "<matplotlib.axes._subplots.AxesSubplot at 0x12f5e1b90>"
      ]
     },
     "execution_count": 261,
     "metadata": {},
     "output_type": "execute_result"
    },
    {
     "data": {
      "image/png": "[encoded data removed]",
      "text/plain": [
       "<matplotlib.figure.Figure at 0x12f5fc190>"
      ]
     },
     "metadata": {},
     "output_type": "display_data"
    }
   ],
   "source": [
    "overall.plot(kind='line',x='Thresholds',y='Percentage', title ='Overall: % blocks per threshold in mins')"
   ]
  },
  {
   "cell_type": "code",
   "execution_count": 338,
   "metadata": {
    "collapsed": true
   },
   "outputs": [],
   "source": [
    "def calculate_consec(chain):\n",
    "    marker = int(chain[0])\n",
    "    tup = [marker,1,[chain[0]]]\n",
    "    threshold = 1\n",
    "    overall = []\n",
    "    for i in range(1,len(chain)):\n",
    "        if marker-threshold <= int(chain[i]) <= marker+threshold:\n",
    "            tup[1] += 1\n",
    "            tup[2].append(chain[i])\n",
    "        else:\n",
    "            if tup[1] > 1:\n",
    "                overall.append(tup)\n",
    "            marker = int(chain[i])\n",
    "            tup = [marker,1,[chain[i]]]\n",
    "    return overall"
   ]
  },
  {
   "cell_type": "code",
   "execution_count": 355,
   "metadata": {
    "collapsed": false
   },
   "outputs": [
    {
     "name": "stdout",
     "output_type": "stream",
     "text": [
      "[1, 2, [1.0166666666666666, 1.1]]\n"
     ]
    }
   ],
   "source": [
    "consecutives = calculate_consec(convertToMin(before_data))\n",
    "len(consecutives)\n",
    "print consecutives[0]"
   ]
  },
  {
   "cell_type": "code",
   "execution_count": 356,
   "metadata": {
    "collapsed": false
   },
   "outputs": [
    {
     "name": "stdout",
     "output_type": "stream",
     "text": [
      "[3, 2, [3.6666666666666665, 4.933333333333334]]\n"
     ]
    }
   ],
   "source": [
    "consecutives_after = calculate_consec(convertToMin(after_data))\n",
    "len(consecutives_after)\n",
    "print consecutives_after[0]"
   ]
  },
  {
   "cell_type": "code",
   "execution_count": 340,
   "metadata": {
    "collapsed": false
   },
   "outputs": [
    {
     "name": "stdout",
     "output_type": "stream",
     "text": [
      "[6, 2, [6.1, 5.283333333333333]]\n",
      "571.0\n"
     ]
    }
   ],
   "source": [
    "print consecutives[4]\n",
    "print before_data[1]"
   ]
  },
  {
   "cell_type": "code",
   "execution_count": 353,
   "metadata": {
    "collapsed": false
   },
   "outputs": [
    {
     "name": "stdout",
     "output_type": "stream",
     "text": [
      "[1, 3, [1.1833333333333333, 2.3666666666666667, 2.7]]\n",
      "[1, 4, [1.3666666666666667, 1.7333333333333334, 1.7166666666666666, 2.1333333333333333]]\n",
      "[1, 3, [1.85, 0.9333333333333333, 2.25]]\n",
      "[1, 3, [1.55, 2.533333333333333, 2.35]]\n",
      "[1, 3, [1.1666666666666667, 2.7666666666666666, 1.15]]\n",
      "[1, 3, [1.25, 2.0833333333333335, 2.4]]\n",
      "[1, 3, [1.8666666666666667, 1.1166666666666667, 2.533333333333333]]\n",
      "[1, 3, [1.5666666666666667, 1.3333333333333333, 1.85]]\n",
      "[1, 3, [1.5, 0.95, 2.316666666666667]]\n",
      "[1, 5, [1.3166666666666667, 1.8, 2.45, 2.816666666666667, 1.5333333333333334]]\n",
      "[1, 4, [1.4833333333333334, 2.1333333333333333, 1.1, 2.033333333333333]]\n",
      "[1, 3, [1.1833333333333333, 0.9166666666666666, 0.5333333333333333]]\n",
      "[1, 3, [1.8333333333333333, 1.5666666666666667, 0.35]]\n",
      "[1, 3, [1.0166666666666666, 1.05, 1.15]]\n",
      "[1, 3, [1.9666666666666666, 2.2333333333333334, 2.933333333333333]]\n",
      "[1, 3, [1.1666666666666667, 1.8666666666666667, 0.3]]\n",
      "[1, 3, [1.2333333333333334, 2.85, 0.5666666666666667]]\n",
      "[1, 3, [1.1166666666666667, 0.3, 1.8666666666666667]]\n",
      "[1, 3, [1.9, 0.5166666666666667, 1.7166666666666666]]\n",
      "[1, 3, [1.1166666666666667, 2.933333333333333, 1.9]]\n",
      "[1, 3, [1.7666666666666666, 0.9666666666666667, 0.38333333333333336]]\n",
      "[1, 3, [1.1333333333333333, 2.0166666666666666, 1.6833333333333333]]\n",
      "[1, 4, [1.2333333333333334, 1.5666666666666667, 1.75, 0.26666666666666666]]\n",
      "[1, 3, [1.9333333333333333, 0.6666666666666666, 0.7166666666666667]]\n",
      "[1, 3, [1.9833333333333334, 0.26666666666666666, 2.933333333333333]]\n",
      "[1, 3, [1.4666666666666666, 0.7166666666666667, 0.23333333333333334]]\n",
      "[1, 3, [1.5333333333333334, 1.0, 0.7666666666666667]]\n",
      "[1, 3, [1.7333333333333334, 0.5333333333333333, 2.85]]\n",
      "[1, 3, [1.25, 2.216666666666667, 2.1666666666666665]]\n",
      "[1, 3, [1.7166666666666666, 0.08333333333333333, 2.8833333333333333]]\n",
      "[1, 4, [1.3833333333333333, 2.3666666666666667, 0.45, 2.5166666666666666]]\n",
      "[1, 3, [1.45, 1.6333333333333333, 1.4]]\n",
      "[1, 5, [1.15, 0.36666666666666664, 2.283333333333333, 1.7666666666666666, 0.21666666666666667]]\n",
      "[1, 3, [1.7833333333333334, 2.0, 0.36666666666666664]]\n",
      "[1, 3, [1.3, 2.0, 2.3333333333333335]]\n",
      "[1, 3, [1.4333333333333333, 1.1, 0.8666666666666667]]\n",
      "[1, 3, [1.1333333333333333, 1.9833333333333334, 2.65]]\n",
      "[1, 3, [1.8, 1.4333333333333333, 0.5666666666666667]]\n",
      "[1, 4, [1.55, 2.55, 0.45, 1.65]]\n",
      "[1, 3, [1.65, 2.2666666666666666, 2.7666666666666666]]\n",
      "[1, 3, [1.3666666666666667, 0.5666666666666667, 1.3666666666666667]]\n",
      "[1, 3, [1.8333333333333333, 2.8, 2.6666666666666665]]\n",
      "[1, 4, [1.1166666666666667, 0.43333333333333335, 0.7166666666666667, 2.4166666666666665]]\n",
      "[1, 4, [1.7, 1.2, 1.2166666666666666, 0.85]]\n",
      "[1, 3, [1.7, 0.8333333333333334, 0.8666666666666667]]\n",
      "[1, 3, [1.85, 1.9666666666666666, 1.0666666666666667]]\n",
      "[1, 4, [1.85, 2.5833333333333335, 2.8666666666666667, 1.6833333333333333]]\n",
      "[1, 3, [1.8666666666666667, 0.9666666666666667, 0.5666666666666667]]\n",
      "[1, 3, [1.7833333333333334, 0.7333333333333333, 1.4833333333333334]]\n",
      "[1, 3, [1.2, 2.816666666666667, 1.55]]\n",
      "[1, 3, [1.1833333333333333, 1.8666666666666667, 1.35]]\n",
      "[1, 3, [1.0666666666666667, 2.2666666666666666, 1.55]]\n",
      "[1, 4, [1.2833333333333334, 2.3, 2.816666666666667, 0.9]]\n",
      "[1, 3, [1.2833333333333334, 2.5833333333333335, 1.7666666666666666]]\n",
      "[1, 3, [1.6333333333333333, 2.3666666666666667, 1.1]]\n",
      "[1, 3, [1.6333333333333333, 1.1833333333333333, 1.6833333333333333]]\n",
      "[1, 4, [1.35, 0.55, 0.9, 2.716666666666667]]\n",
      "[1, 3, [1.2833333333333334, 0.4, 1.0166666666666666]]\n",
      "[1, 5, [1.9, 0.4166666666666667, 2.95, 2.8, 2.8666666666666667]]\n",
      "[1, 3, [1.3166666666666667, 1.9, 1.7]]\n",
      "[1, 3, [1.0166666666666666, 0.7666666666666667, 1.0833333333333333]]\n",
      "[1, 3, [1.7166666666666666, 0.5333333333333333, 2.2666666666666666]]\n",
      "[1, 3, [1.5333333333333334, 2.7333333333333334, 1.2833333333333334]]\n",
      "[1, 3, [1.7166666666666666, 2.1333333333333333, 0.6666666666666666]]\n",
      "[1, 3, [1.0166666666666666, 1.5, 2.966666666666667]]\n",
      "[1, 4, [1.0, 2.3, 1.7666666666666666, 0.6]]\n",
      "[1, 3, [1.7166666666666666, 2.9166666666666665, 0.6833333333333333]]\n",
      "[1, 3, [1.45, 1.9833333333333334, 0.7833333333333333]]\n",
      "[1, 3, [1.4333333333333333, 2.35, 2.066666666666667]]\n",
      "[1, 3, [1.2666666666666666, 0.4, 2.033333333333333]]\n",
      "[1, 3, [1.9666666666666666, 2.9, 2.783333333333333]]\n",
      "[1, 3, [1.3333333333333333, 0.6833333333333333, 2.1666666666666665]]\n",
      "[1, 3, [1.9666666666666666, 2.6333333333333333, 1.1166666666666667]]\n",
      "[1, 3, [1.6666666666666667, 1.0166666666666666, 0.2833333333333333]]\n",
      "[1, 3, [1.3166666666666667, 1.45, 2.3666666666666667]]\n",
      "[1, 3, [1.3166666666666667, 1.2833333333333334, 1.5166666666666666]]\n",
      "[1, 3, [1.2833333333333334, 1.2833333333333334, 0.8833333333333333]]\n",
      "[1, 4, [1.0, 2.35, 2.4833333333333334, 1.9166666666666667]]\n",
      "[1, 3, [1.6, 0.6, 0.8]]\n",
      "[1, 3, [1.4333333333333333, 0.18333333333333332, 0.16666666666666666]]\n",
      "[1, 3, [1.4333333333333333, 1.1666666666666667, 0.21666666666666667]]\n",
      "[1, 3, [1.0333333333333334, 1.6666666666666667, 1.9333333333333333]]\n",
      "[1, 4, [1.1166666666666667, 2.4166666666666665, 0.9833333333333333, 0.2833333333333333]]\n",
      "[1, 3, [1.8833333333333333, 0.48333333333333334, 0.9]]\n",
      "[1, 3, [1.85, 0.8833333333333333, 0.4666666666666667]]\n",
      "[1, 4, [1.7833333333333334, 1.95, 1.1833333333333333, 2.25]]\n",
      "[1, 3, [1.9333333333333333, 1.5666666666666667, 1.9166666666666667]]\n",
      "[1, 3, [1.05, 2.716666666666667, 1.3333333333333333]]\n",
      "[1, 3, [1.0, 2.4833333333333334, 1.5833333333333333]]\n",
      "[1, 4, [1.9166666666666667, 2.1666666666666665, 1.5166666666666666, 2.9833333333333334]]\n",
      "[1, 3, [1.6666666666666667, 2.7333333333333334, 1.55]]\n",
      "[1, 3, [1.15, 1.5833333333333333, 1.95]]\n",
      "[1, 3, [1.6166666666666667, 1.4833333333333334, 1.55]]\n",
      "[1, 3, [1.8333333333333333, 0.4666666666666667, 1.3666666666666667]]\n",
      "[1, 3, [1.7666666666666666, 1.8, 0.6833333333333333]]\n",
      "[1, 3, [1.8166666666666667, 0.9666666666666667, 0.6]]\n",
      "[1, 3, [1.2, 1.65, 1.5]]\n",
      "[1, 3, [1.6833333333333333, 1.6166666666666667, 0.6666666666666666]]\n",
      "[1, 3, [1.25, 0.2833333333333333, 0.9166666666666666]]\n",
      "[1, 3, [1.3333333333333333, 1.4666666666666666, 1.2]]\n",
      "[1, 3, [1.6666666666666667, 2.5, 2.966666666666667]]\n",
      "[1, 3, [1.45, 1.0166666666666666, 1.9166666666666667]]\n",
      "[1, 6, [1.6166666666666667, 0.1, 1.75, 0.26666666666666666, 0.13333333333333333, 1.7833333333333334]]\n",
      "[1, 3, [1.55, 0.9666666666666667, 2.9]]\n",
      "[1, 3, [1.9333333333333333, 2.3, 0.5166666666666667]]\n",
      "[1, 3, [1.1, 2.9833333333333334, 2.8]]\n",
      "[1, 3, [1.6333333333333333, 1.7333333333333334, 2.816666666666667]]\n",
      "[1, 3, [1.5333333333333334, 1.7166666666666666, 0.13333333333333333]]\n",
      "[1, 3, [1.2166666666666666, 0.7666666666666667, 2.75]]\n",
      "[1, 4, [1.2666666666666666, 0.6166666666666667, 2.1, 2.1666666666666665]]\n",
      "[1, 6, [1.3, 2.066666666666667, 1.3166666666666667, 2.783333333333333, 0.95, 1.7833333333333334]]\n",
      "[1, 3, [1.3833333333333333, 0.85, 2.933333333333333]]\n",
      "[1, 3, [1.8166666666666667, 1.4666666666666666, 1.8833333333333333]]\n",
      "[1, 3, [1.9333333333333333, 1.3833333333333333, 2.5]]\n",
      "[1, 3, [1.9, 1.9166666666666667, 0.06666666666666667]]\n",
      "[1, 3, [1.3, 1.8166666666666667, 0.25]]\n",
      "[1, 6, [1.1, 2.75, 2.7333333333333334, 0.13333333333333333, 2.8, 0.5833333333333334]]\n",
      "[1, 3, [1.7, 1.75, 1.0833333333333333]]\n",
      "[1, 9, [1.5166666666666666, 1.1, 2.433333333333333, 1.4666666666666666, 0.4166666666666667, 1.1166666666666667, 2.566666666666667, 2.95, 1.35]]\n",
      "[1, 3, [1.0166666666666666, 2.4, 2.3333333333333335]]\n",
      "[1, 3, [1.1833333333333333, 2.7333333333333334, 0.4]]\n",
      "[1, 4, [1.5833333333333333, 2.4833333333333334, 2.65, 2.9833333333333334]]\n",
      "[1, 3, [1.5166666666666666, 1.9833333333333334, 0.23333333333333334]]\n",
      "[1, 3, [1.0666666666666667, 1.2666666666666666, 1.35]]\n",
      "[1, 4, [1.2166666666666666, 2.7666666666666666, 0.3, 1.2]]\n",
      "[1, 3, [1.2, 1.5333333333333334, 2.2333333333333334]]\n",
      "[1, 3, [1.1, 0.7166666666666667, 2.5833333333333335]]\n",
      "[1, 3, [1.5666666666666667, 0.9, 2.3333333333333335]]\n",
      "[1, 3, [1.8333333333333333, 1.0333333333333334, 1.2833333333333334]]\n",
      "[1, 3, [1.1166666666666667, 2.6166666666666667, 1.3833333333333333]]\n",
      "[1, 3, [1.7166666666666666, 2.85, 1.6]]\n",
      "[1, 4, [1.05, 1.1166666666666667, 0.6666666666666666, 0.9666666666666667]]\n",
      "[1, 3, [1.05, 1.1, 2.5]]\n",
      "[1, 4, [1.1666666666666667, 0.7, 0.7166666666666667, 0.31666666666666665]]\n",
      "[1, 3, [1.6833333333333333, 2.55, 2.533333333333333]]\n",
      "[1, 3, [1.8166666666666667, 0.5666666666666667, 1.55]]\n",
      "[1, 4, [1.8166666666666667, 0.03333333333333333, 2.066666666666667, 2.783333333333333]]\n",
      "[1, 3, [1.2333333333333334, 2.1333333333333333, 2.966666666666667]]\n",
      "[1, 4, [1.7833333333333334, 0.9833333333333333, 0.7666666666666667, 1.7333333333333334]]\n",
      "[1, 5, [1.35, 2.15, 0.9666666666666667, 2.9833333333333334, 1.9166666666666667]]\n",
      "[1, 3, [1.4, 2.033333333333333, 1.8166666666666667]]\n",
      "[1, 3, [1.3833333333333333, 0.9, 0.65]]\n",
      "[1, 4, [1.3833333333333333, 0.48333333333333334, 1.7666666666666666, 0.35]]\n",
      "[1, 3, [1.25, 2.4166666666666665, 0.8166666666666667]]\n",
      "[1, 3, [1.4166666666666667, 2.5166666666666666, 1.5666666666666667]]\n",
      "[1, 3, [1.1333333333333333, 0.21666666666666667, 0.35]]\n",
      "[1, 4, [1.4, 0.9666666666666667, 0.43333333333333335, 2.283333333333333]]\n",
      "[1, 3, [1.7166666666666666, 2.8666666666666667, 1.0666666666666667]]\n",
      "[1, 4, [1.1166666666666667, 2.5833333333333335, 0.9833333333333333, 0.9333333333333333]]\n",
      "[1, 4, [1.75, 0.2833333333333333, 2.3666666666666667, 1.55]]\n",
      "[1, 3, [1.6333333333333333, 0.8, 2.7666666666666666]]\n",
      "[1, 3, [1.5, 1.85, 0.8666666666666667]]\n",
      "[1, 4, [1.8166666666666667, 2.5, 0.7166666666666667, 2.9]]\n",
      "[1, 3, [1.6, 2.8, 2.5833333333333335]]\n",
      "[1, 4, [1.8, 2.55, 2.1166666666666667, 1.5]]\n",
      "[1, 3, [1.6833333333333333, 2.966666666666667, 0.6166666666666667]]\n",
      "[1, 3, [1.9833333333333334, 0.2, 2.3833333333333333]]\n",
      "[1, 3, [1.2, 2.216666666666667, 1.2333333333333334]]\n",
      "[1, 3, [1.25, 1.4, 0.4666666666666667]]\n",
      "[1, 3, [1.2833333333333334, 1.0, 2.4833333333333334]]\n",
      "[1, 5, [1.4833333333333334, 1.55, 0.35, 2.5, 0.8833333333333333]]\n",
      "[1, 3, [1.0833333333333333, 1.7, 1.6166666666666667]]\n",
      "[1, 5, [1.7166666666666666, 2.466666666666667, 0.8333333333333334, 0.6833333333333333, 0.26666666666666666]]\n",
      "[1, 3, [1.2, 2.2, 1.0166666666666666]]\n",
      "[1, 3, [1.6833333333333333, 0.18333333333333332, 2.966666666666667]]\n",
      "[1, 5, [1.5333333333333334, 2.15, 1.1666666666666667, 2.216666666666667, 1.3166666666666667]]\n",
      "[1, 3, [1.45, 0.45, 0.6833333333333333]]\n",
      "[1, 3, [1.1333333333333333, 1.9333333333333333, 1.75]]\n",
      "[1, 3, [1.2833333333333334, 0.9666666666666667, 2.25]]\n",
      "[1, 3, [1.8833333333333333, 1.7666666666666666, 1.1166666666666667]]\n",
      "[1, 3, [1.9333333333333333, 2.783333333333333, 0.9666666666666667]]\n",
      "[1, 3, [1.2333333333333334, 1.4166666666666667, 2.316666666666667]]\n",
      "[1, 3, [1.2833333333333334, 2.0833333333333335, 1.4833333333333334]]\n",
      "[1, 3, [1.8333333333333333, 1.3, 2.216666666666667]]\n",
      "[1, 3, [1.7666666666666666, 1.3833333333333333, 2.5]]\n",
      "[1, 3, [1.5666666666666667, 2.6, 1.7333333333333334]]\n",
      "[1, 3, [1.9833333333333334, 1.8333333333333333, 2.216666666666667]]\n",
      "[1, 3, [1.6333333333333333, 0.8833333333333333, 2.466666666666667]]\n",
      "[1, 4, [1.15, 1.5, 2.2666666666666666, 1.15]]\n",
      "[1, 4, [1.2833333333333334, 0.9166666666666666, 0.8833333333333333, 0.9666666666666667]]\n",
      "[1, 3, [1.5, 1.9166666666666667, 2.7]]\n",
      "[1, 3, [1.3166666666666667, 0.85, 0.65]]\n",
      "[1, 3, [1.8333333333333333, 2.966666666666667, 2.566666666666667]]\n",
      "[1, 3, [1.6666666666666667, 2.683333333333333, 0.7333333333333333]]\n",
      "[1, 3, [1.1333333333333333, 2.8, 2.5]]\n",
      "[1, 3, [1.6166666666666667, 2.433333333333333, 1.05]]\n",
      "[1, 3, [1.4333333333333333, 0.8333333333333334, 2.1333333333333333]]\n",
      "[1, 3, [1.8, 2.1, 2.216666666666667]]\n",
      "[1, 3, [1.8, 2.8833333333333333, 1.2666666666666666]]\n",
      "[1, 3, [1.75, 1.2, 2.9166666666666665]]\n",
      "[1, 4, [1.35, 1.7833333333333334, 1.8166666666666667, 0.16666666666666666]]\n",
      "[1, 3, [1.05, 0.18333333333333332, 2.3333333333333335]]\n",
      "[1, 3, [1.5666666666666667, 1.1, 1.8333333333333333]]\n",
      "[1, 3, [1.9333333333333333, 2.6666666666666665, 2.7333333333333334]]\n",
      "[1, 4, [1.2, 0.16666666666666666, 0.95, 0.6333333333333333]]\n",
      "[1, 4, [1.45, 1.8666666666666667, 0.8833333333333333, 1.6]]\n",
      "[1, 4, [1.8833333333333333, 1.2166666666666666, 2.216666666666667, 0.35]]\n",
      "[1, 3, [1.9666666666666666, 2.55, 0.8833333333333333]]\n",
      "[1, 3, [1.35, 1.1, 0.9666666666666667]]\n",
      "[1, 3, [1.15, 0.23333333333333334, 1.9166666666666667]]\n",
      "[1, 3, [1.95, 2.0, 2.0833333333333335]]\n",
      "[1, 3, [1.1166666666666667, 1.35, 2.0833333333333335]]\n",
      "[1, 3, [1.25, 1.6, 2.7666666666666666]]\n",
      "[1, 3, [1.3333333333333333, 1.6166666666666667, 1.4]]\n",
      "[1, 4, [1.3, 2.9, 1.7166666666666666, 0.43333333333333335]]\n",
      "[1, 3, [1.8333333333333333, 1.2833333333333334, 2.6166666666666667]]\n",
      "[1, 3, [1.0166666666666666, 1.2666666666666666, 1.3333333333333333]]\n",
      "[1, 4, [1.4666666666666666, 1.3833333333333333, 2.6333333333333333, 1.9333333333333333]]\n",
      "[1, 3, [1.65, 0.03333333333333333, 2.033333333333333]]\n",
      "[1, 3, [1.1833333333333333, 1.1166666666666667, 0.15]]\n",
      "[1, 3, [1.9666666666666666, 2.1333333333333333, 2.5]]\n",
      "[1, 3, [1.8, 1.05, 2.183333333333333]]\n",
      "[1, 3, [1.8, 2.95, 0.15]]\n",
      "[1, 3, [1.6166666666666667, 2.6333333333333333, 2.55]]\n",
      "[1, 4, [1.5833333333333333, 2.9, 1.55, 0.9666666666666667]]\n",
      "[1, 4, [1.3666666666666667, 0.8166666666666667, 1.05, 1.4833333333333334]]\n",
      "[1, 5, [1.2, 0.2833333333333333, 1.5166666666666666, 2.6, 1.3333333333333333]]\n",
      "[1, 3, [1.8333333333333333, 2.2, 2.9166666666666665]]\n",
      "[1, 3, [1.1666666666666667, 1.7, 2.5]]\n",
      "[1, 3, [1.1833333333333333, 2.716666666666667, 0.8]]\n",
      "[1, 3, [1.5166666666666666, 0.8, 2.6666666666666665]]\n",
      "[1, 3, [1.9666666666666666, 0.5833333333333334, 0.48333333333333334]]\n",
      "[1, 3, [1.4166666666666667, 1.8, 2.9166666666666665]]\n",
      "[1, 3, [1.6166666666666667, 0.7333333333333333, 2.9]]\n",
      "[1, 3, [1.3666666666666667, 1.55, 2.8833333333333333]]\n",
      "[1, 3, [1.3666666666666667, 1.25, 1.3833333333333333]]\n",
      "[1, 3, [1.5, 1.55, 2.4]]\n",
      "[1, 3, [1.9333333333333333, 2.716666666666667, 2.566666666666667]]\n",
      "[1, 6, [1.7333333333333334, 2.6666666666666665, 2.0166666666666666, 2.1333333333333333, 2.55, 0.4666666666666667]]\n",
      "[1, 3, [1.7666666666666666, 1.6166666666666667, 1.1833333333333333]]\n",
      "[1, 3, [1.3166666666666667, 0.31666666666666665, 2.8]]\n",
      "[1, 3, [1.6333333333333333, 1.8, 0.8]]\n",
      "[1, 4, [1.5166666666666666, 2.95, 1.45, 2.466666666666667]]\n",
      "[1, 3, [1.2166666666666666, 2.433333333333333, 0.6833333333333333]]\n",
      "[1, 3, [1.5166666666666666, 1.4666666666666666, 2.183333333333333]]\n",
      "[1, 3, [1.35, 0.31666666666666665, 1.35]]\n",
      "[1, 3, [1.5333333333333334, 1.0166666666666666, 2.6166666666666667]]\n",
      "[1, 4, [1.3333333333333333, 1.3333333333333333, 0.1, 1.7333333333333334]]\n",
      "[1, 3, [1.2333333333333334, 2.3, 2.0166666666666666]]\n",
      "[1, 3, [1.3833333333333333, 0.7666666666666667, 2.35]]\n",
      "[1, 3, [1.0, 2.4833333333333334, 1.8333333333333333]]\n",
      "[1, 3, [1.1166666666666667, 1.3, 1.5333333333333334]]\n",
      "[1, 3, [1.4666666666666666, 0.6333333333333333, 2.933333333333333]]\n",
      "[1, 3, [1.3833333333333333, 0.85, 2.9166666666666665]]\n",
      "[1, 3, [1.1666666666666667, 1.6833333333333333, 1.5833333333333333]]\n",
      "[1, 3, [1.1, 0.9166666666666666, 1.6]]\n",
      "[1, 4, [1.2333333333333334, 1.5, 2.35, 2.9166666666666665]]\n",
      "[1, 3, [1.85, 1.9166666666666667, 1.2666666666666666]]\n",
      "[1, 3, [1.0333333333333334, 0.7833333333333333, 2.2666666666666666]]\n",
      "[1, 3, [1.05, 2.783333333333333, 2.2666666666666666]]\n",
      "[1, 4, [1.4666666666666666, 1.6833333333333333, 1.3666666666666667, 0.08333333333333333]]\n",
      "[1, 6, [1.7, 1.4833333333333334, 1.7833333333333334, 0.6666666666666666, 1.6333333333333333, 2.466666666666667]]\n",
      "[1, 3, [1.6833333333333333, 0.7333333333333333, 2.75]]\n",
      "[1, 3, [1.2833333333333334, 1.8833333333333333, 1.4333333333333333]]\n",
      "[1, 3, [1.25, 0.35, 0.5]]\n",
      "[1, 3, [1.8666666666666667, 1.7, 1.5166666666666666]]\n",
      "[1, 3, [1.9, 0.05, 0.5166666666666667]]\n",
      "[1, 3, [1.2333333333333334, 0.4166666666666667, 2.5833333333333335]]\n",
      "[1, 3, [1.6666666666666667, 1.2, 2.316666666666667]]\n",
      "[1, 3, [1.9, 0.5833333333333334, 2.9]]\n",
      "[1, 4, [1.05, 0.5666666666666667, 0.3333333333333333, 2.8]]\n",
      "[1, 3, [1.3333333333333333, 2.15, 0.7833333333333333]]\n",
      "[1, 3, [1.05, 0.6833333333333333, 2.7]]\n",
      "[1, 4, [1.1, 0.9166666666666666, 0.85, 0.5166666666666667]]\n",
      "[1, 3, [1.6, 1.05, 0.4166666666666667]]\n",
      "[1, 3, [1.05, 2.4833333333333334, 0.65]]\n",
      "[1, 5, [1.7, 2.2333333333333334, 2.033333333333333, 2.95, 0.85]]\n",
      "[1, 3, [1.8666666666666667, 2.0, 2.5166666666666666]]\n",
      "[1, 3, [1.1333333333333333, 1.25, 2.4166666666666665]]\n",
      "[1, 5, [1.0, 2.2, 2.533333333333333, 2.65, 1.9166666666666667]]\n",
      "[1, 5, [1.8333333333333333, 0.4666666666666667, 1.9666666666666666, 2.4166666666666665, 0.7333333333333333]]\n",
      "[1, 3, [1.3666666666666667, 1.4, 2.0]]\n",
      "[1, 3, [1.1833333333333333, 1.2, 0.4]]\n",
      "[1, 3, [1.3666666666666667, 1.4166666666666667, 0.8833333333333333]]\n",
      "[1, 3, [1.0666666666666667, 1.8166666666666667, 0.95]]\n",
      "[1, 3, [1.75, 2.216666666666667, 1.2833333333333334]]\n",
      "[1, 4, [1.9833333333333334, 2.1666666666666665, 0.8, 0.6833333333333333]]\n",
      "[1, 3, [1.5833333333333333, 2.533333333333333, 1.1333333333333333]]\n",
      "[1, 3, [1.3, 2.183333333333333, 2.3666666666666667]]\n",
      "[1, 3, [1.6666666666666667, 2.6, 1.6666666666666667]]\n",
      "[1, 4, [1.8166666666666667, 1.35, 2.966666666666667, 2.65]]\n",
      "[1, 3, [1.7833333333333334, 0.8333333333333334, 2.4]]\n",
      "[1, 3, [1.1666666666666667, 1.9166666666666667, 1.7333333333333334]]\n",
      "[1, 3, [1.75, 1.2333333333333334, 0.6166666666666667]]\n",
      "[1, 3, [1.4333333333333333, 2.7, 1.9166666666666667]]\n",
      "[1, 3, [1.1666666666666667, 1.3666666666666667, 1.0833333333333333]]\n",
      "[1, 3, [1.7166666666666666, 2.316666666666667, 1.5166666666666666]]\n",
      "[1, 3, [1.2833333333333334, 1.15, 2.3666666666666667]]\n",
      "[1, 3, [1.75, 2.2, 2.6666666666666665]]\n",
      "[1, 3, [1.9666666666666666, 0.5, 1.7333333333333334]]\n",
      "[1, 3, [1.4833333333333334, 1.0833333333333333, 2.55]]\n",
      "[1, 3, [1.35, 1.5833333333333333, 0.5166666666666667]]\n",
      "[1, 4, [1.2833333333333334, 0.9666666666666667, 0.6166666666666667, 1.1]]\n",
      "[1, 3, [1.1833333333333333, 2.3333333333333335, 0.65]]\n",
      "[1, 6, [1.6333333333333333, 0.5333333333333333, 2.1333333333333333, 0.4166666666666667, 1.3, 1.6]]\n",
      "[1, 4, [1.7, 2.316666666666667, 1.25, 1.8666666666666667]]\n",
      "[1, 4, [1.9833333333333334, 1.9833333333333334, 1.5833333333333333, 2.25]]\n",
      "[1, 5, [1.85, 1.9166666666666667, 0.8666666666666667, 1.5, 0.7833333333333333]]\n",
      "[1, 4, [1.2666666666666666, 0.8333333333333334, 2.0, 0.6166666666666667]]\n",
      "[1, 3, [1.3166666666666667, 0.1, 2.05]]\n",
      "[1, 3, [1.8, 1.55, 1.1]]\n",
      "[1, 4, [1.8, 1.35, 0.7666666666666667, 1.3166666666666667]]\n",
      "[1, 3, [1.8, 1.45, 1.7166666666666666]]\n",
      "[1, 3, [1.8666666666666667, 0.2833333333333333, 2.816666666666667]]\n",
      "[1, 3, [1.3666666666666667, 1.7, 2.6333333333333333]]\n",
      "[1, 3, [1.1333333333333333, 1.8833333333333333, 1.5666666666666667]]\n",
      "[1, 4, [1.3833333333333333, 1.1833333333333333, 1.1, 1.7666666666666666]]\n",
      "[1, 3, [1.45, 2.2, 2.6333333333333333]]\n",
      "[1, 4, [1.05, 0.8, 0.5833333333333334, 2.6166666666666667]]\n",
      "[1, 3, [1.95, 0.9, 1.2]]\n",
      "[1, 3, [1.2833333333333334, 0.7166666666666667, 0.75]]\n",
      "[1, 3, [1.3166666666666667, 0.8666666666666667, 0.3]]\n",
      "[1, 4, [1.2666666666666666, 2.2666666666666666, 0.9666666666666667, 0.35]]\n",
      "[1, 4, [1.0, 0.25, 1.15, 0.3333333333333333]]\n",
      "[1, 3, [1.6, 1.3833333333333333, 2.9166666666666665]]\n",
      "[1, 3, [1.8333333333333333, 1.1833333333333333, 2.9833333333333334]]\n",
      "[1, 3, [1.1166666666666667, 0.7, 1.5833333333333333]]\n",
      "[1, 3, [1.9833333333333334, 1.5166666666666666, 0.31666666666666665]]\n",
      "[1, 3, [1.4166666666666667, 0.6166666666666667, 1.45]]\n",
      "[1, 3, [1.2666666666666666, 0.15, 1.5166666666666666]]\n",
      "[1, 3, [1.7, 0.3, 0.8833333333333333]]\n",
      "[1, 3, [1.8666666666666667, 2.7333333333333334, 1.7]]\n",
      "[1, 3, [1.65, 1.5333333333333334, 0.03333333333333333]]\n",
      "[1, 3, [1.7166666666666666, 1.3333333333333333, 0.9333333333333333]]\n",
      "[1, 3, [1.3833333333333333, 2.8833333333333333, 1.2]]\n",
      "[1, 3, [1.8666666666666667, 0.36666666666666664, 1.05]]\n",
      "[1, 3, [1.9666666666666666, 1.1666666666666667, 1.6]]\n",
      "[1, 4, [1.2333333333333334, 2.9166666666666665, 0.5166666666666667, 0.6666666666666666]]\n",
      "[1, 3, [1.2333333333333334, 1.5, 0.95]]\n",
      "[1, 3, [1.4166666666666667, 2.15, 1.8666666666666667]]\n",
      "[1, 4, [1.8166666666666667, 1.0, 1.35, 0.6]]\n",
      "[1, 3, [1.55, 0.55, 1.7333333333333334]]\n",
      "[1, 3, [1.8833333333333333, 2.216666666666667, 2.283333333333333]]\n",
      "[1, 3, [1.3333333333333333, 1.6166666666666667, 0.7]]\n",
      "[1, 4, [1.9833333333333334, 0.26666666666666666, 2.433333333333333, 1.55]]\n",
      "[1, 3, [1.0166666666666666, 1.05, 0.21666666666666667]]\n",
      "[1, 3, [1.1833333333333333, 1.45, 1.25]]\n",
      "[1, 3, [1.6166666666666667, 0.3333333333333333, 0.5166666666666667]]\n",
      "[1, 3, [1.3, 0.21666666666666667, 1.8666666666666667]]\n",
      "[1, 3, [1.0833333333333333, 1.3166666666666667, 1.3333333333333333]]\n",
      "[1, 5, [1.45, 2.216666666666667, 2.6166666666666667, 0.65, 2.05]]\n",
      "[1, 5, [1.0333333333333334, 0.38333333333333336, 0.6333333333333333, 0.9, 2.4]]\n",
      "[1, 3, [1.5666666666666667, 1.4833333333333334, 0.9166666666666666]]\n",
      "[1, 4, [1.1666666666666667, 2.5833333333333335, 1.15, 1.9833333333333334]]\n",
      "[1, 3, [1.8, 0.48333333333333334, 2.033333333333333]]\n",
      "[1, 3, [1.9333333333333333, 2.216666666666667, 2.933333333333333]]\n",
      "[1, 3, [1.45, 2.9833333333333334, 2.283333333333333]]\n",
      "[1, 3, [1.2333333333333334, 1.95, 2.6166666666666667]]\n",
      "[1, 5, [1.9833333333333334, 1.8, 2.566666666666667, 1.9, 1.8]]\n",
      "[1, 6, [1.15, 1.2166666666666666, 0.85, 2.3, 0.43333333333333335, 0.11666666666666667]]\n",
      "[1, 4, [1.5, 0.7166666666666667, 1.95, 1.95]]\n",
      "[1, 3, [1.3333333333333333, 0.5333333333333333, 2.45]]\n",
      "[1, 5, [1.6333333333333333, 2.316666666666667, 2.716666666666667, 2.2, 1.2833333333333334]]\n",
      "[1, 4, [1.3333333333333333, 2.35, 0.45, 2.033333333333333]]\n",
      "[1, 3, [1.9666666666666666, 2.0833333333333335, 2.8833333333333333]]\n",
      "[1, 4, [1.0833333333333333, 0.25, 1.7166666666666666, 1.4166666666666667]]\n",
      "[1, 3, [1.5166666666666666, 1.4833333333333334, 1.75]]\n",
      "[1, 3, [1.65, 0.75, 0.8833333333333333]]\n",
      "[1, 3, [1.8666666666666667, 0.6166666666666667, 2.8666666666666667]]\n",
      "[1, 3, [1.5, 1.45, 0.25]]\n",
      "[1, 4, [1.1666666666666667, 1.1666666666666667, 0.8166666666666667, 1.1333333333333333]]\n",
      "[1, 5, [1.65, 0.6166666666666667, 1.2666666666666666, 1.1, 1.8166666666666667]]\n",
      "[1, 3, [1.45, 1.4, 0.9333333333333333]]\n",
      "[1, 4, [1.4, 0.15, 1.6333333333333333, 0.5333333333333333]]\n",
      "[1, 3, [1.3166666666666667, 1.4833333333333334, 0.48333333333333334]]\n",
      "[1, 6, [1.8666666666666667, 2.45, 1.0, 0.016666666666666666, 2.95, 0.3333333333333333]]\n",
      "[1, 3, [1.35, 2.0166666666666666, 0.7833333333333333]]\n",
      "[1, 3, [1.2833333333333334, 0.7, 0.65]]\n",
      "[1, 3, [1.4333333333333333, 1.2333333333333334, 0.23333333333333334]]\n",
      "[1, 3, [1.15, 2.6666666666666665, 2.3]]\n",
      "[1, 3, [1.1333333333333333, 0.21666666666666667, 1.7833333333333334]]\n",
      "[1, 3, [1.55, 1.95, 1.7333333333333334]]\n",
      "[1, 4, [1.4666666666666666, 1.05, 2.8333333333333335, 1.5]]\n",
      "[1, 3, [1.7666666666666666, 0.26666666666666666, 1.95]]\n",
      "[1, 4, [1.8, 2.2333333333333334, 2.8666666666666667, 0.26666666666666666]]\n",
      "[1, 5, [1.35, 0.48333333333333334, 2.433333333333333, 2.65, 1.7833333333333334]]\n",
      "[1, 3, [1.4166666666666667, 2.566666666666667, 0.05]]\n",
      "[1, 4, [1.6666666666666667, 2.9166666666666665, 2.8333333333333335, 1.35]]\n",
      "[1, 3, [1.2166666666666666, 1.1166666666666667, 2.25]]\n",
      "[1, 3, [1.1333333333333333, 2.0, 0.6833333333333333]]\n",
      "[1, 5, [1.35, 1.05, 0.7, 0.6833333333333333, 0.2833333333333333]]\n",
      "[1, 3, [1.7, 1.5833333333333333, 0.6166666666666667]]\n",
      "[1, 3, [1.05, 1.55, 1.1]]\n",
      "[1, 4, [1.1833333333333333, 2.75, 1.8, 1.8]]\n",
      "[1, 7, [1.4333333333333333, 1.8666666666666667, 0.2833333333333333, 1.4, 0.48333333333333334, 1.5, 0.8333333333333334]]\n",
      "[1, 3, [1.2833333333333334, 2.1666666666666665, 2.5166666666666666]]\n",
      "[1, 3, [1.6, 2.533333333333333, 0.2]]\n",
      "[1, 3, [1.25, 2.566666666666667, 2.5166666666666666]]\n",
      "[1, 3, [1.7166666666666666, 0.25, 0.1]]\n",
      "[1, 5, [1.1166666666666667, 1.65, 1.0166666666666666, 1.85, 1.15]]\n",
      "[1, 3, [1.0, 1.8833333333333333, 1.0166666666666666]]\n",
      "[1, 3, [1.15, 2.5833333333333335, 1.8166666666666667]]\n",
      "[1, 6, [1.6, 2.2333333333333334, 0.6166666666666667, 2.8833333333333333, 0.8, 0.9333333333333333]]\n",
      "[1, 3, [1.6833333333333333, 1.3166666666666667, 0.5]]\n",
      "[1, 3, [1.0666666666666667, 1.2833333333333334, 0.7166666666666667]]\n",
      "[1, 3, [1.8333333333333333, 2.183333333333333, 0.65]]\n",
      "[1, 3, [1.5833333333333333, 2.85, 1.6833333333333333]]\n",
      "[1, 3, [1.3666666666666667, 1.5333333333333334, 2.433333333333333]]\n",
      "[1, 3, [1.7833333333333334, 2.533333333333333, 2.1333333333333333]]\n",
      "[1, 3, [1.05, 2.8666666666666667, 0.8166666666666667]]\n",
      "[1, 4, [1.8, 1.7666666666666666, 0.3, 1.45]]\n",
      "[1, 3, [1.0333333333333334, 2.2, 1.2166666666666666]]\n",
      "[1, 3, [1.35, 2.0833333333333335, 2.1666666666666665]]\n",
      "[1, 3, [1.9833333333333334, 0.9333333333333333, 1.3333333333333333]]\n",
      "[1, 4, [1.1666666666666667, 1.3666666666666667, 0.0, 2.4]]\n",
      "[1, 4, [1.45, 2.75, 0.23333333333333334, 0.7]]\n",
      "[1, 6, [1.9, 1.15, 2.816666666666667, 1.5166666666666666, 0.6166666666666667, 2.816666666666667]]\n",
      "[1, 3, [1.3166666666666667, 2.8333333333333335, 1.3666666666666667]]\n",
      "[1, 3, [1.2, 0.43333333333333335, 1.6166666666666667]]\n",
      "[1, 3, [1.5333333333333334, 1.6333333333333333, 0.95]]\n",
      "[1, 3, [1.5333333333333334, 0.31666666666666665, 1.0]]\n",
      "[1, 3, [1.6333333333333333, 0.2833333333333333, 2.45]]\n",
      "[1, 3, [1.5666666666666667, 0.6, 1.2666666666666666]]\n",
      "[1, 3, [1.6666666666666667, 1.4833333333333334, 2.95]]\n",
      "[1, 3, [1.3333333333333333, 1.3333333333333333, 2.6]]\n",
      "[1, 3, [1.5666666666666667, 2.066666666666667, 1.2833333333333334]]\n",
      "[1, 3, [1.5166666666666666, 1.7666666666666666, 0.7166666666666667]]\n",
      "[1, 3, [1.1666666666666667, 0.8833333333333333, 0.95]]\n",
      "[1, 3, [1.3166666666666667, 1.0333333333333334, 1.7166666666666666]]\n",
      "[1, 3, [1.3166666666666667, 1.4333333333333333, 2.55]]\n",
      "[1, 3, [1.4666666666666666, 1.7, 2.183333333333333]]\n",
      "[1, 4, [1.6333333333333333, 2.95, 1.7, 0.9666666666666667]]\n",
      "[1, 3, [1.35, 0.6666666666666666, 0.55]]\n",
      "[1, 4, [1.2, 1.6666666666666667, 2.7333333333333334, 1.0]]\n",
      "[1, 3, [1.3166666666666667, 1.45, 1.4833333333333334]]\n",
      "[1, 3, [1.8166666666666667, 1.9666666666666666, 2.2333333333333334]]\n",
      "[1, 3, [1.6666666666666667, 0.9833333333333333, 1.8333333333333333]]\n",
      "[1, 4, [1.85, 2.15, 0.15, 2.9]]\n",
      "[1, 5, [1.1333333333333333, 2.6, 2.816666666666667, 0.8666666666666667, 2.933333333333333]]\n",
      "[1, 4, [1.6, 2.5833333333333335, 2.25, 0.7833333333333333]]\n",
      "[1, 3, [1.75, 1.6166666666666667, 1.55]]\n",
      "[1, 7, [1.5, 2.3333333333333335, 1.1333333333333333, 2.35, 0.1, 0.5833333333333334, 1.7833333333333334]]\n",
      "[1, 3, [1.7166666666666666, 2.0, 2.8333333333333335]]\n",
      "[1, 3, [1.65, 1.0333333333333334, 2.5833333333333335]]\n",
      "[1, 3, [1.4666666666666666, 0.4166666666666667, 0.7833333333333333]]\n",
      "[1, 6, [1.25, 2.7333333333333334, 1.7666666666666666, 0.15, 0.6, 0.8833333333333333]]\n",
      "[1, 4, [1.75, 1.5, 0.35, 2.1]]\n",
      "[1, 4, [1.2166666666666666, 1.3, 0.3, 2.216666666666667]]\n",
      "[1, 3, [1.1166666666666667, 1.7333333333333334, 1.7333333333333334]]\n",
      "[1, 5, [1.4666666666666666, 2.0166666666666666, 0.2833333333333333, 1.05, 2.1666666666666665]]\n",
      "[1, 3, [1.55, 2.85, 0.9833333333333333]]\n",
      "[1, 4, [1.0833333333333333, 0.23333333333333334, 1.0333333333333334, 1.3833333333333333]]\n",
      "[1, 7, [1.6166666666666667, 0.26666666666666666, 1.0, 1.6666666666666667, 0.2, 1.85, 0.5666666666666667]]\n",
      "[1, 3, [1.05, 1.2333333333333334, 2.1]]\n",
      "[1, 3, [1.9, 0.18333333333333332, 0.55]]\n",
      "[1, 4, [1.2333333333333334, 0.9833333333333333, 1.9666666666666666, 0.03333333333333333]]\n",
      "[1, 5, [1.9166666666666667, 0.31666666666666665, 1.75, 2.45, 0.75]]\n",
      "[1, 3, [1.6333333333333333, 2.216666666666667, 1.9]]\n",
      "[1, 4, [1.3, 1.6833333333333333, 2.8333333333333335, 2.183333333333333]]\n",
      "[1, 3, [1.1666666666666667, 0.7, 1.6833333333333333]]\n",
      "[1, 3, [1.6166666666666667, 1.3333333333333333, 1.4666666666666666]]\n",
      "[1, 3, [1.8, 1.8833333333333333, 2.033333333333333]]\n",
      "[1, 4, [1.6, 0.6, 0.16666666666666666, 2.433333333333333]]\n",
      "[1, 3, [1.0166666666666666, 0.9333333333333333, 0.4666666666666667]]\n",
      "[1, 5, [1.6333333333333333, 1.5, 1.2833333333333334, 2.216666666666667, 1.4666666666666666]]\n",
      "[1, 6, [1.3166666666666667, 0.9, 0.9333333333333333, 1.9833333333333334, 2.3333333333333335, 2.716666666666667]]\n",
      "[1, 3, [1.7666666666666666, 1.4166666666666667, 0.9666666666666667]]\n",
      "[1, 3, [1.0333333333333334, 2.683333333333333, 2.5833333333333335]]\n",
      "[1, 3, [1.5166666666666666, 1.7166666666666666, 0.6166666666666667]]\n",
      "[1, 5, [1.5333333333333334, 0.55, 1.35, 2.183333333333333, 0.8833333333333333]]\n",
      "[1, 3, [1.9, 0.8, 1.5833333333333333]]\n",
      "[1, 3, [1.9333333333333333, 1.9166666666666667, 2.3833333333333333]]\n",
      "[1, 3, [1.05, 0.4, 1.4166666666666667]]\n",
      "[1, 3, [1.0333333333333334, 1.6, 0.25]]\n",
      "[1, 3, [1.15, 1.8333333333333333, 2.1666666666666665]]\n",
      "[1, 3, [1.4166666666666667, 2.6666666666666665, 0.9]]\n",
      "[1, 3, [1.9333333333333333, 1.7666666666666666, 1.0166666666666666]]\n",
      "[1, 3, [1.2833333333333334, 2.816666666666667, 2.7666666666666666]]\n",
      "[1, 4, [1.1, 0.7833333333333333, 1.7666666666666666, 1.0833333333333333]]\n",
      "[1, 3, [1.4, 2.283333333333333, 1.9833333333333334]]\n",
      "[1, 4, [1.6333333333333333, 1.65, 2.3, 2.8833333333333333]]\n",
      "[1, 3, [1.1166666666666667, 2.066666666666667, 2.1166666666666667]]\n",
      "[1, 4, [1.4166666666666667, 0.25, 1.2, 1.05]]\n",
      "[1, 3, [1.0166666666666666, 0.7, 1.6833333333333333]]\n",
      "[1, 3, [1.9166666666666667, 1.7833333333333334, 2.0]]\n",
      "[1, 3, [1.0833333333333333, 1.9333333333333333, 1.4666666666666666]]\n",
      "[1, 4, [1.2666666666666666, 1.6, 1.9666666666666666, 1.4333333333333333]]\n",
      "[1, 3, [1.9833333333333334, 0.8166666666666667, 0.7]]\n",
      "[1, 3, [1.0666666666666667, 2.1166666666666667, 1.4833333333333334]]\n",
      "[1, 3, [1.8, 2.95, 0.6333333333333333]]\n",
      "[1, 3, [1.15, 1.25, 1.1333333333333333]]\n",
      "[1, 3, [1.35, 0.5, 0.38333333333333336]]\n",
      "[1, 3, [1.95, 1.3666666666666667, 0.8666666666666667]]\n",
      "[1, 4, [1.05, 1.2333333333333334, 2.6, 1.3]]\n",
      "[1, 3, [1.1666666666666667, 1.85, 0.5833333333333334]]\n",
      "[1, 3, [1.1166666666666667, 0.9333333333333333, 1.4333333333333333]]\n",
      "[1, 3, [1.6666666666666667, 1.5666666666666667, 0.7166666666666667]]\n",
      "[1, 3, [1.2, 2.783333333333333, 0.6166666666666667]]\n",
      "[1, 4, [1.2833333333333334, 2.85, 1.0, 1.1833333333333333]]\n",
      "[1, 3, [1.8, 1.8166666666666667, 1.1333333333333333]]\n",
      "[1, 3, [1.4833333333333334, 0.8666666666666667, 0.1]]\n",
      "[1, 3, [1.0333333333333334, 1.8666666666666667, 2.5166666666666666]]\n",
      "[1, 3, [1.6666666666666667, 0.3, 0.7333333333333333]]\n",
      "[1, 3, [1.5333333333333334, 1.2666666666666666, 1.75]]\n",
      "[1, 4, [1.6833333333333333, 2.9, 0.16666666666666666, 1.95]]\n",
      "[1, 4, [1.8, 1.4166666666666667, 2.6166666666666667, 0.3333333333333333]]\n",
      "[1, 4, [1.25, 0.43333333333333335, 1.9, 2.5]]\n",
      "[1, 3, [1.15, 1.8166666666666667, 0.8166666666666667]]\n",
      "[1, 3, [1.9666666666666666, 1.0666666666666667, 2.0833333333333335]]\n",
      "[1, 6, [1.2833333333333334, 1.7333333333333334, 0.7, 2.566666666666667, 2.55, 1.8]]\n",
      "[1, 4, [1.5333333333333334, 1.25, 1.6833333333333333, 1.5833333333333333]]\n",
      "[1, 4, [1.1833333333333333, 2.05, 1.5833333333333333, 0.6333333333333333]]\n",
      "[1, 3, [1.4666666666666666, 0.4666666666666667, 2.216666666666667]]\n",
      "[1, 3, [1.0666666666666667, 0.6, 1.5166666666666666]]\n",
      "[1, 3, [1.75, 2.6166666666666667, 1.7166666666666666]]\n",
      "[1, 3, [1.5833333333333333, 2.3333333333333335, 2.7666666666666666]]\n",
      "[1, 6, [1.0333333333333334, 0.9666666666666667, 2.566666666666667, 1.2666666666666666, 1.7, 0.95]]\n",
      "[1, 3, [1.8166666666666667, 1.3333333333333333, 0.6333333333333333]]\n",
      "[1, 3, [1.3166666666666667, 0.8833333333333333, 0.5833333333333334]]\n",
      "[1, 3, [1.8, 0.7666666666666667, 2.9166666666666665]]\n",
      "[1, 4, [1.8666666666666667, 0.3333333333333333, 2.716666666666667, 0.23333333333333334]]\n",
      "[1, 3, [1.0166666666666666, 2.6, 1.1166666666666667]]\n",
      "[1, 5, [1.7833333333333334, 1.25, 2.15, 0.9, 2.4]]\n",
      "[1, 3, [1.9166666666666667, 0.45, 0.8833333333333333]]\n",
      "[1, 4, [1.8666666666666667, 0.6666666666666666, 2.3833333333333333, 1.8666666666666667]]\n",
      "[1, 4, [1.95, 1.2833333333333334, 0.6666666666666666, 1.6333333333333333]]\n",
      "[1, 3, [1.6833333333333333, 2.066666666666667, 2.216666666666667]]\n",
      "[1, 6, [1.8666666666666667, 2.6166666666666667, 1.2666666666666666, 2.566666666666667, 1.65, 1.7333333333333334]]\n",
      "[1, 3, [1.1166666666666667, 2.066666666666667, 1.8]]\n",
      "[1, 5, [1.5666666666666667, 1.9, 2.75, 1.4166666666666667, 0.9166666666666666]]\n",
      "[1, 3, [1.8666666666666667, 1.6666666666666667, 0.06666666666666667]]\n",
      "[1, 4, [1.4, 0.8, 2.45, 2.183333333333333]]\n",
      "[1, 3, [1.15, 0.5833333333333334, 1.1666666666666667]]\n",
      "[1, 3, [1.1166666666666667, 0.9, 2.433333333333333]]\n",
      "[1, 3, [1.3166666666666667, 0.9, 1.9666666666666666]]\n",
      "[1, 4, [1.05, 0.7166666666666667, 1.8833333333333333, 1.35]]\n",
      "[1, 4, [1.85, 2.2666666666666666, 2.683333333333333, 2.95]]\n",
      "[1, 3, [1.0666666666666667, 1.6, 2.966666666666667]]\n",
      "[1, 4, [1.0, 1.0833333333333333, 0.3333333333333333, 2.783333333333333]]\n",
      "[1, 3, [1.5166666666666666, 0.6666666666666666, 2.5]]\n",
      "[1, 4, [1.05, 1.0333333333333334, 1.9833333333333334, 2.316666666666667]]\n",
      "[1, 3, [1.9333333333333333, 1.25, 0.2]]\n",
      "[1, 3, [1.4666666666666666, 2.45, 0.5]]\n",
      "[1, 3, [1.9666666666666666, 2.6333333333333333, 2.4]]\n",
      "[1, 4, [1.4166666666666667, 0.7833333333333333, 2.966666666666667, 2.1333333333333333]]\n",
      "[1, 3, [1.9666666666666666, 1.7166666666666666, 2.066666666666667]]\n",
      "[1, 3, [1.0666666666666667, 1.45, 0.8666666666666667]]\n",
      "[1, 3, [1.8333333333333333, 2.7333333333333334, 1.75]]\n",
      "[1, 4, [1.6333333333333333, 2.3, 1.15, 0.7666666666666667]]\n",
      "[1, 4, [1.45, 1.0666666666666667, 2.85, 0.26666666666666666]]\n",
      "[1, 3, [1.5166666666666666, 0.16666666666666666, 2.2]]\n",
      "[1, 3, [1.8, 2.8333333333333335, 1.9833333333333334]]\n",
      "[1, 5, [1.5166666666666666, 2.3833333333333333, 1.4333333333333333, 1.4333333333333333, 2.8333333333333335]]\n",
      "[1, 3, [1.85, 2.3, 1.6]]\n",
      "[1, 3, [1.1333333333333333, 0.36666666666666664, 0.9666666666666667]]\n",
      "[1, 3, [1.7666666666666666, 0.9666666666666667, 1.4166666666666667]]\n",
      "[1, 3, [1.1833333333333333, 0.4, 1.1166666666666667]]\n",
      "[1, 3, [1.25, 0.6833333333333333, 0.25]]\n",
      "[1, 4, [1.8666666666666667, 1.15, 0.31666666666666665, 0.7666666666666667]]\n",
      "[1, 3, [1.5333333333333334, 0.65, 1.4833333333333334]]\n",
      "[1, 3, [1.8333333333333333, 2.75, 1.65]]\n",
      "[1, 3, [1.05, 0.6333333333333333, 2.033333333333333]]\n",
      "[1, 3, [1.45, 2.1333333333333333, 0.5]]\n",
      "[1, 5, [1.3, 2.9833333333333334, 0.7166666666666667, 1.2, 1.2833333333333334]]\n",
      "[1, 4, [1.1333333333333333, 1.1333333333333333, 1.8, 0.8666666666666667]]\n",
      "[1, 3, [1.2833333333333334, 2.033333333333333, 0.45]]\n",
      "[1, 5, [1.1, 1.55, 2.7666666666666666, 0.3333333333333333, 1.6333333333333333]]\n",
      "[1, 4, [1.6833333333333333, 2.3333333333333335, 0.6333333333333333, 1.9333333333333333]]\n",
      "[1, 4, [1.25, 2.433333333333333, 0.3, 0.13333333333333333]]\n",
      "[1, 3, [1.75, 1.6166666666666667, 0.9833333333333333]]\n",
      "[1, 4, [1.9833333333333334, 0.7666666666666667, 1.2666666666666666, 2.95]]\n",
      "[1, 3, [1.1833333333333333, 2.45, 1.5833333333333333]]\n",
      "[1, 3, [1.7166666666666666, 0.08333333333333333, 1.7]]\n",
      "[1, 3, [1.0, 2.216666666666667, 2.9]]\n",
      "[1, 3, [1.2666666666666666, 2.05, 2.3833333333333333]]\n",
      "[1, 4, [1.0, 1.8166666666666667, 1.7166666666666666, 1.2166666666666666]]\n",
      "[1, 4, [1.5166666666666666, 0.6666666666666666, 0.15, 0.11666666666666667]]\n",
      "[1, 4, [1.7333333333333334, 2.05, 1.1166666666666667, 0.23333333333333334]]\n",
      "[1, 3, [1.6833333333333333, 1.85, 0.45]]\n",
      "[1, 3, [1.9833333333333334, 2.15, 1.2166666666666666]]\n",
      "[1, 3, [1.7833333333333334, 0.13333333333333333, 1.2166666666666666]]\n",
      "[1, 3, [1.5166666666666666, 0.016666666666666666, 0.7833333333333333]]\n",
      "[1, 6, [1.2333333333333334, 2.05, 2.85, 1.8833333333333333, 0.38333333333333336, 0.9333333333333333]]\n",
      "[1, 3, [1.4833333333333334, 0.7833333333333333, 0.16666666666666666]]\n",
      "[1, 3, [1.7166666666666666, 2.683333333333333, 1.1]]\n",
      "[1, 4, [1.3, 2.7, 0.11666666666666667, 0.4]]\n",
      "[1, 3, [1.8833333333333333, 0.9166666666666666, 1.0166666666666666]]\n",
      "[1, 4, [1.7833333333333334, 1.0166666666666666, 0.43333333333333335, 1.2]]\n",
      "[1, 3, [1.9833333333333334, 2.45, 0.9666666666666667]]\n",
      "[1, 3, [1.1833333333333333, 2.9166666666666665, 0.15]]\n",
      "[1, 3, [1.9, 0.4666666666666667, 2.1166666666666667]]\n",
      "[1, 3, [1.25, 1.3333333333333333, 1.4166666666666667]]\n",
      "[1, 4, [1.1666666666666667, 0.5166666666666667, 0.16666666666666666, 0.5]]\n",
      "[1, 3, [1.2, 0.5166666666666667, 0.4166666666666667]]\n",
      "[1, 6, [1.1666666666666667, 1.8333333333333333, 0.31666666666666665, 0.4666666666666667, 0.7833333333333333, 1.25]]\n",
      "[1, 3, [1.95, 0.35, 2.6166666666666667]]\n",
      "[1, 3, [1.9666666666666666, 1.3833333333333333, 2.533333333333333]]\n",
      "[1, 3, [1.3666666666666667, 2.65, 0.23333333333333334]]\n",
      "[1, 3, [1.5166666666666666, 1.55, 2.2333333333333334]]\n",
      "[1, 6, [1.6666666666666667, 0.11666666666666667, 0.8166666666666667, 0.5666666666666667, 1.0166666666666666, 1.6333333333333333]]\n",
      "[1, 3, [1.9666666666666666, 0.4666666666666667, 0.35]]\n",
      "[1, 4, [1.95, 1.5, 0.95, 1.85]]\n",
      "[1, 5, [1.4, 0.7, 1.85, 0.7666666666666667, 2.15]]\n",
      "[1, 3, [1.1, 2.3333333333333335, 1.5166666666666666]]\n",
      "[1, 3, [1.5333333333333334, 1.5, 1.5333333333333334]]\n",
      "[1, 4, [1.8, 0.3333333333333333, 0.8666666666666667, 1.9166666666666667]]\n",
      "[1, 4, [1.2666666666666666, 0.65, 2.1, 2.3]]\n",
      "[1, 3, [1.75, 2.216666666666667, 2.4833333333333334]]\n",
      "[1, 4, [1.3166666666666667, 2.3333333333333335, 2.466666666666667, 1.9666666666666666]]\n",
      "[1, 3, [1.2166666666666666, 1.4666666666666666, 2.183333333333333]]\n",
      "[1, 3, [1.05, 0.6166666666666667, 1.7666666666666666]]\n",
      "[1, 3, [1.2, 2.35, 0.18333333333333332]]\n",
      "[1, 4, [1.85, 0.21666666666666667, 2.966666666666667, 2.6166666666666667]]\n",
      "[1, 3, [1.1833333333333333, 1.75, 0.9333333333333333]]\n",
      "[1, 3, [1.4, 2.2666666666666666, 2.816666666666667]]\n",
      "[1, 5, [1.6166666666666667, 1.4833333333333334, 0.7, 1.4, 1.55]]\n",
      "[1, 3, [1.2, 2.55, 2.8833333333333333]]\n",
      "[1, 3, [1.2333333333333334, 2.35, 0.18333333333333332]]\n",
      "[1, 4, [1.1833333333333333, 0.6833333333333333, 1.2833333333333334, 2.5166666666666666]]\n",
      "[1, 3, [1.3166666666666667, 0.9, 0.3]]\n",
      "[1, 3, [1.6666666666666667, 1.8, 2.033333333333333]]\n",
      "[1, 3, [1.6666666666666667, 1.1333333333333333, 1.1666666666666667]]\n",
      "[1, 4, [1.3666666666666667, 1.1, 0.85, 0.03333333333333333]]\n",
      "[1, 4, [1.5333333333333334, 0.016666666666666666, 1.3666666666666667, 2.6]]\n",
      "[1, 3, [1.2333333333333334, 2.35, 2.066666666666667]]\n",
      "[1, 3, [1.6166666666666667, 1.7166666666666666, 2.566666666666667]]\n",
      "[1, 3, [1.5333333333333334, 2.6166666666666667, 2.7333333333333334]]\n",
      "[1, 3, [1.1, 0.25, 2.45]]\n",
      "[1, 4, [1.5833333333333333, 2.15, 1.5333333333333334, 1.0166666666666666]]\n",
      "[1, 3, [1.7166666666666666, 2.8833333333333333, 0.3333333333333333]]\n",
      "[1, 4, [1.0, 2.966666666666667, 1.7833333333333334, 0.13333333333333333]]\n",
      "[1, 3, [1.3, 0.13333333333333333, 0.9333333333333333]]\n",
      "[1, 3, [1.5666666666666667, 0.9333333333333333, 2.5833333333333335]]\n",
      "[1, 3, [1.8333333333333333, 2.8666666666666667, 0.5166666666666667]]\n",
      "[1, 3, [1.75, 1.2833333333333334, 1.0]]\n",
      "[1, 7, [1.5, 2.8333333333333335, 1.2, 1.25, 1.4666666666666666, 0.65, 2.4166666666666665]]\n",
      "[1, 5, [1.1833333333333333, 0.45, 0.16666666666666666, 0.5666666666666667, 1.75]]\n",
      "[1, 3, [1.55, 2.9166666666666665, 0.16666666666666666]]\n",
      "[1, 4, [1.3666666666666667, 0.31666666666666665, 0.48333333333333334, 2.7666666666666666]]\n",
      "[1, 3, [1.4166666666666667, 2.433333333333333, 0.55]]\n",
      "[1, 3, [1.2333333333333334, 2.783333333333333, 1.9333333333333333]]\n",
      "[1, 4, [1.5333333333333334, 1.4166666666666667, 1.7, 1.7333333333333334]]\n",
      "[1, 3, [1.7, 1.35, 1.5833333333333333]]\n",
      "[1, 4, [1.4833333333333334, 0.5166666666666667, 2.316666666666667, 2.45]]\n",
      "[1, 3, [1.65, 2.0, 0.3]]\n",
      "[1, 4, [1.7166666666666666, 1.3333333333333333, 0.65, 1.8833333333333333]]\n",
      "[1, 3, [1.3833333333333333, 1.1333333333333333, 0.3]]\n",
      "[1, 3, [1.4333333333333333, 0.95, 2.95]]\n",
      "[1, 4, [1.6166666666666667, 2.6166666666666667, 0.05, 1.9166666666666667]]\n",
      "[1, 5, [1.9333333333333333, 1.3333333333333333, 1.85, 1.1833333333333333, 0.5833333333333334]]\n",
      "[1, 4, [1.4, 2.65, 1.75, 1.3]]\n",
      "[1, 4, [1.6166666666666667, 2.566666666666667, 2.683333333333333, 2.966666666666667]]\n",
      "[1, 3, [1.25, 2.0, 0.4666666666666667]]\n",
      "[1, 5, [1.7, 0.4666666666666667, 0.7666666666666667, 1.5333333333333334, 1.3666666666666667]]\n",
      "[1, 3, [1.5166666666666666, 1.5333333333333334, 1.8333333333333333]]\n",
      "[1, 3, [1.7666666666666666, 1.5166666666666666, 1.8833333333333333]]\n",
      "[1, 3, [1.1666666666666667, 0.3, 2.3]]\n",
      "[1, 3, [1.6833333333333333, 2.3, 0.016666666666666666]]\n",
      "[1, 4, [1.9, 0.4, 1.4833333333333334, 0.3333333333333333]]\n",
      "[1, 3, [1.9, 0.26666666666666666, 1.8666666666666667]]\n",
      "[1, 3, [1.5666666666666667, 2.783333333333333, 0.6]]\n",
      "[1, 3, [1.5666666666666667, 1.5, 1.55]]\n",
      "[1, 3, [1.05, 1.1, 2.7666666666666666]]\n",
      "[1, 3, [1.2833333333333334, 0.48333333333333334, 2.35]]\n",
      "[1, 3, [1.6666666666666667, 2.65, 2.9]]\n",
      "[1, 3, [1.6166666666666667, 1.75, 0.8166666666666667]]\n",
      "[1, 3, [1.1666666666666667, 1.3666666666666667, 0.5]]\n",
      "[1, 3, [1.4166666666666667, 0.35, 0.6666666666666666]]\n",
      "[1, 3, [1.8666666666666667, 0.03333333333333333, 0.26666666666666666]]\n",
      "[1, 3, [1.1833333333333333, 1.3, 0.2]]\n",
      "[1, 3, [1.4333333333333333, 0.13333333333333333, 2.7666666666666666]]\n",
      "[1, 3, [1.4666666666666666, 2.6166666666666667, 2.7333333333333334]]\n",
      "[1, 5, [1.6, 0.8833333333333333, 1.5, 2.6, 1.2]]\n",
      "[1, 3, [1.4, 0.4666666666666667, 1.5]]\n",
      "[1, 3, [1.8, 1.6166666666666667, 2.6666666666666665]]\n",
      "[1, 3, [1.8833333333333333, 0.5, 0.5333333333333333]]\n",
      "[1, 3, [1.35, 1.5333333333333334, 2.1]]\n",
      "[1, 3, [1.7666666666666666, 0.48333333333333334, 0.4666666666666667]]\n",
      "[1, 4, [1.2833333333333334, 0.9, 1.7833333333333334, 1.5333333333333334]]\n",
      "[1, 3, [1.5166666666666666, 0.36666666666666664, 2.5166666666666666]]\n",
      "[1, 3, [1.4833333333333334, 2.1, 2.6666666666666665]]\n",
      "[1, 4, [1.3, 0.43333333333333335, 1.3166666666666667, 2.183333333333333]]\n",
      "[1, 6, [1.8, 0.4666666666666667, 0.6333333333333333, 1.4333333333333333, 0.1, 2.65]]\n",
      "[1, 5, [1.5833333333333333, 1.0833333333333333, 2.316666666666667, 2.183333333333333, 0.6166666666666667]]\n",
      "[1, 3, [1.0166666666666666, 1.6, 0.15]]\n",
      "[1, 3, [1.3, 0.08333333333333333, 1.3333333333333333]]\n",
      "[1, 4, [1.0166666666666666, 2.283333333333333, 0.2833333333333333, 0.5333333333333333]]\n",
      "[1, 3, [1.35, 1.95, 1.0]]\n",
      "[1, 3, [1.7333333333333334, 0.2833333333333333, 2.3833333333333333]]\n",
      "[1, 3, [1.8, 2.1, 2.5833333333333335]]\n",
      "[1, 3, [1.5333333333333334, 0.45, 2.9]]\n",
      "[1, 3, [1.5333333333333334, 1.9166666666666667, 2.65]]\n",
      "[1, 4, [1.5166666666666666, 0.13333333333333333, 1.8666666666666667, 0.85]]\n",
      "[1, 3, [1.35, 2.716666666666667, 2.033333333333333]]\n",
      "[1, 3, [1.45, 0.7166666666666667, 1.3333333333333333]]\n",
      "[1, 3, [1.55, 1.8833333333333333, 0.45]]\n",
      "[1, 3, [1.4833333333333334, 0.6666666666666666, 2.35]]\n",
      "[1, 3, [1.4833333333333334, 0.9, 1.5666666666666667]]\n",
      "[1, 3, [1.9333333333333333, 2.55, 1.9166666666666667]]\n",
      "[1, 3, [1.4333333333333333, 1.1, 0.9666666666666667]]\n",
      "[1, 3, [1.9, 0.2, 2.35]]\n",
      "[1, 3, [1.5833333333333333, 1.9833333333333334, 0.3333333333333333]]\n",
      "[1, 4, [1.6, 0.35, 1.7166666666666666, 1.4833333333333334]]\n",
      "[1, 3, [1.05, 1.3, 1.6]]\n",
      "[1, 5, [1.6333333333333333, 2.7, 0.5166666666666667, 0.36666666666666664, 0.15]]\n",
      "[1, 3, [1.8666666666666667, 2.3333333333333335, 0.7666666666666667]]\n",
      "[1, 3, [1.2166666666666666, 0.2, 2.3333333333333335]]\n",
      "[1, 3, [1.65, 2.066666666666667, 1.3333333333333333]]\n",
      "[1, 3, [1.6, 2.966666666666667, 0.21666666666666667]]\n",
      "[1, 4, [1.2, 0.8666666666666667, 1.5, 2.683333333333333]]\n",
      "[1, 3, [1.0833333333333333, 0.03333333333333333, 2.1166666666666667]]\n",
      "[1, 3, [1.85, 1.1666666666666667, 2.65]]\n",
      "[1, 3, [1.5333333333333334, 2.066666666666667, 2.9]]\n",
      "[1, 3, [1.7166666666666666, 0.6666666666666666, 1.6]]\n",
      "[1, 3, [1.0, 0.3333333333333333, 1.1]]\n",
      "[1, 5, [1.2333333333333334, 0.25, 1.1333333333333333, 1.3166666666666667, 0.1]]\n",
      "[1, 6, [1.3333333333333333, 0.35, 1.5333333333333334, 0.36666666666666664, 0.7333333333333333, 0.95]]\n",
      "[1, 5, [1.7, 1.9166666666666667, 0.7166666666666667, 0.23333333333333334, 0.31666666666666665]]\n",
      "[1, 4, [1.75, 1.1, 0.6833333333333333, 2.2333333333333334]]\n",
      "[1, 3, [1.6833333333333333, 2.533333333333333, 2.6166666666666667]]\n",
      "[1, 3, [1.3, 0.9, 1.95]]\n",
      "[1, 4, [1.4, 0.9333333333333333, 2.716666666666667, 0.18333333333333332]]\n",
      "[1, 3, [1.9166666666666667, 0.5833333333333334, 1.0166666666666666]]\n",
      "[1, 3, [1.75, 1.3666666666666667, 0.2833333333333333]]\n",
      "[1, 5, [1.0666666666666667, 2.1166666666666667, 2.466666666666667, 0.15, 2.2666666666666666]]\n",
      "[1, 3, [1.4666666666666666, 0.11666666666666667, 1.9833333333333334]]\n",
      "[1, 3, [1.7, 0.25, 2.183333333333333]]\n",
      "[1, 3, [1.8833333333333333, 2.8333333333333335, 0.95]]\n",
      "[1, 3, [1.5, 2.5, 1.8]]\n",
      "[1, 4, [1.0333333333333334, 0.7666666666666667, 1.6, 0.15]]\n",
      "[1, 4, [1.55, 0.2833333333333333, 0.4, 1.8333333333333333]]\n",
      "[1, 3, [1.9666666666666666, 2.533333333333333, 0.9333333333333333]]\n",
      "[1, 3, [1.8, 1.2, 2.183333333333333]]\n",
      "[1, 3, [1.9166666666666667, 1.5666666666666667, 1.9166666666666667]]\n",
      "[1, 5, [1.4166666666666667, 0.45, 1.7166666666666666, 1.5333333333333334, 1.5833333333333333]]\n",
      "[1, 3, [1.9666666666666666, 1.1166666666666667, 0.7]]\n",
      "[1, 4, [1.2666666666666666, 1.3166666666666667, 0.38333333333333336, 2.4]]\n",
      "[1, 4, [1.4833333333333334, 0.13333333333333333, 0.48333333333333334, 0.7666666666666667]]\n",
      "[1, 4, [1.5833333333333333, 1.0166666666666666, 0.9666666666666667, 0.31666666666666665]]\n",
      "[1, 3, [1.9, 2.7, 0.4666666666666667]]\n",
      "[1, 3, [1.4833333333333334, 0.05, 2.316666666666667]]\n",
      "[1, 3, [1.6, 0.95, 2.85]]\n",
      "[1, 3, [1.9833333333333334, 2.5166666666666666, 0.7]]\n",
      "[1, 3, [1.0, 2.7333333333333334, 0.4]]\n",
      "[1, 5, [1.95, 1.8333333333333333, 0.11666666666666667, 0.7333333333333333, 1.3666666666666667]]\n",
      "[1, 4, [1.6166666666666667, 0.4666666666666667, 2.316666666666667, 0.05]]\n",
      "[1, 4, [1.8333333333333333, 2.283333333333333, 2.7666666666666666, 1.0333333333333334]]\n",
      "[1, 3, [1.3666666666666667, 2.75, 1.7333333333333334]]\n",
      "[1, 3, [1.5166666666666666, 2.25, 1.9166666666666667]]\n",
      "[1, 3, [1.5166666666666666, 0.38333333333333336, 2.6166666666666667]]\n",
      "[1, 3, [1.6666666666666667, 2.7666666666666666, 1.6333333333333333]]\n",
      "[1, 3, [1.4166666666666667, 1.9, 0.35]]\n",
      "[1, 3, [1.5833333333333333, 2.9833333333333334, 1.3166666666666667]]\n",
      "[1, 3, [1.5333333333333334, 0.35, 1.75]]\n",
      "[1, 3, [1.9166666666666667, 1.4, 2.6666666666666665]]\n",
      "[1, 3, [1.05, 1.85, 2.966666666666667]]\n",
      "[1, 3, [1.15, 0.9166666666666666, 0.7166666666666667]]\n",
      "[1, 3, [1.9, 1.55, 0.3]]\n",
      "[1, 5, [1.45, 0.75, 2.15, 0.6166666666666667, 0.5333333333333333]]\n",
      "[1, 5, [1.8166666666666667, 0.9333333333333333, 2.55, 1.7, 2.3666666666666667]]\n",
      "[1, 3, [1.8833333333333333, 0.2, 2.783333333333333]]\n",
      "[1, 3, [1.2, 1.0, 1.8333333333333333]]\n",
      "[1, 3, [1.0666666666666667, 1.9833333333333334, 0.43333333333333335]]\n",
      "[1, 3, [1.85, 2.716666666666667, 0.48333333333333334]]\n",
      "[1, 5, [1.0, 0.9666666666666667, 2.2, 2.8333333333333335, 2.283333333333333]]\n",
      "[1, 4, [1.3, 0.11666666666666667, 0.11666666666666667, 1.85]]\n",
      "[1, 4, [1.3166666666666667, 2.566666666666667, 2.1, 1.3333333333333333]]\n",
      "[1, 3, [1.25, 2.6166666666666667, 0.18333333333333332]]\n",
      "[1, 6, [1.4166666666666667, 1.5333333333333334, 0.08333333333333333, 2.0166666666666666, 0.6333333333333333, 1.7333333333333334]]\n",
      "[1, 3, [1.6333333333333333, 0.21666666666666667, 2.533333333333333]]\n",
      "[1, 3, [1.5833333333333333, 0.3, 2.816666666666667]]\n",
      "[1, 3, [1.8833333333333333, 0.9333333333333333, 1.3333333333333333]]\n",
      "[1, 3, [1.4166666666666667, 1.4333333333333333, 0.6833333333333333]]\n",
      "[1, 4, [1.3666666666666667, 2.1666666666666665, 1.6333333333333333, 1.1166666666666667]]\n",
      "[1, 3, [1.35, 0.8666666666666667, 1.5]]\n",
      "[1, 3, [1.75, 1.0, 0.5833333333333334]]\n",
      "[1, 3, [1.35, 0.31666666666666665, 0.9833333333333333]]\n",
      "[1, 3, [1.5, 1.0833333333333333, 1.2166666666666666]]\n",
      "[1, 4, [1.6, 2.4166666666666665, 0.4166666666666667, 0.5833333333333334]]\n",
      "[1, 4, [1.5666666666666667, 1.3, 1.8, 2.033333333333333]]\n",
      "[1, 3, [1.85, 1.8333333333333333, 2.566666666666667]]\n",
      "[1, 3, [1.8, 2.566666666666667, 2.2]]\n",
      "[1, 3, [1.3666666666666667, 0.7833333333333333, 1.6166666666666667]]\n",
      "[1, 3, [1.4333333333333333, 1.1833333333333333, 0.6666666666666666]]\n",
      "[1, 3, [1.5, 1.2333333333333334, 0.43333333333333335]]\n",
      "[1, 3, [1.6166666666666667, 0.31666666666666665, 1.8]]\n",
      "[1, 3, [1.1833333333333333, 0.6166666666666667, 2.8833333333333333]]\n",
      "[1, 4, [1.0666666666666667, 1.8666666666666667, 0.9333333333333333, 2.3833333333333333]]\n",
      "[1, 3, [1.4833333333333334, 2.066666666666667, 2.65]]\n",
      "[1, 3, [1.15, 2.4166666666666665, 0.55]]\n",
      "[1, 3, [1.5833333333333333, 0.016666666666666666, 2.3666666666666667]]\n",
      "[1, 4, [1.3833333333333333, 2.1666666666666665, 0.6, 1.0166666666666666]]\n",
      "[1, 4, [1.4, 1.7833333333333334, 2.5, 1.3833333333333333]]\n",
      "[1, 3, [1.0166666666666666, 2.3333333333333335, 0.5166666666666667]]\n",
      "[1, 3, [1.05, 0.5666666666666667, 1.0666666666666667]]\n",
      "[1, 4, [1.8833333333333333, 1.7, 2.5, 1.2333333333333334]]\n",
      "[1, 3, [1.3833333333333333, 0.48333333333333334, 0.5833333333333334]]\n",
      "[1, 3, [1.3333333333333333, 2.5166666666666666, 0.7666666666666667]]\n",
      "[1, 3, [1.4833333333333334, 0.7833333333333333, 1.7833333333333334]]\n",
      "[1, 5, [1.3833333333333333, 1.15, 1.5, 1.15, 2.55]]\n",
      "[1, 3, [1.6833333333333333, 0.8666666666666667, 0.31666666666666665]]\n",
      "[1, 5, [1.8666666666666667, 2.033333333333333, 1.3333333333333333, 1.6666666666666667, 0.23333333333333334]]\n",
      "[1, 3, [1.45, 1.8333333333333333, 0.75]]\n",
      "[1, 3, [1.6, 1.4833333333333334, 2.783333333333333]]\n",
      "[1, 4, [1.15, 1.55, 1.65, 1.0333333333333334]]\n",
      "[1, 3, [1.15, 0.5666666666666667, 0.16666666666666666]]\n",
      "[1, 3, [1.0833333333333333, 1.9, 2.933333333333333]]\n",
      "[1, 3, [1.0, 0.7, 0.85]]\n",
      "[1, 4, [1.65, 2.933333333333333, 1.5166666666666666, 1.4]]\n",
      "[1, 3, [1.2, 0.3, 0.8333333333333334]]\n",
      "[1, 4, [1.2, 1.0833333333333333, 2.183333333333333, 2.1333333333333333]]\n",
      "[1, 3, [1.8166666666666667, 0.5333333333333333, 2.3333333333333335]]\n",
      "[1, 4, [1.6333333333333333, 2.966666666666667, 2.4833333333333334, 2.9]]\n",
      "[1, 4, [1.3, 0.7, 0.7833333333333333, 1.4]]\n",
      "[1, 3, [1.85, 0.2833333333333333, 1.3833333333333333]]\n",
      "[1, 4, [1.8166666666666667, 2.3, 0.55, 0.7]]\n",
      "[1, 3, [1.0333333333333334, 2.066666666666667, 0.9166666666666666]]\n",
      "[1, 5, [1.7666666666666666, 0.31666666666666665, 1.5333333333333334, 2.0166666666666666, 2.2333333333333334]]\n",
      "[1, 4, [1.0, 1.8833333333333333, 0.5, 2.1166666666666667]]\n",
      "[1, 3, [1.45, 2.6166666666666667, 0.2]]\n",
      "[1, 5, [1.2666666666666666, 1.5666666666666667, 0.6166666666666667, 2.0833333333333335, 1.2166666666666666]]\n",
      "[1, 4, [1.35, 2.75, 1.0833333333333333, 2.683333333333333]]\n",
      "[1, 3, [1.4166666666666667, 0.8166666666666667, 1.7666666666666666]]\n",
      "[1, 3, [1.7333333333333334, 2.4833333333333334, 0.48333333333333334]]\n",
      "[1, 3, [1.65, 2.3833333333333333, 1.5]]\n",
      "[1, 4, [1.2833333333333334, 2.15, 2.9, 2.9166666666666665]]\n",
      "[1, 4, [1.75, 0.15, 1.2833333333333334, 0.016666666666666666]]\n",
      "[1, 3, [1.9, 1.1, 0.36666666666666664]]\n",
      "[1, 3, [1.65, 1.4833333333333334, 0.38333333333333336]]\n",
      "[1, 3, [1.8, 1.8833333333333333, 2.65]]\n",
      "[1, 4, [1.3166666666666667, 0.6166666666666667, 0.31666666666666665, 0.95]]\n",
      "[1, 3, [1.7, 0.5666666666666667, 2.35]]\n",
      "[1, 3, [1.3166666666666667, 1.7666666666666666, 2.0833333333333335]]\n",
      "[1, 5, [1.5666666666666667, 1.2833333333333334, 2.566666666666667, 2.45, 0.4]]\n",
      "[1, 5, [1.9166666666666667, 0.6, 1.7666666666666666, 0.6833333333333333, 0.38333333333333336]]\n",
      "[1, 4, [1.4, 1.2, 1.3, 2.466666666666667]]\n",
      "[1, 4, [1.9666666666666666, 1.8166666666666667, 1.75, 0.36666666666666664]]\n",
      "[1, 3, [1.6333333333333333, 0.15, 0.5333333333333333]]\n",
      "[1, 3, [1.4833333333333334, 1.65, 1.3833333333333333]]\n",
      "[1, 3, [1.8333333333333333, 1.9833333333333334, 2.7333333333333334]]\n",
      "[1, 4, [1.9666666666666666, 2.433333333333333, 0.5333333333333333, 0.8333333333333334]]\n",
      "[1, 3, [1.3, 1.9833333333333334, 0.6666666666666666]]\n",
      "[1, 5, [1.35, 0.9666666666666667, 2.1666666666666665, 1.75, 1.3833333333333333]]\n",
      "[1, 3, [1.6666666666666667, 2.033333333333333, 1.8833333333333333]]\n",
      "[1, 3, [1.0666666666666667, 0.7666666666666667, 0.8333333333333334]]\n",
      "[1, 3, [1.0333333333333334, 0.21666666666666667, 2.75]]\n",
      "[1, 4, [1.3333333333333333, 0.75, 2.8333333333333335, 0.95]]\n",
      "[1, 4, [1.0166666666666666, 0.03333333333333333, 1.2833333333333334, 1.7]]\n",
      "[1, 5, [1.1166666666666667, 2.15, 2.8333333333333335, 2.066666666666667, 1.9833333333333334]]\n",
      "[1, 4, [1.2166666666666666, 1.75, 1.1666666666666667, 1.25]]\n",
      "[1, 5, [1.6, 0.9166666666666666, 0.03333333333333333, 0.7333333333333333, 1.7333333333333334]]\n",
      "[1, 3, [1.7166666666666666, 1.05, 1.3]]\n",
      "[1, 3, [1.1833333333333333, 1.6, 2.5166666666666666]]\n",
      "[1, 4, [1.7166666666666666, 1.9833333333333334, 1.7666666666666666, 1.15]]\n",
      "[1, 3, [1.1166666666666667, 0.8666666666666667, 2.0]]\n",
      "[1, 3, [1.85, 2.8833333333333333, 0.08333333333333333]]\n",
      "[1, 3, [1.6166666666666667, 1.15, 2.783333333333333]]\n",
      "[1, 3, [1.1, 0.43333333333333335, 1.15]]\n",
      "[1, 3, [1.1833333333333333, 0.5333333333333333, 0.8666666666666667]]\n",
      "[1, 4, [1.4, 2.85, 1.2, 0.6666666666666666]]\n",
      "[1, 3, [1.0166666666666666, 2.9, 1.1333333333333333]]\n",
      "[1, 4, [1.2333333333333334, 1.75, 1.2833333333333334, 0.03333333333333333]]\n",
      "[1, 3, [1.6, 0.2, 2.8833333333333333]]\n",
      "[1, 4, [1.05, 2.6666666666666665, 2.5833333333333335, 0.8166666666666667]]\n",
      "[1, 3, [1.8, 0.7166666666666667, 0.06666666666666667]]\n",
      "[1, 3, [1.4, 2.85, 0.2833333333333333]]\n",
      "[1, 3, [1.8333333333333333, 2.9166666666666665, 1.0166666666666666]]\n",
      "[1, 4, [1.8, 2.9, 1.2, 0.6833333333333333]]\n",
      "[1, 3, [1.5, 0.16666666666666666, 0.18333333333333332]]\n",
      "[1, 4, [1.0833333333333333, 0.38333333333333336, 1.5833333333333333, 2.6333333333333333]]\n",
      "[1, 3, [1.3666666666666667, 1.3666666666666667, 1.2833333333333334]]\n",
      "[1, 3, [1.7833333333333334, 1.1333333333333333, 1.7166666666666666]]\n",
      "[1, 3, [1.25, 2.1, 0.45]]\n",
      "[1, 3, [1.5833333333333333, 2.6666666666666665, 0.6833333333333333]]\n",
      "[1, 3, [1.2333333333333334, 0.45, 1.6166666666666667]]\n",
      "[1, 3, [1.45, 0.2833333333333333, 1.0833333333333333]]\n",
      "[1, 5, [1.6666666666666667, 2.5, 1.2333333333333334, 1.05, 0.9333333333333333]]\n",
      "[1, 3, [1.5666666666666667, 0.21666666666666667, 0.7666666666666667]]\n",
      "[1, 3, [1.4666666666666666, 0.8833333333333333, 0.23333333333333334]]\n",
      "[1, 4, [1.55, 1.9666666666666666, 2.4, 0.3]]\n",
      "[1, 3, [1.3333333333333333, 0.55, 1.1166666666666667]]\n",
      "[1, 4, [1.5333333333333334, 0.21666666666666667, 1.5666666666666667, 0.8666666666666667]]\n",
      "[1, 3, [1.0833333333333333, 0.8666666666666667, 1.9833333333333334]]\n",
      "[1, 3, [1.7833333333333334, 2.9, 1.5333333333333334]]\n",
      "[1, 3, [1.7833333333333334, 0.2833333333333333, 0.85]]\n",
      "[1, 3, [1.8333333333333333, 0.5666666666666667, 2.566666666666667]]\n",
      "[1, 5, [1.8333333333333333, 1.6833333333333333, 2.6166666666666667, 2.85, 2.1333333333333333]]\n",
      "[1, 3, [1.95, 1.6, 2.066666666666667]]\n",
      "[1, 3, [1.9333333333333333, 2.6166666666666667, 2.55]]\n",
      "[1, 3, [1.3166666666666667, 2.95, 2.8333333333333335]]\n",
      "[1, 3, [1.6666666666666667, 0.9666666666666667, 0.9333333333333333]]\n",
      "[1, 3, [1.9166666666666667, 0.15, 1.6333333333333333]]\n",
      "[1, 3, [1.0333333333333334, 2.033333333333333, 1.4833333333333334]]\n",
      "[1, 4, [1.0166666666666666, 2.8, 1.25, 0.75]]\n",
      "[1, 3, [1.6666666666666667, 1.2333333333333334, 1.0833333333333333]]\n",
      "[1, 3, [1.5166666666666666, 1.4833333333333334, 2.066666666666667]]\n",
      "[1, 3, [1.7666666666666666, 2.533333333333333, 2.8333333333333335]]\n",
      "[1, 3, [1.45, 1.6333333333333333, 0.08333333333333333]]\n",
      "[1, 3, [1.4333333333333333, 0.8, 2.4]]\n",
      "[1, 3, [1.3166666666666667, 1.5333333333333334, 1.6]]\n",
      "[1, 3, [1.0, 1.6666666666666667, 1.9333333333333333]]\n",
      "[1, 3, [1.8166666666666667, 0.7333333333333333, 1.4166666666666667]]\n",
      "[1, 4, [1.6666666666666667, 0.8333333333333334, 0.7333333333333333, 2.6]]\n",
      "[1, 3, [1.3166666666666667, 0.85, 0.4166666666666667]]\n",
      "[1, 3, [1.2333333333333334, 2.3333333333333335, 1.7333333333333334]]\n",
      "[1, 3, [1.45, 1.3166666666666667, 0.65]]\n",
      "[1, 3, [1.8333333333333333, 1.0166666666666666, 0.7166666666666667]]\n",
      "[1, 3, [1.05, 2.9, 1.2]]\n",
      "[1, 3, [1.6833333333333333, 1.1833333333333333, 1.2833333333333334]]\n",
      "[1, 3, [1.75, 0.8666666666666667, 1.2333333333333334]]\n",
      "[1, 3, [1.6833333333333333, 2.783333333333333, 1.3666666666666667]]\n",
      "[1, 3, [1.6, 0.5666666666666667, 1.8833333333333333]]\n",
      "[1, 3, [1.4, 1.5166666666666666, 1.9166666666666667]]\n"
     ]
    }
   ],
   "source": [
    "#BEFORE\n",
    "one_num_blocks = []\n",
    "two_num_blocks = []\n",
    "for i in consecutives:\n",
    "    if i[0] == 1:\n",
    "        one_num_blocks.append(i[1])\n",
    "    if i[0] == 2:\n",
    "        two_num_blocks.append(i[1])\n",
    "for i in consecutives:\n",
    "    if i[1] > 2 and i[0] == 1:\n",
    "        print i\n",
    "        "
   ]
  },
  {
   "cell_type": "code",
   "execution_count": 357,
   "metadata": {
    "collapsed": false
   },
   "outputs": [
    {
     "name": "stdout",
     "output_type": "stream",
     "text": [
      "[1, 3, [1.1833333333333333, 2.3666666666666667, 2.7]]\n",
      "[1, 4, [1.3666666666666667, 1.7333333333333334, 1.7166666666666666, 2.1333333333333333]]\n",
      "[1, 3, [1.85, 0.9333333333333333, 2.25]]\n",
      "[1, 3, [1.55, 2.533333333333333, 2.35]]\n",
      "[1, 3, [1.1666666666666667, 2.7666666666666666, 1.15]]\n",
      "[1, 3, [1.25, 2.0833333333333335, 2.4]]\n",
      "[1, 3, [1.8666666666666667, 1.1166666666666667, 2.533333333333333]]\n",
      "[1, 3, [1.5666666666666667, 1.3333333333333333, 1.85]]\n",
      "[1, 3, [1.5, 0.95, 2.316666666666667]]\n",
      "[1, 5, [1.3166666666666667, 1.8, 2.45, 2.816666666666667, 1.5333333333333334]]\n",
      "[1, 4, [1.4833333333333334, 2.1333333333333333, 1.1, 2.033333333333333]]\n",
      "[1, 3, [1.1833333333333333, 0.9166666666666666, 0.5333333333333333]]\n",
      "[1, 3, [1.8333333333333333, 1.5666666666666667, 0.35]]\n",
      "[1, 3, [1.0166666666666666, 1.05, 1.15]]\n",
      "[1, 3, [1.9666666666666666, 2.2333333333333334, 2.933333333333333]]\n",
      "[1, 3, [1.1666666666666667, 1.8666666666666667, 0.3]]\n",
      "[1, 3, [1.2333333333333334, 2.85, 0.5666666666666667]]\n",
      "[1, 3, [1.1166666666666667, 0.3, 1.8666666666666667]]\n",
      "[1, 3, [1.9, 0.5166666666666667, 1.7166666666666666]]\n",
      "[1, 3, [1.1166666666666667, 2.933333333333333, 1.9]]\n",
      "[1, 3, [1.7666666666666666, 0.9666666666666667, 0.38333333333333336]]\n",
      "[1, 3, [1.1333333333333333, 2.0166666666666666, 1.6833333333333333]]\n",
      "[1, 4, [1.2333333333333334, 1.5666666666666667, 1.75, 0.26666666666666666]]\n",
      "[1, 3, [1.9333333333333333, 0.6666666666666666, 0.7166666666666667]]\n",
      "[1, 3, [1.9833333333333334, 0.26666666666666666, 2.933333333333333]]\n",
      "[1, 3, [1.4666666666666666, 0.7166666666666667, 0.23333333333333334]]\n",
      "[1, 3, [1.5333333333333334, 1.0, 0.7666666666666667]]\n",
      "[1, 3, [1.7333333333333334, 0.5333333333333333, 2.85]]\n",
      "[1, 3, [1.25, 2.216666666666667, 2.1666666666666665]]\n",
      "[1, 3, [1.7166666666666666, 0.08333333333333333, 2.8833333333333333]]\n",
      "[1, 4, [1.3833333333333333, 2.3666666666666667, 0.45, 2.5166666666666666]]\n",
      "[1, 3, [1.45, 1.6333333333333333, 1.4]]\n",
      "[1, 5, [1.15, 0.36666666666666664, 2.283333333333333, 1.7666666666666666, 0.21666666666666667]]\n",
      "[1, 3, [1.7833333333333334, 2.0, 0.36666666666666664]]\n",
      "[1, 3, [1.3, 2.0, 2.3333333333333335]]\n",
      "[1, 3, [1.4333333333333333, 1.1, 0.8666666666666667]]\n",
      "[1, 3, [1.1333333333333333, 1.9833333333333334, 2.65]]\n",
      "[1, 3, [1.8, 1.4333333333333333, 0.5666666666666667]]\n",
      "[1, 4, [1.55, 2.55, 0.45, 1.65]]\n",
      "[1, 3, [1.65, 2.2666666666666666, 2.7666666666666666]]\n",
      "[1, 3, [1.3666666666666667, 0.5666666666666667, 1.3666666666666667]]\n",
      "[1, 3, [1.8333333333333333, 2.8, 2.6666666666666665]]\n",
      "[1, 4, [1.1166666666666667, 0.43333333333333335, 0.7166666666666667, 2.4166666666666665]]\n",
      "[1, 4, [1.7, 1.2, 1.2166666666666666, 0.85]]\n",
      "[1, 3, [1.7, 0.8333333333333334, 0.8666666666666667]]\n",
      "[1, 3, [1.85, 1.9666666666666666, 1.0666666666666667]]\n",
      "[1, 4, [1.85, 2.5833333333333335, 2.8666666666666667, 1.6833333333333333]]\n",
      "[1, 3, [1.8666666666666667, 0.9666666666666667, 0.5666666666666667]]\n",
      "[1, 3, [1.7833333333333334, 0.7333333333333333, 1.4833333333333334]]\n",
      "[1, 3, [1.2, 2.816666666666667, 1.55]]\n",
      "[1, 3, [1.1833333333333333, 1.8666666666666667, 1.35]]\n",
      "[1, 3, [1.0666666666666667, 2.2666666666666666, 1.55]]\n",
      "[1, 4, [1.2833333333333334, 2.3, 2.816666666666667, 0.9]]\n",
      "[1, 3, [1.2833333333333334, 2.5833333333333335, 1.7666666666666666]]\n",
      "[1, 3, [1.6333333333333333, 2.3666666666666667, 1.1]]\n",
      "[1, 3, [1.6333333333333333, 1.1833333333333333, 1.6833333333333333]]\n",
      "[1, 4, [1.35, 0.55, 0.9, 2.716666666666667]]\n",
      "[1, 3, [1.2833333333333334, 0.4, 1.0166666666666666]]\n",
      "[1, 5, [1.9, 0.4166666666666667, 2.95, 2.8, 2.8666666666666667]]\n",
      "[1, 3, [1.3166666666666667, 1.9, 1.7]]\n",
      "[1, 3, [1.0166666666666666, 0.7666666666666667, 1.0833333333333333]]\n",
      "[1, 3, [1.7166666666666666, 0.5333333333333333, 2.2666666666666666]]\n",
      "[1, 3, [1.5333333333333334, 2.7333333333333334, 1.2833333333333334]]\n",
      "[1, 3, [1.7166666666666666, 2.1333333333333333, 0.6666666666666666]]\n",
      "[1, 3, [1.0166666666666666, 1.5, 2.966666666666667]]\n",
      "[1, 4, [1.0, 2.3, 1.7666666666666666, 0.6]]\n",
      "[1, 3, [1.7166666666666666, 2.9166666666666665, 0.6833333333333333]]\n",
      "[1, 3, [1.45, 1.9833333333333334, 0.7833333333333333]]\n",
      "[1, 3, [1.4333333333333333, 2.35, 2.066666666666667]]\n",
      "[1, 3, [1.2666666666666666, 0.4, 2.033333333333333]]\n",
      "[1, 3, [1.9666666666666666, 2.9, 2.783333333333333]]\n",
      "[1, 3, [1.3333333333333333, 0.6833333333333333, 2.1666666666666665]]\n",
      "[1, 3, [1.9666666666666666, 2.6333333333333333, 1.1166666666666667]]\n",
      "[1, 3, [1.6666666666666667, 1.0166666666666666, 0.2833333333333333]]\n",
      "[1, 3, [1.3166666666666667, 1.45, 2.3666666666666667]]\n",
      "[1, 3, [1.3166666666666667, 1.2833333333333334, 1.5166666666666666]]\n",
      "[1, 3, [1.2833333333333334, 1.2833333333333334, 0.8833333333333333]]\n",
      "[1, 4, [1.0, 2.35, 2.4833333333333334, 1.9166666666666667]]\n",
      "[1, 3, [1.6, 0.6, 0.8]]\n",
      "[1, 3, [1.4333333333333333, 0.18333333333333332, 0.16666666666666666]]\n",
      "[1, 3, [1.4333333333333333, 1.1666666666666667, 0.21666666666666667]]\n",
      "[1, 3, [1.0333333333333334, 1.6666666666666667, 1.9333333333333333]]\n",
      "[1, 4, [1.1166666666666667, 2.4166666666666665, 0.9833333333333333, 0.2833333333333333]]\n",
      "[1, 3, [1.8833333333333333, 0.48333333333333334, 0.9]]\n",
      "[1, 3, [1.85, 0.8833333333333333, 0.4666666666666667]]\n",
      "[1, 4, [1.7833333333333334, 1.95, 1.1833333333333333, 2.25]]\n",
      "[1, 3, [1.9333333333333333, 1.5666666666666667, 1.9166666666666667]]\n",
      "[1, 3, [1.05, 2.716666666666667, 1.3333333333333333]]\n",
      "[1, 3, [1.0, 2.4833333333333334, 1.5833333333333333]]\n",
      "[1, 4, [1.9166666666666667, 2.1666666666666665, 1.5166666666666666, 2.9833333333333334]]\n",
      "[1, 3, [1.6666666666666667, 2.7333333333333334, 1.55]]\n",
      "[1, 3, [1.15, 1.5833333333333333, 1.95]]\n",
      "[1, 3, [1.6166666666666667, 1.4833333333333334, 1.55]]\n",
      "[1, 3, [1.8333333333333333, 0.4666666666666667, 1.3666666666666667]]\n",
      "[1, 3, [1.7666666666666666, 1.8, 0.6833333333333333]]\n",
      "[1, 3, [1.8166666666666667, 0.9666666666666667, 0.6]]\n",
      "[1, 3, [1.2, 1.65, 1.5]]\n",
      "[1, 3, [1.6833333333333333, 1.6166666666666667, 0.6666666666666666]]\n",
      "[1, 3, [1.25, 0.2833333333333333, 0.9166666666666666]]\n",
      "[1, 3, [1.3333333333333333, 1.4666666666666666, 1.2]]\n",
      "[1, 3, [1.6666666666666667, 2.5, 2.966666666666667]]\n",
      "[1, 3, [1.45, 1.0166666666666666, 1.9166666666666667]]\n",
      "[1, 6, [1.6166666666666667, 0.1, 1.75, 0.26666666666666666, 0.13333333333333333, 1.7833333333333334]]\n",
      "[1, 3, [1.55, 0.9666666666666667, 2.9]]\n",
      "[1, 3, [1.9333333333333333, 2.3, 0.5166666666666667]]\n",
      "[1, 3, [1.1, 2.9833333333333334, 2.8]]\n",
      "[1, 3, [1.6333333333333333, 1.7333333333333334, 2.816666666666667]]\n",
      "[1, 3, [1.5333333333333334, 1.7166666666666666, 0.13333333333333333]]\n",
      "[1, 3, [1.2166666666666666, 0.7666666666666667, 2.75]]\n",
      "[1, 4, [1.2666666666666666, 0.6166666666666667, 2.1, 2.1666666666666665]]\n",
      "[1, 6, [1.3, 2.066666666666667, 1.3166666666666667, 2.783333333333333, 0.95, 1.7833333333333334]]\n",
      "[1, 3, [1.3833333333333333, 0.85, 2.933333333333333]]\n",
      "[1, 3, [1.8166666666666667, 1.4666666666666666, 1.8833333333333333]]\n",
      "[1, 3, [1.9333333333333333, 1.3833333333333333, 2.5]]\n",
      "[1, 3, [1.9, 1.9166666666666667, 0.06666666666666667]]\n",
      "[1, 3, [1.3, 1.8166666666666667, 0.25]]\n",
      "[1, 6, [1.1, 2.75, 2.7333333333333334, 0.13333333333333333, 2.8, 0.5833333333333334]]\n",
      "[1, 3, [1.7, 1.75, 1.0833333333333333]]\n",
      "[1, 9, [1.5166666666666666, 1.1, 2.433333333333333, 1.4666666666666666, 0.4166666666666667, 1.1166666666666667, 2.566666666666667, 2.95, 1.35]]\n",
      "[1, 3, [1.0166666666666666, 2.4, 2.3333333333333335]]\n",
      "[1, 3, [1.1833333333333333, 2.7333333333333334, 0.4]]\n",
      "[1, 4, [1.5833333333333333, 2.4833333333333334, 2.65, 2.9833333333333334]]\n",
      "[1, 3, [1.5166666666666666, 1.9833333333333334, 0.23333333333333334]]\n",
      "[1, 3, [1.0666666666666667, 1.2666666666666666, 1.35]]\n",
      "[1, 4, [1.2166666666666666, 2.7666666666666666, 0.3, 1.2]]\n",
      "[1, 3, [1.2, 1.5333333333333334, 2.2333333333333334]]\n",
      "[1, 3, [1.1, 0.7166666666666667, 2.5833333333333335]]\n",
      "[1, 3, [1.5666666666666667, 0.9, 2.3333333333333335]]\n",
      "[1, 3, [1.8333333333333333, 1.0333333333333334, 1.2833333333333334]]\n",
      "[1, 3, [1.1166666666666667, 2.6166666666666667, 1.3833333333333333]]\n",
      "[1, 3, [1.7166666666666666, 2.85, 1.6]]\n",
      "[1, 4, [1.05, 1.1166666666666667, 0.6666666666666666, 0.9666666666666667]]\n",
      "[1, 3, [1.05, 1.1, 2.5]]\n",
      "[1, 4, [1.1666666666666667, 0.7, 0.7166666666666667, 0.31666666666666665]]\n",
      "[1, 3, [1.6833333333333333, 2.55, 2.533333333333333]]\n",
      "[1, 3, [1.8166666666666667, 0.5666666666666667, 1.55]]\n",
      "[1, 4, [1.8166666666666667, 0.03333333333333333, 2.066666666666667, 2.783333333333333]]\n",
      "[1, 3, [1.2333333333333334, 2.1333333333333333, 2.966666666666667]]\n",
      "[1, 4, [1.7833333333333334, 0.9833333333333333, 0.7666666666666667, 1.7333333333333334]]\n",
      "[1, 5, [1.35, 2.15, 0.9666666666666667, 2.9833333333333334, 1.9166666666666667]]\n",
      "[1, 3, [1.4, 2.033333333333333, 1.8166666666666667]]\n",
      "[1, 3, [1.3833333333333333, 0.9, 0.65]]\n",
      "[1, 4, [1.3833333333333333, 0.48333333333333334, 1.7666666666666666, 0.35]]\n",
      "[1, 3, [1.25, 2.4166666666666665, 0.8166666666666667]]\n",
      "[1, 3, [1.4166666666666667, 2.5166666666666666, 1.5666666666666667]]\n",
      "[1, 3, [1.1333333333333333, 0.21666666666666667, 0.35]]\n",
      "[1, 4, [1.4, 0.9666666666666667, 0.43333333333333335, 2.283333333333333]]\n",
      "[1, 3, [1.7166666666666666, 2.8666666666666667, 1.0666666666666667]]\n",
      "[1, 4, [1.1166666666666667, 2.5833333333333335, 0.9833333333333333, 0.9333333333333333]]\n",
      "[1, 4, [1.75, 0.2833333333333333, 2.3666666666666667, 1.55]]\n",
      "[1, 3, [1.6333333333333333, 0.8, 2.7666666666666666]]\n",
      "[1, 3, [1.5, 1.85, 0.8666666666666667]]\n",
      "[1, 4, [1.8166666666666667, 2.5, 0.7166666666666667, 2.9]]\n",
      "[1, 3, [1.6, 2.8, 2.5833333333333335]]\n",
      "[1, 4, [1.8, 2.55, 2.1166666666666667, 1.5]]\n",
      "[1, 3, [1.6833333333333333, 2.966666666666667, 0.6166666666666667]]\n",
      "[1, 3, [1.9833333333333334, 0.2, 2.3833333333333333]]\n",
      "[1, 3, [1.2, 2.216666666666667, 1.2333333333333334]]\n",
      "[1, 3, [1.25, 1.4, 0.4666666666666667]]\n",
      "[1, 3, [1.2833333333333334, 1.0, 2.4833333333333334]]\n",
      "[1, 5, [1.4833333333333334, 1.55, 0.35, 2.5, 0.8833333333333333]]\n",
      "[1, 3, [1.0833333333333333, 1.7, 1.6166666666666667]]\n",
      "[1, 5, [1.7166666666666666, 2.466666666666667, 0.8333333333333334, 0.6833333333333333, 0.26666666666666666]]\n",
      "[1, 3, [1.2, 2.2, 1.0166666666666666]]\n",
      "[1, 3, [1.6833333333333333, 0.18333333333333332, 2.966666666666667]]\n",
      "[1, 5, [1.5333333333333334, 2.15, 1.1666666666666667, 2.216666666666667, 1.3166666666666667]]\n",
      "[1, 3, [1.45, 0.45, 0.6833333333333333]]\n",
      "[1, 3, [1.1333333333333333, 1.9333333333333333, 1.75]]\n",
      "[1, 3, [1.2833333333333334, 0.9666666666666667, 2.25]]\n",
      "[1, 3, [1.8833333333333333, 1.7666666666666666, 1.1166666666666667]]\n",
      "[1, 3, [1.9333333333333333, 2.783333333333333, 0.9666666666666667]]\n",
      "[1, 3, [1.2333333333333334, 1.4166666666666667, 2.316666666666667]]\n",
      "[1, 3, [1.2833333333333334, 2.0833333333333335, 1.4833333333333334]]\n",
      "[1, 3, [1.8333333333333333, 1.3, 2.216666666666667]]\n",
      "[1, 3, [1.7666666666666666, 1.3833333333333333, 2.5]]\n",
      "[1, 3, [1.5666666666666667, 2.6, 1.7333333333333334]]\n",
      "[1, 3, [1.9833333333333334, 1.8333333333333333, 2.216666666666667]]\n",
      "[1, 3, [1.6333333333333333, 0.8833333333333333, 2.466666666666667]]\n",
      "[1, 4, [1.15, 1.5, 2.2666666666666666, 1.15]]\n",
      "[1, 4, [1.2833333333333334, 0.9166666666666666, 0.8833333333333333, 0.9666666666666667]]\n",
      "[1, 3, [1.5, 1.9166666666666667, 2.7]]\n",
      "[1, 3, [1.3166666666666667, 0.85, 0.65]]\n",
      "[1, 3, [1.8333333333333333, 2.966666666666667, 2.566666666666667]]\n",
      "[1, 3, [1.6666666666666667, 2.683333333333333, 0.7333333333333333]]\n",
      "[1, 3, [1.1333333333333333, 2.8, 2.5]]\n",
      "[1, 3, [1.6166666666666667, 2.433333333333333, 1.05]]\n",
      "[1, 3, [1.4333333333333333, 0.8333333333333334, 2.1333333333333333]]\n",
      "[1, 3, [1.8, 2.1, 2.216666666666667]]\n",
      "[1, 3, [1.8, 2.8833333333333333, 1.2666666666666666]]\n",
      "[1, 3, [1.75, 1.2, 2.9166666666666665]]\n",
      "[1, 4, [1.35, 1.7833333333333334, 1.8166666666666667, 0.16666666666666666]]\n",
      "[1, 3, [1.05, 0.18333333333333332, 2.3333333333333335]]\n",
      "[1, 3, [1.5666666666666667, 1.1, 1.8333333333333333]]\n",
      "[1, 3, [1.9333333333333333, 2.6666666666666665, 2.7333333333333334]]\n",
      "[1, 4, [1.2, 0.16666666666666666, 0.95, 0.6333333333333333]]\n",
      "[1, 4, [1.45, 1.8666666666666667, 0.8833333333333333, 1.6]]\n",
      "[1, 4, [1.8833333333333333, 1.2166666666666666, 2.216666666666667, 0.35]]\n",
      "[1, 3, [1.9666666666666666, 2.55, 0.8833333333333333]]\n",
      "[1, 3, [1.35, 1.1, 0.9666666666666667]]\n",
      "[1, 3, [1.15, 0.23333333333333334, 1.9166666666666667]]\n",
      "[1, 3, [1.95, 2.0, 2.0833333333333335]]\n",
      "[1, 3, [1.1166666666666667, 1.35, 2.0833333333333335]]\n",
      "[1, 3, [1.25, 1.6, 2.7666666666666666]]\n",
      "[1, 3, [1.3333333333333333, 1.6166666666666667, 1.4]]\n",
      "[1, 4, [1.3, 2.9, 1.7166666666666666, 0.43333333333333335]]\n",
      "[1, 3, [1.8333333333333333, 1.2833333333333334, 2.6166666666666667]]\n",
      "[1, 3, [1.0166666666666666, 1.2666666666666666, 1.3333333333333333]]\n",
      "[1, 4, [1.4666666666666666, 1.3833333333333333, 2.6333333333333333, 1.9333333333333333]]\n",
      "[1, 3, [1.65, 0.03333333333333333, 2.033333333333333]]\n",
      "[1, 3, [1.1833333333333333, 1.1166666666666667, 0.15]]\n",
      "[1, 3, [1.9666666666666666, 2.1333333333333333, 2.5]]\n",
      "[1, 3, [1.8, 1.05, 2.183333333333333]]\n",
      "[1, 3, [1.8, 2.95, 0.15]]\n",
      "[1, 3, [1.6166666666666667, 2.6333333333333333, 2.55]]\n",
      "[1, 4, [1.5833333333333333, 2.9, 1.55, 0.9666666666666667]]\n",
      "[1, 4, [1.3666666666666667, 0.8166666666666667, 1.05, 1.4833333333333334]]\n",
      "[1, 5, [1.2, 0.2833333333333333, 1.5166666666666666, 2.6, 1.3333333333333333]]\n",
      "[1, 3, [1.8333333333333333, 2.2, 2.9166666666666665]]\n",
      "[1, 3, [1.1666666666666667, 1.7, 2.5]]\n",
      "[1, 3, [1.1833333333333333, 2.716666666666667, 0.8]]\n",
      "[1, 3, [1.5166666666666666, 0.8, 2.6666666666666665]]\n",
      "[1, 3, [1.9666666666666666, 0.5833333333333334, 0.48333333333333334]]\n",
      "[1, 3, [1.4166666666666667, 1.8, 2.9166666666666665]]\n",
      "[1, 3, [1.6166666666666667, 0.7333333333333333, 2.9]]\n",
      "[1, 3, [1.3666666666666667, 1.55, 2.8833333333333333]]\n",
      "[1, 3, [1.3666666666666667, 1.25, 1.3833333333333333]]\n",
      "[1, 3, [1.5, 1.55, 2.4]]\n",
      "[1, 3, [1.9333333333333333, 2.716666666666667, 2.566666666666667]]\n",
      "[1, 6, [1.7333333333333334, 2.6666666666666665, 2.0166666666666666, 2.1333333333333333, 2.55, 0.4666666666666667]]\n",
      "[1, 3, [1.7666666666666666, 1.6166666666666667, 1.1833333333333333]]\n",
      "[1, 3, [1.3166666666666667, 0.31666666666666665, 2.8]]\n",
      "[1, 3, [1.6333333333333333, 1.8, 0.8]]\n",
      "[1, 4, [1.5166666666666666, 2.95, 1.45, 2.466666666666667]]\n",
      "[1, 3, [1.2166666666666666, 2.433333333333333, 0.6833333333333333]]\n",
      "[1, 3, [1.5166666666666666, 1.4666666666666666, 2.183333333333333]]\n",
      "[1, 3, [1.35, 0.31666666666666665, 1.35]]\n",
      "[1, 3, [1.5333333333333334, 1.0166666666666666, 2.6166666666666667]]\n",
      "[1, 4, [1.3333333333333333, 1.3333333333333333, 0.1, 1.7333333333333334]]\n",
      "[1, 3, [1.2333333333333334, 2.3, 2.0166666666666666]]\n",
      "[1, 3, [1.3833333333333333, 0.7666666666666667, 2.35]]\n",
      "[1, 3, [1.0, 2.4833333333333334, 1.8333333333333333]]\n",
      "[1, 3, [1.1166666666666667, 1.3, 1.5333333333333334]]\n",
      "[1, 3, [1.4666666666666666, 0.6333333333333333, 2.933333333333333]]\n",
      "[1, 3, [1.3833333333333333, 0.85, 2.9166666666666665]]\n",
      "[1, 3, [1.1666666666666667, 1.6833333333333333, 1.5833333333333333]]\n",
      "[1, 3, [1.1, 0.9166666666666666, 1.6]]\n",
      "[1, 4, [1.2333333333333334, 1.5, 2.35, 2.9166666666666665]]\n",
      "[1, 3, [1.85, 1.9166666666666667, 1.2666666666666666]]\n",
      "[1, 3, [1.0333333333333334, 0.7833333333333333, 2.2666666666666666]]\n",
      "[1, 3, [1.05, 2.783333333333333, 2.2666666666666666]]\n",
      "[1, 4, [1.4666666666666666, 1.6833333333333333, 1.3666666666666667, 0.08333333333333333]]\n",
      "[1, 6, [1.7, 1.4833333333333334, 1.7833333333333334, 0.6666666666666666, 1.6333333333333333, 2.466666666666667]]\n",
      "[1, 3, [1.6833333333333333, 0.7333333333333333, 2.75]]\n",
      "[1, 3, [1.2833333333333334, 1.8833333333333333, 1.4333333333333333]]\n",
      "[1, 3, [1.25, 0.35, 0.5]]\n",
      "[1, 3, [1.8666666666666667, 1.7, 1.5166666666666666]]\n",
      "[1, 3, [1.9, 0.05, 0.5166666666666667]]\n",
      "[1, 3, [1.2333333333333334, 0.4166666666666667, 2.5833333333333335]]\n",
      "[1, 3, [1.6666666666666667, 1.2, 2.316666666666667]]\n",
      "[1, 3, [1.9, 0.5833333333333334, 2.9]]\n",
      "[1, 4, [1.05, 0.5666666666666667, 0.3333333333333333, 2.8]]\n",
      "[1, 3, [1.3333333333333333, 2.15, 0.7833333333333333]]\n",
      "[1, 3, [1.05, 0.6833333333333333, 2.7]]\n",
      "[1, 4, [1.1, 0.9166666666666666, 0.85, 0.5166666666666667]]\n",
      "[1, 3, [1.6, 1.05, 0.4166666666666667]]\n",
      "[1, 3, [1.05, 2.4833333333333334, 0.65]]\n",
      "[1, 5, [1.7, 2.2333333333333334, 2.033333333333333, 2.95, 0.85]]\n",
      "[1, 3, [1.8666666666666667, 2.0, 2.5166666666666666]]\n",
      "[1, 3, [1.1333333333333333, 1.25, 2.4166666666666665]]\n",
      "[1, 5, [1.0, 2.2, 2.533333333333333, 2.65, 1.9166666666666667]]\n",
      "[1, 5, [1.8333333333333333, 0.4666666666666667, 1.9666666666666666, 2.4166666666666665, 0.7333333333333333]]\n",
      "[1, 3, [1.3666666666666667, 1.4, 2.0]]\n",
      "[1, 3, [1.1833333333333333, 1.2, 0.4]]\n",
      "[1, 3, [1.3666666666666667, 1.4166666666666667, 0.8833333333333333]]\n",
      "[1, 3, [1.0666666666666667, 1.8166666666666667, 0.95]]\n",
      "[1, 3, [1.75, 2.216666666666667, 1.2833333333333334]]\n",
      "[1, 4, [1.9833333333333334, 2.1666666666666665, 0.8, 0.6833333333333333]]\n",
      "[1, 3, [1.5833333333333333, 2.533333333333333, 1.1333333333333333]]\n",
      "[1, 3, [1.3, 2.183333333333333, 2.3666666666666667]]\n",
      "[1, 3, [1.6666666666666667, 2.6, 1.6666666666666667]]\n",
      "[1, 4, [1.8166666666666667, 1.35, 2.966666666666667, 2.65]]\n",
      "[1, 3, [1.7833333333333334, 0.8333333333333334, 2.4]]\n",
      "[1, 3, [1.1666666666666667, 1.9166666666666667, 1.7333333333333334]]\n",
      "[1, 3, [1.75, 1.2333333333333334, 0.6166666666666667]]\n",
      "[1, 3, [1.4333333333333333, 2.7, 1.9166666666666667]]\n",
      "[1, 3, [1.1666666666666667, 1.3666666666666667, 1.0833333333333333]]\n",
      "[1, 3, [1.7166666666666666, 2.316666666666667, 1.5166666666666666]]\n",
      "[1, 3, [1.2833333333333334, 1.15, 2.3666666666666667]]\n",
      "[1, 3, [1.75, 2.2, 2.6666666666666665]]\n",
      "[1, 3, [1.9666666666666666, 0.5, 1.7333333333333334]]\n",
      "[1, 3, [1.4833333333333334, 1.0833333333333333, 2.55]]\n",
      "[1, 3, [1.35, 1.5833333333333333, 0.5166666666666667]]\n",
      "[1, 4, [1.2833333333333334, 0.9666666666666667, 0.6166666666666667, 1.1]]\n",
      "[1, 3, [1.1833333333333333, 2.3333333333333335, 0.65]]\n",
      "[1, 6, [1.6333333333333333, 0.5333333333333333, 2.1333333333333333, 0.4166666666666667, 1.3, 1.6]]\n",
      "[1, 4, [1.7, 2.316666666666667, 1.25, 1.8666666666666667]]\n",
      "[1, 4, [1.9833333333333334, 1.9833333333333334, 1.5833333333333333, 2.25]]\n",
      "[1, 5, [1.85, 1.9166666666666667, 0.8666666666666667, 1.5, 0.7833333333333333]]\n",
      "[1, 4, [1.2666666666666666, 0.8333333333333334, 2.0, 0.6166666666666667]]\n",
      "[1, 3, [1.3166666666666667, 0.1, 2.05]]\n",
      "[1, 3, [1.8, 1.55, 1.1]]\n",
      "[1, 4, [1.8, 1.35, 0.7666666666666667, 1.3166666666666667]]\n",
      "[1, 3, [1.8, 1.45, 1.7166666666666666]]\n",
      "[1, 3, [1.8666666666666667, 0.2833333333333333, 2.816666666666667]]\n",
      "[1, 3, [1.3666666666666667, 1.7, 2.6333333333333333]]\n",
      "[1, 3, [1.1333333333333333, 1.8833333333333333, 1.5666666666666667]]\n",
      "[1, 4, [1.3833333333333333, 1.1833333333333333, 1.1, 1.7666666666666666]]\n",
      "[1, 3, [1.45, 2.2, 2.6333333333333333]]\n",
      "[1, 4, [1.05, 0.8, 0.5833333333333334, 2.6166666666666667]]\n",
      "[1, 3, [1.95, 0.9, 1.2]]\n",
      "[1, 3, [1.2833333333333334, 0.7166666666666667, 0.75]]\n",
      "[1, 3, [1.3166666666666667, 0.8666666666666667, 0.3]]\n",
      "[1, 4, [1.2666666666666666, 2.2666666666666666, 0.9666666666666667, 0.35]]\n",
      "[1, 4, [1.0, 0.25, 1.15, 0.3333333333333333]]\n",
      "[1, 3, [1.6, 1.3833333333333333, 2.9166666666666665]]\n",
      "[1, 3, [1.8333333333333333, 1.1833333333333333, 2.9833333333333334]]\n",
      "[1, 3, [1.1166666666666667, 0.7, 1.5833333333333333]]\n",
      "[1, 3, [1.9833333333333334, 1.5166666666666666, 0.31666666666666665]]\n",
      "[1, 3, [1.4166666666666667, 0.6166666666666667, 1.45]]\n",
      "[1, 3, [1.2666666666666666, 0.15, 1.5166666666666666]]\n",
      "[1, 3, [1.7, 0.3, 0.8833333333333333]]\n",
      "[1, 3, [1.8666666666666667, 2.7333333333333334, 1.7]]\n",
      "[1, 3, [1.65, 1.5333333333333334, 0.03333333333333333]]\n",
      "[1, 3, [1.7166666666666666, 1.3333333333333333, 0.9333333333333333]]\n",
      "[1, 3, [1.3833333333333333, 2.8833333333333333, 1.2]]\n",
      "[1, 3, [1.8666666666666667, 0.36666666666666664, 1.05]]\n",
      "[1, 3, [1.9666666666666666, 1.1666666666666667, 1.6]]\n",
      "[1, 4, [1.2333333333333334, 2.9166666666666665, 0.5166666666666667, 0.6666666666666666]]\n",
      "[1, 3, [1.2333333333333334, 1.5, 0.95]]\n",
      "[1, 3, [1.4166666666666667, 2.15, 1.8666666666666667]]\n",
      "[1, 4, [1.8166666666666667, 1.0, 1.35, 0.6]]\n",
      "[1, 3, [1.55, 0.55, 1.7333333333333334]]\n",
      "[1, 3, [1.8833333333333333, 2.216666666666667, 2.283333333333333]]\n",
      "[1, 3, [1.3333333333333333, 1.6166666666666667, 0.7]]\n",
      "[1, 4, [1.9833333333333334, 0.26666666666666666, 2.433333333333333, 1.55]]\n",
      "[1, 3, [1.0166666666666666, 1.05, 0.21666666666666667]]\n",
      "[1, 3, [1.1833333333333333, 1.45, 1.25]]\n",
      "[1, 3, [1.6166666666666667, 0.3333333333333333, 0.5166666666666667]]\n",
      "[1, 3, [1.3, 0.21666666666666667, 1.8666666666666667]]\n",
      "[1, 3, [1.0833333333333333, 1.3166666666666667, 1.3333333333333333]]\n",
      "[1, 5, [1.45, 2.216666666666667, 2.6166666666666667, 0.65, 2.05]]\n",
      "[1, 5, [1.0333333333333334, 0.38333333333333336, 0.6333333333333333, 0.9, 2.4]]\n",
      "[1, 3, [1.5666666666666667, 1.4833333333333334, 0.9166666666666666]]\n",
      "[1, 4, [1.1666666666666667, 2.5833333333333335, 1.15, 1.9833333333333334]]\n",
      "[1, 3, [1.8, 0.48333333333333334, 2.033333333333333]]\n",
      "[1, 3, [1.9333333333333333, 2.216666666666667, 2.933333333333333]]\n",
      "[1, 3, [1.45, 2.9833333333333334, 2.283333333333333]]\n",
      "[1, 3, [1.2333333333333334, 1.95, 2.6166666666666667]]\n",
      "[1, 5, [1.9833333333333334, 1.8, 2.566666666666667, 1.9, 1.8]]\n",
      "[1, 6, [1.15, 1.2166666666666666, 0.85, 2.3, 0.43333333333333335, 0.11666666666666667]]\n",
      "[1, 4, [1.5, 0.7166666666666667, 1.95, 1.95]]\n",
      "[1, 3, [1.3333333333333333, 0.5333333333333333, 2.45]]\n",
      "[1, 5, [1.6333333333333333, 2.316666666666667, 2.716666666666667, 2.2, 1.2833333333333334]]\n",
      "[1, 4, [1.3333333333333333, 2.35, 0.45, 2.033333333333333]]\n",
      "[1, 3, [1.9666666666666666, 2.0833333333333335, 2.8833333333333333]]\n",
      "[1, 4, [1.0833333333333333, 0.25, 1.7166666666666666, 1.4166666666666667]]\n",
      "[1, 3, [1.5166666666666666, 1.4833333333333334, 1.75]]\n",
      "[1, 3, [1.65, 0.75, 0.8833333333333333]]\n",
      "[1, 3, [1.8666666666666667, 0.6166666666666667, 2.8666666666666667]]\n",
      "[1, 3, [1.5, 1.45, 0.25]]\n",
      "[1, 4, [1.1666666666666667, 1.1666666666666667, 0.8166666666666667, 1.1333333333333333]]\n",
      "[1, 5, [1.65, 0.6166666666666667, 1.2666666666666666, 1.1, 1.8166666666666667]]\n",
      "[1, 3, [1.45, 1.4, 0.9333333333333333]]\n",
      "[1, 4, [1.4, 0.15, 1.6333333333333333, 0.5333333333333333]]\n",
      "[1, 3, [1.3166666666666667, 1.4833333333333334, 0.48333333333333334]]\n",
      "[1, 6, [1.8666666666666667, 2.45, 1.0, 0.016666666666666666, 2.95, 0.3333333333333333]]\n",
      "[1, 3, [1.35, 2.0166666666666666, 0.7833333333333333]]\n",
      "[1, 3, [1.2833333333333334, 0.7, 0.65]]\n",
      "[1, 3, [1.4333333333333333, 1.2333333333333334, 0.23333333333333334]]\n",
      "[1, 3, [1.15, 2.6666666666666665, 2.3]]\n",
      "[1, 3, [1.1333333333333333, 0.21666666666666667, 1.7833333333333334]]\n",
      "[1, 3, [1.55, 1.95, 1.7333333333333334]]\n",
      "[1, 4, [1.4666666666666666, 1.05, 2.8333333333333335, 1.5]]\n",
      "[1, 3, [1.7666666666666666, 0.26666666666666666, 1.95]]\n",
      "[1, 4, [1.8, 2.2333333333333334, 2.8666666666666667, 0.26666666666666666]]\n",
      "[1, 5, [1.35, 0.48333333333333334, 2.433333333333333, 2.65, 1.7833333333333334]]\n",
      "[1, 3, [1.4166666666666667, 2.566666666666667, 0.05]]\n",
      "[1, 4, [1.6666666666666667, 2.9166666666666665, 2.8333333333333335, 1.35]]\n",
      "[1, 3, [1.2166666666666666, 1.1166666666666667, 2.25]]\n",
      "[1, 3, [1.1333333333333333, 2.0, 0.6833333333333333]]\n",
      "[1, 5, [1.35, 1.05, 0.7, 0.6833333333333333, 0.2833333333333333]]\n",
      "[1, 3, [1.7, 1.5833333333333333, 0.6166666666666667]]\n",
      "[1, 3, [1.05, 1.55, 1.1]]\n",
      "[1, 4, [1.1833333333333333, 2.75, 1.8, 1.8]]\n",
      "[1, 7, [1.4333333333333333, 1.8666666666666667, 0.2833333333333333, 1.4, 0.48333333333333334, 1.5, 0.8333333333333334]]\n",
      "[1, 3, [1.2833333333333334, 2.1666666666666665, 2.5166666666666666]]\n",
      "[1, 3, [1.6, 2.533333333333333, 0.2]]\n",
      "[1, 3, [1.25, 2.566666666666667, 2.5166666666666666]]\n",
      "[1, 3, [1.7166666666666666, 0.25, 0.1]]\n",
      "[1, 5, [1.1166666666666667, 1.65, 1.0166666666666666, 1.85, 1.15]]\n",
      "[1, 3, [1.0, 1.8833333333333333, 1.0166666666666666]]\n",
      "[1, 3, [1.15, 2.5833333333333335, 1.8166666666666667]]\n",
      "[1, 6, [1.6, 2.2333333333333334, 0.6166666666666667, 2.8833333333333333, 0.8, 0.9333333333333333]]\n",
      "[1, 3, [1.6833333333333333, 1.3166666666666667, 0.5]]\n",
      "[1, 3, [1.0666666666666667, 1.2833333333333334, 0.7166666666666667]]\n",
      "[1, 3, [1.8333333333333333, 2.183333333333333, 0.65]]\n",
      "[1, 3, [1.5833333333333333, 2.85, 1.6833333333333333]]\n",
      "[1, 3, [1.3666666666666667, 1.5333333333333334, 2.433333333333333]]\n",
      "[1, 3, [1.7833333333333334, 2.533333333333333, 2.1333333333333333]]\n",
      "[1, 3, [1.05, 2.8666666666666667, 0.8166666666666667]]\n",
      "[1, 4, [1.8, 1.7666666666666666, 0.3, 1.45]]\n",
      "[1, 3, [1.0333333333333334, 2.2, 1.2166666666666666]]\n",
      "[1, 3, [1.35, 2.0833333333333335, 2.1666666666666665]]\n",
      "[1, 3, [1.9833333333333334, 0.9333333333333333, 1.3333333333333333]]\n",
      "[1, 4, [1.1666666666666667, 1.3666666666666667, 0.0, 2.4]]\n",
      "[1, 4, [1.45, 2.75, 0.23333333333333334, 0.7]]\n",
      "[1, 6, [1.9, 1.15, 2.816666666666667, 1.5166666666666666, 0.6166666666666667, 2.816666666666667]]\n",
      "[1, 3, [1.3166666666666667, 2.8333333333333335, 1.3666666666666667]]\n",
      "[1, 3, [1.2, 0.43333333333333335, 1.6166666666666667]]\n",
      "[1, 3, [1.5333333333333334, 1.6333333333333333, 0.95]]\n",
      "[1, 3, [1.5333333333333334, 0.31666666666666665, 1.0]]\n",
      "[1, 3, [1.6333333333333333, 0.2833333333333333, 2.45]]\n",
      "[1, 3, [1.5666666666666667, 0.6, 1.2666666666666666]]\n",
      "[1, 3, [1.6666666666666667, 1.4833333333333334, 2.95]]\n",
      "[1, 3, [1.3333333333333333, 1.3333333333333333, 2.6]]\n",
      "[1, 3, [1.5666666666666667, 2.066666666666667, 1.2833333333333334]]\n",
      "[1, 3, [1.5166666666666666, 1.7666666666666666, 0.7166666666666667]]\n",
      "[1, 3, [1.1666666666666667, 0.8833333333333333, 0.95]]\n",
      "[1, 3, [1.3166666666666667, 1.0333333333333334, 1.7166666666666666]]\n",
      "[1, 3, [1.3166666666666667, 1.4333333333333333, 2.55]]\n",
      "[1, 3, [1.4666666666666666, 1.7, 2.183333333333333]]\n",
      "[1, 4, [1.6333333333333333, 2.95, 1.7, 0.9666666666666667]]\n",
      "[1, 3, [1.35, 0.6666666666666666, 0.55]]\n",
      "[1, 4, [1.2, 1.6666666666666667, 2.7333333333333334, 1.0]]\n",
      "[1, 3, [1.3166666666666667, 1.45, 1.4833333333333334]]\n",
      "[1, 3, [1.8166666666666667, 1.9666666666666666, 2.2333333333333334]]\n",
      "[1, 3, [1.6666666666666667, 0.9833333333333333, 1.8333333333333333]]\n",
      "[1, 4, [1.85, 2.15, 0.15, 2.9]]\n",
      "[1, 5, [1.1333333333333333, 2.6, 2.816666666666667, 0.8666666666666667, 2.933333333333333]]\n",
      "[1, 4, [1.6, 2.5833333333333335, 2.25, 0.7833333333333333]]\n",
      "[1, 3, [1.75, 1.6166666666666667, 1.55]]\n",
      "[1, 7, [1.5, 2.3333333333333335, 1.1333333333333333, 2.35, 0.1, 0.5833333333333334, 1.7833333333333334]]\n",
      "[1, 3, [1.7166666666666666, 2.0, 2.8333333333333335]]\n",
      "[1, 3, [1.65, 1.0333333333333334, 2.5833333333333335]]\n",
      "[1, 3, [1.4666666666666666, 0.4166666666666667, 0.7833333333333333]]\n",
      "[1, 6, [1.25, 2.7333333333333334, 1.7666666666666666, 0.15, 0.6, 0.8833333333333333]]\n",
      "[1, 4, [1.75, 1.5, 0.35, 2.1]]\n",
      "[1, 4, [1.2166666666666666, 1.3, 0.3, 2.216666666666667]]\n",
      "[1, 3, [1.1166666666666667, 1.7333333333333334, 1.7333333333333334]]\n",
      "[1, 5, [1.4666666666666666, 2.0166666666666666, 0.2833333333333333, 1.05, 2.1666666666666665]]\n",
      "[1, 3, [1.55, 2.85, 0.9833333333333333]]\n",
      "[1, 4, [1.0833333333333333, 0.23333333333333334, 1.0333333333333334, 1.3833333333333333]]\n",
      "[1, 7, [1.6166666666666667, 0.26666666666666666, 1.0, 1.6666666666666667, 0.2, 1.85, 0.5666666666666667]]\n",
      "[1, 3, [1.05, 1.2333333333333334, 2.1]]\n",
      "[1, 3, [1.9, 0.18333333333333332, 0.55]]\n",
      "[1, 4, [1.2333333333333334, 0.9833333333333333, 1.9666666666666666, 0.03333333333333333]]\n",
      "[1, 5, [1.9166666666666667, 0.31666666666666665, 1.75, 2.45, 0.75]]\n",
      "[1, 3, [1.6333333333333333, 2.216666666666667, 1.9]]\n",
      "[1, 4, [1.3, 1.6833333333333333, 2.8333333333333335, 2.183333333333333]]\n",
      "[1, 3, [1.1666666666666667, 0.7, 1.6833333333333333]]\n",
      "[1, 3, [1.6166666666666667, 1.3333333333333333, 1.4666666666666666]]\n",
      "[1, 3, [1.8, 1.8833333333333333, 2.033333333333333]]\n",
      "[1, 4, [1.6, 0.6, 0.16666666666666666, 2.433333333333333]]\n",
      "[1, 3, [1.0166666666666666, 0.9333333333333333, 0.4666666666666667]]\n",
      "[1, 5, [1.6333333333333333, 1.5, 1.2833333333333334, 2.216666666666667, 1.4666666666666666]]\n",
      "[1, 6, [1.3166666666666667, 0.9, 0.9333333333333333, 1.9833333333333334, 2.3333333333333335, 2.716666666666667]]\n",
      "[1, 3, [1.7666666666666666, 1.4166666666666667, 0.9666666666666667]]\n",
      "[1, 3, [1.0333333333333334, 2.683333333333333, 2.5833333333333335]]\n",
      "[1, 3, [1.5166666666666666, 1.7166666666666666, 0.6166666666666667]]\n",
      "[1, 5, [1.5333333333333334, 0.55, 1.35, 2.183333333333333, 0.8833333333333333]]\n",
      "[1, 3, [1.9, 0.8, 1.5833333333333333]]\n",
      "[1, 3, [1.9333333333333333, 1.9166666666666667, 2.3833333333333333]]\n",
      "[1, 3, [1.05, 0.4, 1.4166666666666667]]\n",
      "[1, 3, [1.0333333333333334, 1.6, 0.25]]\n",
      "[1, 3, [1.15, 1.8333333333333333, 2.1666666666666665]]\n",
      "[1, 3, [1.4166666666666667, 2.6666666666666665, 0.9]]\n",
      "[1, 3, [1.9333333333333333, 1.7666666666666666, 1.0166666666666666]]\n",
      "[1, 3, [1.2833333333333334, 2.816666666666667, 2.7666666666666666]]\n",
      "[1, 4, [1.1, 0.7833333333333333, 1.7666666666666666, 1.0833333333333333]]\n",
      "[1, 3, [1.4, 2.283333333333333, 1.9833333333333334]]\n",
      "[1, 4, [1.6333333333333333, 1.65, 2.3, 2.8833333333333333]]\n",
      "[1, 3, [1.1166666666666667, 2.066666666666667, 2.1166666666666667]]\n",
      "[1, 4, [1.4166666666666667, 0.25, 1.2, 1.05]]\n",
      "[1, 3, [1.0166666666666666, 0.7, 1.6833333333333333]]\n",
      "[1, 3, [1.9166666666666667, 1.7833333333333334, 2.0]]\n",
      "[1, 3, [1.0833333333333333, 1.9333333333333333, 1.4666666666666666]]\n",
      "[1, 4, [1.2666666666666666, 1.6, 1.9666666666666666, 1.4333333333333333]]\n",
      "[1, 3, [1.9833333333333334, 0.8166666666666667, 0.7]]\n",
      "[1, 3, [1.0666666666666667, 2.1166666666666667, 1.4833333333333334]]\n",
      "[1, 3, [1.8, 2.95, 0.6333333333333333]]\n",
      "[1, 3, [1.15, 1.25, 1.1333333333333333]]\n",
      "[1, 3, [1.35, 0.5, 0.38333333333333336]]\n",
      "[1, 3, [1.95, 1.3666666666666667, 0.8666666666666667]]\n",
      "[1, 4, [1.05, 1.2333333333333334, 2.6, 1.3]]\n",
      "[1, 3, [1.1666666666666667, 1.85, 0.5833333333333334]]\n",
      "[1, 3, [1.1166666666666667, 0.9333333333333333, 1.4333333333333333]]\n",
      "[1, 3, [1.6666666666666667, 1.5666666666666667, 0.7166666666666667]]\n",
      "[1, 3, [1.2, 2.783333333333333, 0.6166666666666667]]\n",
      "[1, 4, [1.2833333333333334, 2.85, 1.0, 1.1833333333333333]]\n",
      "[1, 3, [1.8, 1.8166666666666667, 1.1333333333333333]]\n",
      "[1, 3, [1.4833333333333334, 0.8666666666666667, 0.1]]\n",
      "[1, 3, [1.0333333333333334, 1.8666666666666667, 2.5166666666666666]]\n",
      "[1, 3, [1.6666666666666667, 0.3, 0.7333333333333333]]\n",
      "[1, 3, [1.5333333333333334, 1.2666666666666666, 1.75]]\n",
      "[1, 4, [1.6833333333333333, 2.9, 0.16666666666666666, 1.95]]\n",
      "[1, 4, [1.8, 1.4166666666666667, 2.6166666666666667, 0.3333333333333333]]\n",
      "[1, 4, [1.25, 0.43333333333333335, 1.9, 2.5]]\n",
      "[1, 3, [1.15, 1.8166666666666667, 0.8166666666666667]]\n",
      "[1, 3, [1.9666666666666666, 1.0666666666666667, 2.0833333333333335]]\n",
      "[1, 6, [1.2833333333333334, 1.7333333333333334, 0.7, 2.566666666666667, 2.55, 1.8]]\n",
      "[1, 4, [1.5333333333333334, 1.25, 1.6833333333333333, 1.5833333333333333]]\n",
      "[1, 4, [1.1833333333333333, 2.05, 1.5833333333333333, 0.6333333333333333]]\n",
      "[1, 3, [1.4666666666666666, 0.4666666666666667, 2.216666666666667]]\n",
      "[1, 3, [1.0666666666666667, 0.6, 1.5166666666666666]]\n",
      "[1, 3, [1.75, 2.6166666666666667, 1.7166666666666666]]\n",
      "[1, 3, [1.5833333333333333, 2.3333333333333335, 2.7666666666666666]]\n",
      "[1, 6, [1.0333333333333334, 0.9666666666666667, 2.566666666666667, 1.2666666666666666, 1.7, 0.95]]\n",
      "[1, 3, [1.8166666666666667, 1.3333333333333333, 0.6333333333333333]]\n",
      "[1, 3, [1.3166666666666667, 0.8833333333333333, 0.5833333333333334]]\n",
      "[1, 3, [1.8, 0.7666666666666667, 2.9166666666666665]]\n",
      "[1, 4, [1.8666666666666667, 0.3333333333333333, 2.716666666666667, 0.23333333333333334]]\n",
      "[1, 3, [1.0166666666666666, 2.6, 1.1166666666666667]]\n",
      "[1, 5, [1.7833333333333334, 1.25, 2.15, 0.9, 2.4]]\n",
      "[1, 3, [1.9166666666666667, 0.45, 0.8833333333333333]]\n",
      "[1, 4, [1.8666666666666667, 0.6666666666666666, 2.3833333333333333, 1.8666666666666667]]\n",
      "[1, 4, [1.95, 1.2833333333333334, 0.6666666666666666, 1.6333333333333333]]\n",
      "[1, 3, [1.6833333333333333, 2.066666666666667, 2.216666666666667]]\n",
      "[1, 6, [1.8666666666666667, 2.6166666666666667, 1.2666666666666666, 2.566666666666667, 1.65, 1.7333333333333334]]\n",
      "[1, 3, [1.1166666666666667, 2.066666666666667, 1.8]]\n",
      "[1, 5, [1.5666666666666667, 1.9, 2.75, 1.4166666666666667, 0.9166666666666666]]\n",
      "[1, 3, [1.8666666666666667, 1.6666666666666667, 0.06666666666666667]]\n",
      "[1, 4, [1.4, 0.8, 2.45, 2.183333333333333]]\n",
      "[1, 3, [1.15, 0.5833333333333334, 1.1666666666666667]]\n",
      "[1, 3, [1.1166666666666667, 0.9, 2.433333333333333]]\n",
      "[1, 3, [1.3166666666666667, 0.9, 1.9666666666666666]]\n",
      "[1, 4, [1.05, 0.7166666666666667, 1.8833333333333333, 1.35]]\n",
      "[1, 4, [1.85, 2.2666666666666666, 2.683333333333333, 2.95]]\n",
      "[1, 3, [1.0666666666666667, 1.6, 2.966666666666667]]\n",
      "[1, 4, [1.0, 1.0833333333333333, 0.3333333333333333, 2.783333333333333]]\n",
      "[1, 3, [1.5166666666666666, 0.6666666666666666, 2.5]]\n",
      "[1, 4, [1.05, 1.0333333333333334, 1.9833333333333334, 2.316666666666667]]\n",
      "[1, 3, [1.9333333333333333, 1.25, 0.2]]\n",
      "[1, 3, [1.4666666666666666, 2.45, 0.5]]\n",
      "[1, 3, [1.9666666666666666, 2.6333333333333333, 2.4]]\n",
      "[1, 4, [1.4166666666666667, 0.7833333333333333, 2.966666666666667, 2.1333333333333333]]\n",
      "[1, 3, [1.9666666666666666, 1.7166666666666666, 2.066666666666667]]\n",
      "[1, 3, [1.0666666666666667, 1.45, 0.8666666666666667]]\n",
      "[1, 3, [1.8333333333333333, 2.7333333333333334, 1.75]]\n",
      "[1, 4, [1.6333333333333333, 2.3, 1.15, 0.7666666666666667]]\n",
      "[1, 4, [1.45, 1.0666666666666667, 2.85, 0.26666666666666666]]\n",
      "[1, 3, [1.5166666666666666, 0.16666666666666666, 2.2]]\n",
      "[1, 3, [1.8, 2.8333333333333335, 1.9833333333333334]]\n",
      "[1, 5, [1.5166666666666666, 2.3833333333333333, 1.4333333333333333, 1.4333333333333333, 2.8333333333333335]]\n",
      "[1, 3, [1.85, 2.3, 1.6]]\n",
      "[1, 3, [1.1333333333333333, 0.36666666666666664, 0.9666666666666667]]\n",
      "[1, 3, [1.7666666666666666, 0.9666666666666667, 1.4166666666666667]]\n",
      "[1, 3, [1.1833333333333333, 0.4, 1.1166666666666667]]\n",
      "[1, 3, [1.25, 0.6833333333333333, 0.25]]\n",
      "[1, 4, [1.8666666666666667, 1.15, 0.31666666666666665, 0.7666666666666667]]\n",
      "[1, 3, [1.5333333333333334, 0.65, 1.4833333333333334]]\n",
      "[1, 3, [1.8333333333333333, 2.75, 1.65]]\n",
      "[1, 3, [1.05, 0.6333333333333333, 2.033333333333333]]\n",
      "[1, 3, [1.45, 2.1333333333333333, 0.5]]\n",
      "[1, 5, [1.3, 2.9833333333333334, 0.7166666666666667, 1.2, 1.2833333333333334]]\n",
      "[1, 4, [1.1333333333333333, 1.1333333333333333, 1.8, 0.8666666666666667]]\n",
      "[1, 3, [1.2833333333333334, 2.033333333333333, 0.45]]\n",
      "[1, 5, [1.1, 1.55, 2.7666666666666666, 0.3333333333333333, 1.6333333333333333]]\n",
      "[1, 4, [1.6833333333333333, 2.3333333333333335, 0.6333333333333333, 1.9333333333333333]]\n",
      "[1, 4, [1.25, 2.433333333333333, 0.3, 0.13333333333333333]]\n",
      "[1, 3, [1.75, 1.6166666666666667, 0.9833333333333333]]\n",
      "[1, 4, [1.9833333333333334, 0.7666666666666667, 1.2666666666666666, 2.95]]\n",
      "[1, 3, [1.1833333333333333, 2.45, 1.5833333333333333]]\n",
      "[1, 3, [1.7166666666666666, 0.08333333333333333, 1.7]]\n",
      "[1, 3, [1.0, 2.216666666666667, 2.9]]\n",
      "[1, 3, [1.2666666666666666, 2.05, 2.3833333333333333]]\n",
      "[1, 4, [1.0, 1.8166666666666667, 1.7166666666666666, 1.2166666666666666]]\n",
      "[1, 4, [1.5166666666666666, 0.6666666666666666, 0.15, 0.11666666666666667]]\n",
      "[1, 4, [1.7333333333333334, 2.05, 1.1166666666666667, 0.23333333333333334]]\n",
      "[1, 3, [1.6833333333333333, 1.85, 0.45]]\n",
      "[1, 3, [1.9833333333333334, 2.15, 1.2166666666666666]]\n",
      "[1, 3, [1.7833333333333334, 0.13333333333333333, 1.2166666666666666]]\n",
      "[1, 3, [1.5166666666666666, 0.016666666666666666, 0.7833333333333333]]\n",
      "[1, 6, [1.2333333333333334, 2.05, 2.85, 1.8833333333333333, 0.38333333333333336, 0.9333333333333333]]\n",
      "[1, 3, [1.4833333333333334, 0.7833333333333333, 0.16666666666666666]]\n",
      "[1, 3, [1.7166666666666666, 2.683333333333333, 1.1]]\n",
      "[1, 4, [1.3, 2.7, 0.11666666666666667, 0.4]]\n",
      "[1, 3, [1.8833333333333333, 0.9166666666666666, 1.0166666666666666]]\n",
      "[1, 4, [1.7833333333333334, 1.0166666666666666, 0.43333333333333335, 1.2]]\n",
      "[1, 3, [1.9833333333333334, 2.45, 0.9666666666666667]]\n",
      "[1, 3, [1.1833333333333333, 2.9166666666666665, 0.15]]\n",
      "[1, 3, [1.9, 0.4666666666666667, 2.1166666666666667]]\n",
      "[1, 3, [1.25, 1.3333333333333333, 1.4166666666666667]]\n",
      "[1, 4, [1.1666666666666667, 0.5166666666666667, 0.16666666666666666, 0.5]]\n",
      "[1, 3, [1.2, 0.5166666666666667, 0.4166666666666667]]\n",
      "[1, 6, [1.1666666666666667, 1.8333333333333333, 0.31666666666666665, 0.4666666666666667, 0.7833333333333333, 1.25]]\n",
      "[1, 3, [1.95, 0.35, 2.6166666666666667]]\n",
      "[1, 3, [1.9666666666666666, 1.3833333333333333, 2.533333333333333]]\n",
      "[1, 3, [1.3666666666666667, 2.65, 0.23333333333333334]]\n",
      "[1, 3, [1.5166666666666666, 1.55, 2.2333333333333334]]\n",
      "[1, 6, [1.6666666666666667, 0.11666666666666667, 0.8166666666666667, 0.5666666666666667, 1.0166666666666666, 1.6333333333333333]]\n",
      "[1, 3, [1.9666666666666666, 0.4666666666666667, 0.35]]\n",
      "[1, 4, [1.95, 1.5, 0.95, 1.85]]\n",
      "[1, 5, [1.4, 0.7, 1.85, 0.7666666666666667, 2.15]]\n",
      "[1, 3, [1.1, 2.3333333333333335, 1.5166666666666666]]\n",
      "[1, 3, [1.5333333333333334, 1.5, 1.5333333333333334]]\n",
      "[1, 4, [1.8, 0.3333333333333333, 0.8666666666666667, 1.9166666666666667]]\n",
      "[1, 4, [1.2666666666666666, 0.65, 2.1, 2.3]]\n",
      "[1, 3, [1.75, 2.216666666666667, 2.4833333333333334]]\n",
      "[1, 4, [1.3166666666666667, 2.3333333333333335, 2.466666666666667, 1.9666666666666666]]\n",
      "[1, 3, [1.2166666666666666, 1.4666666666666666, 2.183333333333333]]\n",
      "[1, 3, [1.05, 0.6166666666666667, 1.7666666666666666]]\n",
      "[1, 3, [1.2, 2.35, 0.18333333333333332]]\n",
      "[1, 4, [1.85, 0.21666666666666667, 2.966666666666667, 2.6166666666666667]]\n",
      "[1, 3, [1.1833333333333333, 1.75, 0.9333333333333333]]\n",
      "[1, 3, [1.4, 2.2666666666666666, 2.816666666666667]]\n",
      "[1, 5, [1.6166666666666667, 1.4833333333333334, 0.7, 1.4, 1.55]]\n",
      "[1, 3, [1.2, 2.55, 2.8833333333333333]]\n",
      "[1, 3, [1.2333333333333334, 2.35, 0.18333333333333332]]\n",
      "[1, 4, [1.1833333333333333, 0.6833333333333333, 1.2833333333333334, 2.5166666666666666]]\n",
      "[1, 3, [1.3166666666666667, 0.9, 0.3]]\n",
      "[1, 3, [1.6666666666666667, 1.8, 2.033333333333333]]\n",
      "[1, 3, [1.6666666666666667, 1.1333333333333333, 1.1666666666666667]]\n",
      "[1, 4, [1.3666666666666667, 1.1, 0.85, 0.03333333333333333]]\n",
      "[1, 4, [1.5333333333333334, 0.016666666666666666, 1.3666666666666667, 2.6]]\n",
      "[1, 3, [1.2333333333333334, 2.35, 2.066666666666667]]\n",
      "[1, 3, [1.6166666666666667, 1.7166666666666666, 2.566666666666667]]\n",
      "[1, 3, [1.5333333333333334, 2.6166666666666667, 2.7333333333333334]]\n",
      "[1, 3, [1.1, 0.25, 2.45]]\n",
      "[1, 4, [1.5833333333333333, 2.15, 1.5333333333333334, 1.0166666666666666]]\n",
      "[1, 3, [1.7166666666666666, 2.8833333333333333, 0.3333333333333333]]\n",
      "[1, 4, [1.0, 2.966666666666667, 1.7833333333333334, 0.13333333333333333]]\n",
      "[1, 3, [1.3, 0.13333333333333333, 0.9333333333333333]]\n",
      "[1, 3, [1.5666666666666667, 0.9333333333333333, 2.5833333333333335]]\n",
      "[1, 3, [1.8333333333333333, 2.8666666666666667, 0.5166666666666667]]\n",
      "[1, 3, [1.75, 1.2833333333333334, 1.0]]\n",
      "[1, 7, [1.5, 2.8333333333333335, 1.2, 1.25, 1.4666666666666666, 0.65, 2.4166666666666665]]\n",
      "[1, 5, [1.1833333333333333, 0.45, 0.16666666666666666, 0.5666666666666667, 1.75]]\n",
      "[1, 3, [1.55, 2.9166666666666665, 0.16666666666666666]]\n",
      "[1, 4, [1.3666666666666667, 0.31666666666666665, 0.48333333333333334, 2.7666666666666666]]\n",
      "[1, 3, [1.4166666666666667, 2.433333333333333, 0.55]]\n",
      "[1, 3, [1.2333333333333334, 2.783333333333333, 1.9333333333333333]]\n",
      "[1, 4, [1.5333333333333334, 1.4166666666666667, 1.7, 1.7333333333333334]]\n",
      "[1, 3, [1.7, 1.35, 1.5833333333333333]]\n",
      "[1, 4, [1.4833333333333334, 0.5166666666666667, 2.316666666666667, 2.45]]\n",
      "[1, 3, [1.65, 2.0, 0.3]]\n",
      "[1, 4, [1.7166666666666666, 1.3333333333333333, 0.65, 1.8833333333333333]]\n",
      "[1, 3, [1.3833333333333333, 1.1333333333333333, 0.3]]\n",
      "[1, 3, [1.4333333333333333, 0.95, 2.95]]\n",
      "[1, 4, [1.6166666666666667, 2.6166666666666667, 0.05, 1.9166666666666667]]\n",
      "[1, 5, [1.9333333333333333, 1.3333333333333333, 1.85, 1.1833333333333333, 0.5833333333333334]]\n",
      "[1, 4, [1.4, 2.65, 1.75, 1.3]]\n",
      "[1, 4, [1.6166666666666667, 2.566666666666667, 2.683333333333333, 2.966666666666667]]\n",
      "[1, 3, [1.25, 2.0, 0.4666666666666667]]\n",
      "[1, 5, [1.7, 0.4666666666666667, 0.7666666666666667, 1.5333333333333334, 1.3666666666666667]]\n",
      "[1, 3, [1.5166666666666666, 1.5333333333333334, 1.8333333333333333]]\n",
      "[1, 3, [1.7666666666666666, 1.5166666666666666, 1.8833333333333333]]\n",
      "[1, 3, [1.1666666666666667, 0.3, 2.3]]\n",
      "[1, 3, [1.6833333333333333, 2.3, 0.016666666666666666]]\n",
      "[1, 4, [1.9, 0.4, 1.4833333333333334, 0.3333333333333333]]\n",
      "[1, 3, [1.9, 0.26666666666666666, 1.8666666666666667]]\n",
      "[1, 3, [1.5666666666666667, 2.783333333333333, 0.6]]\n",
      "[1, 3, [1.5666666666666667, 1.5, 1.55]]\n",
      "[1, 3, [1.05, 1.1, 2.7666666666666666]]\n",
      "[1, 3, [1.2833333333333334, 0.48333333333333334, 2.35]]\n",
      "[1, 3, [1.6666666666666667, 2.65, 2.9]]\n",
      "[1, 3, [1.6166666666666667, 1.75, 0.8166666666666667]]\n",
      "[1, 3, [1.1666666666666667, 1.3666666666666667, 0.5]]\n",
      "[1, 3, [1.4166666666666667, 0.35, 0.6666666666666666]]\n",
      "[1, 3, [1.8666666666666667, 0.03333333333333333, 0.26666666666666666]]\n",
      "[1, 3, [1.1833333333333333, 1.3, 0.2]]\n",
      "[1, 3, [1.4333333333333333, 0.13333333333333333, 2.7666666666666666]]\n",
      "[1, 3, [1.4666666666666666, 2.6166666666666667, 2.7333333333333334]]\n",
      "[1, 5, [1.6, 0.8833333333333333, 1.5, 2.6, 1.2]]\n",
      "[1, 3, [1.4, 0.4666666666666667, 1.5]]\n",
      "[1, 3, [1.8, 1.6166666666666667, 2.6666666666666665]]\n",
      "[1, 3, [1.8833333333333333, 0.5, 0.5333333333333333]]\n",
      "[1, 3, [1.35, 1.5333333333333334, 2.1]]\n",
      "[1, 3, [1.7666666666666666, 0.48333333333333334, 0.4666666666666667]]\n",
      "[1, 4, [1.2833333333333334, 0.9, 1.7833333333333334, 1.5333333333333334]]\n",
      "[1, 3, [1.5166666666666666, 0.36666666666666664, 2.5166666666666666]]\n",
      "[1, 3, [1.4833333333333334, 2.1, 2.6666666666666665]]\n",
      "[1, 4, [1.3, 0.43333333333333335, 1.3166666666666667, 2.183333333333333]]\n",
      "[1, 6, [1.8, 0.4666666666666667, 0.6333333333333333, 1.4333333333333333, 0.1, 2.65]]\n",
      "[1, 5, [1.5833333333333333, 1.0833333333333333, 2.316666666666667, 2.183333333333333, 0.6166666666666667]]\n",
      "[1, 3, [1.0166666666666666, 1.6, 0.15]]\n",
      "[1, 3, [1.3, 0.08333333333333333, 1.3333333333333333]]\n",
      "[1, 4, [1.0166666666666666, 2.283333333333333, 0.2833333333333333, 0.5333333333333333]]\n",
      "[1, 3, [1.35, 1.95, 1.0]]\n",
      "[1, 3, [1.7333333333333334, 0.2833333333333333, 2.3833333333333333]]\n",
      "[1, 3, [1.8, 2.1, 2.5833333333333335]]\n",
      "[1, 3, [1.5333333333333334, 0.45, 2.9]]\n",
      "[1, 3, [1.5333333333333334, 1.9166666666666667, 2.65]]\n",
      "[1, 4, [1.5166666666666666, 0.13333333333333333, 1.8666666666666667, 0.85]]\n",
      "[1, 3, [1.35, 2.716666666666667, 2.033333333333333]]\n",
      "[1, 3, [1.45, 0.7166666666666667, 1.3333333333333333]]\n",
      "[1, 3, [1.55, 1.8833333333333333, 0.45]]\n",
      "[1, 3, [1.4833333333333334, 0.6666666666666666, 2.35]]\n",
      "[1, 3, [1.4833333333333334, 0.9, 1.5666666666666667]]\n",
      "[1, 3, [1.9333333333333333, 2.55, 1.9166666666666667]]\n",
      "[1, 3, [1.4333333333333333, 1.1, 0.9666666666666667]]\n",
      "[1, 3, [1.9, 0.2, 2.35]]\n",
      "[1, 3, [1.5833333333333333, 1.9833333333333334, 0.3333333333333333]]\n",
      "[1, 4, [1.6, 0.35, 1.7166666666666666, 1.4833333333333334]]\n",
      "[1, 3, [1.05, 1.3, 1.6]]\n",
      "[1, 5, [1.6333333333333333, 2.7, 0.5166666666666667, 0.36666666666666664, 0.15]]\n",
      "[1, 3, [1.8666666666666667, 2.3333333333333335, 0.7666666666666667]]\n",
      "[1, 3, [1.2166666666666666, 0.2, 2.3333333333333335]]\n",
      "[1, 3, [1.65, 2.066666666666667, 1.3333333333333333]]\n",
      "[1, 3, [1.6, 2.966666666666667, 0.21666666666666667]]\n",
      "[1, 4, [1.2, 0.8666666666666667, 1.5, 2.683333333333333]]\n",
      "[1, 3, [1.0833333333333333, 0.03333333333333333, 2.1166666666666667]]\n",
      "[1, 3, [1.85, 1.1666666666666667, 2.65]]\n",
      "[1, 3, [1.5333333333333334, 2.066666666666667, 2.9]]\n",
      "[1, 3, [1.7166666666666666, 0.6666666666666666, 1.6]]\n",
      "[1, 3, [1.0, 0.3333333333333333, 1.1]]\n",
      "[1, 5, [1.2333333333333334, 0.25, 1.1333333333333333, 1.3166666666666667, 0.1]]\n",
      "[1, 6, [1.3333333333333333, 0.35, 1.5333333333333334, 0.36666666666666664, 0.7333333333333333, 0.95]]\n",
      "[1, 5, [1.7, 1.9166666666666667, 0.7166666666666667, 0.23333333333333334, 0.31666666666666665]]\n",
      "[1, 4, [1.75, 1.1, 0.6833333333333333, 2.2333333333333334]]\n",
      "[1, 3, [1.6833333333333333, 2.533333333333333, 2.6166666666666667]]\n",
      "[1, 3, [1.3, 0.9, 1.95]]\n",
      "[1, 4, [1.4, 0.9333333333333333, 2.716666666666667, 0.18333333333333332]]\n",
      "[1, 3, [1.9166666666666667, 0.5833333333333334, 1.0166666666666666]]\n",
      "[1, 3, [1.75, 1.3666666666666667, 0.2833333333333333]]\n",
      "[1, 5, [1.0666666666666667, 2.1166666666666667, 2.466666666666667, 0.15, 2.2666666666666666]]\n",
      "[1, 3, [1.4666666666666666, 0.11666666666666667, 1.9833333333333334]]\n",
      "[1, 3, [1.7, 0.25, 2.183333333333333]]\n",
      "[1, 3, [1.8833333333333333, 2.8333333333333335, 0.95]]\n",
      "[1, 3, [1.5, 2.5, 1.8]]\n",
      "[1, 4, [1.0333333333333334, 0.7666666666666667, 1.6, 0.15]]\n",
      "[1, 4, [1.55, 0.2833333333333333, 0.4, 1.8333333333333333]]\n",
      "[1, 3, [1.9666666666666666, 2.533333333333333, 0.9333333333333333]]\n",
      "[1, 3, [1.8, 1.2, 2.183333333333333]]\n",
      "[1, 3, [1.9166666666666667, 1.5666666666666667, 1.9166666666666667]]\n",
      "[1, 5, [1.4166666666666667, 0.45, 1.7166666666666666, 1.5333333333333334, 1.5833333333333333]]\n",
      "[1, 3, [1.9666666666666666, 1.1166666666666667, 0.7]]\n",
      "[1, 4, [1.2666666666666666, 1.3166666666666667, 0.38333333333333336, 2.4]]\n",
      "[1, 4, [1.4833333333333334, 0.13333333333333333, 0.48333333333333334, 0.7666666666666667]]\n",
      "[1, 4, [1.5833333333333333, 1.0166666666666666, 0.9666666666666667, 0.31666666666666665]]\n",
      "[1, 3, [1.9, 2.7, 0.4666666666666667]]\n",
      "[1, 3, [1.4833333333333334, 0.05, 2.316666666666667]]\n",
      "[1, 3, [1.6, 0.95, 2.85]]\n",
      "[1, 3, [1.9833333333333334, 2.5166666666666666, 0.7]]\n",
      "[1, 3, [1.0, 2.7333333333333334, 0.4]]\n",
      "[1, 5, [1.95, 1.8333333333333333, 0.11666666666666667, 0.7333333333333333, 1.3666666666666667]]\n",
      "[1, 4, [1.6166666666666667, 0.4666666666666667, 2.316666666666667, 0.05]]\n",
      "[1, 4, [1.8333333333333333, 2.283333333333333, 2.7666666666666666, 1.0333333333333334]]\n",
      "[1, 3, [1.3666666666666667, 2.75, 1.7333333333333334]]\n",
      "[1, 3, [1.5166666666666666, 2.25, 1.9166666666666667]]\n",
      "[1, 3, [1.5166666666666666, 0.38333333333333336, 2.6166666666666667]]\n",
      "[1, 3, [1.6666666666666667, 2.7666666666666666, 1.6333333333333333]]\n",
      "[1, 3, [1.4166666666666667, 1.9, 0.35]]\n",
      "[1, 3, [1.5833333333333333, 2.9833333333333334, 1.3166666666666667]]\n",
      "[1, 3, [1.5333333333333334, 0.35, 1.75]]\n",
      "[1, 3, [1.9166666666666667, 1.4, 2.6666666666666665]]\n",
      "[1, 3, [1.05, 1.85, 2.966666666666667]]\n",
      "[1, 3, [1.15, 0.9166666666666666, 0.7166666666666667]]\n",
      "[1, 3, [1.9, 1.55, 0.3]]\n",
      "[1, 5, [1.45, 0.75, 2.15, 0.6166666666666667, 0.5333333333333333]]\n",
      "[1, 5, [1.8166666666666667, 0.9333333333333333, 2.55, 1.7, 2.3666666666666667]]\n",
      "[1, 3, [1.8833333333333333, 0.2, 2.783333333333333]]\n",
      "[1, 3, [1.2, 1.0, 1.8333333333333333]]\n",
      "[1, 3, [1.0666666666666667, 1.9833333333333334, 0.43333333333333335]]\n",
      "[1, 3, [1.85, 2.716666666666667, 0.48333333333333334]]\n",
      "[1, 5, [1.0, 0.9666666666666667, 2.2, 2.8333333333333335, 2.283333333333333]]\n",
      "[1, 4, [1.3, 0.11666666666666667, 0.11666666666666667, 1.85]]\n",
      "[1, 4, [1.3166666666666667, 2.566666666666667, 2.1, 1.3333333333333333]]\n",
      "[1, 3, [1.25, 2.6166666666666667, 0.18333333333333332]]\n",
      "[1, 6, [1.4166666666666667, 1.5333333333333334, 0.08333333333333333, 2.0166666666666666, 0.6333333333333333, 1.7333333333333334]]\n",
      "[1, 3, [1.6333333333333333, 0.21666666666666667, 2.533333333333333]]\n",
      "[1, 3, [1.5833333333333333, 0.3, 2.816666666666667]]\n",
      "[1, 3, [1.8833333333333333, 0.9333333333333333, 1.3333333333333333]]\n",
      "[1, 3, [1.4166666666666667, 1.4333333333333333, 0.6833333333333333]]\n",
      "[1, 4, [1.3666666666666667, 2.1666666666666665, 1.6333333333333333, 1.1166666666666667]]\n",
      "[1, 3, [1.35, 0.8666666666666667, 1.5]]\n",
      "[1, 3, [1.75, 1.0, 0.5833333333333334]]\n",
      "[1, 3, [1.35, 0.31666666666666665, 0.9833333333333333]]\n",
      "[1, 3, [1.5, 1.0833333333333333, 1.2166666666666666]]\n",
      "[1, 4, [1.6, 2.4166666666666665, 0.4166666666666667, 0.5833333333333334]]\n",
      "[1, 4, [1.5666666666666667, 1.3, 1.8, 2.033333333333333]]\n",
      "[1, 3, [1.85, 1.8333333333333333, 2.566666666666667]]\n",
      "[1, 3, [1.8, 2.566666666666667, 2.2]]\n",
      "[1, 3, [1.3666666666666667, 0.7833333333333333, 1.6166666666666667]]\n",
      "[1, 3, [1.4333333333333333, 1.1833333333333333, 0.6666666666666666]]\n",
      "[1, 3, [1.5, 1.2333333333333334, 0.43333333333333335]]\n",
      "[1, 3, [1.6166666666666667, 0.31666666666666665, 1.8]]\n",
      "[1, 3, [1.1833333333333333, 0.6166666666666667, 2.8833333333333333]]\n",
      "[1, 4, [1.0666666666666667, 1.8666666666666667, 0.9333333333333333, 2.3833333333333333]]\n",
      "[1, 3, [1.4833333333333334, 2.066666666666667, 2.65]]\n",
      "[1, 3, [1.15, 2.4166666666666665, 0.55]]\n",
      "[1, 3, [1.5833333333333333, 0.016666666666666666, 2.3666666666666667]]\n",
      "[1, 4, [1.3833333333333333, 2.1666666666666665, 0.6, 1.0166666666666666]]\n",
      "[1, 4, [1.4, 1.7833333333333334, 2.5, 1.3833333333333333]]\n",
      "[1, 3, [1.0166666666666666, 2.3333333333333335, 0.5166666666666667]]\n",
      "[1, 3, [1.05, 0.5666666666666667, 1.0666666666666667]]\n",
      "[1, 4, [1.8833333333333333, 1.7, 2.5, 1.2333333333333334]]\n",
      "[1, 3, [1.3833333333333333, 0.48333333333333334, 0.5833333333333334]]\n",
      "[1, 3, [1.3333333333333333, 2.5166666666666666, 0.7666666666666667]]\n",
      "[1, 3, [1.4833333333333334, 0.7833333333333333, 1.7833333333333334]]\n",
      "[1, 5, [1.3833333333333333, 1.15, 1.5, 1.15, 2.55]]\n",
      "[1, 3, [1.6833333333333333, 0.8666666666666667, 0.31666666666666665]]\n",
      "[1, 5, [1.8666666666666667, 2.033333333333333, 1.3333333333333333, 1.6666666666666667, 0.23333333333333334]]\n",
      "[1, 3, [1.45, 1.8333333333333333, 0.75]]\n",
      "[1, 3, [1.6, 1.4833333333333334, 2.783333333333333]]\n",
      "[1, 4, [1.15, 1.55, 1.65, 1.0333333333333334]]\n",
      "[1, 3, [1.15, 0.5666666666666667, 0.16666666666666666]]\n",
      "[1, 3, [1.0833333333333333, 1.9, 2.933333333333333]]\n",
      "[1, 3, [1.0, 0.7, 0.85]]\n",
      "[1, 4, [1.65, 2.933333333333333, 1.5166666666666666, 1.4]]\n",
      "[1, 3, [1.2, 0.3, 0.8333333333333334]]\n",
      "[1, 4, [1.2, 1.0833333333333333, 2.183333333333333, 2.1333333333333333]]\n",
      "[1, 3, [1.8166666666666667, 0.5333333333333333, 2.3333333333333335]]\n",
      "[1, 4, [1.6333333333333333, 2.966666666666667, 2.4833333333333334, 2.9]]\n",
      "[1, 4, [1.3, 0.7, 0.7833333333333333, 1.4]]\n",
      "[1, 3, [1.85, 0.2833333333333333, 1.3833333333333333]]\n",
      "[1, 4, [1.8166666666666667, 2.3, 0.55, 0.7]]\n",
      "[1, 3, [1.0333333333333334, 2.066666666666667, 0.9166666666666666]]\n",
      "[1, 5, [1.7666666666666666, 0.31666666666666665, 1.5333333333333334, 2.0166666666666666, 2.2333333333333334]]\n",
      "[1, 4, [1.0, 1.8833333333333333, 0.5, 2.1166666666666667]]\n",
      "[1, 3, [1.45, 2.6166666666666667, 0.2]]\n",
      "[1, 5, [1.2666666666666666, 1.5666666666666667, 0.6166666666666667, 2.0833333333333335, 1.2166666666666666]]\n",
      "[1, 4, [1.35, 2.75, 1.0833333333333333, 2.683333333333333]]\n",
      "[1, 3, [1.4166666666666667, 0.8166666666666667, 1.7666666666666666]]\n",
      "[1, 3, [1.7333333333333334, 2.4833333333333334, 0.48333333333333334]]\n",
      "[1, 3, [1.65, 2.3833333333333333, 1.5]]\n",
      "[1, 4, [1.2833333333333334, 2.15, 2.9, 2.9166666666666665]]\n",
      "[1, 4, [1.75, 0.15, 1.2833333333333334, 0.016666666666666666]]\n",
      "[1, 3, [1.9, 1.1, 0.36666666666666664]]\n",
      "[1, 3, [1.65, 1.4833333333333334, 0.38333333333333336]]\n",
      "[1, 3, [1.8, 1.8833333333333333, 2.65]]\n",
      "[1, 4, [1.3166666666666667, 0.6166666666666667, 0.31666666666666665, 0.95]]\n",
      "[1, 3, [1.7, 0.5666666666666667, 2.35]]\n",
      "[1, 3, [1.3166666666666667, 1.7666666666666666, 2.0833333333333335]]\n",
      "[1, 5, [1.5666666666666667, 1.2833333333333334, 2.566666666666667, 2.45, 0.4]]\n",
      "[1, 5, [1.9166666666666667, 0.6, 1.7666666666666666, 0.6833333333333333, 0.38333333333333336]]\n",
      "[1, 4, [1.4, 1.2, 1.3, 2.466666666666667]]\n",
      "[1, 4, [1.9666666666666666, 1.8166666666666667, 1.75, 0.36666666666666664]]\n",
      "[1, 3, [1.6333333333333333, 0.15, 0.5333333333333333]]\n",
      "[1, 3, [1.4833333333333334, 1.65, 1.3833333333333333]]\n",
      "[1, 3, [1.8333333333333333, 1.9833333333333334, 2.7333333333333334]]\n",
      "[1, 4, [1.9666666666666666, 2.433333333333333, 0.5333333333333333, 0.8333333333333334]]\n",
      "[1, 3, [1.3, 1.9833333333333334, 0.6666666666666666]]\n",
      "[1, 5, [1.35, 0.9666666666666667, 2.1666666666666665, 1.75, 1.3833333333333333]]\n",
      "[1, 3, [1.6666666666666667, 2.033333333333333, 1.8833333333333333]]\n",
      "[1, 3, [1.0666666666666667, 0.7666666666666667, 0.8333333333333334]]\n",
      "[1, 3, [1.0333333333333334, 0.21666666666666667, 2.75]]\n",
      "[1, 4, [1.3333333333333333, 0.75, 2.8333333333333335, 0.95]]\n",
      "[1, 4, [1.0166666666666666, 0.03333333333333333, 1.2833333333333334, 1.7]]\n",
      "[1, 5, [1.1166666666666667, 2.15, 2.8333333333333335, 2.066666666666667, 1.9833333333333334]]\n",
      "[1, 4, [1.2166666666666666, 1.75, 1.1666666666666667, 1.25]]\n",
      "[1, 5, [1.6, 0.9166666666666666, 0.03333333333333333, 0.7333333333333333, 1.7333333333333334]]\n",
      "[1, 3, [1.7166666666666666, 1.05, 1.3]]\n",
      "[1, 3, [1.1833333333333333, 1.6, 2.5166666666666666]]\n",
      "[1, 4, [1.7166666666666666, 1.9833333333333334, 1.7666666666666666, 1.15]]\n",
      "[1, 3, [1.1166666666666667, 0.8666666666666667, 2.0]]\n",
      "[1, 3, [1.85, 2.8833333333333333, 0.08333333333333333]]\n",
      "[1, 3, [1.6166666666666667, 1.15, 2.783333333333333]]\n",
      "[1, 3, [1.1, 0.43333333333333335, 1.15]]\n",
      "[1, 3, [1.1833333333333333, 0.5333333333333333, 0.8666666666666667]]\n",
      "[1, 4, [1.4, 2.85, 1.2, 0.6666666666666666]]\n",
      "[1, 3, [1.0166666666666666, 2.9, 1.1333333333333333]]\n",
      "[1, 4, [1.2333333333333334, 1.75, 1.2833333333333334, 0.03333333333333333]]\n",
      "[1, 3, [1.6, 0.2, 2.8833333333333333]]\n",
      "[1, 4, [1.05, 2.6666666666666665, 2.5833333333333335, 0.8166666666666667]]\n",
      "[1, 3, [1.8, 0.7166666666666667, 0.06666666666666667]]\n",
      "[1, 3, [1.4, 2.85, 0.2833333333333333]]\n",
      "[1, 3, [1.8333333333333333, 2.9166666666666665, 1.0166666666666666]]\n",
      "[1, 4, [1.8, 2.9, 1.2, 0.6833333333333333]]\n",
      "[1, 3, [1.5, 0.16666666666666666, 0.18333333333333332]]\n",
      "[1, 4, [1.0833333333333333, 0.38333333333333336, 1.5833333333333333, 2.6333333333333333]]\n",
      "[1, 3, [1.3666666666666667, 1.3666666666666667, 1.2833333333333334]]\n",
      "[1, 3, [1.7833333333333334, 1.1333333333333333, 1.7166666666666666]]\n",
      "[1, 3, [1.25, 2.1, 0.45]]\n",
      "[1, 3, [1.5833333333333333, 2.6666666666666665, 0.6833333333333333]]\n",
      "[1, 3, [1.2333333333333334, 0.45, 1.6166666666666667]]\n",
      "[1, 3, [1.45, 0.2833333333333333, 1.0833333333333333]]\n",
      "[1, 5, [1.6666666666666667, 2.5, 1.2333333333333334, 1.05, 0.9333333333333333]]\n",
      "[1, 3, [1.5666666666666667, 0.21666666666666667, 0.7666666666666667]]\n",
      "[1, 3, [1.4666666666666666, 0.8833333333333333, 0.23333333333333334]]\n",
      "[1, 4, [1.55, 1.9666666666666666, 2.4, 0.3]]\n",
      "[1, 3, [1.3333333333333333, 0.55, 1.1166666666666667]]\n",
      "[1, 4, [1.5333333333333334, 0.21666666666666667, 1.5666666666666667, 0.8666666666666667]]\n",
      "[1, 3, [1.0833333333333333, 0.8666666666666667, 1.9833333333333334]]\n",
      "[1, 3, [1.7833333333333334, 2.9, 1.5333333333333334]]\n",
      "[1, 3, [1.7833333333333334, 0.2833333333333333, 0.85]]\n",
      "[1, 3, [1.8333333333333333, 0.5666666666666667, 2.566666666666667]]\n",
      "[1, 5, [1.8333333333333333, 1.6833333333333333, 2.6166666666666667, 2.85, 2.1333333333333333]]\n",
      "[1, 3, [1.95, 1.6, 2.066666666666667]]\n",
      "[1, 3, [1.9333333333333333, 2.6166666666666667, 2.55]]\n",
      "[1, 3, [1.3166666666666667, 2.95, 2.8333333333333335]]\n",
      "[1, 3, [1.6666666666666667, 0.9666666666666667, 0.9333333333333333]]\n",
      "[1, 3, [1.9166666666666667, 0.15, 1.6333333333333333]]\n",
      "[1, 3, [1.0333333333333334, 2.033333333333333, 1.4833333333333334]]\n",
      "[1, 4, [1.0166666666666666, 2.8, 1.25, 0.75]]\n",
      "[1, 3, [1.6666666666666667, 1.2333333333333334, 1.0833333333333333]]\n",
      "[1, 3, [1.5166666666666666, 1.4833333333333334, 2.066666666666667]]\n",
      "[1, 3, [1.7666666666666666, 2.533333333333333, 2.8333333333333335]]\n",
      "[1, 3, [1.45, 1.6333333333333333, 0.08333333333333333]]\n",
      "[1, 3, [1.4333333333333333, 0.8, 2.4]]\n",
      "[1, 3, [1.3166666666666667, 1.5333333333333334, 1.6]]\n",
      "[1, 3, [1.0, 1.6666666666666667, 1.9333333333333333]]\n",
      "[1, 3, [1.8166666666666667, 0.7333333333333333, 1.4166666666666667]]\n",
      "[1, 4, [1.6666666666666667, 0.8333333333333334, 0.7333333333333333, 2.6]]\n",
      "[1, 3, [1.3166666666666667, 0.85, 0.4166666666666667]]\n",
      "[1, 3, [1.2333333333333334, 2.3333333333333335, 1.7333333333333334]]\n",
      "[1, 3, [1.45, 1.3166666666666667, 0.65]]\n",
      "[1, 3, [1.8333333333333333, 1.0166666666666666, 0.7166666666666667]]\n",
      "[1, 3, [1.05, 2.9, 1.2]]\n",
      "[1, 3, [1.6833333333333333, 1.1833333333333333, 1.2833333333333334]]\n",
      "[1, 3, [1.75, 0.8666666666666667, 1.2333333333333334]]\n",
      "[1, 3, [1.6833333333333333, 2.783333333333333, 1.3666666666666667]]\n",
      "[1, 3, [1.6, 0.5666666666666667, 1.8833333333333333]]\n",
      "[1, 3, [1.4, 1.5166666666666666, 1.9166666666666667]]\n"
     ]
    }
   ],
   "source": [
    "#AFTER\n",
    "one_num_blocks_after = []\n",
    "two_num_blocks_after = []\n",
    "for i in consecutives_after:\n",
    "    if i[0] == 1:\n",
    "        one_num_blocks_after.append(i[1])\n",
    "    if i[0] == 2:\n",
    "        two_num_blocks_after.append(i[1])\n",
    "for i in consecutives:\n",
    "    if i[1] > 2 and i[0] == 1:\n",
    "        print i"
   ]
  },
  {
   "cell_type": "code",
   "execution_count": 358,
   "metadata": {
    "collapsed": true
   },
   "outputs": [],
   "source": [
    "one_df = pd.DataFrame({\"NumBlocks\":one_num_blocks})\n",
    "two_df = pd.DataFrame({\"NumBlocks\":two_num_blocks})\n",
    "one_after_df = pd.DataFrame({\"NumBlocks\":one_num_blocks_after})\n",
    "two_after_df = pd.DataFrame({\"NumBlocks\":two_num_blocks_after})"
   ]
  },
  {
   "cell_type": "code",
   "execution_count": 365,
   "metadata": {
    "collapsed": false
   },
   "outputs": [
    {
     "data": {
      "text/html": [
       "<div>\n",
       "<table border=\"1\" class=\"dataframe\">\n",
       "  <thead>\n",
       "    <tr style=\"text-align: right;\">\n",
       "      <th></th>\n",
       "      <th>NumBlocks</th>\n",
       "    </tr>\n",
       "  </thead>\n",
       "  <tbody>\n",
       "    <tr>\n",
       "      <th>0</th>\n",
       "      <td>2</td>\n",
       "    </tr>\n",
       "    <tr>\n",
       "      <th>1</th>\n",
       "      <td>3</td>\n",
       "    </tr>\n",
       "    <tr>\n",
       "      <th>2</th>\n",
       "      <td>2</td>\n",
       "    </tr>\n",
       "    <tr>\n",
       "      <th>3</th>\n",
       "      <td>4</td>\n",
       "    </tr>\n",
       "    <tr>\n",
       "      <th>4</th>\n",
       "      <td>3</td>\n",
       "    </tr>\n",
       "  </tbody>\n",
       "</table>\n",
       "</div>"
      ],
      "text/plain": [
       "   NumBlocks\n",
       "0          2\n",
       "1          3\n",
       "2          2\n",
       "3          4\n",
       "4          3"
      ]
     },
     "execution_count": 365,
     "metadata": {},
     "output_type": "execute_result"
    }
   ],
   "source": [
    "one_df.head()"
   ]
  },
  {
   "cell_type": "code",
   "execution_count": 348,
   "metadata": {
    "collapsed": false
   },
   "outputs": [
    {
     "data": {
      "text/plain": [
       "array([[<matplotlib.axes._subplots.AxesSubplot object at 0x12e4435d0>]], dtype=object)"
      ]
     },
     "execution_count": 348,
     "metadata": {},
     "output_type": "execute_result"
    },
    {
     "data": {
      "image/png": "[encoded data removed]",
      "text/plain": [
       "<matplotlib.figure.Figure at 0x12e98d250>"
      ]
     },
     "metadata": {},
     "output_type": "display_data"
    }
   ],
   "source": [
    "#before\n",
    "one_df.hist(bins=10)\n",
    "#plt.semilogy()"
   ]
  },
  {
   "cell_type": "code",
   "execution_count": 361,
   "metadata": {
    "collapsed": false
   },
   "outputs": [
    {
     "data": {
      "text/plain": [
       "array([[<matplotlib.axes._subplots.AxesSubplot object at 0x125618350>]], dtype=object)"
      ]
     },
     "execution_count": 361,
     "metadata": {},
     "output_type": "execute_result"
    },
    {
     "data": {
      "image/png": "[encoded data removed]",
      "text/plain": [
       "<matplotlib.figure.Figure at 0x125607710>"
      ]
     },
     "metadata": {},
     "output_type": "display_data"
    }
   ],
   "source": [
    "#before\n",
    "two_df.hist(bins=10)\n"
   ]
  },
  {
   "cell_type": "code",
   "execution_count": 362,
   "metadata": {
    "collapsed": false
   },
   "outputs": [
    {
     "data": {
      "text/plain": [
       "array([[<matplotlib.axes._subplots.AxesSubplot object at 0x128c6eb90>]], dtype=object)"
      ]
     },
     "execution_count": 362,
     "metadata": {},
     "output_type": "execute_result"
    },
    {
     "data": {
      "image/png": "[encoded data removed]",
      "text/plain": [
       "<matplotlib.figure.Figure at 0x128c76a90>"
      ]
     },
     "metadata": {},
     "output_type": "display_data"
    }
   ],
   "source": [
    "#after\n",
    "two_after_df.hist(bins=10)\n"
   ]
  },
  {
   "cell_type": "code",
   "execution_count": 363,
   "metadata": {
    "collapsed": false
   },
   "outputs": [
    {
     "data": {
      "text/plain": [
       "array([[<matplotlib.axes._subplots.AxesSubplot object at 0x12569e410>]], dtype=object)"
      ]
     },
     "execution_count": 363,
     "metadata": {},
     "output_type": "execute_result"
    },
    {
     "data": {
      "image/png": "[encoded data removed]",
      "text/plain": [
       "<matplotlib.figure.Figure at 0x128e979d0>"
      ]
     },
     "metadata": {},
     "output_type": "display_data"
    }
   ],
   "source": [
    "#after\n",
    "one_after_df.hist(bins=10)\n"
   ]
  },
  {
   "cell_type": "code",
   "execution_count": 366,
   "metadata": {
    "collapsed": false
   },
   "outputs": [
    {
     "data": {
      "text/plain": [
       "6"
      ]
     },
     "execution_count": 366,
     "metadata": {},
     "output_type": "execute_result"
    }
   ],
   "source": []
  },
  {
   "cell_type": "code",
   "execution_count": null,
   "metadata": {
    "collapsed": true
   },
   "outputs": [],
   "source": []
  }
 ],
 "metadata": {
  "kernelspec": {
   "display_name": "Python 2",
   "language": "python",
   "name": "python2"
  },
  "language_info": {
   "codemirror_mode": {
    "name": "ipython",
    "version": 2
   },
   "file_extension": ".py",
   "mimetype": "text/x-python",
   "name": "python",
   "nbconvert_exporter": "python",
   "pygments_lexer": "ipython2",
   "version": "2.7.9"
  }
 },
 "nbformat": 4,
 "nbformat_minor": 0
}
