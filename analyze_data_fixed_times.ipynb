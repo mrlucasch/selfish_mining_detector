{
 "cells": [
  {
   "cell_type": "code",
   "execution_count": 12,
   "metadata": {
    "collapsed": false
   },
   "outputs": [],
   "source": [
    "import pickle\n",
    "import datetime\n",
    "from blockchain import blockexplorer\n",
    "import pandas as pd\n",
    "import numpy as np\n",
    "import matplotlib.pyplot as plt\n",
    "from operator import itemgetter, attrgetter, methodcaller\n",
    "%matplotlib inline"
   ]
  },
  {
   "cell_type": "code",
   "execution_count": 13,
   "metadata": {
    "collapsed": false
   },
   "outputs": [],
   "source": [
    "dbFile = \"simple_loop_process.dat\"\n",
    "timeFile = \"new_data/times.txt\"\n",
    "timeDiffFile = \"new_data/times_diff.txt\"\n",
    "actualTimeFile = \"new_data/actual_times.txt\"\n",
    "blockchains = []\n",
    "times = []\n",
    "timeDiffs = []\n",
    "actual_diffs = []\n",
    "orphans = []\n",
    "outliers = []"
   ]
  },
  {
   "cell_type": "markdown",
   "metadata": {},
   "source": [
    "Reads data from the dbFile. This reads in blocks so we can manipulate them. The type of each block is simpleBlock from blockchain explorer."
   ]
  },
  {
   "cell_type": "code",
   "execution_count": 14,
   "metadata": {
    "collapsed": true
   },
   "outputs": [],
   "source": [
    "def readData():\n",
    "    with open(dbFile,\"rb\") as f:\n",
    "        for _ in range(407908):\n",
    "            try:\n",
    "                blockchains.append(pickle.load(f))\n",
    "            except:\n",
    "                break"
   ]
  },
  {
   "cell_type": "markdown",
   "metadata": {},
   "source": [
    "Writes the times to a file. Should only need to be done once, but whatever."
   ]
  },
  {
   "cell_type": "code",
   "execution_count": 15,
   "metadata": {
    "collapsed": true
   },
   "outputs": [],
   "source": [
    "def writeTimes():\n",
    "    with open(timeFile,\"w\") as f:\n",
    "        for value in blockchains:\n",
    "            f.write(str(value.time)+\"\\n\")\n",
    "            "
   ]
  },
  {
   "cell_type": "markdown",
   "metadata": {},
   "source": [
    "Reads in the times from the timeFile."
   ]
  },
  {
   "cell_type": "code",
   "execution_count": 16,
   "metadata": {
    "collapsed": true
   },
   "outputs": [],
   "source": [
    "def readTimes():\n",
    "    global times\n",
    "    times = [line.rstrip('\\n') for line in open(timeFile)]"
   ]
  },
  {
   "cell_type": "code",
   "execution_count": 17,
   "metadata": {
    "collapsed": true
   },
   "outputs": [],
   "source": [
    "readData()\n",
    "blockchains = blockchains[131:]"
   ]
  },
  {
   "cell_type": "code",
   "execution_count": 18,
   "metadata": {
    "collapsed": false
   },
   "outputs": [
    {
     "data": {
      "text/plain": [
       "401339"
      ]
     },
     "execution_count": 18,
     "metadata": {},
     "output_type": "execute_result"
    }
   ],
   "source": [
    "#check that we read in the blocks\n",
    "len(blockchains)"
   ]
  },
  {
   "cell_type": "code",
   "execution_count": 19,
   "metadata": {
    "collapsed": false
   },
   "outputs": [
    {
     "data": {
      "text/plain": [
       "401339"
      ]
     },
     "execution_count": 19,
     "metadata": {},
     "output_type": "execute_result"
    }
   ],
   "source": [
    "###SORT BY HEIGHT\n",
    "#sorted(blockchains, key=lambda simple_block: student[2])\n",
    "blockchains = sorted(blockchains, key=attrgetter('height'), reverse=True)\n",
    "len(blockchains)"
   ]
  },
  {
   "cell_type": "code",
   "execution_count": 20,
   "metadata": {
    "collapsed": false
   },
   "outputs": [],
   "source": [
    "def BlockInfo(index):\n",
    "    print \"Height: \",blockchains[index].height\n",
    "    print \"Time: \",blockchains[index].time\n",
    "    print \"Actual Time \",datetime.datetime.fromtimestamp(int(blockchains[index].time)).strftime('%Y-%m-%d %H:%M:%S')\n",
    "    print \"HASH: \",blockchains[index].hash\n",
    "    print \"Main Chain: \",blockchains[index].main_chain"
   ]
  },
  {
   "cell_type": "code",
   "execution_count": 21,
   "metadata": {
    "collapsed": false
   },
   "outputs": [
    {
     "name": "stdout",
     "output_type": "stream",
     "text": [
      "Height:  407643\n",
      "Time:  1460862365\n",
      "Actual Time  2016-04-17 03:06:05\n",
      "HASH:  0000000000000000041030af5a8b0439fe45057b1722afefb846a33ef83baf60\n",
      "Main Chain:  True\n",
      "############\n",
      "Height:  407642\n",
      "Time:  1460861880\n",
      "Actual Time  2016-04-17 02:58:00\n",
      "HASH:  00000000000000000501f88d2568af7f0ff4b5476aa35ed287691795c3b6af5b\n",
      "Main Chain:  True\n",
      "############\n",
      "Height:  407641\n",
      "Time:  1460861372\n",
      "Actual Time  2016-04-17 02:49:32\n",
      "HASH:  0000000000000000029e5d5f74fbda1d82de2867db02bba756d952ba7c4fbca8\n",
      "Main Chain:  True\n"
     ]
    }
   ],
   "source": [
    "BlockInfo(130)\n",
    "print \"############\"\n",
    "BlockInfo(131)\n",
    "print \"############\"\n",
    "BlockInfo(132)"
   ]
  },
  {
   "cell_type": "code",
   "execution_count": 22,
   "metadata": {
    "collapsed": false
   },
   "outputs": [],
   "source": [
    "writeTimes()"
   ]
  },
  {
   "cell_type": "code",
   "execution_count": 23,
   "metadata": {
    "collapsed": false
   },
   "outputs": [],
   "source": [
    "readTimes()"
   ]
  },
  {
   "cell_type": "code",
   "execution_count": 24,
   "metadata": {
    "collapsed": false
   },
   "outputs": [
    {
     "data": {
      "text/plain": [
       "401339"
      ]
     },
     "execution_count": 24,
     "metadata": {},
     "output_type": "execute_result"
    }
   ],
   "source": [
    "#check that we read in the times\n",
    "len(times)"
   ]
  },
  {
   "cell_type": "code",
   "execution_count": 25,
   "metadata": {
    "collapsed": true
   },
   "outputs": [],
   "source": [
    "def write_actual_times():\n",
    "    with open(actualTimeFile,\"w\") as f:\n",
    "        for value in blockchains:\n",
    "            f.write(str(value.height)+\" \"+datetime.datetime.fromtimestamp(int(value.time)).strftime('%Y-%m-%d %H:%M:%S')+\"\\n\")"
   ]
  },
  {
   "cell_type": "code",
   "execution_count": 26,
   "metadata": {
    "collapsed": false
   },
   "outputs": [],
   "source": [
    "#times = times.sort()\n",
    "write_actual_times()\n",
    "#blockchains = blockchains2"
   ]
  },
  {
   "cell_type": "markdown",
   "metadata": {},
   "source": [
    "This is a test block. Allows you to examine the timing and info about block. Ignore this as its lame"
   ]
  },
  {
   "cell_type": "code",
   "execution_count": 27,
   "metadata": {
    "collapsed": false
   },
   "outputs": [
    {
     "name": "stdout",
     "output_type": "stream",
     "text": [
      "<type 'datetime.datetime'>\n",
      "2016-04-18 09:42:25\n",
      "-10.0\n",
      "(-1, 50)\n"
     ]
    }
   ],
   "source": [
    "#print blockchains[0].time\n",
    "#print blockchains[0].hash\n",
    "#print blockchains[0].height\n",
    "#print \"########\"\n",
    "#print blockchains[1].time\n",
    "#print blockchains[1].hash\n",
    "#print blockchains[1].height\n",
    "#print \"########\"\n",
    "#print int(blockchains[0].time) - int(blockchains[1].time)\n",
    "a = datetime.datetime.fromtimestamp(1460972535)\n",
    "b = datetime.datetime.fromtimestamp(1460972545)\n",
    "print type(a)\n",
    "print b\n",
    "#Mon, 18 Apr 2016 09:42:15 GMT\n",
    "#Mon, 18 Apr 2016 09:42:25 GMT\n",
    "#print type(blockchains[0].main_chain )\n",
    "c =  a - b\n",
    "print c.total_seconds()\n",
    "print divmod(c.days * 86400 + c.seconds, 60)"
   ]
  },
  {
   "cell_type": "markdown",
   "metadata": {},
   "source": [
    "Function that iterates over the times list and computes the difference between two times next to each other. Writes out to time_diff.txt. Reports the block height, time, and whether in main chain for each block as well as the time between each block. The last digit is seconds between blocks. Sample:\n",
    "```\n",
    "407864(1460995794,True) - 407863(1460992454,True)==> 0:55:40 ==>3340.0\n",
    "```"
   ]
  },
  {
   "cell_type": "code",
   "execution_count": 28,
   "metadata": {
    "collapsed": false
   },
   "outputs": [],
   "source": [
    "def processTimes():\n",
    "    global times\n",
    "    global timeDiffs\n",
    "    timeDiffs = []\n",
    "    counter = 0\n",
    "    f = open(timeDiffFile,\"w\")\n",
    "    for i in range(len(times)):\n",
    "        if i == len(times)-1:\n",
    "            break\n",
    "        #value = int(times[i]) - int(times[i+1])\n",
    "        value = datetime.datetime.fromtimestamp(int(blockchains[i].time)) - datetime.datetime.fromtimestamp(int(blockchains[i+1].time))\n",
    "        \n",
    "        timeDiffs.append(value.total_seconds())\n",
    "        f.write(str(counter)+\": \"+str(blockchains[i].height)+\"(\"+str(blockchains[i].time)+\",\"+str(blockchains[i].main_chain)+\",\"+datetime.datetime.fromtimestamp(int(blockchains[i].time)).strftime('%Y-%m-%d %H:%M:%S')+\")\"+\" - \"+str(blockchains[i+1].height)+\"(\"+str(blockchains[i+1].time)+\",\"+str(blockchains[i+1].main_chain)+\",\"+datetime.datetime.fromtimestamp(int(blockchains[i+1].time)).strftime('%Y-%m-%d %H:%M:%S')+\")\"+\"==> \"+str(value)+\" ==>\"+str(value.total_seconds())+\" secs ==> \"+str(value.total_seconds()/60)+\" mins\\n\")\n",
    "        counter += 1\n",
    "    f.close()"
   ]
  },
  {
   "cell_type": "code",
   "execution_count": 29,
   "metadata": {
    "collapsed": false
   },
   "outputs": [],
   "source": [
    "processTimes()"
   ]
  },
  {
   "cell_type": "code",
   "execution_count": 30,
   "metadata": {
    "collapsed": false
   },
   "outputs": [
    {
     "data": {
      "text/plain": [
       "401338"
      ]
     },
     "execution_count": 30,
     "metadata": {},
     "output_type": "execute_result"
    }
   ],
   "source": [
    "#test that we have the right data\n",
    "len(timeDiffs)"
   ]
  },
  {
   "cell_type": "code",
   "execution_count": 31,
   "metadata": {
    "collapsed": false
   },
   "outputs": [
    {
     "data": {
      "text/plain": [
       "1429.0"
      ]
     },
     "execution_count": 31,
     "metadata": {},
     "output_type": "execute_result"
    }
   ],
   "source": [
    "timeDiffs[0]"
   ]
  },
  {
   "cell_type": "markdown",
   "metadata": {},
   "source": [
    "Function that converts unix time to human readable times and writes them to a file. Ignore this"
   ]
  },
  {
   "cell_type": "code",
   "execution_count": 32,
   "metadata": {
    "collapsed": false
   },
   "outputs": [],
   "source": [
    "def convertTimes():\n",
    "    global times\n",
    "    global actual_diffs\n",
    "    f = open(actualTimeFile,\"w\")\n",
    "    for value in times:\n",
    "        value = datetime.datetime.fromtimestamp(int(value)).strftime('%Y-%m-%d %H:%M:%S')\n",
    "        f.write(value+\"\\n\")\n",
    "    for value in timeDiffs:\n",
    "        value2 = datetime.datetime.fromtimestamp(int(value)).strftime('%Y-%m-%d %H:%M:%S')\n",
    "        actual_diffs.append(value2)\n",
    "    f.close()"
   ]
  },
  {
   "cell_type": "markdown",
   "metadata": {
    "collapsed": false
   },
   "source": [
    "This converts the data that is negative to positive values"
   ]
  },
  {
   "cell_type": "code",
   "execution_count": 33,
   "metadata": {
    "collapsed": false
   },
   "outputs": [],
   "source": [
    "timeDiff_data = []\n",
    "for value in timeDiffs:\n",
    "    if value < 0:\n",
    "        timeDiff_data.append(-1*value)\n",
    "    else:\n",
    "        timeDiff_data.append(value)"
   ]
  },
  {
   "cell_type": "code",
   "execution_count": 34,
   "metadata": {
    "collapsed": false
   },
   "outputs": [],
   "source": [
    "#import matplotlib.pyplot as plt\n",
    "def plot_data(seq):\n",
    "    #plt.plot([1,2,3,4])\n",
    "    plt.plot(timeDiff_data, seq)\n",
    "    plt.ylabel('Time between blocks')\n",
    "    plt.xlabel('Sequence')\n",
    "    plt.show()"
   ]
  },
  {
   "cell_type": "code",
   "execution_count": 35,
   "metadata": {
    "collapsed": false
   },
   "outputs": [],
   "source": [
    "seq = []\n",
    "for i in range(1,len(timeDiffs)+1):\n",
    "    seq.append(i)\n",
    "    \n",
    "blocks = []\n",
    "for i in range(len(blockchains)):\n",
    "    blocks.append(blockchains[i].height)"
   ]
  },
  {
   "cell_type": "code",
   "execution_count": 36,
   "metadata": {
    "collapsed": false
   },
   "outputs": [
    {
     "data": {
      "text/plain": [
       "1429.0"
      ]
     },
     "execution_count": 36,
     "metadata": {},
     "output_type": "execute_result"
    }
   ],
   "source": [
    "#plot_data(seq)\n",
    "timeDiff_data[0]"
   ]
  },
  {
   "cell_type": "code",
   "execution_count": 37,
   "metadata": {
    "collapsed": false
   },
   "outputs": [
    {
     "name": "stdout",
     "output_type": "stream",
     "text": [
      "401338\n",
      "401338\n",
      "401339\n"
     ]
    }
   ],
   "source": [
    "print len(timeDiff_data)\n",
    "print len(seq)\n",
    "print len(blocks)\n",
    "del blocks[-1]"
   ]
  },
  {
   "cell_type": "code",
   "execution_count": 38,
   "metadata": {
    "collapsed": true
   },
   "outputs": [],
   "source": [
    "def convertToMin(arr):\n",
    "    temp = []\n",
    "    for i in range(len(arr)):\n",
    "        temp.append(arr[i]/60)\n",
    "    return temp"
   ]
  },
  {
   "cell_type": "code",
   "execution_count": 39,
   "metadata": {
    "collapsed": true
   },
   "outputs": [],
   "source": [
    "del seq[-1]\n",
    "del timeDiff_data[-1]"
   ]
  },
  {
   "cell_type": "code",
   "execution_count": 40,
   "metadata": {
    "collapsed": true
   },
   "outputs": [],
   "source": [
    "del timeDiff_data[-1]"
   ]
  },
  {
   "cell_type": "code",
   "execution_count": 41,
   "metadata": {
    "collapsed": false
   },
   "outputs": [
    {
     "name": "stdout",
     "output_type": "stream",
     "text": [
      "               index       time\n",
      "count      50.000000  50.000000\n",
      "mean   406949.960000   8.075333\n",
      "std        14.144964   7.659377\n",
      "min    406926.000000   0.133333\n",
      "25%    406938.250000   1.791667\n",
      "50%    406949.500000   5.966667\n",
      "75%    406961.750000  10.595833\n",
      "max    406974.000000  34.066667\n"
     ]
    }
   ],
   "source": [
    "#df = pd.DataFrame({'index':seq,'time':convertToMin(timeDiff_data)})\n",
    "df = pd.DataFrame({'index':blocks[800:850],'time':convertToMin(timeDiff_data[800:850])})\n",
    "#df = pd.DataFrame({'time':convertToMin(timeDiff_data[800:850])})\n",
    "\n",
    "#df = pd.DataFrame({'index':seq[0:50],'time':timeDiff_data[0:50]})\n",
    "#df = pd.DataFrame({'index':seq[0:50],'time':convertToMin(timeDiff_data[0:50])})\n",
    "#df = pd.DataFrame({'index':seq[300:400],'time':convertToMin(timeDiff_data[300:400])})\n",
    "#df = pd.DataFrame({'index':seq[300:400],'time':timeDiff_data[300:400]})\n",
    "print df.describe()"
   ]
  },
  {
   "cell_type": "code",
   "execution_count": 42,
   "metadata": {
    "collapsed": false
   },
   "outputs": [
    {
     "name": "stdout",
     "output_type": "stream",
     "text": [
      "16.2333333333\n"
     ]
    }
   ],
   "source": [
    "#my_plot = df.plot(kind='bar')\n",
    "timeDiff_mins = convertToMin(timeDiff_data)\n",
    "temp = convertToMin(timeDiff_data[0:50])\n",
    "print temp[6]"
   ]
  },
  {
   "cell_type": "code",
   "execution_count": 43,
   "metadata": {
    "collapsed": false
   },
   "outputs": [
    {
     "name": "stdout",
     "output_type": "stream",
     "text": [
      "     index       time\n",
      "45  406930   0.650000\n",
      "46  406929   3.683333\n",
      "47  406928   0.283333\n",
      "48  406927  17.266667\n",
      "49  406926  10.633333\n"
     ]
    }
   ],
   "source": [
    "print df.tail()"
   ]
  },
  {
   "cell_type": "code",
   "execution_count": 44,
   "metadata": {
    "collapsed": false
   },
   "outputs": [
    {
     "data": {
      "text/plain": [
       "<matplotlib.axes.AxesSubplot at 0x7f3383d30110>"
      ]
     },
     "execution_count": 44,
     "metadata": {},
     "output_type": "execute_result"
    },
    {
     "data": {
      "image/png": "[encoded data removed]",
      "text/plain": [
       "<matplotlib.figure.Figure at 0x7f3383d30190>"
      ]
     },
     "metadata": {},
     "output_type": "display_data"
    }
   ],
   "source": [
    "df.plot(kind='line',x='index',y='time')"
   ]
  },
  {
   "cell_type": "code",
   "execution_count": null,
   "metadata": {
    "collapsed": true
   },
   "outputs": [],
   "source": []
  },
  {
   "cell_type": "code",
   "execution_count": 45,
   "metadata": {
    "collapsed": false
   },
   "outputs": [
    {
     "data": {
      "text/plain": [
       "[]"
      ]
     },
     "execution_count": 45,
     "metadata": {},
     "output_type": "execute_result"
    },
    {
     "data": {
      "image/png": "[encoded data removed]",
      "text/plain": [
       "<matplotlib.figure.Figure at 0x7f3383c36cd0>"
      ]
     },
     "metadata": {},
     "output_type": "display_data"
    }
   ],
   "source": [
    "df2 = pd.DataFrame({'time':convertToMin(timeDiff_data)})\n",
    "#df2.plot(kind='hist',bins=100)\n",
    "df2.hist(bins=200)\n",
    "plt.semilogy()"
   ]
  },
  {
   "cell_type": "code",
   "execution_count": 46,
   "metadata": {
    "collapsed": false
   },
   "outputs": [
    {
     "data": {
      "text/html": [
       "<div>\n",
       "<table border=\"1\" class=\"dataframe\">\n",
       "  <thead>\n",
       "    <tr style=\"text-align: right;\">\n",
       "      <th></th>\n",
       "      <th>time</th>\n",
       "    </tr>\n",
       "  </thead>\n",
       "  <tbody>\n",
       "    <tr>\n",
       "      <th>count</th>\n",
       "      <td>401336.000000</td>\n",
       "    </tr>\n",
       "    <tr>\n",
       "      <th>mean</th>\n",
       "      <td>9.800049</td>\n",
       "    </tr>\n",
       "    <tr>\n",
       "      <th>std</th>\n",
       "      <td>11.748116</td>\n",
       "    </tr>\n",
       "    <tr>\n",
       "      <th>min</th>\n",
       "      <td>0.000000</td>\n",
       "    </tr>\n",
       "    <tr>\n",
       "      <th>25%</th>\n",
       "      <td>2.900000</td>\n",
       "    </tr>\n",
       "    <tr>\n",
       "      <th>50%</th>\n",
       "      <td>6.800000</td>\n",
       "    </tr>\n",
       "    <tr>\n",
       "      <th>75%</th>\n",
       "      <td>13.383333</td>\n",
       "    </tr>\n",
       "    <tr>\n",
       "      <th>max</th>\n",
       "      <td>1508.866667</td>\n",
       "    </tr>\n",
       "  </tbody>\n",
       "</table>\n",
       "</div>"
      ],
      "text/plain": [
       "                time\n",
       "count  401336.000000\n",
       "mean        9.800049\n",
       "std        11.748116\n",
       "min         0.000000\n",
       "25%         2.900000\n",
       "50%         6.800000\n",
       "75%        13.383333\n",
       "max      1508.866667"
      ]
     },
     "execution_count": 46,
     "metadata": {},
     "output_type": "execute_result"
    }
   ],
   "source": [
    "df2.describe()\n"
   ]
  },
  {
   "cell_type": "code",
   "execution_count": 47,
   "metadata": {
    "collapsed": false
   },
   "outputs": [
    {
     "data": {
      "text/plain": [
       "<matplotlib.axes.AxesSubplot at 0x7f33835466d0>"
      ]
     },
     "execution_count": 47,
     "metadata": {},
     "output_type": "execute_result"
    },
    {
     "data": {
      "image/png": "[encoded data removed]",
      "text/plain": [
       "<matplotlib.figure.Figure at 0x7f3383550e50>"
      ]
     },
     "metadata": {},
     "output_type": "display_data"
    }
   ],
   "source": [
    "df.plot(kind='hist',bins=25)"
   ]
  },
  {
   "cell_type": "code",
   "execution_count": 48,
   "metadata": {
    "collapsed": false
   },
   "outputs": [],
   "source": [
    "def outlier(points,thresh=10):\n",
    "    if len(points.shape) == 1:\n",
    "        points = points[:,None]\n",
    "    median = np.median(points, axis=0)\n",
    "    diff = np.sum((points - median)**2, axis=-1)\n",
    "    diff = np.sqrt(diff)\n",
    "    med_abs_deviation = np.median(diff)\n",
    "\n",
    "    modified_z_score = 0.6745 * diff / med_abs_deviation\n",
    "\n",
    "    return modified_z_score > thresh"
   ]
  },
  {
   "cell_type": "code",
   "execution_count": 51,
   "metadata": {
    "collapsed": false
   },
   "outputs": [],
   "source": [
    "#df3 = pd.DataFrame({'index':seq,'time':timeDiff_data})\n",
    "\n",
    "#x = outlier(df3['time'])\n",
    "#len(x)"
   ]
  },
  {
   "cell_type": "code",
   "execution_count": 52,
   "metadata": {
    "collapsed": false
   },
   "outputs": [],
   "source": [
    "def remove_outliers(df):\n",
    "    temp = []\n",
    "    x = outlier(df)\n",
    "    for i in range(len(df)):\n",
    "        if x[i] == True:\n",
    "            print \"Removing \",df[i]\n",
    "        else:\n",
    "            temp.append(df[i])\n",
    "    return temp"
   ]
  },
  {
   "cell_type": "code",
   "execution_count": 54,
   "metadata": {
    "collapsed": false
   },
   "outputs": [],
   "source": [
    "#new  = remove_outliers(df3['time'])"
   ]
  },
  {
   "cell_type": "code",
   "execution_count": 57,
   "metadata": {
    "collapsed": false
   },
   "outputs": [],
   "source": [
    "#df4 = pd.DataFrame({'time':new})"
   ]
  },
  {
   "cell_type": "code",
   "execution_count": 56,
   "metadata": {
    "collapsed": false
   },
   "outputs": [],
   "source": [
    "#x = df4.plot(kind='hist',bins=25,range=[0, 65])"
   ]
  },
  {
   "cell_type": "code",
   "execution_count": null,
   "metadata": {
    "collapsed": false
   },
   "outputs": [],
   "source": []
  },
  {
   "cell_type": "code",
   "execution_count": null,
   "metadata": {
    "collapsed": false
   },
   "outputs": [],
   "source": [
    "#df4.describe()"
   ]
  },
  {
   "cell_type": "code",
   "execution_count": 58,
   "metadata": {
    "collapsed": false
   },
   "outputs": [],
   "source": [
    "#df4.head()"
   ]
  },
  {
   "cell_type": "code",
   "execution_count": null,
   "metadata": {
    "collapsed": false
   },
   "outputs": [],
   "source": [
    "#bins = np.linspace(min(df4['time']),max(df4['time']),25)"
   ]
  },
  {
   "cell_type": "code",
   "execution_count": 59,
   "metadata": {
    "collapsed": false
   },
   "outputs": [],
   "source": [
    "#fig, ax = plt.subplots(1,1)\n",
    "#ax.hist(df4['time'],bins=bins,alpha=0.5,color='#EDD834')\n",
    "#ax.set_xticks(bins[:-1])\n",
    "#plt.show()"
   ]
  },
  {
   "cell_type": "code",
   "execution_count": 60,
   "metadata": {
    "collapsed": true
   },
   "outputs": [],
   "source": [
    "def find_orphans():\n",
    "    global orphans\n",
    "    global blockchains\n",
    "    orphans = []\n",
    "    for i in blockchains:\n",
    "        if i.main_chain == False:\n",
    "            orphans.append(i)"
   ]
  },
  {
   "cell_type": "code",
   "execution_count": 61,
   "metadata": {
    "collapsed": false
   },
   "outputs": [
    {
     "data": {
      "text/plain": [
       "0"
      ]
     },
     "execution_count": 61,
     "metadata": {},
     "output_type": "execute_result"
    }
   ],
   "source": [
    "len(orphans)"
   ]
  },
  {
   "cell_type": "code",
   "execution_count": 62,
   "metadata": {
    "collapsed": true
   },
   "outputs": [],
   "source": [
    "find_orphans()"
   ]
  },
  {
   "cell_type": "code",
   "execution_count": 63,
   "metadata": {
    "collapsed": false
   },
   "outputs": [
    {
     "data": {
      "text/plain": [
       "817"
      ]
     },
     "execution_count": 63,
     "metadata": {},
     "output_type": "execute_result"
    }
   ],
   "source": [
    "len(orphans)"
   ]
  },
  {
   "cell_type": "code",
   "execution_count": null,
   "metadata": {
    "collapsed": false
   },
   "outputs": [],
   "source": []
  },
  {
   "cell_type": "code",
   "execution_count": null,
   "metadata": {
    "collapsed": false
   },
   "outputs": [],
   "source": []
  },
  {
   "cell_type": "code",
   "execution_count": 64,
   "metadata": {
    "collapsed": false
   },
   "outputs": [
    {
     "name": "stdout",
     "output_type": "stream",
     "text": [
      "1460907019\n",
      "00000000000000000307fce1866969b24cb465f98bf61519fbcc1f0dc05b0d80\n",
      "407722\n"
     ]
    }
   ],
   "source": [
    "print orphans[0].time\n",
    "print orphans[0].hash\n",
    "print orphans[0].height"
   ]
  },
  {
   "cell_type": "markdown",
   "metadata": {},
   "source": [
    "Segregates blocks into two lists, before and after the paper"
   ]
  },
  {
   "cell_type": "code",
   "execution_count": 65,
   "metadata": {
    "collapsed": false
   },
   "outputs": [],
   "source": [
    "def segregateBlocks():\n",
    "    threshold = 1357016625\n",
    "    before = []\n",
    "    after = []\n",
    "    for block in blockchains:\n",
    "        if block.time < threshold:\n",
    "            before.append(block)\n",
    "        else:\n",
    "            after.append(block)\n",
    "    before = sorted(before, key=attrgetter('height'), reverse=True)\n",
    "    after = sorted(after, key=attrgetter('height'), reverse=True)\n",
    "    return before,after"
   ]
  },
  {
   "cell_type": "code",
   "execution_count": 66,
   "metadata": {
    "collapsed": true
   },
   "outputs": [],
   "source": [
    "def CalcTimes(chain,fname):\n",
    "    timeDiffs = []\n",
    "    counter = 0\n",
    "    f = open(fname,\"w\")\n",
    "    for i in range(len(chain)):\n",
    "        if i == len(chain)-1:\n",
    "            break\n",
    "        #value = int(times[i]) - int(times[i+1])\n",
    "        value = datetime.datetime.fromtimestamp(int(chain[i].time)) - datetime.datetime.fromtimestamp(int(chain[i+1].time))\n",
    "        \n",
    "        timeDiffs.append(value.total_seconds())\n",
    "        f.write(str(counter)+\": \"+str(chain[i].height)+\"(\"+str(chain[i].time)+\",\"+str(chain[i].main_chain)+\",\"+datetime.datetime.fromtimestamp(int(chain[i].time)).strftime('%Y-%m-%d %H:%M:%S')+\")\"+\" - \"+str(chain[i+1].height)+\"(\"+str(chain[i+1].time)+\",\"+str(chain[i+1].main_chain)+\",\"+datetime.datetime.fromtimestamp(int(chain[i+1].time)).strftime('%Y-%m-%d %H:%M:%S')+\")\"+\"==> \"+str(value)+\" ==>\"+str(value.total_seconds())+\" secs ==> \"+str(value.total_seconds()/60)+\" mins\\n\")\n",
    "        counter += 1\n",
    "    f.close()\n",
    "    return timeDiffs"
   ]
  },
  {
   "cell_type": "code",
   "execution_count": 67,
   "metadata": {
    "collapsed": false,
    "scrolled": false
   },
   "outputs": [
    {
     "name": "stdout",
     "output_type": "stream",
     "text": [
      "208133\n",
      "193206\n"
     ]
    }
   ],
   "source": [
    "before,after = segregateBlocks()\n",
    "print len(before)\n",
    "print len(after)"
   ]
  },
  {
   "cell_type": "code",
   "execution_count": 68,
   "metadata": {
    "collapsed": false
   },
   "outputs": [],
   "source": [
    "before_diffs = CalcTimes(before,\"new_data/before_diffs.txt\")\n",
    "after_diffs = CalcTimes(after,\"new_data/after_diffs.txt\")\n",
    "\n"
   ]
  },
  {
   "cell_type": "code",
   "execution_count": null,
   "metadata": {
    "collapsed": true
   },
   "outputs": [],
   "source": []
  },
  {
   "cell_type": "code",
   "execution_count": 69,
   "metadata": {
    "collapsed": false
   },
   "outputs": [
    {
     "name": "stdout",
     "output_type": "stream",
     "text": [
      "208132\n",
      "208133\n",
      "208132\n"
     ]
    }
   ],
   "source": [
    "print len(before_diffs)\n",
    "print len(before)\n",
    "del before[-1]\n",
    "del after[-1]\n",
    "print len(before)"
   ]
  },
  {
   "cell_type": "code",
   "execution_count": 70,
   "metadata": {
    "collapsed": false
   },
   "outputs": [],
   "source": [
    "before_data = []\n",
    "after_data = []\n",
    "for value in before_diffs:\n",
    "    if value < 0.0:\n",
    "        before_data.append(-1*value)\n",
    "    else:\n",
    "        before_data.append(value)\n",
    "for value in after_diffs:\n",
    "    if value < 0.0:\n",
    "        after_data.append(-1*value)\n",
    "    else:\n",
    "        after_data.append(value)"
   ]
  },
  {
   "cell_type": "code",
   "execution_count": 71,
   "metadata": {
    "collapsed": false,
    "scrolled": true
   },
   "outputs": [
    {
     "name": "stdout",
     "output_type": "stream",
     "text": [
      "                time\n",
      "count  208132.000000\n",
      "mean       10.336718\n",
      "std        21.769118\n",
      "min         0.000000\n",
      "25%         3.016667\n",
      "50%         7.116667\n",
      "75%        13.916667\n",
      "max      7719.333333\n",
      "                time\n",
      "count  193205.000000\n",
      "mean        9.261729\n",
      "std         9.123049\n",
      "min         0.000000\n",
      "25%         2.783333\n",
      "50%         6.500000\n",
      "75%        12.816667\n",
      "max       129.016667\n"
     ]
    }
   ],
   "source": [
    "before_df = pd.DataFrame({'index':before,'time':convertToMin(before_data)})\n",
    "after_df = pd.DataFrame({'index':after,'time':convertToMin(after_data)})\n",
    "print before_df.describe()\n",
    "print after_df.describe()"
   ]
  },
  {
   "cell_type": "code",
   "execution_count": null,
   "metadata": {
    "collapsed": false
   },
   "outputs": [],
   "source": []
  },
  {
   "cell_type": "code",
   "execution_count": 72,
   "metadata": {
    "collapsed": false
   },
   "outputs": [
    {
     "data": {
      "text/plain": [
       "<matplotlib.axes.AxesSubplot at 0x7f3383b10510>"
      ]
     },
     "execution_count": 72,
     "metadata": {},
     "output_type": "execute_result"
    },
    {
     "data": {
      "image/png": "[encoded data removed]",
      "text/plain": [
       "<matplotlib.figure.Figure at 0x7f338361db50>"
      ]
     },
     "metadata": {},
     "output_type": "display_data"
    }
   ],
   "source": [
    "before_df.plot(kind='line',x='index',y='time')"
   ]
  },
  {
   "cell_type": "code",
   "execution_count": 73,
   "metadata": {
    "collapsed": false
   },
   "outputs": [
    {
     "data": {
      "text/plain": [
       "[]"
      ]
     },
     "execution_count": 73,
     "metadata": {},
     "output_type": "execute_result"
    },
    {
     "data": {
      "image/png": "[encoded data removed]",
      "text/plain": [
       "<matplotlib.figure.Figure at 0x7f3383cab6d0>"
      ]
     },
     "metadata": {},
     "output_type": "display_data"
    }
   ],
   "source": [
    "before_df2 = pd.DataFrame({'time':convertToMin(before_data)})\n",
    "#df2.plot(kind='hist',bins=100)\n",
    "before_df2.hist(bins=200)\n",
    "plt.semilogy()"
   ]
  },
  {
   "cell_type": "code",
   "execution_count": 74,
   "metadata": {
    "collapsed": false
   },
   "outputs": [
    {
     "data": {
      "text/plain": [
       "[]"
      ]
     },
     "execution_count": 74,
     "metadata": {},
     "output_type": "execute_result"
    },
    {
     "data": {
      "image/png": "[encoded data removed]",
      "text/plain": [
       "<matplotlib.figure.Figure at 0x7f338399d950>"
      ]
     },
     "metadata": {},
     "output_type": "display_data"
    }
   ],
   "source": [
    "after_df2 = pd.DataFrame({'time':convertToMin(after_data)})\n",
    "#df2.plot(kind='hist',bins=100)\n",
    "after_df2.hist(bins=200)\n",
    "plt.semilogy()"
   ]
  },
  {
   "cell_type": "code",
   "execution_count": 75,
   "metadata": {
    "collapsed": false
   },
   "outputs": [
    {
     "data": {
      "text/plain": [
       "<matplotlib.axes.AxesSubplot at 0x7f33835def50>"
      ]
     },
     "execution_count": 75,
     "metadata": {},
     "output_type": "execute_result"
    },
    {
     "data": {
      "image/png": "[encoded data removed]",
      "text/plain": [
       "<matplotlib.figure.Figure at 0x7f3382dd0510>"
      ]
     },
     "metadata": {},
     "output_type": "display_data"
    }
   ],
   "source": [
    "after_df.plot(kind='line',x='index',y='time')"
   ]
  },
  {
   "cell_type": "code",
   "execution_count": 129,
   "metadata": {
    "collapsed": true
   },
   "outputs": [],
   "source": [
    "#Takes in a chain and a threshold and returns the percent below that threshold(inclusive)\n",
    "# chain ==> a timediff chain aka a python list of times in seconds\n",
    "# threshold ==> a time in seconds so if you want 1 min you use 60\n",
    "def calculate_thresh_percent(chain,prev_thresh,threshold):\n",
    "    #print len(chain)\n",
    "    #print threshold\n",
    "    #print prev_thresh\n",
    "    #print \"################\"\n",
    "    percent = 0\n",
    "    temp_val = 0\n",
    "    for i in chain:\n",
    "        if prev_thresh < i <= threshold:\n",
    "            temp_val += 1\n",
    "    #print temp_val\n",
    "    #print len(chain)\n",
    "    percent = temp_val / float(len(chain))\n",
    "    #print percent\n",
    "    return percent,temp_val"
   ]
  },
  {
   "cell_type": "code",
   "execution_count": 130,
   "metadata": {
    "collapsed": false
   },
   "outputs": [
    {
     "data": {
      "text/plain": [
       "53.0"
      ]
     },
     "execution_count": 130,
     "metadata": {},
     "output_type": "execute_result"
    }
   ],
   "source": [
    "before_data[4]"
   ]
  },
  {
   "cell_type": "code",
   "execution_count": 131,
   "metadata": {
    "collapsed": false
   },
   "outputs": [
    {
     "name": "stdout",
     "output_type": "stream",
     "text": [
      "(0.08305786712278747, 17287)\n",
      "(0.09040656297714862, 17467)\n"
     ]
    }
   ],
   "source": [
    "print calculate_thresh_percent(before_data,0,60.0)\n",
    "print calculate_thresh_percent(after_data,0,60)"
   ]
  },
  {
   "cell_type": "code",
   "execution_count": 132,
   "metadata": {
    "collapsed": true
   },
   "outputs": [],
   "source": [
    "#returns a datafram with thresholds\n",
    "def calculate_thresholds(chain,max_thresh,inc=1):\n",
    "    threshs = []\n",
    "    values = []\n",
    "    blocks = []\n",
    "    index = 0\n",
    "    prev_thresh = 0\n",
    "    while index <= max_thresh:\n",
    "        threshs.append(index)\n",
    "        per,total = calculate_thresh_percent(chain,prev_thresh,index*60)\n",
    "        values.append(per*100.00)\n",
    "        blocks.append(total)\n",
    "        prev_thresh = index*60\n",
    "        index +=inc\n",
    "    return pd.DataFrame({'Thresholds':threshs,\"Percentage\":values,\"NumBlocks\":blocks})"
   ]
  },
  {
   "cell_type": "code",
   "execution_count": 133,
   "metadata": {
    "collapsed": false
   },
   "outputs": [
    {
     "data": {
      "text/plain": [
       "6.016666666666667"
      ]
     },
     "execution_count": 133,
     "metadata": {},
     "output_type": "execute_result"
    }
   ],
   "source": [
    "convertToMin(before_data)[-6]"
   ]
  },
  {
   "cell_type": "code",
   "execution_count": 146,
   "metadata": {
    "collapsed": false
   },
   "outputs": [],
   "source": [
    "thresh = 15\n",
    "before_percent = calculate_thresholds(before_data[5000:6000],thresh)\n",
    "#after_percent = calculate_thresholds(after_data,thresh)\n",
    "#overall = calculate_thresholds(timeDiff_data,thresh)"
   ]
  },
  {
   "cell_type": "code",
   "execution_count": 147,
   "metadata": {
    "collapsed": false
   },
   "outputs": [
    {
     "data": {
      "text/plain": [
       "208132"
      ]
     },
     "execution_count": 147,
     "metadata": {},
     "output_type": "execute_result"
    }
   ],
   "source": [
    "len(before_data)"
   ]
  },
  {
   "cell_type": "code",
   "execution_count": 148,
   "metadata": {
    "collapsed": false,
    "scrolled": true
   },
   "outputs": [
    {
     "data": {
      "text/html": [
       "<div>\n",
       "<table border=\"1\" class=\"dataframe\">\n",
       "  <thead>\n",
       "    <tr style=\"text-align: right;\">\n",
       "      <th></th>\n",
       "      <th>NumBlocks</th>\n",
       "      <th>Percentage</th>\n",
       "      <th>Thresholds</th>\n",
       "    </tr>\n",
       "  </thead>\n",
       "  <tbody>\n",
       "    <tr>\n",
       "      <th>0</th>\n",
       "      <td>0</td>\n",
       "      <td>0.0</td>\n",
       "      <td>0</td>\n",
       "    </tr>\n",
       "    <tr>\n",
       "      <th>1</th>\n",
       "      <td>73</td>\n",
       "      <td>7.3</td>\n",
       "      <td>1</td>\n",
       "    </tr>\n",
       "    <tr>\n",
       "      <th>2</th>\n",
       "      <td>85</td>\n",
       "      <td>8.5</td>\n",
       "      <td>2</td>\n",
       "    </tr>\n",
       "    <tr>\n",
       "      <th>3</th>\n",
       "      <td>78</td>\n",
       "      <td>7.8</td>\n",
       "      <td>3</td>\n",
       "    </tr>\n",
       "    <tr>\n",
       "      <th>4</th>\n",
       "      <td>74</td>\n",
       "      <td>7.4</td>\n",
       "      <td>4</td>\n",
       "    </tr>\n",
       "    <tr>\n",
       "      <th>5</th>\n",
       "      <td>63</td>\n",
       "      <td>6.3</td>\n",
       "      <td>5</td>\n",
       "    </tr>\n",
       "    <tr>\n",
       "      <th>6</th>\n",
       "      <td>71</td>\n",
       "      <td>7.1</td>\n",
       "      <td>6</td>\n",
       "    </tr>\n",
       "    <tr>\n",
       "      <th>7</th>\n",
       "      <td>62</td>\n",
       "      <td>6.2</td>\n",
       "      <td>7</td>\n",
       "    </tr>\n",
       "    <tr>\n",
       "      <th>8</th>\n",
       "      <td>41</td>\n",
       "      <td>4.1</td>\n",
       "      <td>8</td>\n",
       "    </tr>\n",
       "    <tr>\n",
       "      <th>9</th>\n",
       "      <td>46</td>\n",
       "      <td>4.6</td>\n",
       "      <td>9</td>\n",
       "    </tr>\n",
       "    <tr>\n",
       "      <th>10</th>\n",
       "      <td>39</td>\n",
       "      <td>3.9</td>\n",
       "      <td>10</td>\n",
       "    </tr>\n",
       "    <tr>\n",
       "      <th>11</th>\n",
       "      <td>19</td>\n",
       "      <td>1.9</td>\n",
       "      <td>11</td>\n",
       "    </tr>\n",
       "    <tr>\n",
       "      <th>12</th>\n",
       "      <td>35</td>\n",
       "      <td>3.5</td>\n",
       "      <td>12</td>\n",
       "    </tr>\n",
       "    <tr>\n",
       "      <th>13</th>\n",
       "      <td>26</td>\n",
       "      <td>2.6</td>\n",
       "      <td>13</td>\n",
       "    </tr>\n",
       "    <tr>\n",
       "      <th>14</th>\n",
       "      <td>31</td>\n",
       "      <td>3.1</td>\n",
       "      <td>14</td>\n",
       "    </tr>\n",
       "    <tr>\n",
       "      <th>15</th>\n",
       "      <td>25</td>\n",
       "      <td>2.5</td>\n",
       "      <td>15</td>\n",
       "    </tr>\n",
       "  </tbody>\n",
       "</table>\n",
       "</div>"
      ],
      "text/plain": [
       "    NumBlocks  Percentage  Thresholds\n",
       "0           0         0.0           0\n",
       "1          73         7.3           1\n",
       "2          85         8.5           2\n",
       "3          78         7.8           3\n",
       "4          74         7.4           4\n",
       "5          63         6.3           5\n",
       "6          71         7.1           6\n",
       "7          62         6.2           7\n",
       "8          41         4.1           8\n",
       "9          46         4.6           9\n",
       "10         39         3.9          10\n",
       "11         19         1.9          11\n",
       "12         35         3.5          12\n",
       "13         26         2.6          13\n",
       "14         31         3.1          14\n",
       "15         25         2.5          15"
      ]
     },
     "execution_count": 148,
     "metadata": {},
     "output_type": "execute_result"
    }
   ],
   "source": [
    "before_percent"
   ]
  },
  {
   "cell_type": "code",
   "execution_count": 149,
   "metadata": {
    "collapsed": false
   },
   "outputs": [
    {
     "data": {
      "text/plain": [
       "<matplotlib.axes.AxesSubplot at 0x7f33829ad650>"
      ]
     },
     "execution_count": 149,
     "metadata": {},
     "output_type": "execute_result"
    },
    {
     "data": {
      "image/png": "[encoded data removed]",
      "text/plain": [
       "<matplotlib.figure.Figure at 0x7f33829cc710>"
      ]
     },
     "metadata": {},
     "output_type": "display_data"
    }
   ],
   "source": [
    "before_percent.plot(kind='line',x='Thresholds',y='Percentage', title ='Before Paper: % blocks per threshold in mins')\n",
    "#before_percent.plot(kind='line',x='Thresholds',y='NumBlocks')"
   ]
  },
  {
   "cell_type": "code",
   "execution_count": 87,
   "metadata": {
    "collapsed": false,
    "scrolled": true
   },
   "outputs": [
    {
     "data": {
      "text/plain": [
       "<matplotlib.axes.AxesSubplot at 0x7f3382dbb150>"
      ]
     },
     "execution_count": 87,
     "metadata": {},
     "output_type": "execute_result"
    },
    {
     "data": {
      "image/png": "[encoded data removed]",
      "text/plain": [
       "<matplotlib.figure.Figure at 0x7f3382cd5350>"
      ]
     },
     "metadata": {},
     "output_type": "display_data"
    }
   ],
   "source": [
    "after_percent.plot(kind='line',x='Thresholds',y='Percentage', title ='After Paper: % blocks per threshold in mins')"
   ]
  },
  {
   "cell_type": "code",
   "execution_count": 88,
   "metadata": {
    "collapsed": false
   },
   "outputs": [
    {
     "data": {
      "text/plain": [
       "<matplotlib.axes.AxesSubplot at 0x7f3383729d10>"
      ]
     },
     "execution_count": 88,
     "metadata": {},
     "output_type": "execute_result"
    },
    {
     "data": {
      "image/png": "[encoded data removed]",
      "text/plain": [
       "<matplotlib.figure.Figure at 0x7f338388a110>"
      ]
     },
     "metadata": {},
     "output_type": "display_data"
    }
   ],
   "source": [
    "overall.plot(kind='line',x='Thresholds',y='Percentage', title ='Overall: % blocks per threshold in mins')"
   ]
  },
  {
   "cell_type": "code",
   "execution_count": 89,
   "metadata": {
    "collapsed": true
   },
   "outputs": [],
   "source": [
    "def calculate_consec(chain):\n",
    "    marker = int(chain[0])\n",
    "    tup = [marker,1,[chain[0]]]\n",
    "    threshold = 1\n",
    "    overall = []\n",
    "    for i in range(1,len(chain)):\n",
    "        if marker-threshold <= int(chain[i]) <= marker+threshold:\n",
    "            tup[1] += 1\n",
    "            tup[2].append(chain[i])\n",
    "        else:\n",
    "            if tup[1] > 1:\n",
    "                overall.append(tup)\n",
    "            marker = int(chain[i])\n",
    "            tup = [marker,1,[chain[i]]]\n",
    "    return overall"
   ]
  },
  {
   "cell_type": "code",
   "execution_count": 90,
   "metadata": {
    "collapsed": false
   },
   "outputs": [
    {
     "name": "stdout",
     "output_type": "stream",
     "text": [
      "[1, 2, [1.0166666666666666, 1.1]]\n"
     ]
    }
   ],
   "source": [
    "consecutives = calculate_consec(convertToMin(before_data))\n",
    "len(consecutives)\n",
    "print consecutives[0]"
   ]
  },
  {
   "cell_type": "code",
   "execution_count": 91,
   "metadata": {
    "collapsed": false
   },
   "outputs": [
    {
     "name": "stdout",
     "output_type": "stream",
     "text": [
      "[3, 2, [3.6666666666666665, 4.933333333333334]]\n"
     ]
    }
   ],
   "source": [
    "consecutives_after = calculate_consec(convertToMin(after_data))\n",
    "len(consecutives_after)\n",
    "print consecutives_after[0]"
   ]
  },
  {
   "cell_type": "code",
   "execution_count": 92,
   "metadata": {
    "collapsed": false
   },
   "outputs": [
    {
     "name": "stdout",
     "output_type": "stream",
     "text": [
      "[6, 2, [6.1, 5.283333333333333]]\n",
      "571.0\n"
     ]
    }
   ],
   "source": [
    "print consecutives[4]\n",
    "print before_data[1]"
   ]
  },
  {
   "cell_type": "code",
   "execution_count": 93,
   "metadata": {
    "collapsed": false
   },
   "outputs": [
    {
     "name": "stdout",
     "output_type": "stream",
     "text": [
      "[1, 3, [1.1833333333333333, 2.3666666666666667, 2.7]]\n",
      "[1, 4, [1.3666666666666667, 1.7333333333333334, 1.7166666666666666, 2.1333333333333333]]\n",
      "[1, 3, [1.85, 0.9333333333333333, 2.25]]\n",
      "[1, 3, [1.55, 2.533333333333333, 2.35]]\n",
      "[1, 3, [1.1666666666666667, 2.7666666666666666, 1.15]]\n",
      "[1, 3, [1.25, 2.0833333333333335, 2.4]]\n",
      "[1, 3, [1.8666666666666667, 1.1166666666666667, 2.533333333333333]]\n",
      "[1, 3, [1.5666666666666667, 1.3333333333333333, 1.85]]\n",
      "[1, 3, [1.5, 0.95, 2.316666666666667]]\n",
      "[1, 5, [1.3166666666666667, 1.8, 2.45, 2.816666666666667, 1.5333333333333334]]\n",
      "[1, 4, [1.4833333333333334, 2.1333333333333333, 1.1, 2.033333333333333]]\n",
      "[1, 3, [1.1833333333333333, 0.9166666666666666, 0.5333333333333333]]\n",
      "[1, 3, [1.8333333333333333, 1.5666666666666667, 0.35]]\n",
      "[1, 3, [1.0166666666666666, 1.05, 1.15]]\n",
      "[1, 3, [1.9666666666666666, 2.2333333333333334, 2.933333333333333]]\n",
      "[1, 3, [1.1666666666666667, 1.8666666666666667, 0.3]]\n",
      "[1, 3, [1.2333333333333334, 2.85, 0.5666666666666667]]\n",
      "[1, 3, [1.1166666666666667, 0.3, 1.8666666666666667]]\n",
      "[1, 3, [1.9, 0.5166666666666667, 1.7166666666666666]]\n",
      "[1, 3, [1.1166666666666667, 2.933333333333333, 1.9]]\n",
      "[1, 3, [1.7666666666666666, 0.9666666666666667, 0.38333333333333336]]\n",
      "[1, 3, [1.1333333333333333, 2.0166666666666666, 1.6833333333333333]]\n",
      "[1, 4, [1.2333333333333334, 1.5666666666666667, 1.75, 0.26666666666666666]]\n",
      "[1, 3, [1.9333333333333333, 0.6666666666666666, 0.7166666666666667]]\n",
      "[1, 3, [1.9833333333333334, 0.26666666666666666, 2.933333333333333]]\n",
      "[1, 3, [1.4666666666666666, 0.7166666666666667, 0.23333333333333334]]\n",
      "[1, 3, [1.5333333333333334, 1.0, 0.7666666666666667]]\n",
      "[1, 3, [1.7333333333333334, 0.5333333333333333, 2.85]]\n",
      "[1, 3, [1.25, 2.216666666666667, 2.1666666666666665]]\n",
      "[1, 3, [1.7166666666666666, 0.08333333333333333, 2.8833333333333333]]\n",
      "[1, 4, [1.3833333333333333, 2.3666666666666667, 0.45, 2.5166666666666666]]\n",
      "[1, 3, [1.45, 1.6333333333333333, 1.4]]\n",
      "[1, 5, [1.15, 0.36666666666666664, 2.283333333333333, 1.7666666666666666, 0.21666666666666667]]\n",
      "[1, 3, [1.7833333333333334, 2.0, 0.36666666666666664]]\n",
      "[1, 3, [1.3, 2.0, 2.3333333333333335]]\n",
      "[1, 3, [1.4333333333333333, 1.1, 0.8666666666666667]]\n",
      "[1, 3, [1.1333333333333333, 1.9833333333333334, 2.65]]\n",
      "[1, 3, [1.8, 1.4333333333333333, 0.5666666666666667]]\n",
      "[1, 4, [1.55, 2.55, 0.45, 1.65]]\n",
      "[1, 3, [1.65, 2.2666666666666666, 2.7666666666666666]]\n",
      "[1, 3, [1.3666666666666667, 0.5666666666666667, 1.3666666666666667]]\n",
      "[1, 3, [1.8333333333333333, 2.8, 2.6666666666666665]]\n",
      "[1, 4, [1.1166666666666667, 0.43333333333333335, 0.7166666666666667, 2.4166666666666665]]\n",
      "[1, 4, [1.7, 1.2, 1.2166666666666666, 0.85]]\n",
      "[1, 3, [1.7, 0.8333333333333334, 0.8666666666666667]]\n",
      "[1, 3, [1.85, 1.9666666666666666, 1.0666666666666667]]\n",
      "[1, 4, [1.85, 2.5833333333333335, 2.8666666666666667, 1.6833333333333333]]\n",
      "[1, 3, [1.8666666666666667, 0.9666666666666667, 0.5666666666666667]]\n",
      "[1, 3, [1.7833333333333334, 0.7333333333333333, 1.4833333333333334]]\n",
      "[1, 3, [1.2, 2.816666666666667, 1.55]]\n",
      "[1, 3, [1.1833333333333333, 1.8666666666666667, 1.35]]\n",
      "[1, 3, [1.0666666666666667, 2.2666666666666666, 1.55]]\n",
      "[1, 4, [1.2833333333333334, 2.3, 2.816666666666667, 0.9]]\n",
      "[1, 3, [1.2833333333333334, 2.5833333333333335, 1.7666666666666666]]\n",
      "[1, 3, [1.6333333333333333, 2.3666666666666667, 1.1]]\n",
      "[1, 3, [1.6333333333333333, 1.1833333333333333, 1.6833333333333333]]\n",
      "[1, 4, [1.35, 0.55, 0.9, 2.716666666666667]]\n",
      "[1, 3, [1.2833333333333334, 0.4, 1.0166666666666666]]\n",
      "[1, 5, [1.9, 0.4166666666666667, 2.95, 2.8, 2.8666666666666667]]\n",
      "[1, 3, [1.3166666666666667, 1.9, 1.7]]\n",
      "[1, 3, [1.0166666666666666, 0.7666666666666667, 1.0833333333333333]]\n",
      "[1, 3, [1.7166666666666666, 0.5333333333333333, 2.2666666666666666]]\n",
      "[1, 3, [1.5333333333333334, 2.7333333333333334, 1.2833333333333334]]\n",
      "[1, 3, [1.7166666666666666, 2.1333333333333333, 0.6666666666666666]]\n",
      "[1, 3, [1.0166666666666666, 1.5, 2.966666666666667]]\n",
      "[1, 4, [1.0, 2.3, 1.7666666666666666, 0.6]]\n",
      "[1, 3, [1.7166666666666666, 2.9166666666666665, 0.6833333333333333]]\n",
      "[1, 3, [1.45, 1.9833333333333334, 0.7833333333333333]]\n",
      "[1, 3, [1.4333333333333333, 2.35, 2.066666666666667]]\n",
      "[1, 3, [1.2666666666666666, 0.4, 2.033333333333333]]\n",
      "[1, 3, [1.9666666666666666, 2.9, 2.783333333333333]]\n",
      "[1, 3, [1.3333333333333333, 0.6833333333333333, 2.1666666666666665]]\n",
      "[1, 3, [1.9666666666666666, 2.6333333333333333, 1.1166666666666667]]\n",
      "[1, 3, [1.6666666666666667, 1.0166666666666666, 0.2833333333333333]]\n",
      "[1, 3, [1.3166666666666667, 1.45, 2.3666666666666667]]\n",
      "[1, 3, [1.3166666666666667, 1.2833333333333334, 1.5166666666666666]]\n",
      "[1, 3, [1.2833333333333334, 1.2833333333333334, 0.8833333333333333]]\n",
      "[1, 4, [1.0, 2.35, 2.4833333333333334, 1.9166666666666667]]\n",
      "[1, 3, [1.6, 0.6, 0.8]]\n",
      "[1, 3, [1.4333333333333333, 0.18333333333333332, 0.16666666666666666]]\n",
      "[1, 3, [1.4333333333333333, 1.1666666666666667, 0.21666666666666667]]\n",
      "[1, 3, [1.0333333333333334, 1.6666666666666667, 1.9333333333333333]]\n",
      "[1, 4, [1.1166666666666667, 2.4166666666666665, 0.9833333333333333, 0.2833333333333333]]\n",
      "[1, 3, [1.8833333333333333, 0.48333333333333334, 0.9]]\n",
      "[1, 3, [1.85, 0.8833333333333333, 0.4666666666666667]]\n",
      "[1, 4, [1.7833333333333334, 1.95, 1.1833333333333333, 2.25]]\n",
      "[1, 3, [1.9333333333333333, 1.5666666666666667, 1.9166666666666667]]\n",
      "[1, 3, [1.05, 2.716666666666667, 1.3333333333333333]]\n",
      "[1, 3, [1.0, 2.4833333333333334, 1.5833333333333333]]\n",
      "[1, 4, [1.9166666666666667, 2.1666666666666665, 1.5166666666666666, 2.9833333333333334]]\n",
      "[1, 3, [1.6666666666666667, 2.7333333333333334, 1.55]]\n",
      "[1, 3, [1.15, 1.5833333333333333, 1.95]]\n",
      "[1, 3, [1.6166666666666667, 1.4833333333333334, 1.55]]\n",
      "[1, 3, [1.8333333333333333, 0.4666666666666667, 1.3666666666666667]]\n",
      "[1, 3, [1.7666666666666666, 1.8, 0.6833333333333333]]\n",
      "[1, 3, [1.8166666666666667, 0.9666666666666667, 0.6]]\n",
      "[1, 3, [1.2, 1.65, 1.5]]\n",
      "[1, 3, [1.6833333333333333, 1.6166666666666667, 0.6666666666666666]]\n",
      "[1, 3, [1.25, 0.2833333333333333, 0.9166666666666666]]\n",
      "[1, 3, [1.3333333333333333, 1.4666666666666666, 1.2]]\n",
      "[1, 3, [1.6666666666666667, 2.5, 2.966666666666667]]\n",
      "[1, 3, [1.45, 1.0166666666666666, 1.9166666666666667]]\n",
      "[1, 6, [1.6166666666666667, 0.1, 1.75, 0.26666666666666666, 0.13333333333333333, 1.7833333333333334]]\n",
      "[1, 3, [1.55, 0.9666666666666667, 2.9]]\n",
      "[1, 3, [1.9333333333333333, 2.3, 0.5166666666666667]]\n",
      "[1, 3, [1.1, 2.9833333333333334, 2.8]]\n",
      "[1, 3, [1.6333333333333333, 1.7333333333333334, 2.816666666666667]]\n",
      "[1, 3, [1.5333333333333334, 1.7166666666666666, 0.13333333333333333]]\n",
      "[1, 3, [1.2166666666666666, 0.7666666666666667, 2.75]]\n",
      "[1, 4, [1.2666666666666666, 0.6166666666666667, 2.1, 2.1666666666666665]]\n",
      "[1, 6, [1.3, 2.066666666666667, 1.3166666666666667, 2.783333333333333, 0.95, 1.7833333333333334]]\n",
      "[1, 3, [1.3833333333333333, 0.85, 2.933333333333333]]\n",
      "[1, 3, [1.8166666666666667, 1.4666666666666666, 1.8833333333333333]]\n",
      "[1, 3, [1.9333333333333333, 1.3833333333333333, 2.5]]\n",
      "[1, 3, [1.9, 1.9166666666666667, 0.06666666666666667]]\n",
      "[1, 3, [1.3, 1.8166666666666667, 0.25]]\n",
      "[1, 6, [1.1, 2.75, 2.7333333333333334, 0.13333333333333333, 2.8, 0.5833333333333334]]\n",
      "[1, 3, [1.7, 1.75, 1.0833333333333333]]\n",
      "[1, 9, [1.5166666666666666, 1.1, 2.433333333333333, 1.4666666666666666, 0.4166666666666667, 1.1166666666666667, 2.566666666666667, 2.95, 1.35]]\n",
      "[1, 3, [1.0166666666666666, 2.4, 2.3333333333333335]]\n",
      "[1, 3, [1.1833333333333333, 2.7333333333333334, 0.4]]\n",
      "[1, 4, [1.5833333333333333, 2.4833333333333334, 2.65, 2.9833333333333334]]\n",
      "[1, 3, [1.5166666666666666, 1.9833333333333334, 0.23333333333333334]]\n",
      "[1, 3, [1.0666666666666667, 1.2666666666666666, 1.35]]\n",
      "[1, 4, [1.2166666666666666, 2.7666666666666666, 0.3, 1.2]]\n",
      "[1, 3, [1.2, 1.5333333333333334, 2.2333333333333334]]\n",
      "[1, 3, [1.1, 0.7166666666666667, 2.5833333333333335]]\n",
      "[1, 3, [1.5666666666666667, 0.9, 2.3333333333333335]]\n",
      "[1, 3, [1.8333333333333333, 1.0333333333333334, 1.2833333333333334]]\n",
      "[1, 3, [1.1166666666666667, 2.6166666666666667, 1.3833333333333333]]\n",
      "[1, 3, [1.7166666666666666, 2.85, 1.6]]\n",
      "[1, 4, [1.05, 1.1166666666666667, 0.6666666666666666, 0.9666666666666667]]\n",
      "[1, 3, [1.05, 1.1, 2.5]]\n",
      "[1, 4, [1.1666666666666667, 0.7, 0.7166666666666667, 0.31666666666666665]]\n",
      "[1, 3, [1.6833333333333333, 2.55, 2.533333333333333]]\n",
      "[1, 3, [1.8166666666666667, 0.5666666666666667, 1.55]]\n",
      "[1, 4, [1.8166666666666667, 0.03333333333333333, 2.066666666666667, 2.783333333333333]]\n",
      "[1, 3, [1.2333333333333334, 2.1333333333333333, 2.966666666666667]]\n",
      "[1, 4, [1.7833333333333334, 0.9833333333333333, 0.7666666666666667, 1.7333333333333334]]\n",
      "[1, 5, [1.35, 2.15, 0.9666666666666667, 2.9833333333333334, 1.9166666666666667]]\n",
      "[1, 3, [1.4, 2.033333333333333, 1.8166666666666667]]\n",
      "[1, 3, [1.3833333333333333, 0.9, 0.65]]\n",
      "[1, 4, [1.3833333333333333, 0.48333333333333334, 1.7666666666666666, 0.35]]\n",
      "[1, 3, [1.25, 2.4166666666666665, 0.8166666666666667]]\n",
      "[1, 3, [1.4166666666666667, 2.5166666666666666, 1.5666666666666667]]\n",
      "[1, 3, [1.1333333333333333, 0.21666666666666667, 0.35]]\n",
      "[1, 4, [1.4, 0.9666666666666667, 0.43333333333333335, 2.283333333333333]]\n",
      "[1, 3, [1.7166666666666666, 2.8666666666666667, 1.0666666666666667]]\n",
      "[1, 4, [1.1166666666666667, 2.5833333333333335, 0.9833333333333333, 0.9333333333333333]]\n",
      "[1, 4, [1.75, 0.2833333333333333, 2.3666666666666667, 1.55]]\n",
      "[1, 3, [1.6333333333333333, 0.8, 2.7666666666666666]]\n",
      "[1, 3, [1.5, 1.85, 0.8666666666666667]]\n",
      "[1, 4, [1.8166666666666667, 2.5, 0.7166666666666667, 2.9]]\n",
      "[1, 3, [1.6, 2.8, 2.5833333333333335]]\n",
      "[1, 4, [1.8, 2.55, 2.1166666666666667, 1.5]]\n",
      "[1, 3, [1.6833333333333333, 2.966666666666667, 0.6166666666666667]]\n",
      "[1, 3, [1.9833333333333334, 0.2, 2.3833333333333333]]\n",
      "[1, 3, [1.2, 2.216666666666667, 1.2333333333333334]]\n",
      "[1, 3, [1.25, 1.4, 0.4666666666666667]]\n",
      "[1, 3, [1.2833333333333334, 1.0, 2.4833333333333334]]\n",
      "[1, 5, [1.4833333333333334, 1.55, 0.35, 2.5, 0.8833333333333333]]\n",
      "[1, 3, [1.0833333333333333, 1.7, 1.6166666666666667]]\n",
      "[1, 5, [1.7166666666666666, 2.466666666666667, 0.8333333333333334, 0.6833333333333333, 0.26666666666666666]]\n",
      "[1, 3, [1.2, 2.2, 1.0166666666666666]]\n",
      "[1, 3, [1.6833333333333333, 0.18333333333333332, 2.966666666666667]]\n",
      "[1, 5, [1.5333333333333334, 2.15, 1.1666666666666667, 2.216666666666667, 1.3166666666666667]]\n",
      "[1, 3, [1.45, 0.45, 0.6833333333333333]]\n",
      "[1, 3, [1.1333333333333333, 1.9333333333333333, 1.75]]\n",
      "[1, 3, [1.2833333333333334, 0.9666666666666667, 2.25]]\n",
      "[1, 3, [1.8833333333333333, 1.7666666666666666, 1.1166666666666667]]\n",
      "[1, 3, [1.9333333333333333, 2.783333333333333, 0.9666666666666667]]\n",
      "[1, 3, [1.2333333333333334, 1.4166666666666667, 2.316666666666667]]\n",
      "[1, 3, [1.2833333333333334, 2.0833333333333335, 1.4833333333333334]]\n",
      "[1, 3, [1.8333333333333333, 1.3, 2.216666666666667]]\n",
      "[1, 3, [1.7666666666666666, 1.3833333333333333, 2.5]]\n",
      "[1, 3, [1.5666666666666667, 2.6, 1.7333333333333334]]\n",
      "[1, 3, [1.9833333333333334, 1.8333333333333333, 2.216666666666667]]\n",
      "[1, 3, [1.6333333333333333, 0.8833333333333333, 2.466666666666667]]\n",
      "[1, 4, [1.15, 1.5, 2.2666666666666666, 1.15]]\n",
      "[1, 4, [1.2833333333333334, 0.9166666666666666, 0.8833333333333333, 0.9666666666666667]]\n",
      "[1, 3, [1.5, 1.9166666666666667, 2.7]]\n",
      "[1, 3, [1.3166666666666667, 0.85, 0.65]]\n",
      "[1, 3, [1.8333333333333333, 2.966666666666667, 2.566666666666667]]\n",
      "[1, 3, [1.6666666666666667, 2.683333333333333, 0.7333333333333333]]\n",
      "[1, 3, [1.1333333333333333, 2.8, 2.5]]\n",
      "[1, 3, [1.6166666666666667, 2.433333333333333, 1.05]]\n",
      "[1, 3, [1.4333333333333333, 0.8333333333333334, 2.1333333333333333]]\n",
      "[1, 3, [1.8, 2.1, 2.216666666666667]]\n",
      "[1, 3, [1.8, 2.8833333333333333, 1.2666666666666666]]\n",
      "[1, 3, [1.75, 1.2, 2.9166666666666665]]\n",
      "[1, 4, [1.35, 1.7833333333333334, 1.8166666666666667, 0.16666666666666666]]\n",
      "[1, 3, [1.05, 0.18333333333333332, 2.3333333333333335]]\n",
      "[1, 3, [1.5666666666666667, 1.1, 1.8333333333333333]]\n",
      "[1, 3, [1.9333333333333333, 2.6666666666666665, 2.7333333333333334]]\n",
      "[1, 4, [1.2, 0.16666666666666666, 0.95, 0.6333333333333333]]\n",
      "[1, 4, [1.45, 1.8666666666666667, 0.8833333333333333, 1.6]]\n",
      "[1, 4, [1.8833333333333333, 1.2166666666666666, 2.216666666666667, 0.35]]\n",
      "[1, 3, [1.9666666666666666, 2.55, 0.8833333333333333]]\n",
      "[1, 3, [1.35, 1.1, 0.9666666666666667]]\n",
      "[1, 3, [1.15, 0.23333333333333334, 1.9166666666666667]]\n",
      "[1, 3, [1.95, 2.0, 2.0833333333333335]]\n",
      "[1, 3, [1.1166666666666667, 1.35, 2.0833333333333335]]\n",
      "[1, 3, [1.25, 1.6, 2.7666666666666666]]\n",
      "[1, 3, [1.3333333333333333, 1.6166666666666667, 1.4]]\n",
      "[1, 4, [1.3, 2.9, 1.7166666666666666, 0.43333333333333335]]\n",
      "[1, 3, [1.8333333333333333, 1.2833333333333334, 2.6166666666666667]]\n",
      "[1, 3, [1.0166666666666666, 1.2666666666666666, 1.3333333333333333]]\n",
      "[1, 4, [1.4666666666666666, 1.3833333333333333, 2.6333333333333333, 1.9333333333333333]]\n",
      "[1, 3, [1.65, 0.03333333333333333, 2.033333333333333]]\n",
      "[1, 3, [1.1833333333333333, 1.1166666666666667, 0.15]]\n",
      "[1, 3, [1.9666666666666666, 2.1333333333333333, 2.5]]\n",
      "[1, 3, [1.8, 1.05, 2.183333333333333]]\n",
      "[1, 3, [1.8, 2.95, 0.15]]\n",
      "[1, 3, [1.6166666666666667, 2.6333333333333333, 2.55]]\n",
      "[1, 4, [1.5833333333333333, 2.9, 1.55, 0.9666666666666667]]\n",
      "[1, 4, [1.3666666666666667, 0.8166666666666667, 1.05, 1.4833333333333334]]\n",
      "[1, 5, [1.2, 0.2833333333333333, 1.5166666666666666, 2.6, 1.3333333333333333]]\n",
      "[1, 3, [1.8333333333333333, 2.2, 2.9166666666666665]]\n",
      "[1, 3, [1.1666666666666667, 1.7, 2.5]]\n",
      "[1, 3, [1.1833333333333333, 2.716666666666667, 0.8]]\n",
      "[1, 3, [1.5166666666666666, 0.8, 2.6666666666666665]]\n",
      "[1, 3, [1.9666666666666666, 0.5833333333333334, 0.48333333333333334]]\n",
      "[1, 3, [1.4166666666666667, 1.8, 2.9166666666666665]]\n",
      "[1, 3, [1.6166666666666667, 0.7333333333333333, 2.9]]\n",
      "[1, 3, [1.3666666666666667, 1.55, 2.8833333333333333]]\n",
      "[1, 3, [1.3666666666666667, 1.25, 1.3833333333333333]]\n",
      "[1, 3, [1.5, 1.55, 2.4]]\n",
      "[1, 3, [1.9333333333333333, 2.716666666666667, 2.566666666666667]]\n",
      "[1, 6, [1.7333333333333334, 2.6666666666666665, 2.0166666666666666, 2.1333333333333333, 2.55, 0.4666666666666667]]\n",
      "[1, 3, [1.7666666666666666, 1.6166666666666667, 1.1833333333333333]]\n",
      "[1, 3, [1.3166666666666667, 0.31666666666666665, 2.8]]\n",
      "[1, 3, [1.6333333333333333, 1.8, 0.8]]\n",
      "[1, 4, [1.5166666666666666, 2.95, 1.45, 2.466666666666667]]\n",
      "[1, 3, [1.2166666666666666, 2.433333333333333, 0.6833333333333333]]\n",
      "[1, 3, [1.5166666666666666, 1.4666666666666666, 2.183333333333333]]\n",
      "[1, 3, [1.35, 0.31666666666666665, 1.35]]\n",
      "[1, 3, [1.5333333333333334, 1.0166666666666666, 2.6166666666666667]]\n",
      "[1, 4, [1.3333333333333333, 1.3333333333333333, 0.1, 1.7333333333333334]]\n",
      "[1, 3, [1.2333333333333334, 2.3, 2.0166666666666666]]\n",
      "[1, 3, [1.3833333333333333, 0.7666666666666667, 2.35]]\n",
      "[1, 3, [1.0, 2.4833333333333334, 1.8333333333333333]]\n",
      "[1, 3, [1.1166666666666667, 1.3, 1.5333333333333334]]\n",
      "[1, 3, [1.4666666666666666, 0.6333333333333333, 2.933333333333333]]\n",
      "[1, 3, [1.3833333333333333, 0.85, 2.9166666666666665]]\n",
      "[1, 3, [1.1666666666666667, 1.6833333333333333, 1.5833333333333333]]\n",
      "[1, 3, [1.1, 0.9166666666666666, 1.6]]\n",
      "[1, 4, [1.2333333333333334, 1.5, 2.35, 2.9166666666666665]]\n",
      "[1, 3, [1.85, 1.9166666666666667, 1.2666666666666666]]\n",
      "[1, 3, [1.0333333333333334, 0.7833333333333333, 2.2666666666666666]]\n",
      "[1, 3, [1.05, 2.783333333333333, 2.2666666666666666]]\n",
      "[1, 4, [1.4666666666666666, 1.6833333333333333, 1.3666666666666667, 0.08333333333333333]]\n",
      "[1, 6, [1.7, 1.4833333333333334, 1.7833333333333334, 0.6666666666666666, 1.6333333333333333, 2.466666666666667]]\n",
      "[1, 3, [1.6833333333333333, 0.7333333333333333, 2.75]]\n",
      "[1, 3, [1.2833333333333334, 1.8833333333333333, 1.4333333333333333]]\n",
      "[1, 3, [1.25, 0.35, 0.5]]\n",
      "[1, 3, [1.8666666666666667, 1.7, 1.5166666666666666]]\n",
      "[1, 3, [1.9, 0.05, 0.5166666666666667]]\n",
      "[1, 3, [1.2333333333333334, 0.4166666666666667, 2.5833333333333335]]\n",
      "[1, 3, [1.6666666666666667, 1.2, 2.316666666666667]]\n",
      "[1, 3, [1.9, 0.5833333333333334, 2.9]]\n",
      "[1, 4, [1.05, 0.5666666666666667, 0.3333333333333333, 2.8]]\n",
      "[1, 3, [1.3333333333333333, 2.15, 0.7833333333333333]]\n",
      "[1, 3, [1.05, 0.6833333333333333, 2.7]]\n",
      "[1, 4, [1.1, 0.9166666666666666, 0.85, 0.5166666666666667]]\n",
      "[1, 3, [1.6, 1.05, 0.4166666666666667]]\n",
      "[1, 3, [1.05, 2.4833333333333334, 0.65]]\n",
      "[1, 5, [1.7, 2.2333333333333334, 2.033333333333333, 2.95, 0.85]]\n",
      "[1, 3, [1.8666666666666667, 2.0, 2.5166666666666666]]\n",
      "[1, 3, [1.1333333333333333, 1.25, 2.4166666666666665]]\n",
      "[1, 5, [1.0, 2.2, 2.533333333333333, 2.65, 1.9166666666666667]]\n",
      "[1, 5, [1.8333333333333333, 0.4666666666666667, 1.9666666666666666, 2.4166666666666665, 0.7333333333333333]]\n",
      "[1, 3, [1.3666666666666667, 1.4, 2.0]]\n",
      "[1, 3, [1.1833333333333333, 1.2, 0.4]]\n",
      "[1, 3, [1.3666666666666667, 1.4166666666666667, 0.8833333333333333]]\n",
      "[1, 3, [1.0666666666666667, 1.8166666666666667, 0.95]]\n",
      "[1, 3, [1.75, 2.216666666666667, 1.2833333333333334]]\n",
      "[1, 4, [1.9833333333333334, 2.1666666666666665, 0.8, 0.6833333333333333]]\n",
      "[1, 3, [1.5833333333333333, 2.533333333333333, 1.1333333333333333]]\n",
      "[1, 3, [1.3, 2.183333333333333, 2.3666666666666667]]\n",
      "[1, 3, [1.6666666666666667, 2.6, 1.6666666666666667]]\n",
      "[1, 4, [1.8166666666666667, 1.35, 2.966666666666667, 2.65]]\n",
      "[1, 3, [1.7833333333333334, 0.8333333333333334, 2.4]]\n",
      "[1, 3, [1.1666666666666667, 1.9166666666666667, 1.7333333333333334]]\n",
      "[1, 3, [1.75, 1.2333333333333334, 0.6166666666666667]]\n",
      "[1, 3, [1.4333333333333333, 2.7, 1.9166666666666667]]\n",
      "[1, 3, [1.1666666666666667, 1.3666666666666667, 1.0833333333333333]]\n",
      "[1, 3, [1.7166666666666666, 2.316666666666667, 1.5166666666666666]]\n",
      "[1, 3, [1.2833333333333334, 1.15, 2.3666666666666667]]\n",
      "[1, 3, [1.75, 2.2, 2.6666666666666665]]\n",
      "[1, 3, [1.9666666666666666, 0.5, 1.7333333333333334]]\n",
      "[1, 3, [1.4833333333333334, 1.0833333333333333, 2.55]]\n",
      "[1, 3, [1.35, 1.5833333333333333, 0.5166666666666667]]\n",
      "[1, 4, [1.2833333333333334, 0.9666666666666667, 0.6166666666666667, 1.1]]\n",
      "[1, 3, [1.1833333333333333, 2.3333333333333335, 0.65]]\n",
      "[1, 6, [1.6333333333333333, 0.5333333333333333, 2.1333333333333333, 0.4166666666666667, 1.3, 1.6]]\n",
      "[1, 4, [1.7, 2.316666666666667, 1.25, 1.8666666666666667]]\n",
      "[1, 4, [1.9833333333333334, 1.9833333333333334, 1.5833333333333333, 2.25]]\n",
      "[1, 5, [1.85, 1.9166666666666667, 0.8666666666666667, 1.5, 0.7833333333333333]]\n",
      "[1, 4, [1.2666666666666666, 0.8333333333333334, 2.0, 0.6166666666666667]]\n",
      "[1, 3, [1.3166666666666667, 0.1, 2.05]]\n",
      "[1, 3, [1.8, 1.55, 1.1]]\n",
      "[1, 4, [1.8, 1.35, 0.7666666666666667, 1.3166666666666667]]\n",
      "[1, 3, [1.8, 1.45, 1.7166666666666666]]\n",
      "[1, 3, [1.8666666666666667, 0.2833333333333333, 2.816666666666667]]\n",
      "[1, 3, [1.3666666666666667, 1.7, 2.6333333333333333]]\n",
      "[1, 3, [1.1333333333333333, 1.8833333333333333, 1.5666666666666667]]\n",
      "[1, 4, [1.3833333333333333, 1.1833333333333333, 1.1, 1.7666666666666666]]\n",
      "[1, 3, [1.45, 2.2, 2.6333333333333333]]\n",
      "[1, 4, [1.05, 0.8, 0.5833333333333334, 2.6166666666666667]]\n",
      "[1, 3, [1.95, 0.9, 1.2]]\n",
      "[1, 3, [1.2833333333333334, 0.7166666666666667, 0.75]]\n",
      "[1, 3, [1.3166666666666667, 0.8666666666666667, 0.3]]\n",
      "[1, 4, [1.2666666666666666, 2.2666666666666666, 0.9666666666666667, 0.35]]\n",
      "[1, 4, [1.0, 0.25, 1.15, 0.3333333333333333]]\n",
      "[1, 3, [1.6, 1.3833333333333333, 2.9166666666666665]]\n",
      "[1, 3, [1.8333333333333333, 1.1833333333333333, 2.9833333333333334]]\n",
      "[1, 3, [1.1166666666666667, 0.7, 1.5833333333333333]]\n",
      "[1, 3, [1.9833333333333334, 1.5166666666666666, 0.31666666666666665]]\n",
      "[1, 3, [1.4166666666666667, 0.6166666666666667, 1.45]]\n",
      "[1, 3, [1.2666666666666666, 0.15, 1.5166666666666666]]\n",
      "[1, 3, [1.7, 0.3, 0.8833333333333333]]\n",
      "[1, 3, [1.8666666666666667, 2.7333333333333334, 1.7]]\n",
      "[1, 3, [1.65, 1.5333333333333334, 0.03333333333333333]]\n",
      "[1, 3, [1.7166666666666666, 1.3333333333333333, 0.9333333333333333]]\n",
      "[1, 3, [1.3833333333333333, 2.8833333333333333, 1.2]]\n",
      "[1, 3, [1.8666666666666667, 0.36666666666666664, 1.05]]\n",
      "[1, 3, [1.9666666666666666, 1.1666666666666667, 1.6]]\n",
      "[1, 4, [1.2333333333333334, 2.9166666666666665, 0.5166666666666667, 0.6666666666666666]]\n",
      "[1, 3, [1.2333333333333334, 1.5, 0.95]]\n",
      "[1, 3, [1.4166666666666667, 2.15, 1.8666666666666667]]\n",
      "[1, 4, [1.8166666666666667, 1.0, 1.35, 0.6]]\n",
      "[1, 3, [1.55, 0.55, 1.7333333333333334]]\n",
      "[1, 3, [1.8833333333333333, 2.216666666666667, 2.283333333333333]]\n",
      "[1, 3, [1.3333333333333333, 1.6166666666666667, 0.7]]\n",
      "[1, 4, [1.9833333333333334, 0.26666666666666666, 2.433333333333333, 1.55]]\n",
      "[1, 3, [1.0166666666666666, 1.05, 0.21666666666666667]]\n",
      "[1, 3, [1.1833333333333333, 1.45, 1.25]]\n",
      "[1, 3, [1.6166666666666667, 0.3333333333333333, 0.5166666666666667]]\n",
      "[1, 3, [1.3, 0.21666666666666667, 1.8666666666666667]]\n",
      "[1, 3, [1.0833333333333333, 1.3166666666666667, 1.3333333333333333]]\n",
      "[1, 5, [1.45, 2.216666666666667, 2.6166666666666667, 0.65, 2.05]]\n",
      "[1, 5, [1.0333333333333334, 0.38333333333333336, 0.6333333333333333, 0.9, 2.4]]\n",
      "[1, 3, [1.5666666666666667, 1.4833333333333334, 0.9166666666666666]]\n",
      "[1, 4, [1.1666666666666667, 2.5833333333333335, 1.15, 1.9833333333333334]]\n",
      "[1, 3, [1.8, 0.48333333333333334, 2.033333333333333]]\n",
      "[1, 3, [1.9333333333333333, 2.216666666666667, 2.933333333333333]]\n",
      "[1, 3, [1.45, 2.9833333333333334, 2.283333333333333]]\n",
      "[1, 3, [1.2333333333333334, 1.95, 2.6166666666666667]]\n",
      "[1, 5, [1.9833333333333334, 1.8, 2.566666666666667, 1.9, 1.8]]\n",
      "[1, 6, [1.15, 1.2166666666666666, 0.85, 2.3, 0.43333333333333335, 0.11666666666666667]]\n",
      "[1, 4, [1.5, 0.7166666666666667, 1.95, 1.95]]\n",
      "[1, 3, [1.3333333333333333, 0.5333333333333333, 2.45]]\n",
      "[1, 5, [1.6333333333333333, 2.316666666666667, 2.716666666666667, 2.2, 1.2833333333333334]]\n",
      "[1, 4, [1.3333333333333333, 2.35, 0.45, 2.033333333333333]]\n",
      "[1, 3, [1.9666666666666666, 2.0833333333333335, 2.8833333333333333]]\n",
      "[1, 4, [1.0833333333333333, 0.25, 1.7166666666666666, 1.4166666666666667]]\n",
      "[1, 3, [1.5166666666666666, 1.4833333333333334, 1.75]]\n",
      "[1, 3, [1.65, 0.75, 0.8833333333333333]]\n",
      "[1, 3, [1.8666666666666667, 0.6166666666666667, 2.8666666666666667]]\n",
      "[1, 3, [1.5, 1.45, 0.25]]\n",
      "[1, 4, [1.1666666666666667, 1.1666666666666667, 0.8166666666666667, 1.1333333333333333]]\n",
      "[1, 5, [1.65, 0.6166666666666667, 1.2666666666666666, 1.1, 1.8166666666666667]]\n",
      "[1, 3, [1.45, 1.4, 0.9333333333333333]]\n",
      "[1, 4, [1.4, 0.15, 1.6333333333333333, 0.5333333333333333]]\n",
      "[1, 3, [1.3166666666666667, 1.4833333333333334, 0.48333333333333334]]\n",
      "[1, 6, [1.8666666666666667, 2.45, 1.0, 0.016666666666666666, 2.95, 0.3333333333333333]]\n",
      "[1, 3, [1.35, 2.0166666666666666, 0.7833333333333333]]\n",
      "[1, 3, [1.2833333333333334, 0.7, 0.65]]\n",
      "[1, 3, [1.4333333333333333, 1.2333333333333334, 0.23333333333333334]]\n",
      "[1, 3, [1.15, 2.6666666666666665, 2.3]]\n",
      "[1, 3, [1.1333333333333333, 0.21666666666666667, 1.7833333333333334]]\n",
      "[1, 3, [1.55, 1.95, 1.7333333333333334]]\n",
      "[1, 4, [1.4666666666666666, 1.05, 2.8333333333333335, 1.5]]\n",
      "[1, 3, [1.7666666666666666, 0.26666666666666666, 1.95]]\n",
      "[1, 4, [1.8, 2.2333333333333334, 2.8666666666666667, 0.26666666666666666]]\n",
      "[1, 5, [1.35, 0.48333333333333334, 2.433333333333333, 2.65, 1.7833333333333334]]\n",
      "[1, 3, [1.4166666666666667, 2.566666666666667, 0.05]]\n",
      "[1, 4, [1.6666666666666667, 2.9166666666666665, 2.8333333333333335, 1.35]]\n",
      "[1, 3, [1.2166666666666666, 1.1166666666666667, 2.25]]\n",
      "[1, 3, [1.1333333333333333, 2.0, 0.6833333333333333]]\n",
      "[1, 5, [1.35, 1.05, 0.7, 0.6833333333333333, 0.2833333333333333]]\n",
      "[1, 3, [1.7, 1.5833333333333333, 0.6166666666666667]]\n",
      "[1, 3, [1.05, 1.55, 1.1]]\n",
      "[1, 4, [1.1833333333333333, 2.75, 1.8, 1.8]]\n",
      "[1, 7, [1.4333333333333333, 1.8666666666666667, 0.2833333333333333, 1.4, 0.48333333333333334, 1.5, 0.8333333333333334]]\n",
      "[1, 3, [1.2833333333333334, 2.1666666666666665, 2.5166666666666666]]\n",
      "[1, 3, [1.6, 2.533333333333333, 0.2]]\n",
      "[1, 3, [1.25, 2.566666666666667, 2.5166666666666666]]\n",
      "[1, 3, [1.7166666666666666, 0.25, 0.1]]\n",
      "[1, 5, [1.1166666666666667, 1.65, 1.0166666666666666, 1.85, 1.15]]\n",
      "[1, 3, [1.0, 1.8833333333333333, 1.0166666666666666]]\n",
      "[1, 3, [1.15, 2.5833333333333335, 1.8166666666666667]]\n",
      "[1, 6, [1.6, 2.2333333333333334, 0.6166666666666667, 2.8833333333333333, 0.8, 0.9333333333333333]]\n",
      "[1, 3, [1.6833333333333333, 1.3166666666666667, 0.5]]\n",
      "[1, 3, [1.0666666666666667, 1.2833333333333334, 0.7166666666666667]]\n",
      "[1, 3, [1.8333333333333333, 2.183333333333333, 0.65]]\n",
      "[1, 3, [1.5833333333333333, 2.85, 1.6833333333333333]]\n",
      "[1, 3, [1.3666666666666667, 1.5333333333333334, 2.433333333333333]]\n",
      "[1, 3, [1.7833333333333334, 2.533333333333333, 2.1333333333333333]]\n",
      "[1, 3, [1.05, 2.8666666666666667, 0.8166666666666667]]\n",
      "[1, 4, [1.8, 1.7666666666666666, 0.3, 1.45]]\n",
      "[1, 3, [1.0333333333333334, 2.2, 1.2166666666666666]]\n",
      "[1, 3, [1.35, 2.0833333333333335, 2.1666666666666665]]\n",
      "[1, 3, [1.9833333333333334, 0.9333333333333333, 1.3333333333333333]]\n",
      "[1, 4, [1.1666666666666667, 1.3666666666666667, 0.0, 2.4]]\n",
      "[1, 4, [1.45, 2.75, 0.23333333333333334, 0.7]]\n",
      "[1, 6, [1.9, 1.15, 2.816666666666667, 1.5166666666666666, 0.6166666666666667, 2.816666666666667]]\n",
      "[1, 3, [1.3166666666666667, 2.8333333333333335, 1.3666666666666667]]\n",
      "[1, 3, [1.2, 0.43333333333333335, 1.6166666666666667]]\n",
      "[1, 3, [1.5333333333333334, 1.6333333333333333, 0.95]]\n",
      "[1, 3, [1.5333333333333334, 0.31666666666666665, 1.0]]\n",
      "[1, 3, [1.6333333333333333, 0.2833333333333333, 2.45]]\n",
      "[1, 3, [1.5666666666666667, 0.6, 1.2666666666666666]]\n",
      "[1, 3, [1.6666666666666667, 1.4833333333333334, 2.95]]\n",
      "[1, 3, [1.3333333333333333, 1.3333333333333333, 2.6]]\n",
      "[1, 3, [1.5666666666666667, 2.066666666666667, 1.2833333333333334]]\n",
      "[1, 3, [1.5166666666666666, 1.7666666666666666, 0.7166666666666667]]\n",
      "[1, 3, [1.1666666666666667, 0.8833333333333333, 0.95]]\n",
      "[1, 3, [1.3166666666666667, 1.0333333333333334, 1.7166666666666666]]\n",
      "[1, 3, [1.3166666666666667, 1.4333333333333333, 2.55]]\n",
      "[1, 3, [1.4666666666666666, 1.7, 2.183333333333333]]\n",
      "[1, 4, [1.6333333333333333, 2.95, 1.7, 0.9666666666666667]]\n",
      "[1, 3, [1.35, 0.6666666666666666, 0.55]]\n",
      "[1, 4, [1.2, 1.6666666666666667, 2.7333333333333334, 1.0]]\n",
      "[1, 3, [1.3166666666666667, 1.45, 1.4833333333333334]]\n",
      "[1, 3, [1.8166666666666667, 1.9666666666666666, 2.2333333333333334]]\n",
      "[1, 3, [1.6666666666666667, 0.9833333333333333, 1.8333333333333333]]\n",
      "[1, 4, [1.85, 2.15, 0.15, 2.9]]\n",
      "[1, 5, [1.1333333333333333, 2.6, 2.816666666666667, 0.8666666666666667, 2.933333333333333]]\n",
      "[1, 4, [1.6, 2.5833333333333335, 2.25, 0.7833333333333333]]\n",
      "[1, 3, [1.75, 1.6166666666666667, 1.55]]\n",
      "[1, 7, [1.5, 2.3333333333333335, 1.1333333333333333, 2.35, 0.1, 0.5833333333333334, 1.7833333333333334]]\n",
      "[1, 3, [1.7166666666666666, 2.0, 2.8333333333333335]]\n",
      "[1, 3, [1.65, 1.0333333333333334, 2.5833333333333335]]\n",
      "[1, 3, [1.4666666666666666, 0.4166666666666667, 0.7833333333333333]]\n",
      "[1, 6, [1.25, 2.7333333333333334, 1.7666666666666666, 0.15, 0.6, 0.8833333333333333]]\n",
      "[1, 4, [1.75, 1.5, 0.35, 2.1]]\n",
      "[1, 4, [1.2166666666666666, 1.3, 0.3, 2.216666666666667]]\n",
      "[1, 3, [1.1166666666666667, 1.7333333333333334, 1.7333333333333334]]\n",
      "[1, 5, [1.4666666666666666, 2.0166666666666666, 0.2833333333333333, 1.05, 2.1666666666666665]]\n",
      "[1, 3, [1.55, 2.85, 0.9833333333333333]]\n",
      "[1, 4, [1.0833333333333333, 0.23333333333333334, 1.0333333333333334, 1.3833333333333333]]\n",
      "[1, 7, [1.6166666666666667, 0.26666666666666666, 1.0, 1.6666666666666667, 0.2, 1.85, 0.5666666666666667]]\n",
      "[1, 3, [1.05, 1.2333333333333334, 2.1]]\n",
      "[1, 3, [1.9, 0.18333333333333332, 0.55]]\n",
      "[1, 4, [1.2333333333333334, 0.9833333333333333, 1.9666666666666666, 0.03333333333333333]]\n",
      "[1, 5, [1.9166666666666667, 0.31666666666666665, 1.75, 2.45, 0.75]]\n",
      "[1, 3, [1.6333333333333333, 2.216666666666667, 1.9]]\n",
      "[1, 4, [1.3, 1.6833333333333333, 2.8333333333333335, 2.183333333333333]]\n",
      "[1, 3, [1.1666666666666667, 0.7, 1.6833333333333333]]\n",
      "[1, 3, [1.6166666666666667, 1.3333333333333333, 1.4666666666666666]]\n",
      "[1, 3, [1.8, 1.8833333333333333, 2.033333333333333]]\n",
      "[1, 4, [1.6, 0.6, 0.16666666666666666, 2.433333333333333]]\n",
      "[1, 3, [1.0166666666666666, 0.9333333333333333, 0.4666666666666667]]\n",
      "[1, 5, [1.6333333333333333, 1.5, 1.2833333333333334, 2.216666666666667, 1.4666666666666666]]\n",
      "[1, 6, [1.3166666666666667, 0.9, 0.9333333333333333, 1.9833333333333334, 2.3333333333333335, 2.716666666666667]]\n",
      "[1, 3, [1.7666666666666666, 1.4166666666666667, 0.9666666666666667]]\n",
      "[1, 3, [1.0333333333333334, 2.683333333333333, 2.5833333333333335]]\n",
      "[1, 3, [1.5166666666666666, 1.7166666666666666, 0.6166666666666667]]\n",
      "[1, 5, [1.5333333333333334, 0.55, 1.35, 2.183333333333333, 0.8833333333333333]]\n",
      "[1, 3, [1.9, 0.8, 1.5833333333333333]]\n",
      "[1, 3, [1.9333333333333333, 1.9166666666666667, 2.3833333333333333]]\n",
      "[1, 3, [1.05, 0.4, 1.4166666666666667]]\n",
      "[1, 3, [1.0333333333333334, 1.6, 0.25]]\n",
      "[1, 3, [1.15, 1.8333333333333333, 2.1666666666666665]]\n",
      "[1, 3, [1.4166666666666667, 2.6666666666666665, 0.9]]\n",
      "[1, 3, [1.9333333333333333, 1.7666666666666666, 1.0166666666666666]]\n",
      "[1, 3, [1.2833333333333334, 2.816666666666667, 2.7666666666666666]]\n",
      "[1, 4, [1.1, 0.7833333333333333, 1.7666666666666666, 1.0833333333333333]]\n",
      "[1, 3, [1.4, 2.283333333333333, 1.9833333333333334]]\n",
      "[1, 4, [1.6333333333333333, 1.65, 2.3, 2.8833333333333333]]\n",
      "[1, 3, [1.1166666666666667, 2.066666666666667, 2.1166666666666667]]\n",
      "[1, 4, [1.4166666666666667, 0.25, 1.2, 1.05]]\n",
      "[1, 3, [1.0166666666666666, 0.7, 1.6833333333333333]]\n",
      "[1, 3, [1.9166666666666667, 1.7833333333333334, 2.0]]\n",
      "[1, 3, [1.0833333333333333, 1.9333333333333333, 1.4666666666666666]]\n",
      "[1, 4, [1.2666666666666666, 1.6, 1.9666666666666666, 1.4333333333333333]]\n",
      "[1, 3, [1.9833333333333334, 0.8166666666666667, 0.7]]\n",
      "[1, 3, [1.0666666666666667, 2.1166666666666667, 1.4833333333333334]]\n",
      "[1, 3, [1.8, 2.95, 0.6333333333333333]]\n",
      "[1, 3, [1.15, 1.25, 1.1333333333333333]]\n",
      "[1, 3, [1.35, 0.5, 0.38333333333333336]]\n",
      "[1, 3, [1.95, 1.3666666666666667, 0.8666666666666667]]\n",
      "[1, 4, [1.05, 1.2333333333333334, 2.6, 1.3]]\n",
      "[1, 3, [1.1666666666666667, 1.85, 0.5833333333333334]]\n",
      "[1, 3, [1.1166666666666667, 0.9333333333333333, 1.4333333333333333]]\n",
      "[1, 3, [1.6666666666666667, 1.5666666666666667, 0.7166666666666667]]\n",
      "[1, 3, [1.2, 2.783333333333333, 0.6166666666666667]]\n",
      "[1, 4, [1.2833333333333334, 2.85, 1.0, 1.1833333333333333]]\n",
      "[1, 3, [1.8, 1.8166666666666667, 1.1333333333333333]]\n",
      "[1, 3, [1.4833333333333334, 0.8666666666666667, 0.1]]\n",
      "[1, 3, [1.0333333333333334, 1.8666666666666667, 2.5166666666666666]]\n",
      "[1, 3, [1.6666666666666667, 0.3, 0.7333333333333333]]\n",
      "[1, 3, [1.5333333333333334, 1.2666666666666666, 1.75]]\n",
      "[1, 4, [1.6833333333333333, 2.9, 0.16666666666666666, 1.95]]\n",
      "[1, 4, [1.8, 1.4166666666666667, 2.6166666666666667, 0.3333333333333333]]\n",
      "[1, 4, [1.25, 0.43333333333333335, 1.9, 2.5]]\n",
      "[1, 3, [1.15, 1.8166666666666667, 0.8166666666666667]]\n",
      "[1, 3, [1.9666666666666666, 1.0666666666666667, 2.0833333333333335]]\n",
      "[1, 6, [1.2833333333333334, 1.7333333333333334, 0.7, 2.566666666666667, 2.55, 1.8]]\n",
      "[1, 4, [1.5333333333333334, 1.25, 1.6833333333333333, 1.5833333333333333]]\n",
      "[1, 4, [1.1833333333333333, 2.05, 1.5833333333333333, 0.6333333333333333]]\n",
      "[1, 3, [1.4666666666666666, 0.4666666666666667, 2.216666666666667]]\n",
      "[1, 3, [1.0666666666666667, 0.6, 1.5166666666666666]]\n",
      "[1, 3, [1.75, 2.6166666666666667, 1.7166666666666666]]\n",
      "[1, 3, [1.5833333333333333, 2.3333333333333335, 2.7666666666666666]]\n",
      "[1, 6, [1.0333333333333334, 0.9666666666666667, 2.566666666666667, 1.2666666666666666, 1.7, 0.95]]\n",
      "[1, 3, [1.8166666666666667, 1.3333333333333333, 0.6333333333333333]]\n",
      "[1, 3, [1.3166666666666667, 0.8833333333333333, 0.5833333333333334]]\n",
      "[1, 3, [1.8, 0.7666666666666667, 2.9166666666666665]]\n",
      "[1, 4, [1.8666666666666667, 0.3333333333333333, 2.716666666666667, 0.23333333333333334]]\n",
      "[1, 3, [1.0166666666666666, 2.6, 1.1166666666666667]]\n",
      "[1, 5, [1.7833333333333334, 1.25, 2.15, 0.9, 2.4]]\n",
      "[1, 3, [1.9166666666666667, 0.45, 0.8833333333333333]]\n",
      "[1, 4, [1.8666666666666667, 0.6666666666666666, 2.3833333333333333, 1.8666666666666667]]\n",
      "[1, 4, [1.95, 1.2833333333333334, 0.6666666666666666, 1.6333333333333333]]\n",
      "[1, 3, [1.6833333333333333, 2.066666666666667, 2.216666666666667]]\n",
      "[1, 6, [1.8666666666666667, 2.6166666666666667, 1.2666666666666666, 2.566666666666667, 1.65, 1.7333333333333334]]\n",
      "[1, 3, [1.1166666666666667, 2.066666666666667, 1.8]]\n",
      "[1, 5, [1.5666666666666667, 1.9, 2.75, 1.4166666666666667, 0.9166666666666666]]\n",
      "[1, 3, [1.8666666666666667, 1.6666666666666667, 0.06666666666666667]]\n",
      "[1, 4, [1.4, 0.8, 2.45, 2.183333333333333]]\n",
      "[1, 3, [1.15, 0.5833333333333334, 1.1666666666666667]]\n",
      "[1, 3, [1.1166666666666667, 0.9, 2.433333333333333]]\n",
      "[1, 3, [1.3166666666666667, 0.9, 1.9666666666666666]]\n",
      "[1, 4, [1.05, 0.7166666666666667, 1.8833333333333333, 1.35]]\n",
      "[1, 4, [1.85, 2.2666666666666666, 2.683333333333333, 2.95]]\n",
      "[1, 3, [1.0666666666666667, 1.6, 2.966666666666667]]\n",
      "[1, 4, [1.0, 1.0833333333333333, 0.3333333333333333, 2.783333333333333]]\n",
      "[1, 3, [1.5166666666666666, 0.6666666666666666, 2.5]]\n",
      "[1, 4, [1.05, 1.0333333333333334, 1.9833333333333334, 2.316666666666667]]\n",
      "[1, 3, [1.9333333333333333, 1.25, 0.2]]\n",
      "[1, 3, [1.4666666666666666, 2.45, 0.5]]\n",
      "[1, 3, [1.9666666666666666, 2.6333333333333333, 2.4]]\n",
      "[1, 4, [1.4166666666666667, 0.7833333333333333, 2.966666666666667, 2.1333333333333333]]\n",
      "[1, 3, [1.9666666666666666, 1.7166666666666666, 2.066666666666667]]\n",
      "[1, 3, [1.0666666666666667, 1.45, 0.8666666666666667]]\n",
      "[1, 3, [1.8333333333333333, 2.7333333333333334, 1.75]]\n",
      "[1, 4, [1.6333333333333333, 2.3, 1.15, 0.7666666666666667]]\n",
      "[1, 4, [1.45, 1.0666666666666667, 2.85, 0.26666666666666666]]\n",
      "[1, 3, [1.5166666666666666, 0.16666666666666666, 2.2]]\n",
      "[1, 3, [1.8, 2.8333333333333335, 1.9833333333333334]]\n",
      "[1, 5, [1.5166666666666666, 2.3833333333333333, 1.4333333333333333, 1.4333333333333333, 2.8333333333333335]]\n",
      "[1, 3, [1.85, 2.3, 1.6]]\n",
      "[1, 3, [1.1333333333333333, 0.36666666666666664, 0.9666666666666667]]\n",
      "[1, 3, [1.7666666666666666, 0.9666666666666667, 1.4166666666666667]]\n",
      "[1, 3, [1.1833333333333333, 0.4, 1.1166666666666667]]\n",
      "[1, 3, [1.25, 0.6833333333333333, 0.25]]\n",
      "[1, 4, [1.8666666666666667, 1.15, 0.31666666666666665, 0.7666666666666667]]\n",
      "[1, 3, [1.5333333333333334, 0.65, 1.4833333333333334]]\n",
      "[1, 3, [1.8333333333333333, 2.75, 1.65]]\n",
      "[1, 3, [1.05, 0.6333333333333333, 2.033333333333333]]\n",
      "[1, 3, [1.45, 2.1333333333333333, 0.5]]\n",
      "[1, 5, [1.3, 2.9833333333333334, 0.7166666666666667, 1.2, 1.2833333333333334]]\n",
      "[1, 4, [1.1333333333333333, 1.1333333333333333, 1.8, 0.8666666666666667]]\n",
      "[1, 3, [1.2833333333333334, 2.033333333333333, 0.45]]\n",
      "[1, 5, [1.1, 1.55, 2.7666666666666666, 0.3333333333333333, 1.6333333333333333]]\n",
      "[1, 4, [1.6833333333333333, 2.3333333333333335, 0.6333333333333333, 1.9333333333333333]]\n",
      "[1, 4, [1.25, 2.433333333333333, 0.3, 0.13333333333333333]]\n",
      "[1, 3, [1.75, 1.6166666666666667, 0.9833333333333333]]\n",
      "[1, 4, [1.9833333333333334, 0.7666666666666667, 1.2666666666666666, 2.95]]\n",
      "[1, 3, [1.1833333333333333, 2.45, 1.5833333333333333]]\n",
      "[1, 3, [1.7166666666666666, 0.08333333333333333, 1.7]]\n",
      "[1, 3, [1.0, 2.216666666666667, 2.9]]\n",
      "[1, 3, [1.2666666666666666, 2.05, 2.3833333333333333]]\n",
      "[1, 4, [1.0, 1.8166666666666667, 1.7166666666666666, 1.2166666666666666]]\n",
      "[1, 4, [1.5166666666666666, 0.6666666666666666, 0.15, 0.11666666666666667]]\n",
      "[1, 4, [1.7333333333333334, 2.05, 1.1166666666666667, 0.23333333333333334]]\n",
      "[1, 3, [1.6833333333333333, 1.85, 0.45]]\n",
      "[1, 3, [1.9833333333333334, 2.15, 1.2166666666666666]]\n",
      "[1, 3, [1.7833333333333334, 0.13333333333333333, 1.2166666666666666]]\n",
      "[1, 3, [1.5166666666666666, 0.016666666666666666, 0.7833333333333333]]\n",
      "[1, 6, [1.2333333333333334, 2.05, 2.85, 1.8833333333333333, 0.38333333333333336, 0.9333333333333333]]\n",
      "[1, 3, [1.4833333333333334, 0.7833333333333333, 0.16666666666666666]]\n",
      "[1, 3, [1.7166666666666666, 2.683333333333333, 1.1]]\n",
      "[1, 4, [1.3, 2.7, 0.11666666666666667, 0.4]]\n",
      "[1, 3, [1.8833333333333333, 0.9166666666666666, 1.0166666666666666]]\n",
      "[1, 4, [1.7833333333333334, 1.0166666666666666, 0.43333333333333335, 1.2]]\n",
      "[1, 3, [1.9833333333333334, 2.45, 0.9666666666666667]]\n",
      "[1, 3, [1.1833333333333333, 2.9166666666666665, 0.15]]\n",
      "[1, 3, [1.9, 0.4666666666666667, 2.1166666666666667]]\n",
      "[1, 3, [1.25, 1.3333333333333333, 1.4166666666666667]]\n",
      "[1, 4, [1.1666666666666667, 0.5166666666666667, 0.16666666666666666, 0.5]]\n",
      "[1, 3, [1.2, 0.5166666666666667, 0.4166666666666667]]\n",
      "[1, 6, [1.1666666666666667, 1.8333333333333333, 0.31666666666666665, 0.4666666666666667, 0.7833333333333333, 1.25]]\n",
      "[1, 3, [1.95, 0.35, 2.6166666666666667]]\n",
      "[1, 3, [1.9666666666666666, 1.3833333333333333, 2.533333333333333]]\n",
      "[1, 3, [1.3666666666666667, 2.65, 0.23333333333333334]]\n",
      "[1, 3, [1.5166666666666666, 1.55, 2.2333333333333334]]\n",
      "[1, 6, [1.6666666666666667, 0.11666666666666667, 0.8166666666666667, 0.5666666666666667, 1.0166666666666666, 1.6333333333333333]]\n",
      "[1, 3, [1.9666666666666666, 0.4666666666666667, 0.35]]\n",
      "[1, 4, [1.95, 1.5, 0.95, 1.85]]\n",
      "[1, 5, [1.4, 0.7, 1.85, 0.7666666666666667, 2.15]]\n",
      "[1, 3, [1.1, 2.3333333333333335, 1.5166666666666666]]\n",
      "[1, 3, [1.5333333333333334, 1.5, 1.5333333333333334]]\n",
      "[1, 4, [1.8, 0.3333333333333333, 0.8666666666666667, 1.9166666666666667]]\n",
      "[1, 4, [1.2666666666666666, 0.65, 2.1, 2.3]]\n",
      "[1, 3, [1.75, 2.216666666666667, 2.4833333333333334]]\n",
      "[1, 4, [1.3166666666666667, 2.3333333333333335, 2.466666666666667, 1.9666666666666666]]\n",
      "[1, 3, [1.2166666666666666, 1.4666666666666666, 2.183333333333333]]\n",
      "[1, 3, [1.05, 0.6166666666666667, 1.7666666666666666]]\n",
      "[1, 3, [1.2, 2.35, 0.18333333333333332]]\n",
      "[1, 4, [1.85, 0.21666666666666667, 2.966666666666667, 2.6166666666666667]]\n",
      "[1, 3, [1.1833333333333333, 1.75, 0.9333333333333333]]\n",
      "[1, 3, [1.4, 2.2666666666666666, 2.816666666666667]]\n",
      "[1, 5, [1.6166666666666667, 1.4833333333333334, 0.7, 1.4, 1.55]]\n",
      "[1, 3, [1.2, 2.55, 2.8833333333333333]]\n",
      "[1, 3, [1.2333333333333334, 2.35, 0.18333333333333332]]\n",
      "[1, 4, [1.1833333333333333, 0.6833333333333333, 1.2833333333333334, 2.5166666666666666]]\n",
      "[1, 3, [1.3166666666666667, 0.9, 0.3]]\n",
      "[1, 3, [1.6666666666666667, 1.8, 2.033333333333333]]\n",
      "[1, 3, [1.6666666666666667, 1.1333333333333333, 1.1666666666666667]]\n",
      "[1, 4, [1.3666666666666667, 1.1, 0.85, 0.03333333333333333]]\n",
      "[1, 4, [1.5333333333333334, 0.016666666666666666, 1.3666666666666667, 2.6]]\n",
      "[1, 3, [1.2333333333333334, 2.35, 2.066666666666667]]\n",
      "[1, 3, [1.6166666666666667, 1.7166666666666666, 2.566666666666667]]\n",
      "[1, 3, [1.5333333333333334, 2.6166666666666667, 2.7333333333333334]]\n",
      "[1, 3, [1.1, 0.25, 2.45]]\n",
      "[1, 4, [1.5833333333333333, 2.15, 1.5333333333333334, 1.0166666666666666]]\n",
      "[1, 3, [1.7166666666666666, 2.8833333333333333, 0.3333333333333333]]\n",
      "[1, 4, [1.0, 2.966666666666667, 1.7833333333333334, 0.13333333333333333]]\n",
      "[1, 3, [1.3, 0.13333333333333333, 0.9333333333333333]]\n",
      "[1, 3, [1.5666666666666667, 0.9333333333333333, 2.5833333333333335]]\n",
      "[1, 3, [1.8333333333333333, 2.8666666666666667, 0.5166666666666667]]\n",
      "[1, 3, [1.75, 1.2833333333333334, 1.0]]\n",
      "[1, 7, [1.5, 2.8333333333333335, 1.2, 1.25, 1.4666666666666666, 0.65, 2.4166666666666665]]\n",
      "[1, 5, [1.1833333333333333, 0.45, 0.16666666666666666, 0.5666666666666667, 1.75]]\n",
      "[1, 3, [1.55, 2.9166666666666665, 0.16666666666666666]]\n",
      "[1, 4, [1.3666666666666667, 0.31666666666666665, 0.48333333333333334, 2.7666666666666666]]\n",
      "[1, 3, [1.4166666666666667, 2.433333333333333, 0.55]]\n",
      "[1, 3, [1.2333333333333334, 2.783333333333333, 1.9333333333333333]]\n",
      "[1, 4, [1.5333333333333334, 1.4166666666666667, 1.7, 1.7333333333333334]]\n",
      "[1, 3, [1.7, 1.35, 1.5833333333333333]]\n",
      "[1, 4, [1.4833333333333334, 0.5166666666666667, 2.316666666666667, 2.45]]\n",
      "[1, 3, [1.65, 2.0, 0.3]]\n",
      "[1, 4, [1.7166666666666666, 1.3333333333333333, 0.65, 1.8833333333333333]]\n",
      "[1, 3, [1.3833333333333333, 1.1333333333333333, 0.3]]\n",
      "[1, 3, [1.4333333333333333, 0.95, 2.95]]\n",
      "[1, 4, [1.6166666666666667, 2.6166666666666667, 0.05, 1.9166666666666667]]\n",
      "[1, 5, [1.9333333333333333, 1.3333333333333333, 1.85, 1.1833333333333333, 0.5833333333333334]]\n",
      "[1, 4, [1.4, 2.65, 1.75, 1.3]]\n",
      "[1, 4, [1.6166666666666667, 2.566666666666667, 2.683333333333333, 2.966666666666667]]\n",
      "[1, 3, [1.25, 2.0, 0.4666666666666667]]\n",
      "[1, 5, [1.7, 0.4666666666666667, 0.7666666666666667, 1.5333333333333334, 1.3666666666666667]]\n",
      "[1, 3, [1.5166666666666666, 1.5333333333333334, 1.8333333333333333]]\n",
      "[1, 3, [1.7666666666666666, 1.5166666666666666, 1.8833333333333333]]\n",
      "[1, 3, [1.1666666666666667, 0.3, 2.3]]\n",
      "[1, 3, [1.6833333333333333, 2.3, 0.016666666666666666]]\n",
      "[1, 4, [1.9, 0.4, 1.4833333333333334, 0.3333333333333333]]\n",
      "[1, 3, [1.9, 0.26666666666666666, 1.8666666666666667]]\n",
      "[1, 3, [1.5666666666666667, 2.783333333333333, 0.6]]\n",
      "[1, 3, [1.5666666666666667, 1.5, 1.55]]\n",
      "[1, 3, [1.05, 1.1, 2.7666666666666666]]\n",
      "[1, 3, [1.2833333333333334, 0.48333333333333334, 2.35]]\n",
      "[1, 3, [1.6666666666666667, 2.65, 2.9]]\n",
      "[1, 3, [1.6166666666666667, 1.75, 0.8166666666666667]]\n",
      "[1, 3, [1.1666666666666667, 1.3666666666666667, 0.5]]\n",
      "[1, 3, [1.4166666666666667, 0.35, 0.6666666666666666]]\n",
      "[1, 3, [1.8666666666666667, 0.03333333333333333, 0.26666666666666666]]\n",
      "[1, 3, [1.1833333333333333, 1.3, 0.2]]\n",
      "[1, 3, [1.4333333333333333, 0.13333333333333333, 2.7666666666666666]]\n",
      "[1, 3, [1.4666666666666666, 2.6166666666666667, 2.7333333333333334]]\n",
      "[1, 5, [1.6, 0.8833333333333333, 1.5, 2.6, 1.2]]\n",
      "[1, 3, [1.4, 0.4666666666666667, 1.5]]\n",
      "[1, 3, [1.8, 1.6166666666666667, 2.6666666666666665]]\n",
      "[1, 3, [1.8833333333333333, 0.5, 0.5333333333333333]]\n",
      "[1, 3, [1.35, 1.5333333333333334, 2.1]]\n",
      "[1, 3, [1.7666666666666666, 0.48333333333333334, 0.4666666666666667]]\n",
      "[1, 4, [1.2833333333333334, 0.9, 1.7833333333333334, 1.5333333333333334]]\n",
      "[1, 3, [1.5166666666666666, 0.36666666666666664, 2.5166666666666666]]\n",
      "[1, 3, [1.4833333333333334, 2.1, 2.6666666666666665]]\n",
      "[1, 4, [1.3, 0.43333333333333335, 1.3166666666666667, 2.183333333333333]]\n",
      "[1, 6, [1.8, 0.4666666666666667, 0.6333333333333333, 1.4333333333333333, 0.1, 2.65]]\n",
      "[1, 5, [1.5833333333333333, 1.0833333333333333, 2.316666666666667, 2.183333333333333, 0.6166666666666667]]\n",
      "[1, 3, [1.0166666666666666, 1.6, 0.15]]\n",
      "[1, 3, [1.3, 0.08333333333333333, 1.3333333333333333]]\n",
      "[1, 4, [1.0166666666666666, 2.283333333333333, 0.2833333333333333, 0.5333333333333333]]\n",
      "[1, 3, [1.35, 1.95, 1.0]]\n",
      "[1, 3, [1.7333333333333334, 0.2833333333333333, 2.3833333333333333]]\n",
      "[1, 3, [1.8, 2.1, 2.5833333333333335]]\n",
      "[1, 3, [1.5333333333333334, 0.45, 2.9]]\n",
      "[1, 3, [1.5333333333333334, 1.9166666666666667, 2.65]]\n",
      "[1, 4, [1.5166666666666666, 0.13333333333333333, 1.8666666666666667, 0.85]]\n",
      "[1, 3, [1.35, 2.716666666666667, 2.033333333333333]]\n",
      "[1, 3, [1.45, 0.7166666666666667, 1.3333333333333333]]\n",
      "[1, 3, [1.55, 1.8833333333333333, 0.45]]\n",
      "[1, 3, [1.4833333333333334, 0.6666666666666666, 2.35]]\n",
      "[1, 3, [1.4833333333333334, 0.9, 1.5666666666666667]]\n",
      "[1, 3, [1.9333333333333333, 2.55, 1.9166666666666667]]\n",
      "[1, 3, [1.4333333333333333, 1.1, 0.9666666666666667]]\n",
      "[1, 3, [1.9, 0.2, 2.35]]\n",
      "[1, 3, [1.5833333333333333, 1.9833333333333334, 0.3333333333333333]]\n",
      "[1, 4, [1.6, 0.35, 1.7166666666666666, 1.4833333333333334]]\n",
      "[1, 3, [1.05, 1.3, 1.6]]\n",
      "[1, 5, [1.6333333333333333, 2.7, 0.5166666666666667, 0.36666666666666664, 0.15]]\n",
      "[1, 3, [1.8666666666666667, 2.3333333333333335, 0.7666666666666667]]\n",
      "[1, 3, [1.2166666666666666, 0.2, 2.3333333333333335]]\n",
      "[1, 3, [1.65, 2.066666666666667, 1.3333333333333333]]\n",
      "[1, 3, [1.6, 2.966666666666667, 0.21666666666666667]]\n",
      "[1, 4, [1.2, 0.8666666666666667, 1.5, 2.683333333333333]]\n",
      "[1, 3, [1.0833333333333333, 0.03333333333333333, 2.1166666666666667]]\n",
      "[1, 3, [1.85, 1.1666666666666667, 2.65]]\n",
      "[1, 3, [1.5333333333333334, 2.066666666666667, 2.9]]\n",
      "[1, 3, [1.7166666666666666, 0.6666666666666666, 1.6]]\n",
      "[1, 3, [1.0, 0.3333333333333333, 1.1]]\n",
      "[1, 5, [1.2333333333333334, 0.25, 1.1333333333333333, 1.3166666666666667, 0.1]]\n",
      "[1, 6, [1.3333333333333333, 0.35, 1.5333333333333334, 0.36666666666666664, 0.7333333333333333, 0.95]]\n",
      "[1, 5, [1.7, 1.9166666666666667, 0.7166666666666667, 0.23333333333333334, 0.31666666666666665]]\n",
      "[1, 4, [1.75, 1.1, 0.6833333333333333, 2.2333333333333334]]\n",
      "[1, 3, [1.6833333333333333, 2.533333333333333, 2.6166666666666667]]\n",
      "[1, 3, [1.3, 0.9, 1.95]]\n",
      "[1, 4, [1.4, 0.9333333333333333, 2.716666666666667, 0.18333333333333332]]\n",
      "[1, 3, [1.9166666666666667, 0.5833333333333334, 1.0166666666666666]]\n",
      "[1, 3, [1.75, 1.3666666666666667, 0.2833333333333333]]\n",
      "[1, 5, [1.0666666666666667, 2.1166666666666667, 2.466666666666667, 0.15, 2.2666666666666666]]\n",
      "[1, 3, [1.4666666666666666, 0.11666666666666667, 1.9833333333333334]]\n",
      "[1, 3, [1.7, 0.25, 2.183333333333333]]\n",
      "[1, 3, [1.8833333333333333, 2.8333333333333335, 0.95]]\n",
      "[1, 3, [1.5, 2.5, 1.8]]\n",
      "[1, 4, [1.0333333333333334, 0.7666666666666667, 1.6, 0.15]]\n",
      "[1, 4, [1.55, 0.2833333333333333, 0.4, 1.8333333333333333]]\n",
      "[1, 3, [1.9666666666666666, 2.533333333333333, 0.9333333333333333]]\n",
      "[1, 3, [1.8, 1.2, 2.183333333333333]]\n",
      "[1, 3, [1.9166666666666667, 1.5666666666666667, 1.9166666666666667]]\n",
      "[1, 5, [1.4166666666666667, 0.45, 1.7166666666666666, 1.5333333333333334, 1.5833333333333333]]\n",
      "[1, 3, [1.9666666666666666, 1.1166666666666667, 0.7]]\n",
      "[1, 4, [1.2666666666666666, 1.3166666666666667, 0.38333333333333336, 2.4]]\n",
      "[1, 4, [1.4833333333333334, 0.13333333333333333, 0.48333333333333334, 0.7666666666666667]]\n",
      "[1, 4, [1.5833333333333333, 1.0166666666666666, 0.9666666666666667, 0.31666666666666665]]\n",
      "[1, 3, [1.9, 2.7, 0.4666666666666667]]\n",
      "[1, 3, [1.4833333333333334, 0.05, 2.316666666666667]]\n",
      "[1, 3, [1.6, 0.95, 2.85]]\n",
      "[1, 3, [1.9833333333333334, 2.5166666666666666, 0.7]]\n",
      "[1, 3, [1.0, 2.7333333333333334, 0.4]]\n",
      "[1, 5, [1.95, 1.8333333333333333, 0.11666666666666667, 0.7333333333333333, 1.3666666666666667]]\n",
      "[1, 4, [1.6166666666666667, 0.4666666666666667, 2.316666666666667, 0.05]]\n",
      "[1, 4, [1.8333333333333333, 2.283333333333333, 2.7666666666666666, 1.0333333333333334]]\n",
      "[1, 3, [1.3666666666666667, 2.75, 1.7333333333333334]]\n",
      "[1, 3, [1.5166666666666666, 2.25, 1.9166666666666667]]\n",
      "[1, 3, [1.5166666666666666, 0.38333333333333336, 2.6166666666666667]]\n",
      "[1, 3, [1.6666666666666667, 2.7666666666666666, 1.6333333333333333]]\n",
      "[1, 3, [1.4166666666666667, 1.9, 0.35]]\n",
      "[1, 3, [1.5833333333333333, 2.9833333333333334, 1.3166666666666667]]\n",
      "[1, 3, [1.5333333333333334, 0.35, 1.75]]\n",
      "[1, 3, [1.9166666666666667, 1.4, 2.6666666666666665]]\n",
      "[1, 3, [1.05, 1.85, 2.966666666666667]]\n",
      "[1, 3, [1.15, 0.9166666666666666, 0.7166666666666667]]\n",
      "[1, 3, [1.9, 1.55, 0.3]]\n",
      "[1, 5, [1.45, 0.75, 2.15, 0.6166666666666667, 0.5333333333333333]]\n",
      "[1, 5, [1.8166666666666667, 0.9333333333333333, 2.55, 1.7, 2.3666666666666667]]\n",
      "[1, 3, [1.8833333333333333, 0.2, 2.783333333333333]]\n",
      "[1, 3, [1.2, 1.0, 1.8333333333333333]]\n",
      "[1, 3, [1.0666666666666667, 1.9833333333333334, 0.43333333333333335]]\n",
      "[1, 3, [1.85, 2.716666666666667, 0.48333333333333334]]\n",
      "[1, 5, [1.0, 0.9666666666666667, 2.2, 2.8333333333333335, 2.283333333333333]]\n",
      "[1, 4, [1.3, 0.11666666666666667, 0.11666666666666667, 1.85]]\n",
      "[1, 4, [1.3166666666666667, 2.566666666666667, 2.1, 1.3333333333333333]]\n",
      "[1, 3, [1.25, 2.6166666666666667, 0.18333333333333332]]\n",
      "[1, 6, [1.4166666666666667, 1.5333333333333334, 0.08333333333333333, 2.0166666666666666, 0.6333333333333333, 1.7333333333333334]]\n",
      "[1, 3, [1.6333333333333333, 0.21666666666666667, 2.533333333333333]]\n",
      "[1, 3, [1.5833333333333333, 0.3, 2.816666666666667]]\n",
      "[1, 3, [1.8833333333333333, 0.9333333333333333, 1.3333333333333333]]\n",
      "[1, 3, [1.4166666666666667, 1.4333333333333333, 0.6833333333333333]]\n",
      "[1, 4, [1.3666666666666667, 2.1666666666666665, 1.6333333333333333, 1.1166666666666667]]\n",
      "[1, 3, [1.35, 0.8666666666666667, 1.5]]\n",
      "[1, 3, [1.75, 1.0, 0.5833333333333334]]\n",
      "[1, 3, [1.35, 0.31666666666666665, 0.9833333333333333]]\n",
      "[1, 3, [1.5, 1.0833333333333333, 1.2166666666666666]]\n",
      "[1, 4, [1.6, 2.4166666666666665, 0.4166666666666667, 0.5833333333333334]]\n",
      "[1, 4, [1.5666666666666667, 1.3, 1.8, 2.033333333333333]]\n",
      "[1, 3, [1.85, 1.8333333333333333, 2.566666666666667]]\n",
      "[1, 3, [1.8, 2.566666666666667, 2.2]]\n",
      "[1, 3, [1.3666666666666667, 0.7833333333333333, 1.6166666666666667]]\n",
      "[1, 3, [1.4333333333333333, 1.1833333333333333, 0.6666666666666666]]\n",
      "[1, 3, [1.5, 1.2333333333333334, 0.43333333333333335]]\n",
      "[1, 3, [1.6166666666666667, 0.31666666666666665, 1.8]]\n",
      "[1, 3, [1.1833333333333333, 0.6166666666666667, 2.8833333333333333]]\n",
      "[1, 4, [1.0666666666666667, 1.8666666666666667, 0.9333333333333333, 2.3833333333333333]]\n",
      "[1, 3, [1.4833333333333334, 2.066666666666667, 2.65]]\n",
      "[1, 3, [1.15, 2.4166666666666665, 0.55]]\n",
      "[1, 3, [1.5833333333333333, 0.016666666666666666, 2.3666666666666667]]\n",
      "[1, 4, [1.3833333333333333, 2.1666666666666665, 0.6, 1.0166666666666666]]\n",
      "[1, 4, [1.4, 1.7833333333333334, 2.5, 1.3833333333333333]]\n",
      "[1, 3, [1.0166666666666666, 2.3333333333333335, 0.5166666666666667]]\n",
      "[1, 3, [1.05, 0.5666666666666667, 1.0666666666666667]]\n",
      "[1, 4, [1.8833333333333333, 1.7, 2.5, 1.2333333333333334]]\n",
      "[1, 3, [1.3833333333333333, 0.48333333333333334, 0.5833333333333334]]\n",
      "[1, 3, [1.3333333333333333, 2.5166666666666666, 0.7666666666666667]]\n",
      "[1, 3, [1.4833333333333334, 0.7833333333333333, 1.7833333333333334]]\n",
      "[1, 5, [1.3833333333333333, 1.15, 1.5, 1.15, 2.55]]\n",
      "[1, 3, [1.6833333333333333, 0.8666666666666667, 0.31666666666666665]]\n",
      "[1, 5, [1.8666666666666667, 2.033333333333333, 1.3333333333333333, 1.6666666666666667, 0.23333333333333334]]\n",
      "[1, 3, [1.45, 1.8333333333333333, 0.75]]\n",
      "[1, 3, [1.6, 1.4833333333333334, 2.783333333333333]]\n",
      "[1, 4, [1.15, 1.55, 1.65, 1.0333333333333334]]\n",
      "[1, 3, [1.15, 0.5666666666666667, 0.16666666666666666]]\n",
      "[1, 3, [1.0833333333333333, 1.9, 2.933333333333333]]\n",
      "[1, 3, [1.0, 0.7, 0.85]]\n",
      "[1, 4, [1.65, 2.933333333333333, 1.5166666666666666, 1.4]]\n",
      "[1, 3, [1.2, 0.3, 0.8333333333333334]]\n",
      "[1, 4, [1.2, 1.0833333333333333, 2.183333333333333, 2.1333333333333333]]\n",
      "[1, 3, [1.8166666666666667, 0.5333333333333333, 2.3333333333333335]]\n",
      "[1, 4, [1.6333333333333333, 2.966666666666667, 2.4833333333333334, 2.9]]\n",
      "[1, 4, [1.3, 0.7, 0.7833333333333333, 1.4]]\n",
      "[1, 3, [1.85, 0.2833333333333333, 1.3833333333333333]]\n",
      "[1, 4, [1.8166666666666667, 2.3, 0.55, 0.7]]\n",
      "[1, 3, [1.0333333333333334, 2.066666666666667, 0.9166666666666666]]\n",
      "[1, 5, [1.7666666666666666, 0.31666666666666665, 1.5333333333333334, 2.0166666666666666, 2.2333333333333334]]\n",
      "[1, 4, [1.0, 1.8833333333333333, 0.5, 2.1166666666666667]]\n",
      "[1, 3, [1.45, 2.6166666666666667, 0.2]]\n",
      "[1, 5, [1.2666666666666666, 1.5666666666666667, 0.6166666666666667, 2.0833333333333335, 1.2166666666666666]]\n",
      "[1, 4, [1.35, 2.75, 1.0833333333333333, 2.683333333333333]]\n",
      "[1, 3, [1.4166666666666667, 0.8166666666666667, 1.7666666666666666]]\n",
      "[1, 3, [1.7333333333333334, 2.4833333333333334, 0.48333333333333334]]\n",
      "[1, 3, [1.65, 2.3833333333333333, 1.5]]\n",
      "[1, 4, [1.2833333333333334, 2.15, 2.9, 2.9166666666666665]]\n",
      "[1, 4, [1.75, 0.15, 1.2833333333333334, 0.016666666666666666]]\n",
      "[1, 3, [1.9, 1.1, 0.36666666666666664]]\n",
      "[1, 3, [1.65, 1.4833333333333334, 0.38333333333333336]]\n",
      "[1, 3, [1.8, 1.8833333333333333, 2.65]]\n",
      "[1, 4, [1.3166666666666667, 0.6166666666666667, 0.31666666666666665, 0.95]]\n",
      "[1, 3, [1.7, 0.5666666666666667, 2.35]]\n",
      "[1, 3, [1.3166666666666667, 1.7666666666666666, 2.0833333333333335]]\n",
      "[1, 5, [1.5666666666666667, 1.2833333333333334, 2.566666666666667, 2.45, 0.4]]\n",
      "[1, 5, [1.9166666666666667, 0.6, 1.7666666666666666, 0.6833333333333333, 0.38333333333333336]]\n",
      "[1, 4, [1.4, 1.2, 1.3, 2.466666666666667]]\n",
      "[1, 4, [1.9666666666666666, 1.8166666666666667, 1.75, 0.36666666666666664]]\n",
      "[1, 3, [1.6333333333333333, 0.15, 0.5333333333333333]]\n",
      "[1, 3, [1.4833333333333334, 1.65, 1.3833333333333333]]\n",
      "[1, 3, [1.8333333333333333, 1.9833333333333334, 2.7333333333333334]]\n",
      "[1, 4, [1.9666666666666666, 2.433333333333333, 0.5333333333333333, 0.8333333333333334]]\n",
      "[1, 3, [1.3, 1.9833333333333334, 0.6666666666666666]]\n",
      "[1, 5, [1.35, 0.9666666666666667, 2.1666666666666665, 1.75, 1.3833333333333333]]\n",
      "[1, 3, [1.6666666666666667, 2.033333333333333, 1.8833333333333333]]\n",
      "[1, 3, [1.0666666666666667, 0.7666666666666667, 0.8333333333333334]]\n",
      "[1, 3, [1.0333333333333334, 0.21666666666666667, 2.75]]\n",
      "[1, 4, [1.3333333333333333, 0.75, 2.8333333333333335, 0.95]]\n",
      "[1, 4, [1.0166666666666666, 0.03333333333333333, 1.2833333333333334, 1.7]]\n",
      "[1, 5, [1.1166666666666667, 2.15, 2.8333333333333335, 2.066666666666667, 1.9833333333333334]]\n",
      "[1, 4, [1.2166666666666666, 1.75, 1.1666666666666667, 1.25]]\n",
      "[1, 5, [1.6, 0.9166666666666666, 0.03333333333333333, 0.7333333333333333, 1.7333333333333334]]\n",
      "[1, 3, [1.7166666666666666, 1.05, 1.3]]\n",
      "[1, 3, [1.1833333333333333, 1.6, 2.5166666666666666]]\n",
      "[1, 4, [1.7166666666666666, 1.9833333333333334, 1.7666666666666666, 1.15]]\n",
      "[1, 3, [1.1166666666666667, 0.8666666666666667, 2.0]]\n",
      "[1, 3, [1.85, 2.8833333333333333, 0.08333333333333333]]\n",
      "[1, 3, [1.6166666666666667, 1.15, 2.783333333333333]]\n",
      "[1, 3, [1.1, 0.43333333333333335, 1.15]]\n",
      "[1, 3, [1.1833333333333333, 0.5333333333333333, 0.8666666666666667]]\n",
      "[1, 4, [1.4, 2.85, 1.2, 0.6666666666666666]]\n",
      "[1, 3, [1.0166666666666666, 2.9, 1.1333333333333333]]\n",
      "[1, 4, [1.2333333333333334, 1.75, 1.2833333333333334, 0.03333333333333333]]\n",
      "[1, 3, [1.6, 0.2, 2.8833333333333333]]\n",
      "[1, 4, [1.05, 2.6666666666666665, 2.5833333333333335, 0.8166666666666667]]\n",
      "[1, 3, [1.8, 0.7166666666666667, 0.06666666666666667]]\n",
      "[1, 3, [1.4, 2.85, 0.2833333333333333]]\n",
      "[1, 3, [1.8333333333333333, 2.9166666666666665, 1.0166666666666666]]\n",
      "[1, 4, [1.8, 2.9, 1.2, 0.6833333333333333]]\n",
      "[1, 3, [1.5, 0.16666666666666666, 0.18333333333333332]]\n",
      "[1, 4, [1.0833333333333333, 0.38333333333333336, 1.5833333333333333, 2.6333333333333333]]\n",
      "[1, 3, [1.3666666666666667, 1.3666666666666667, 1.2833333333333334]]\n",
      "[1, 3, [1.7833333333333334, 1.1333333333333333, 1.7166666666666666]]\n",
      "[1, 3, [1.25, 2.1, 0.45]]\n",
      "[1, 3, [1.5833333333333333, 2.6666666666666665, 0.6833333333333333]]\n",
      "[1, 3, [1.2333333333333334, 0.45, 1.6166666666666667]]\n",
      "[1, 3, [1.45, 0.2833333333333333, 1.0833333333333333]]\n",
      "[1, 5, [1.6666666666666667, 2.5, 1.2333333333333334, 1.05, 0.9333333333333333]]\n",
      "[1, 3, [1.5666666666666667, 0.21666666666666667, 0.7666666666666667]]\n",
      "[1, 3, [1.4666666666666666, 0.8833333333333333, 0.23333333333333334]]\n",
      "[1, 4, [1.55, 1.9666666666666666, 2.4, 0.3]]\n",
      "[1, 3, [1.3333333333333333, 0.55, 1.1166666666666667]]\n",
      "[1, 4, [1.5333333333333334, 0.21666666666666667, 1.5666666666666667, 0.8666666666666667]]\n",
      "[1, 3, [1.0833333333333333, 0.8666666666666667, 1.9833333333333334]]\n",
      "[1, 3, [1.7833333333333334, 2.9, 1.5333333333333334]]\n",
      "[1, 3, [1.7833333333333334, 0.2833333333333333, 0.85]]\n",
      "[1, 3, [1.8333333333333333, 0.5666666666666667, 2.566666666666667]]\n",
      "[1, 5, [1.8333333333333333, 1.6833333333333333, 2.6166666666666667, 2.85, 2.1333333333333333]]\n",
      "[1, 3, [1.95, 1.6, 2.066666666666667]]\n",
      "[1, 3, [1.9333333333333333, 2.6166666666666667, 2.55]]\n",
      "[1, 3, [1.3166666666666667, 2.95, 2.8333333333333335]]\n",
      "[1, 3, [1.6666666666666667, 0.9666666666666667, 0.9333333333333333]]\n",
      "[1, 3, [1.9166666666666667, 0.15, 1.6333333333333333]]\n",
      "[1, 3, [1.0333333333333334, 2.033333333333333, 1.4833333333333334]]\n",
      "[1, 4, [1.0166666666666666, 2.8, 1.25, 0.75]]\n",
      "[1, 3, [1.6666666666666667, 1.2333333333333334, 1.0833333333333333]]\n",
      "[1, 3, [1.5166666666666666, 1.4833333333333334, 2.066666666666667]]\n",
      "[1, 3, [1.7666666666666666, 2.533333333333333, 2.8333333333333335]]\n",
      "[1, 3, [1.45, 1.6333333333333333, 0.08333333333333333]]\n",
      "[1, 3, [1.4333333333333333, 0.8, 2.4]]\n",
      "[1, 3, [1.3166666666666667, 1.5333333333333334, 1.6]]\n",
      "[1, 3, [1.0, 1.6666666666666667, 1.9333333333333333]]\n",
      "[1, 3, [1.8166666666666667, 0.7333333333333333, 1.4166666666666667]]\n",
      "[1, 4, [1.6666666666666667, 0.8333333333333334, 0.7333333333333333, 2.6]]\n",
      "[1, 3, [1.3166666666666667, 0.85, 0.4166666666666667]]\n",
      "[1, 3, [1.2333333333333334, 2.3333333333333335, 1.7333333333333334]]\n",
      "[1, 3, [1.45, 1.3166666666666667, 0.65]]\n",
      "[1, 3, [1.8333333333333333, 1.0166666666666666, 0.7166666666666667]]\n",
      "[1, 3, [1.05, 2.9, 1.2]]\n",
      "[1, 3, [1.6833333333333333, 1.1833333333333333, 1.2833333333333334]]\n",
      "[1, 3, [1.75, 0.8666666666666667, 1.2333333333333334]]\n",
      "[1, 3, [1.6833333333333333, 2.783333333333333, 1.3666666666666667]]\n",
      "[1, 3, [1.6, 0.5666666666666667, 1.8833333333333333]]\n",
      "[1, 3, [1.4, 1.5166666666666666, 1.9166666666666667]]\n"
     ]
    }
   ],
   "source": [
    "#BEFORE\n",
    "one_num_blocks = []\n",
    "two_num_blocks = []\n",
    "for i in consecutives:\n",
    "    if i[0] == 1:\n",
    "        one_num_blocks.append(i[1])\n",
    "    if i[0] == 2:\n",
    "        two_num_blocks.append(i[1])\n",
    "for i in consecutives:\n",
    "    if i[1] > 2 and i[0] == 1:\n",
    "        print i\n",
    "        "
   ]
  },
  {
   "cell_type": "code",
   "execution_count": 94,
   "metadata": {
    "collapsed": false
   },
   "outputs": [
    {
     "name": "stdout",
     "output_type": "stream",
     "text": [
      "[1, 3, [1.1833333333333333, 2.3666666666666667, 2.7]]\n",
      "[1, 4, [1.3666666666666667, 1.7333333333333334, 1.7166666666666666, 2.1333333333333333]]\n",
      "[1, 3, [1.85, 0.9333333333333333, 2.25]]\n",
      "[1, 3, [1.55, 2.533333333333333, 2.35]]\n",
      "[1, 3, [1.1666666666666667, 2.7666666666666666, 1.15]]\n",
      "[1, 3, [1.25, 2.0833333333333335, 2.4]]\n",
      "[1, 3, [1.8666666666666667, 1.1166666666666667, 2.533333333333333]]\n",
      "[1, 3, [1.5666666666666667, 1.3333333333333333, 1.85]]\n",
      "[1, 3, [1.5, 0.95, 2.316666666666667]]\n",
      "[1, 5, [1.3166666666666667, 1.8, 2.45, 2.816666666666667, 1.5333333333333334]]\n",
      "[1, 4, [1.4833333333333334, 2.1333333333333333, 1.1, 2.033333333333333]]\n",
      "[1, 3, [1.1833333333333333, 0.9166666666666666, 0.5333333333333333]]\n",
      "[1, 3, [1.8333333333333333, 1.5666666666666667, 0.35]]\n",
      "[1, 3, [1.0166666666666666, 1.05, 1.15]]\n",
      "[1, 3, [1.9666666666666666, 2.2333333333333334, 2.933333333333333]]\n",
      "[1, 3, [1.1666666666666667, 1.8666666666666667, 0.3]]\n",
      "[1, 3, [1.2333333333333334, 2.85, 0.5666666666666667]]\n",
      "[1, 3, [1.1166666666666667, 0.3, 1.8666666666666667]]\n",
      "[1, 3, [1.9, 0.5166666666666667, 1.7166666666666666]]\n",
      "[1, 3, [1.1166666666666667, 2.933333333333333, 1.9]]\n",
      "[1, 3, [1.7666666666666666, 0.9666666666666667, 0.38333333333333336]]\n",
      "[1, 3, [1.1333333333333333, 2.0166666666666666, 1.6833333333333333]]\n",
      "[1, 4, [1.2333333333333334, 1.5666666666666667, 1.75, 0.26666666666666666]]\n",
      "[1, 3, [1.9333333333333333, 0.6666666666666666, 0.7166666666666667]]\n",
      "[1, 3, [1.9833333333333334, 0.26666666666666666, 2.933333333333333]]\n",
      "[1, 3, [1.4666666666666666, 0.7166666666666667, 0.23333333333333334]]\n",
      "[1, 3, [1.5333333333333334, 1.0, 0.7666666666666667]]\n",
      "[1, 3, [1.7333333333333334, 0.5333333333333333, 2.85]]\n",
      "[1, 3, [1.25, 2.216666666666667, 2.1666666666666665]]\n",
      "[1, 3, [1.7166666666666666, 0.08333333333333333, 2.8833333333333333]]\n",
      "[1, 4, [1.3833333333333333, 2.3666666666666667, 0.45, 2.5166666666666666]]\n",
      "[1, 3, [1.45, 1.6333333333333333, 1.4]]\n",
      "[1, 5, [1.15, 0.36666666666666664, 2.283333333333333, 1.7666666666666666, 0.21666666666666667]]\n",
      "[1, 3, [1.7833333333333334, 2.0, 0.36666666666666664]]\n",
      "[1, 3, [1.3, 2.0, 2.3333333333333335]]\n",
      "[1, 3, [1.4333333333333333, 1.1, 0.8666666666666667]]\n",
      "[1, 3, [1.1333333333333333, 1.9833333333333334, 2.65]]\n",
      "[1, 3, [1.8, 1.4333333333333333, 0.5666666666666667]]\n",
      "[1, 4, [1.55, 2.55, 0.45, 1.65]]\n",
      "[1, 3, [1.65, 2.2666666666666666, 2.7666666666666666]]\n",
      "[1, 3, [1.3666666666666667, 0.5666666666666667, 1.3666666666666667]]\n",
      "[1, 3, [1.8333333333333333, 2.8, 2.6666666666666665]]\n",
      "[1, 4, [1.1166666666666667, 0.43333333333333335, 0.7166666666666667, 2.4166666666666665]]\n",
      "[1, 4, [1.7, 1.2, 1.2166666666666666, 0.85]]\n",
      "[1, 3, [1.7, 0.8333333333333334, 0.8666666666666667]]\n",
      "[1, 3, [1.85, 1.9666666666666666, 1.0666666666666667]]\n",
      "[1, 4, [1.85, 2.5833333333333335, 2.8666666666666667, 1.6833333333333333]]\n",
      "[1, 3, [1.8666666666666667, 0.9666666666666667, 0.5666666666666667]]\n",
      "[1, 3, [1.7833333333333334, 0.7333333333333333, 1.4833333333333334]]\n",
      "[1, 3, [1.2, 2.816666666666667, 1.55]]\n",
      "[1, 3, [1.1833333333333333, 1.8666666666666667, 1.35]]\n",
      "[1, 3, [1.0666666666666667, 2.2666666666666666, 1.55]]\n",
      "[1, 4, [1.2833333333333334, 2.3, 2.816666666666667, 0.9]]\n",
      "[1, 3, [1.2833333333333334, 2.5833333333333335, 1.7666666666666666]]\n",
      "[1, 3, [1.6333333333333333, 2.3666666666666667, 1.1]]\n",
      "[1, 3, [1.6333333333333333, 1.1833333333333333, 1.6833333333333333]]\n",
      "[1, 4, [1.35, 0.55, 0.9, 2.716666666666667]]\n",
      "[1, 3, [1.2833333333333334, 0.4, 1.0166666666666666]]\n",
      "[1, 5, [1.9, 0.4166666666666667, 2.95, 2.8, 2.8666666666666667]]\n",
      "[1, 3, [1.3166666666666667, 1.9, 1.7]]\n",
      "[1, 3, [1.0166666666666666, 0.7666666666666667, 1.0833333333333333]]\n",
      "[1, 3, [1.7166666666666666, 0.5333333333333333, 2.2666666666666666]]\n",
      "[1, 3, [1.5333333333333334, 2.7333333333333334, 1.2833333333333334]]\n",
      "[1, 3, [1.7166666666666666, 2.1333333333333333, 0.6666666666666666]]\n",
      "[1, 3, [1.0166666666666666, 1.5, 2.966666666666667]]\n",
      "[1, 4, [1.0, 2.3, 1.7666666666666666, 0.6]]\n",
      "[1, 3, [1.7166666666666666, 2.9166666666666665, 0.6833333333333333]]\n",
      "[1, 3, [1.45, 1.9833333333333334, 0.7833333333333333]]\n",
      "[1, 3, [1.4333333333333333, 2.35, 2.066666666666667]]\n",
      "[1, 3, [1.2666666666666666, 0.4, 2.033333333333333]]\n",
      "[1, 3, [1.9666666666666666, 2.9, 2.783333333333333]]\n",
      "[1, 3, [1.3333333333333333, 0.6833333333333333, 2.1666666666666665]]\n",
      "[1, 3, [1.9666666666666666, 2.6333333333333333, 1.1166666666666667]]\n",
      "[1, 3, [1.6666666666666667, 1.0166666666666666, 0.2833333333333333]]\n",
      "[1, 3, [1.3166666666666667, 1.45, 2.3666666666666667]]\n",
      "[1, 3, [1.3166666666666667, 1.2833333333333334, 1.5166666666666666]]\n",
      "[1, 3, [1.2833333333333334, 1.2833333333333334, 0.8833333333333333]]\n",
      "[1, 4, [1.0, 2.35, 2.4833333333333334, 1.9166666666666667]]\n",
      "[1, 3, [1.6, 0.6, 0.8]]\n",
      "[1, 3, [1.4333333333333333, 0.18333333333333332, 0.16666666666666666]]\n",
      "[1, 3, [1.4333333333333333, 1.1666666666666667, 0.21666666666666667]]\n",
      "[1, 3, [1.0333333333333334, 1.6666666666666667, 1.9333333333333333]]\n",
      "[1, 4, [1.1166666666666667, 2.4166666666666665, 0.9833333333333333, 0.2833333333333333]]\n",
      "[1, 3, [1.8833333333333333, 0.48333333333333334, 0.9]]\n",
      "[1, 3, [1.85, 0.8833333333333333, 0.4666666666666667]]\n",
      "[1, 4, [1.7833333333333334, 1.95, 1.1833333333333333, 2.25]]\n",
      "[1, 3, [1.9333333333333333, 1.5666666666666667, 1.9166666666666667]]\n",
      "[1, 3, [1.05, 2.716666666666667, 1.3333333333333333]]\n",
      "[1, 3, [1.0, 2.4833333333333334, 1.5833333333333333]]\n",
      "[1, 4, [1.9166666666666667, 2.1666666666666665, 1.5166666666666666, 2.9833333333333334]]\n",
      "[1, 3, [1.6666666666666667, 2.7333333333333334, 1.55]]\n",
      "[1, 3, [1.15, 1.5833333333333333, 1.95]]\n",
      "[1, 3, [1.6166666666666667, 1.4833333333333334, 1.55]]\n",
      "[1, 3, [1.8333333333333333, 0.4666666666666667, 1.3666666666666667]]\n",
      "[1, 3, [1.7666666666666666, 1.8, 0.6833333333333333]]\n",
      "[1, 3, [1.8166666666666667, 0.9666666666666667, 0.6]]\n",
      "[1, 3, [1.2, 1.65, 1.5]]\n",
      "[1, 3, [1.6833333333333333, 1.6166666666666667, 0.6666666666666666]]\n",
      "[1, 3, [1.25, 0.2833333333333333, 0.9166666666666666]]\n",
      "[1, 3, [1.3333333333333333, 1.4666666666666666, 1.2]]\n",
      "[1, 3, [1.6666666666666667, 2.5, 2.966666666666667]]\n",
      "[1, 3, [1.45, 1.0166666666666666, 1.9166666666666667]]\n",
      "[1, 6, [1.6166666666666667, 0.1, 1.75, 0.26666666666666666, 0.13333333333333333, 1.7833333333333334]]\n",
      "[1, 3, [1.55, 0.9666666666666667, 2.9]]\n",
      "[1, 3, [1.9333333333333333, 2.3, 0.5166666666666667]]\n",
      "[1, 3, [1.1, 2.9833333333333334, 2.8]]\n",
      "[1, 3, [1.6333333333333333, 1.7333333333333334, 2.816666666666667]]\n",
      "[1, 3, [1.5333333333333334, 1.7166666666666666, 0.13333333333333333]]\n",
      "[1, 3, [1.2166666666666666, 0.7666666666666667, 2.75]]\n",
      "[1, 4, [1.2666666666666666, 0.6166666666666667, 2.1, 2.1666666666666665]]\n",
      "[1, 6, [1.3, 2.066666666666667, 1.3166666666666667, 2.783333333333333, 0.95, 1.7833333333333334]]\n",
      "[1, 3, [1.3833333333333333, 0.85, 2.933333333333333]]\n",
      "[1, 3, [1.8166666666666667, 1.4666666666666666, 1.8833333333333333]]\n",
      "[1, 3, [1.9333333333333333, 1.3833333333333333, 2.5]]\n",
      "[1, 3, [1.9, 1.9166666666666667, 0.06666666666666667]]\n",
      "[1, 3, [1.3, 1.8166666666666667, 0.25]]\n",
      "[1, 6, [1.1, 2.75, 2.7333333333333334, 0.13333333333333333, 2.8, 0.5833333333333334]]\n",
      "[1, 3, [1.7, 1.75, 1.0833333333333333]]\n",
      "[1, 9, [1.5166666666666666, 1.1, 2.433333333333333, 1.4666666666666666, 0.4166666666666667, 1.1166666666666667, 2.566666666666667, 2.95, 1.35]]\n",
      "[1, 3, [1.0166666666666666, 2.4, 2.3333333333333335]]\n",
      "[1, 3, [1.1833333333333333, 2.7333333333333334, 0.4]]\n",
      "[1, 4, [1.5833333333333333, 2.4833333333333334, 2.65, 2.9833333333333334]]\n",
      "[1, 3, [1.5166666666666666, 1.9833333333333334, 0.23333333333333334]]\n",
      "[1, 3, [1.0666666666666667, 1.2666666666666666, 1.35]]\n",
      "[1, 4, [1.2166666666666666, 2.7666666666666666, 0.3, 1.2]]\n",
      "[1, 3, [1.2, 1.5333333333333334, 2.2333333333333334]]\n",
      "[1, 3, [1.1, 0.7166666666666667, 2.5833333333333335]]\n",
      "[1, 3, [1.5666666666666667, 0.9, 2.3333333333333335]]\n",
      "[1, 3, [1.8333333333333333, 1.0333333333333334, 1.2833333333333334]]\n",
      "[1, 3, [1.1166666666666667, 2.6166666666666667, 1.3833333333333333]]\n",
      "[1, 3, [1.7166666666666666, 2.85, 1.6]]\n",
      "[1, 4, [1.05, 1.1166666666666667, 0.6666666666666666, 0.9666666666666667]]\n",
      "[1, 3, [1.05, 1.1, 2.5]]\n",
      "[1, 4, [1.1666666666666667, 0.7, 0.7166666666666667, 0.31666666666666665]]\n",
      "[1, 3, [1.6833333333333333, 2.55, 2.533333333333333]]\n",
      "[1, 3, [1.8166666666666667, 0.5666666666666667, 1.55]]\n",
      "[1, 4, [1.8166666666666667, 0.03333333333333333, 2.066666666666667, 2.783333333333333]]\n",
      "[1, 3, [1.2333333333333334, 2.1333333333333333, 2.966666666666667]]\n",
      "[1, 4, [1.7833333333333334, 0.9833333333333333, 0.7666666666666667, 1.7333333333333334]]\n",
      "[1, 5, [1.35, 2.15, 0.9666666666666667, 2.9833333333333334, 1.9166666666666667]]\n",
      "[1, 3, [1.4, 2.033333333333333, 1.8166666666666667]]\n",
      "[1, 3, [1.3833333333333333, 0.9, 0.65]]\n",
      "[1, 4, [1.3833333333333333, 0.48333333333333334, 1.7666666666666666, 0.35]]\n",
      "[1, 3, [1.25, 2.4166666666666665, 0.8166666666666667]]\n",
      "[1, 3, [1.4166666666666667, 2.5166666666666666, 1.5666666666666667]]\n",
      "[1, 3, [1.1333333333333333, 0.21666666666666667, 0.35]]\n",
      "[1, 4, [1.4, 0.9666666666666667, 0.43333333333333335, 2.283333333333333]]\n",
      "[1, 3, [1.7166666666666666, 2.8666666666666667, 1.0666666666666667]]\n",
      "[1, 4, [1.1166666666666667, 2.5833333333333335, 0.9833333333333333, 0.9333333333333333]]\n",
      "[1, 4, [1.75, 0.2833333333333333, 2.3666666666666667, 1.55]]\n",
      "[1, 3, [1.6333333333333333, 0.8, 2.7666666666666666]]\n",
      "[1, 3, [1.5, 1.85, 0.8666666666666667]]\n",
      "[1, 4, [1.8166666666666667, 2.5, 0.7166666666666667, 2.9]]\n",
      "[1, 3, [1.6, 2.8, 2.5833333333333335]]\n",
      "[1, 4, [1.8, 2.55, 2.1166666666666667, 1.5]]\n",
      "[1, 3, [1.6833333333333333, 2.966666666666667, 0.6166666666666667]]\n",
      "[1, 3, [1.9833333333333334, 0.2, 2.3833333333333333]]\n",
      "[1, 3, [1.2, 2.216666666666667, 1.2333333333333334]]\n",
      "[1, 3, [1.25, 1.4, 0.4666666666666667]]\n",
      "[1, 3, [1.2833333333333334, 1.0, 2.4833333333333334]]\n",
      "[1, 5, [1.4833333333333334, 1.55, 0.35, 2.5, 0.8833333333333333]]\n",
      "[1, 3, [1.0833333333333333, 1.7, 1.6166666666666667]]\n",
      "[1, 5, [1.7166666666666666, 2.466666666666667, 0.8333333333333334, 0.6833333333333333, 0.26666666666666666]]\n",
      "[1, 3, [1.2, 2.2, 1.0166666666666666]]\n",
      "[1, 3, [1.6833333333333333, 0.18333333333333332, 2.966666666666667]]\n",
      "[1, 5, [1.5333333333333334, 2.15, 1.1666666666666667, 2.216666666666667, 1.3166666666666667]]\n",
      "[1, 3, [1.45, 0.45, 0.6833333333333333]]\n",
      "[1, 3, [1.1333333333333333, 1.9333333333333333, 1.75]]\n",
      "[1, 3, [1.2833333333333334, 0.9666666666666667, 2.25]]\n",
      "[1, 3, [1.8833333333333333, 1.7666666666666666, 1.1166666666666667]]\n",
      "[1, 3, [1.9333333333333333, 2.783333333333333, 0.9666666666666667]]\n",
      "[1, 3, [1.2333333333333334, 1.4166666666666667, 2.316666666666667]]\n",
      "[1, 3, [1.2833333333333334, 2.0833333333333335, 1.4833333333333334]]\n",
      "[1, 3, [1.8333333333333333, 1.3, 2.216666666666667]]\n",
      "[1, 3, [1.7666666666666666, 1.3833333333333333, 2.5]]\n",
      "[1, 3, [1.5666666666666667, 2.6, 1.7333333333333334]]\n",
      "[1, 3, [1.9833333333333334, 1.8333333333333333, 2.216666666666667]]\n",
      "[1, 3, [1.6333333333333333, 0.8833333333333333, 2.466666666666667]]\n",
      "[1, 4, [1.15, 1.5, 2.2666666666666666, 1.15]]\n",
      "[1, 4, [1.2833333333333334, 0.9166666666666666, 0.8833333333333333, 0.9666666666666667]]\n",
      "[1, 3, [1.5, 1.9166666666666667, 2.7]]\n",
      "[1, 3, [1.3166666666666667, 0.85, 0.65]]\n",
      "[1, 3, [1.8333333333333333, 2.966666666666667, 2.566666666666667]]\n",
      "[1, 3, [1.6666666666666667, 2.683333333333333, 0.7333333333333333]]\n",
      "[1, 3, [1.1333333333333333, 2.8, 2.5]]\n",
      "[1, 3, [1.6166666666666667, 2.433333333333333, 1.05]]\n",
      "[1, 3, [1.4333333333333333, 0.8333333333333334, 2.1333333333333333]]\n",
      "[1, 3, [1.8, 2.1, 2.216666666666667]]\n",
      "[1, 3, [1.8, 2.8833333333333333, 1.2666666666666666]]\n",
      "[1, 3, [1.75, 1.2, 2.9166666666666665]]\n",
      "[1, 4, [1.35, 1.7833333333333334, 1.8166666666666667, 0.16666666666666666]]\n",
      "[1, 3, [1.05, 0.18333333333333332, 2.3333333333333335]]\n",
      "[1, 3, [1.5666666666666667, 1.1, 1.8333333333333333]]\n",
      "[1, 3, [1.9333333333333333, 2.6666666666666665, 2.7333333333333334]]\n",
      "[1, 4, [1.2, 0.16666666666666666, 0.95, 0.6333333333333333]]\n",
      "[1, 4, [1.45, 1.8666666666666667, 0.8833333333333333, 1.6]]\n",
      "[1, 4, [1.8833333333333333, 1.2166666666666666, 2.216666666666667, 0.35]]\n",
      "[1, 3, [1.9666666666666666, 2.55, 0.8833333333333333]]\n",
      "[1, 3, [1.35, 1.1, 0.9666666666666667]]\n",
      "[1, 3, [1.15, 0.23333333333333334, 1.9166666666666667]]\n",
      "[1, 3, [1.95, 2.0, 2.0833333333333335]]\n",
      "[1, 3, [1.1166666666666667, 1.35, 2.0833333333333335]]\n",
      "[1, 3, [1.25, 1.6, 2.7666666666666666]]\n",
      "[1, 3, [1.3333333333333333, 1.6166666666666667, 1.4]]\n",
      "[1, 4, [1.3, 2.9, 1.7166666666666666, 0.43333333333333335]]\n",
      "[1, 3, [1.8333333333333333, 1.2833333333333334, 2.6166666666666667]]\n",
      "[1, 3, [1.0166666666666666, 1.2666666666666666, 1.3333333333333333]]\n",
      "[1, 4, [1.4666666666666666, 1.3833333333333333, 2.6333333333333333, 1.9333333333333333]]\n",
      "[1, 3, [1.65, 0.03333333333333333, 2.033333333333333]]\n",
      "[1, 3, [1.1833333333333333, 1.1166666666666667, 0.15]]\n",
      "[1, 3, [1.9666666666666666, 2.1333333333333333, 2.5]]\n",
      "[1, 3, [1.8, 1.05, 2.183333333333333]]\n",
      "[1, 3, [1.8, 2.95, 0.15]]\n",
      "[1, 3, [1.6166666666666667, 2.6333333333333333, 2.55]]\n",
      "[1, 4, [1.5833333333333333, 2.9, 1.55, 0.9666666666666667]]\n",
      "[1, 4, [1.3666666666666667, 0.8166666666666667, 1.05, 1.4833333333333334]]\n",
      "[1, 5, [1.2, 0.2833333333333333, 1.5166666666666666, 2.6, 1.3333333333333333]]\n",
      "[1, 3, [1.8333333333333333, 2.2, 2.9166666666666665]]\n",
      "[1, 3, [1.1666666666666667, 1.7, 2.5]]\n",
      "[1, 3, [1.1833333333333333, 2.716666666666667, 0.8]]\n",
      "[1, 3, [1.5166666666666666, 0.8, 2.6666666666666665]]\n",
      "[1, 3, [1.9666666666666666, 0.5833333333333334, 0.48333333333333334]]\n",
      "[1, 3, [1.4166666666666667, 1.8, 2.9166666666666665]]\n",
      "[1, 3, [1.6166666666666667, 0.7333333333333333, 2.9]]\n",
      "[1, 3, [1.3666666666666667, 1.55, 2.8833333333333333]]\n",
      "[1, 3, [1.3666666666666667, 1.25, 1.3833333333333333]]\n",
      "[1, 3, [1.5, 1.55, 2.4]]\n",
      "[1, 3, [1.9333333333333333, 2.716666666666667, 2.566666666666667]]\n",
      "[1, 6, [1.7333333333333334, 2.6666666666666665, 2.0166666666666666, 2.1333333333333333, 2.55, 0.4666666666666667]]\n",
      "[1, 3, [1.7666666666666666, 1.6166666666666667, 1.1833333333333333]]\n",
      "[1, 3, [1.3166666666666667, 0.31666666666666665, 2.8]]\n",
      "[1, 3, [1.6333333333333333, 1.8, 0.8]]\n",
      "[1, 4, [1.5166666666666666, 2.95, 1.45, 2.466666666666667]]\n",
      "[1, 3, [1.2166666666666666, 2.433333333333333, 0.6833333333333333]]\n",
      "[1, 3, [1.5166666666666666, 1.4666666666666666, 2.183333333333333]]\n",
      "[1, 3, [1.35, 0.31666666666666665, 1.35]]\n",
      "[1, 3, [1.5333333333333334, 1.0166666666666666, 2.6166666666666667]]\n",
      "[1, 4, [1.3333333333333333, 1.3333333333333333, 0.1, 1.7333333333333334]]\n",
      "[1, 3, [1.2333333333333334, 2.3, 2.0166666666666666]]\n",
      "[1, 3, [1.3833333333333333, 0.7666666666666667, 2.35]]\n",
      "[1, 3, [1.0, 2.4833333333333334, 1.8333333333333333]]\n",
      "[1, 3, [1.1166666666666667, 1.3, 1.5333333333333334]]\n",
      "[1, 3, [1.4666666666666666, 0.6333333333333333, 2.933333333333333]]\n",
      "[1, 3, [1.3833333333333333, 0.85, 2.9166666666666665]]\n",
      "[1, 3, [1.1666666666666667, 1.6833333333333333, 1.5833333333333333]]\n",
      "[1, 3, [1.1, 0.9166666666666666, 1.6]]\n",
      "[1, 4, [1.2333333333333334, 1.5, 2.35, 2.9166666666666665]]\n",
      "[1, 3, [1.85, 1.9166666666666667, 1.2666666666666666]]\n",
      "[1, 3, [1.0333333333333334, 0.7833333333333333, 2.2666666666666666]]\n",
      "[1, 3, [1.05, 2.783333333333333, 2.2666666666666666]]\n",
      "[1, 4, [1.4666666666666666, 1.6833333333333333, 1.3666666666666667, 0.08333333333333333]]\n",
      "[1, 6, [1.7, 1.4833333333333334, 1.7833333333333334, 0.6666666666666666, 1.6333333333333333, 2.466666666666667]]\n",
      "[1, 3, [1.6833333333333333, 0.7333333333333333, 2.75]]\n",
      "[1, 3, [1.2833333333333334, 1.8833333333333333, 1.4333333333333333]]\n",
      "[1, 3, [1.25, 0.35, 0.5]]\n",
      "[1, 3, [1.8666666666666667, 1.7, 1.5166666666666666]]\n",
      "[1, 3, [1.9, 0.05, 0.5166666666666667]]\n",
      "[1, 3, [1.2333333333333334, 0.4166666666666667, 2.5833333333333335]]\n",
      "[1, 3, [1.6666666666666667, 1.2, 2.316666666666667]]\n",
      "[1, 3, [1.9, 0.5833333333333334, 2.9]]\n",
      "[1, 4, [1.05, 0.5666666666666667, 0.3333333333333333, 2.8]]\n",
      "[1, 3, [1.3333333333333333, 2.15, 0.7833333333333333]]\n",
      "[1, 3, [1.05, 0.6833333333333333, 2.7]]\n",
      "[1, 4, [1.1, 0.9166666666666666, 0.85, 0.5166666666666667]]\n",
      "[1, 3, [1.6, 1.05, 0.4166666666666667]]\n",
      "[1, 3, [1.05, 2.4833333333333334, 0.65]]\n",
      "[1, 5, [1.7, 2.2333333333333334, 2.033333333333333, 2.95, 0.85]]\n",
      "[1, 3, [1.8666666666666667, 2.0, 2.5166666666666666]]\n",
      "[1, 3, [1.1333333333333333, 1.25, 2.4166666666666665]]\n",
      "[1, 5, [1.0, 2.2, 2.533333333333333, 2.65, 1.9166666666666667]]\n",
      "[1, 5, [1.8333333333333333, 0.4666666666666667, 1.9666666666666666, 2.4166666666666665, 0.7333333333333333]]\n",
      "[1, 3, [1.3666666666666667, 1.4, 2.0]]\n",
      "[1, 3, [1.1833333333333333, 1.2, 0.4]]\n",
      "[1, 3, [1.3666666666666667, 1.4166666666666667, 0.8833333333333333]]\n",
      "[1, 3, [1.0666666666666667, 1.8166666666666667, 0.95]]\n",
      "[1, 3, [1.75, 2.216666666666667, 1.2833333333333334]]\n",
      "[1, 4, [1.9833333333333334, 2.1666666666666665, 0.8, 0.6833333333333333]]\n",
      "[1, 3, [1.5833333333333333, 2.533333333333333, 1.1333333333333333]]\n",
      "[1, 3, [1.3, 2.183333333333333, 2.3666666666666667]]\n",
      "[1, 3, [1.6666666666666667, 2.6, 1.6666666666666667]]\n",
      "[1, 4, [1.8166666666666667, 1.35, 2.966666666666667, 2.65]]\n",
      "[1, 3, [1.7833333333333334, 0.8333333333333334, 2.4]]\n",
      "[1, 3, [1.1666666666666667, 1.9166666666666667, 1.7333333333333334]]\n",
      "[1, 3, [1.75, 1.2333333333333334, 0.6166666666666667]]\n",
      "[1, 3, [1.4333333333333333, 2.7, 1.9166666666666667]]\n",
      "[1, 3, [1.1666666666666667, 1.3666666666666667, 1.0833333333333333]]\n",
      "[1, 3, [1.7166666666666666, 2.316666666666667, 1.5166666666666666]]\n",
      "[1, 3, [1.2833333333333334, 1.15, 2.3666666666666667]]\n",
      "[1, 3, [1.75, 2.2, 2.6666666666666665]]\n",
      "[1, 3, [1.9666666666666666, 0.5, 1.7333333333333334]]\n",
      "[1, 3, [1.4833333333333334, 1.0833333333333333, 2.55]]\n",
      "[1, 3, [1.35, 1.5833333333333333, 0.5166666666666667]]\n",
      "[1, 4, [1.2833333333333334, 0.9666666666666667, 0.6166666666666667, 1.1]]\n",
      "[1, 3, [1.1833333333333333, 2.3333333333333335, 0.65]]\n",
      "[1, 6, [1.6333333333333333, 0.5333333333333333, 2.1333333333333333, 0.4166666666666667, 1.3, 1.6]]\n",
      "[1, 4, [1.7, 2.316666666666667, 1.25, 1.8666666666666667]]\n",
      "[1, 4, [1.9833333333333334, 1.9833333333333334, 1.5833333333333333, 2.25]]\n",
      "[1, 5, [1.85, 1.9166666666666667, 0.8666666666666667, 1.5, 0.7833333333333333]]\n",
      "[1, 4, [1.2666666666666666, 0.8333333333333334, 2.0, 0.6166666666666667]]\n",
      "[1, 3, [1.3166666666666667, 0.1, 2.05]]\n",
      "[1, 3, [1.8, 1.55, 1.1]]\n",
      "[1, 4, [1.8, 1.35, 0.7666666666666667, 1.3166666666666667]]\n",
      "[1, 3, [1.8, 1.45, 1.7166666666666666]]\n",
      "[1, 3, [1.8666666666666667, 0.2833333333333333, 2.816666666666667]]\n",
      "[1, 3, [1.3666666666666667, 1.7, 2.6333333333333333]]\n",
      "[1, 3, [1.1333333333333333, 1.8833333333333333, 1.5666666666666667]]\n",
      "[1, 4, [1.3833333333333333, 1.1833333333333333, 1.1, 1.7666666666666666]]\n",
      "[1, 3, [1.45, 2.2, 2.6333333333333333]]\n",
      "[1, 4, [1.05, 0.8, 0.5833333333333334, 2.6166666666666667]]\n",
      "[1, 3, [1.95, 0.9, 1.2]]\n",
      "[1, 3, [1.2833333333333334, 0.7166666666666667, 0.75]]\n",
      "[1, 3, [1.3166666666666667, 0.8666666666666667, 0.3]]\n",
      "[1, 4, [1.2666666666666666, 2.2666666666666666, 0.9666666666666667, 0.35]]\n",
      "[1, 4, [1.0, 0.25, 1.15, 0.3333333333333333]]\n",
      "[1, 3, [1.6, 1.3833333333333333, 2.9166666666666665]]\n",
      "[1, 3, [1.8333333333333333, 1.1833333333333333, 2.9833333333333334]]\n",
      "[1, 3, [1.1166666666666667, 0.7, 1.5833333333333333]]\n",
      "[1, 3, [1.9833333333333334, 1.5166666666666666, 0.31666666666666665]]\n",
      "[1, 3, [1.4166666666666667, 0.6166666666666667, 1.45]]\n",
      "[1, 3, [1.2666666666666666, 0.15, 1.5166666666666666]]\n",
      "[1, 3, [1.7, 0.3, 0.8833333333333333]]\n",
      "[1, 3, [1.8666666666666667, 2.7333333333333334, 1.7]]\n",
      "[1, 3, [1.65, 1.5333333333333334, 0.03333333333333333]]\n",
      "[1, 3, [1.7166666666666666, 1.3333333333333333, 0.9333333333333333]]\n",
      "[1, 3, [1.3833333333333333, 2.8833333333333333, 1.2]]\n",
      "[1, 3, [1.8666666666666667, 0.36666666666666664, 1.05]]\n",
      "[1, 3, [1.9666666666666666, 1.1666666666666667, 1.6]]\n",
      "[1, 4, [1.2333333333333334, 2.9166666666666665, 0.5166666666666667, 0.6666666666666666]]\n",
      "[1, 3, [1.2333333333333334, 1.5, 0.95]]\n",
      "[1, 3, [1.4166666666666667, 2.15, 1.8666666666666667]]\n",
      "[1, 4, [1.8166666666666667, 1.0, 1.35, 0.6]]\n",
      "[1, 3, [1.55, 0.55, 1.7333333333333334]]\n",
      "[1, 3, [1.8833333333333333, 2.216666666666667, 2.283333333333333]]\n",
      "[1, 3, [1.3333333333333333, 1.6166666666666667, 0.7]]\n",
      "[1, 4, [1.9833333333333334, 0.26666666666666666, 2.433333333333333, 1.55]]\n",
      "[1, 3, [1.0166666666666666, 1.05, 0.21666666666666667]]\n",
      "[1, 3, [1.1833333333333333, 1.45, 1.25]]\n",
      "[1, 3, [1.6166666666666667, 0.3333333333333333, 0.5166666666666667]]\n",
      "[1, 3, [1.3, 0.21666666666666667, 1.8666666666666667]]\n",
      "[1, 3, [1.0833333333333333, 1.3166666666666667, 1.3333333333333333]]\n",
      "[1, 5, [1.45, 2.216666666666667, 2.6166666666666667, 0.65, 2.05]]\n",
      "[1, 5, [1.0333333333333334, 0.38333333333333336, 0.6333333333333333, 0.9, 2.4]]\n",
      "[1, 3, [1.5666666666666667, 1.4833333333333334, 0.9166666666666666]]\n",
      "[1, 4, [1.1666666666666667, 2.5833333333333335, 1.15, 1.9833333333333334]]\n",
      "[1, 3, [1.8, 0.48333333333333334, 2.033333333333333]]\n",
      "[1, 3, [1.9333333333333333, 2.216666666666667, 2.933333333333333]]\n",
      "[1, 3, [1.45, 2.9833333333333334, 2.283333333333333]]\n",
      "[1, 3, [1.2333333333333334, 1.95, 2.6166666666666667]]\n",
      "[1, 5, [1.9833333333333334, 1.8, 2.566666666666667, 1.9, 1.8]]\n",
      "[1, 6, [1.15, 1.2166666666666666, 0.85, 2.3, 0.43333333333333335, 0.11666666666666667]]\n",
      "[1, 4, [1.5, 0.7166666666666667, 1.95, 1.95]]\n",
      "[1, 3, [1.3333333333333333, 0.5333333333333333, 2.45]]\n",
      "[1, 5, [1.6333333333333333, 2.316666666666667, 2.716666666666667, 2.2, 1.2833333333333334]]\n",
      "[1, 4, [1.3333333333333333, 2.35, 0.45, 2.033333333333333]]\n",
      "[1, 3, [1.9666666666666666, 2.0833333333333335, 2.8833333333333333]]\n",
      "[1, 4, [1.0833333333333333, 0.25, 1.7166666666666666, 1.4166666666666667]]\n",
      "[1, 3, [1.5166666666666666, 1.4833333333333334, 1.75]]\n",
      "[1, 3, [1.65, 0.75, 0.8833333333333333]]\n",
      "[1, 3, [1.8666666666666667, 0.6166666666666667, 2.8666666666666667]]\n",
      "[1, 3, [1.5, 1.45, 0.25]]\n",
      "[1, 4, [1.1666666666666667, 1.1666666666666667, 0.8166666666666667, 1.1333333333333333]]\n",
      "[1, 5, [1.65, 0.6166666666666667, 1.2666666666666666, 1.1, 1.8166666666666667]]\n",
      "[1, 3, [1.45, 1.4, 0.9333333333333333]]\n",
      "[1, 4, [1.4, 0.15, 1.6333333333333333, 0.5333333333333333]]\n",
      "[1, 3, [1.3166666666666667, 1.4833333333333334, 0.48333333333333334]]\n",
      "[1, 6, [1.8666666666666667, 2.45, 1.0, 0.016666666666666666, 2.95, 0.3333333333333333]]\n",
      "[1, 3, [1.35, 2.0166666666666666, 0.7833333333333333]]\n",
      "[1, 3, [1.2833333333333334, 0.7, 0.65]]\n",
      "[1, 3, [1.4333333333333333, 1.2333333333333334, 0.23333333333333334]]\n",
      "[1, 3, [1.15, 2.6666666666666665, 2.3]]\n",
      "[1, 3, [1.1333333333333333, 0.21666666666666667, 1.7833333333333334]]\n",
      "[1, 3, [1.55, 1.95, 1.7333333333333334]]\n",
      "[1, 4, [1.4666666666666666, 1.05, 2.8333333333333335, 1.5]]\n",
      "[1, 3, [1.7666666666666666, 0.26666666666666666, 1.95]]\n",
      "[1, 4, [1.8, 2.2333333333333334, 2.8666666666666667, 0.26666666666666666]]\n",
      "[1, 5, [1.35, 0.48333333333333334, 2.433333333333333, 2.65, 1.7833333333333334]]\n",
      "[1, 3, [1.4166666666666667, 2.566666666666667, 0.05]]\n",
      "[1, 4, [1.6666666666666667, 2.9166666666666665, 2.8333333333333335, 1.35]]\n",
      "[1, 3, [1.2166666666666666, 1.1166666666666667, 2.25]]\n",
      "[1, 3, [1.1333333333333333, 2.0, 0.6833333333333333]]\n",
      "[1, 5, [1.35, 1.05, 0.7, 0.6833333333333333, 0.2833333333333333]]\n",
      "[1, 3, [1.7, 1.5833333333333333, 0.6166666666666667]]\n",
      "[1, 3, [1.05, 1.55, 1.1]]\n",
      "[1, 4, [1.1833333333333333, 2.75, 1.8, 1.8]]\n",
      "[1, 7, [1.4333333333333333, 1.8666666666666667, 0.2833333333333333, 1.4, 0.48333333333333334, 1.5, 0.8333333333333334]]\n",
      "[1, 3, [1.2833333333333334, 2.1666666666666665, 2.5166666666666666]]\n",
      "[1, 3, [1.6, 2.533333333333333, 0.2]]\n",
      "[1, 3, [1.25, 2.566666666666667, 2.5166666666666666]]\n",
      "[1, 3, [1.7166666666666666, 0.25, 0.1]]\n",
      "[1, 5, [1.1166666666666667, 1.65, 1.0166666666666666, 1.85, 1.15]]\n",
      "[1, 3, [1.0, 1.8833333333333333, 1.0166666666666666]]\n",
      "[1, 3, [1.15, 2.5833333333333335, 1.8166666666666667]]\n",
      "[1, 6, [1.6, 2.2333333333333334, 0.6166666666666667, 2.8833333333333333, 0.8, 0.9333333333333333]]\n",
      "[1, 3, [1.6833333333333333, 1.3166666666666667, 0.5]]\n",
      "[1, 3, [1.0666666666666667, 1.2833333333333334, 0.7166666666666667]]\n",
      "[1, 3, [1.8333333333333333, 2.183333333333333, 0.65]]\n",
      "[1, 3, [1.5833333333333333, 2.85, 1.6833333333333333]]\n",
      "[1, 3, [1.3666666666666667, 1.5333333333333334, 2.433333333333333]]\n",
      "[1, 3, [1.7833333333333334, 2.533333333333333, 2.1333333333333333]]\n",
      "[1, 3, [1.05, 2.8666666666666667, 0.8166666666666667]]\n",
      "[1, 4, [1.8, 1.7666666666666666, 0.3, 1.45]]\n",
      "[1, 3, [1.0333333333333334, 2.2, 1.2166666666666666]]\n",
      "[1, 3, [1.35, 2.0833333333333335, 2.1666666666666665]]\n",
      "[1, 3, [1.9833333333333334, 0.9333333333333333, 1.3333333333333333]]\n",
      "[1, 4, [1.1666666666666667, 1.3666666666666667, 0.0, 2.4]]\n",
      "[1, 4, [1.45, 2.75, 0.23333333333333334, 0.7]]\n",
      "[1, 6, [1.9, 1.15, 2.816666666666667, 1.5166666666666666, 0.6166666666666667, 2.816666666666667]]\n",
      "[1, 3, [1.3166666666666667, 2.8333333333333335, 1.3666666666666667]]\n",
      "[1, 3, [1.2, 0.43333333333333335, 1.6166666666666667]]\n",
      "[1, 3, [1.5333333333333334, 1.6333333333333333, 0.95]]\n",
      "[1, 3, [1.5333333333333334, 0.31666666666666665, 1.0]]\n",
      "[1, 3, [1.6333333333333333, 0.2833333333333333, 2.45]]\n",
      "[1, 3, [1.5666666666666667, 0.6, 1.2666666666666666]]\n",
      "[1, 3, [1.6666666666666667, 1.4833333333333334, 2.95]]\n",
      "[1, 3, [1.3333333333333333, 1.3333333333333333, 2.6]]\n",
      "[1, 3, [1.5666666666666667, 2.066666666666667, 1.2833333333333334]]\n",
      "[1, 3, [1.5166666666666666, 1.7666666666666666, 0.7166666666666667]]\n",
      "[1, 3, [1.1666666666666667, 0.8833333333333333, 0.95]]\n",
      "[1, 3, [1.3166666666666667, 1.0333333333333334, 1.7166666666666666]]\n",
      "[1, 3, [1.3166666666666667, 1.4333333333333333, 2.55]]\n",
      "[1, 3, [1.4666666666666666, 1.7, 2.183333333333333]]\n",
      "[1, 4, [1.6333333333333333, 2.95, 1.7, 0.9666666666666667]]\n",
      "[1, 3, [1.35, 0.6666666666666666, 0.55]]\n",
      "[1, 4, [1.2, 1.6666666666666667, 2.7333333333333334, 1.0]]\n",
      "[1, 3, [1.3166666666666667, 1.45, 1.4833333333333334]]\n",
      "[1, 3, [1.8166666666666667, 1.9666666666666666, 2.2333333333333334]]\n",
      "[1, 3, [1.6666666666666667, 0.9833333333333333, 1.8333333333333333]]\n",
      "[1, 4, [1.85, 2.15, 0.15, 2.9]]\n",
      "[1, 5, [1.1333333333333333, 2.6, 2.816666666666667, 0.8666666666666667, 2.933333333333333]]\n",
      "[1, 4, [1.6, 2.5833333333333335, 2.25, 0.7833333333333333]]\n",
      "[1, 3, [1.75, 1.6166666666666667, 1.55]]\n",
      "[1, 7, [1.5, 2.3333333333333335, 1.1333333333333333, 2.35, 0.1, 0.5833333333333334, 1.7833333333333334]]\n",
      "[1, 3, [1.7166666666666666, 2.0, 2.8333333333333335]]\n",
      "[1, 3, [1.65, 1.0333333333333334, 2.5833333333333335]]\n",
      "[1, 3, [1.4666666666666666, 0.4166666666666667, 0.7833333333333333]]\n",
      "[1, 6, [1.25, 2.7333333333333334, 1.7666666666666666, 0.15, 0.6, 0.8833333333333333]]\n",
      "[1, 4, [1.75, 1.5, 0.35, 2.1]]\n",
      "[1, 4, [1.2166666666666666, 1.3, 0.3, 2.216666666666667]]\n",
      "[1, 3, [1.1166666666666667, 1.7333333333333334, 1.7333333333333334]]\n",
      "[1, 5, [1.4666666666666666, 2.0166666666666666, 0.2833333333333333, 1.05, 2.1666666666666665]]\n",
      "[1, 3, [1.55, 2.85, 0.9833333333333333]]\n",
      "[1, 4, [1.0833333333333333, 0.23333333333333334, 1.0333333333333334, 1.3833333333333333]]\n",
      "[1, 7, [1.6166666666666667, 0.26666666666666666, 1.0, 1.6666666666666667, 0.2, 1.85, 0.5666666666666667]]\n",
      "[1, 3, [1.05, 1.2333333333333334, 2.1]]\n",
      "[1, 3, [1.9, 0.18333333333333332, 0.55]]\n",
      "[1, 4, [1.2333333333333334, 0.9833333333333333, 1.9666666666666666, 0.03333333333333333]]\n",
      "[1, 5, [1.9166666666666667, 0.31666666666666665, 1.75, 2.45, 0.75]]\n",
      "[1, 3, [1.6333333333333333, 2.216666666666667, 1.9]]\n",
      "[1, 4, [1.3, 1.6833333333333333, 2.8333333333333335, 2.183333333333333]]\n",
      "[1, 3, [1.1666666666666667, 0.7, 1.6833333333333333]]\n",
      "[1, 3, [1.6166666666666667, 1.3333333333333333, 1.4666666666666666]]\n",
      "[1, 3, [1.8, 1.8833333333333333, 2.033333333333333]]\n",
      "[1, 4, [1.6, 0.6, 0.16666666666666666, 2.433333333333333]]\n",
      "[1, 3, [1.0166666666666666, 0.9333333333333333, 0.4666666666666667]]\n",
      "[1, 5, [1.6333333333333333, 1.5, 1.2833333333333334, 2.216666666666667, 1.4666666666666666]]\n",
      "[1, 6, [1.3166666666666667, 0.9, 0.9333333333333333, 1.9833333333333334, 2.3333333333333335, 2.716666666666667]]\n",
      "[1, 3, [1.7666666666666666, 1.4166666666666667, 0.9666666666666667]]\n",
      "[1, 3, [1.0333333333333334, 2.683333333333333, 2.5833333333333335]]\n",
      "[1, 3, [1.5166666666666666, 1.7166666666666666, 0.6166666666666667]]\n",
      "[1, 5, [1.5333333333333334, 0.55, 1.35, 2.183333333333333, 0.8833333333333333]]\n",
      "[1, 3, [1.9, 0.8, 1.5833333333333333]]\n",
      "[1, 3, [1.9333333333333333, 1.9166666666666667, 2.3833333333333333]]\n",
      "[1, 3, [1.05, 0.4, 1.4166666666666667]]\n",
      "[1, 3, [1.0333333333333334, 1.6, 0.25]]\n",
      "[1, 3, [1.15, 1.8333333333333333, 2.1666666666666665]]\n",
      "[1, 3, [1.4166666666666667, 2.6666666666666665, 0.9]]\n",
      "[1, 3, [1.9333333333333333, 1.7666666666666666, 1.0166666666666666]]\n",
      "[1, 3, [1.2833333333333334, 2.816666666666667, 2.7666666666666666]]\n",
      "[1, 4, [1.1, 0.7833333333333333, 1.7666666666666666, 1.0833333333333333]]\n",
      "[1, 3, [1.4, 2.283333333333333, 1.9833333333333334]]\n",
      "[1, 4, [1.6333333333333333, 1.65, 2.3, 2.8833333333333333]]\n",
      "[1, 3, [1.1166666666666667, 2.066666666666667, 2.1166666666666667]]\n",
      "[1, 4, [1.4166666666666667, 0.25, 1.2, 1.05]]\n",
      "[1, 3, [1.0166666666666666, 0.7, 1.6833333333333333]]\n",
      "[1, 3, [1.9166666666666667, 1.7833333333333334, 2.0]]\n",
      "[1, 3, [1.0833333333333333, 1.9333333333333333, 1.4666666666666666]]\n",
      "[1, 4, [1.2666666666666666, 1.6, 1.9666666666666666, 1.4333333333333333]]\n",
      "[1, 3, [1.9833333333333334, 0.8166666666666667, 0.7]]\n",
      "[1, 3, [1.0666666666666667, 2.1166666666666667, 1.4833333333333334]]\n",
      "[1, 3, [1.8, 2.95, 0.6333333333333333]]\n",
      "[1, 3, [1.15, 1.25, 1.1333333333333333]]\n",
      "[1, 3, [1.35, 0.5, 0.38333333333333336]]\n",
      "[1, 3, [1.95, 1.3666666666666667, 0.8666666666666667]]\n",
      "[1, 4, [1.05, 1.2333333333333334, 2.6, 1.3]]\n",
      "[1, 3, [1.1666666666666667, 1.85, 0.5833333333333334]]\n",
      "[1, 3, [1.1166666666666667, 0.9333333333333333, 1.4333333333333333]]\n",
      "[1, 3, [1.6666666666666667, 1.5666666666666667, 0.7166666666666667]]\n",
      "[1, 3, [1.2, 2.783333333333333, 0.6166666666666667]]\n",
      "[1, 4, [1.2833333333333334, 2.85, 1.0, 1.1833333333333333]]\n",
      "[1, 3, [1.8, 1.8166666666666667, 1.1333333333333333]]\n",
      "[1, 3, [1.4833333333333334, 0.8666666666666667, 0.1]]\n",
      "[1, 3, [1.0333333333333334, 1.8666666666666667, 2.5166666666666666]]\n",
      "[1, 3, [1.6666666666666667, 0.3, 0.7333333333333333]]\n",
      "[1, 3, [1.5333333333333334, 1.2666666666666666, 1.75]]\n",
      "[1, 4, [1.6833333333333333, 2.9, 0.16666666666666666, 1.95]]\n",
      "[1, 4, [1.8, 1.4166666666666667, 2.6166666666666667, 0.3333333333333333]]\n",
      "[1, 4, [1.25, 0.43333333333333335, 1.9, 2.5]]\n",
      "[1, 3, [1.15, 1.8166666666666667, 0.8166666666666667]]\n",
      "[1, 3, [1.9666666666666666, 1.0666666666666667, 2.0833333333333335]]\n",
      "[1, 6, [1.2833333333333334, 1.7333333333333334, 0.7, 2.566666666666667, 2.55, 1.8]]\n",
      "[1, 4, [1.5333333333333334, 1.25, 1.6833333333333333, 1.5833333333333333]]\n",
      "[1, 4, [1.1833333333333333, 2.05, 1.5833333333333333, 0.6333333333333333]]\n",
      "[1, 3, [1.4666666666666666, 0.4666666666666667, 2.216666666666667]]\n",
      "[1, 3, [1.0666666666666667, 0.6, 1.5166666666666666]]\n",
      "[1, 3, [1.75, 2.6166666666666667, 1.7166666666666666]]\n",
      "[1, 3, [1.5833333333333333, 2.3333333333333335, 2.7666666666666666]]\n",
      "[1, 6, [1.0333333333333334, 0.9666666666666667, 2.566666666666667, 1.2666666666666666, 1.7, 0.95]]\n",
      "[1, 3, [1.8166666666666667, 1.3333333333333333, 0.6333333333333333]]\n",
      "[1, 3, [1.3166666666666667, 0.8833333333333333, 0.5833333333333334]]\n",
      "[1, 3, [1.8, 0.7666666666666667, 2.9166666666666665]]\n",
      "[1, 4, [1.8666666666666667, 0.3333333333333333, 2.716666666666667, 0.23333333333333334]]\n",
      "[1, 3, [1.0166666666666666, 2.6, 1.1166666666666667]]\n",
      "[1, 5, [1.7833333333333334, 1.25, 2.15, 0.9, 2.4]]\n",
      "[1, 3, [1.9166666666666667, 0.45, 0.8833333333333333]]\n",
      "[1, 4, [1.8666666666666667, 0.6666666666666666, 2.3833333333333333, 1.8666666666666667]]\n",
      "[1, 4, [1.95, 1.2833333333333334, 0.6666666666666666, 1.6333333333333333]]\n",
      "[1, 3, [1.6833333333333333, 2.066666666666667, 2.216666666666667]]\n",
      "[1, 6, [1.8666666666666667, 2.6166666666666667, 1.2666666666666666, 2.566666666666667, 1.65, 1.7333333333333334]]\n",
      "[1, 3, [1.1166666666666667, 2.066666666666667, 1.8]]\n",
      "[1, 5, [1.5666666666666667, 1.9, 2.75, 1.4166666666666667, 0.9166666666666666]]\n",
      "[1, 3, [1.8666666666666667, 1.6666666666666667, 0.06666666666666667]]\n",
      "[1, 4, [1.4, 0.8, 2.45, 2.183333333333333]]\n",
      "[1, 3, [1.15, 0.5833333333333334, 1.1666666666666667]]\n",
      "[1, 3, [1.1166666666666667, 0.9, 2.433333333333333]]\n",
      "[1, 3, [1.3166666666666667, 0.9, 1.9666666666666666]]\n",
      "[1, 4, [1.05, 0.7166666666666667, 1.8833333333333333, 1.35]]\n",
      "[1, 4, [1.85, 2.2666666666666666, 2.683333333333333, 2.95]]\n",
      "[1, 3, [1.0666666666666667, 1.6, 2.966666666666667]]\n",
      "[1, 4, [1.0, 1.0833333333333333, 0.3333333333333333, 2.783333333333333]]\n",
      "[1, 3, [1.5166666666666666, 0.6666666666666666, 2.5]]\n",
      "[1, 4, [1.05, 1.0333333333333334, 1.9833333333333334, 2.316666666666667]]\n",
      "[1, 3, [1.9333333333333333, 1.25, 0.2]]\n",
      "[1, 3, [1.4666666666666666, 2.45, 0.5]]\n",
      "[1, 3, [1.9666666666666666, 2.6333333333333333, 2.4]]\n",
      "[1, 4, [1.4166666666666667, 0.7833333333333333, 2.966666666666667, 2.1333333333333333]]\n",
      "[1, 3, [1.9666666666666666, 1.7166666666666666, 2.066666666666667]]\n",
      "[1, 3, [1.0666666666666667, 1.45, 0.8666666666666667]]\n",
      "[1, 3, [1.8333333333333333, 2.7333333333333334, 1.75]]\n",
      "[1, 4, [1.6333333333333333, 2.3, 1.15, 0.7666666666666667]]\n",
      "[1, 4, [1.45, 1.0666666666666667, 2.85, 0.26666666666666666]]\n",
      "[1, 3, [1.5166666666666666, 0.16666666666666666, 2.2]]\n",
      "[1, 3, [1.8, 2.8333333333333335, 1.9833333333333334]]\n",
      "[1, 5, [1.5166666666666666, 2.3833333333333333, 1.4333333333333333, 1.4333333333333333, 2.8333333333333335]]\n",
      "[1, 3, [1.85, 2.3, 1.6]]\n",
      "[1, 3, [1.1333333333333333, 0.36666666666666664, 0.9666666666666667]]\n",
      "[1, 3, [1.7666666666666666, 0.9666666666666667, 1.4166666666666667]]\n",
      "[1, 3, [1.1833333333333333, 0.4, 1.1166666666666667]]\n",
      "[1, 3, [1.25, 0.6833333333333333, 0.25]]\n",
      "[1, 4, [1.8666666666666667, 1.15, 0.31666666666666665, 0.7666666666666667]]\n",
      "[1, 3, [1.5333333333333334, 0.65, 1.4833333333333334]]\n",
      "[1, 3, [1.8333333333333333, 2.75, 1.65]]\n",
      "[1, 3, [1.05, 0.6333333333333333, 2.033333333333333]]\n",
      "[1, 3, [1.45, 2.1333333333333333, 0.5]]\n",
      "[1, 5, [1.3, 2.9833333333333334, 0.7166666666666667, 1.2, 1.2833333333333334]]\n",
      "[1, 4, [1.1333333333333333, 1.1333333333333333, 1.8, 0.8666666666666667]]\n",
      "[1, 3, [1.2833333333333334, 2.033333333333333, 0.45]]\n",
      "[1, 5, [1.1, 1.55, 2.7666666666666666, 0.3333333333333333, 1.6333333333333333]]\n",
      "[1, 4, [1.6833333333333333, 2.3333333333333335, 0.6333333333333333, 1.9333333333333333]]\n",
      "[1, 4, [1.25, 2.433333333333333, 0.3, 0.13333333333333333]]\n",
      "[1, 3, [1.75, 1.6166666666666667, 0.9833333333333333]]\n",
      "[1, 4, [1.9833333333333334, 0.7666666666666667, 1.2666666666666666, 2.95]]\n",
      "[1, 3, [1.1833333333333333, 2.45, 1.5833333333333333]]\n",
      "[1, 3, [1.7166666666666666, 0.08333333333333333, 1.7]]\n",
      "[1, 3, [1.0, 2.216666666666667, 2.9]]\n",
      "[1, 3, [1.2666666666666666, 2.05, 2.3833333333333333]]\n",
      "[1, 4, [1.0, 1.8166666666666667, 1.7166666666666666, 1.2166666666666666]]\n",
      "[1, 4, [1.5166666666666666, 0.6666666666666666, 0.15, 0.11666666666666667]]\n",
      "[1, 4, [1.7333333333333334, 2.05, 1.1166666666666667, 0.23333333333333334]]\n",
      "[1, 3, [1.6833333333333333, 1.85, 0.45]]\n",
      "[1, 3, [1.9833333333333334, 2.15, 1.2166666666666666]]\n",
      "[1, 3, [1.7833333333333334, 0.13333333333333333, 1.2166666666666666]]\n",
      "[1, 3, [1.5166666666666666, 0.016666666666666666, 0.7833333333333333]]\n",
      "[1, 6, [1.2333333333333334, 2.05, 2.85, 1.8833333333333333, 0.38333333333333336, 0.9333333333333333]]\n",
      "[1, 3, [1.4833333333333334, 0.7833333333333333, 0.16666666666666666]]\n",
      "[1, 3, [1.7166666666666666, 2.683333333333333, 1.1]]\n",
      "[1, 4, [1.3, 2.7, 0.11666666666666667, 0.4]]\n",
      "[1, 3, [1.8833333333333333, 0.9166666666666666, 1.0166666666666666]]\n",
      "[1, 4, [1.7833333333333334, 1.0166666666666666, 0.43333333333333335, 1.2]]\n",
      "[1, 3, [1.9833333333333334, 2.45, 0.9666666666666667]]\n",
      "[1, 3, [1.1833333333333333, 2.9166666666666665, 0.15]]\n",
      "[1, 3, [1.9, 0.4666666666666667, 2.1166666666666667]]\n",
      "[1, 3, [1.25, 1.3333333333333333, 1.4166666666666667]]\n",
      "[1, 4, [1.1666666666666667, 0.5166666666666667, 0.16666666666666666, 0.5]]\n",
      "[1, 3, [1.2, 0.5166666666666667, 0.4166666666666667]]\n",
      "[1, 6, [1.1666666666666667, 1.8333333333333333, 0.31666666666666665, 0.4666666666666667, 0.7833333333333333, 1.25]]\n",
      "[1, 3, [1.95, 0.35, 2.6166666666666667]]\n",
      "[1, 3, [1.9666666666666666, 1.3833333333333333, 2.533333333333333]]\n",
      "[1, 3, [1.3666666666666667, 2.65, 0.23333333333333334]]\n",
      "[1, 3, [1.5166666666666666, 1.55, 2.2333333333333334]]\n",
      "[1, 6, [1.6666666666666667, 0.11666666666666667, 0.8166666666666667, 0.5666666666666667, 1.0166666666666666, 1.6333333333333333]]\n",
      "[1, 3, [1.9666666666666666, 0.4666666666666667, 0.35]]\n",
      "[1, 4, [1.95, 1.5, 0.95, 1.85]]\n",
      "[1, 5, [1.4, 0.7, 1.85, 0.7666666666666667, 2.15]]\n",
      "[1, 3, [1.1, 2.3333333333333335, 1.5166666666666666]]\n",
      "[1, 3, [1.5333333333333334, 1.5, 1.5333333333333334]]\n",
      "[1, 4, [1.8, 0.3333333333333333, 0.8666666666666667, 1.9166666666666667]]\n",
      "[1, 4, [1.2666666666666666, 0.65, 2.1, 2.3]]\n",
      "[1, 3, [1.75, 2.216666666666667, 2.4833333333333334]]\n",
      "[1, 4, [1.3166666666666667, 2.3333333333333335, 2.466666666666667, 1.9666666666666666]]\n",
      "[1, 3, [1.2166666666666666, 1.4666666666666666, 2.183333333333333]]\n",
      "[1, 3, [1.05, 0.6166666666666667, 1.7666666666666666]]\n",
      "[1, 3, [1.2, 2.35, 0.18333333333333332]]\n",
      "[1, 4, [1.85, 0.21666666666666667, 2.966666666666667, 2.6166666666666667]]\n",
      "[1, 3, [1.1833333333333333, 1.75, 0.9333333333333333]]\n",
      "[1, 3, [1.4, 2.2666666666666666, 2.816666666666667]]\n",
      "[1, 5, [1.6166666666666667, 1.4833333333333334, 0.7, 1.4, 1.55]]\n",
      "[1, 3, [1.2, 2.55, 2.8833333333333333]]\n",
      "[1, 3, [1.2333333333333334, 2.35, 0.18333333333333332]]\n",
      "[1, 4, [1.1833333333333333, 0.6833333333333333, 1.2833333333333334, 2.5166666666666666]]\n",
      "[1, 3, [1.3166666666666667, 0.9, 0.3]]\n",
      "[1, 3, [1.6666666666666667, 1.8, 2.033333333333333]]\n",
      "[1, 3, [1.6666666666666667, 1.1333333333333333, 1.1666666666666667]]\n",
      "[1, 4, [1.3666666666666667, 1.1, 0.85, 0.03333333333333333]]\n",
      "[1, 4, [1.5333333333333334, 0.016666666666666666, 1.3666666666666667, 2.6]]\n",
      "[1, 3, [1.2333333333333334, 2.35, 2.066666666666667]]\n",
      "[1, 3, [1.6166666666666667, 1.7166666666666666, 2.566666666666667]]\n",
      "[1, 3, [1.5333333333333334, 2.6166666666666667, 2.7333333333333334]]\n",
      "[1, 3, [1.1, 0.25, 2.45]]\n",
      "[1, 4, [1.5833333333333333, 2.15, 1.5333333333333334, 1.0166666666666666]]\n",
      "[1, 3, [1.7166666666666666, 2.8833333333333333, 0.3333333333333333]]\n",
      "[1, 4, [1.0, 2.966666666666667, 1.7833333333333334, 0.13333333333333333]]\n",
      "[1, 3, [1.3, 0.13333333333333333, 0.9333333333333333]]\n",
      "[1, 3, [1.5666666666666667, 0.9333333333333333, 2.5833333333333335]]\n",
      "[1, 3, [1.8333333333333333, 2.8666666666666667, 0.5166666666666667]]\n",
      "[1, 3, [1.75, 1.2833333333333334, 1.0]]\n",
      "[1, 7, [1.5, 2.8333333333333335, 1.2, 1.25, 1.4666666666666666, 0.65, 2.4166666666666665]]\n",
      "[1, 5, [1.1833333333333333, 0.45, 0.16666666666666666, 0.5666666666666667, 1.75]]\n",
      "[1, 3, [1.55, 2.9166666666666665, 0.16666666666666666]]\n",
      "[1, 4, [1.3666666666666667, 0.31666666666666665, 0.48333333333333334, 2.7666666666666666]]\n",
      "[1, 3, [1.4166666666666667, 2.433333333333333, 0.55]]\n",
      "[1, 3, [1.2333333333333334, 2.783333333333333, 1.9333333333333333]]\n",
      "[1, 4, [1.5333333333333334, 1.4166666666666667, 1.7, 1.7333333333333334]]\n",
      "[1, 3, [1.7, 1.35, 1.5833333333333333]]\n",
      "[1, 4, [1.4833333333333334, 0.5166666666666667, 2.316666666666667, 2.45]]\n",
      "[1, 3, [1.65, 2.0, 0.3]]\n",
      "[1, 4, [1.7166666666666666, 1.3333333333333333, 0.65, 1.8833333333333333]]\n",
      "[1, 3, [1.3833333333333333, 1.1333333333333333, 0.3]]\n",
      "[1, 3, [1.4333333333333333, 0.95, 2.95]]\n",
      "[1, 4, [1.6166666666666667, 2.6166666666666667, 0.05, 1.9166666666666667]]\n",
      "[1, 5, [1.9333333333333333, 1.3333333333333333, 1.85, 1.1833333333333333, 0.5833333333333334]]\n",
      "[1, 4, [1.4, 2.65, 1.75, 1.3]]\n",
      "[1, 4, [1.6166666666666667, 2.566666666666667, 2.683333333333333, 2.966666666666667]]\n",
      "[1, 3, [1.25, 2.0, 0.4666666666666667]]\n",
      "[1, 5, [1.7, 0.4666666666666667, 0.7666666666666667, 1.5333333333333334, 1.3666666666666667]]\n",
      "[1, 3, [1.5166666666666666, 1.5333333333333334, 1.8333333333333333]]\n",
      "[1, 3, [1.7666666666666666, 1.5166666666666666, 1.8833333333333333]]\n",
      "[1, 3, [1.1666666666666667, 0.3, 2.3]]\n",
      "[1, 3, [1.6833333333333333, 2.3, 0.016666666666666666]]\n",
      "[1, 4, [1.9, 0.4, 1.4833333333333334, 0.3333333333333333]]\n",
      "[1, 3, [1.9, 0.26666666666666666, 1.8666666666666667]]\n",
      "[1, 3, [1.5666666666666667, 2.783333333333333, 0.6]]\n",
      "[1, 3, [1.5666666666666667, 1.5, 1.55]]\n",
      "[1, 3, [1.05, 1.1, 2.7666666666666666]]\n",
      "[1, 3, [1.2833333333333334, 0.48333333333333334, 2.35]]\n",
      "[1, 3, [1.6666666666666667, 2.65, 2.9]]\n",
      "[1, 3, [1.6166666666666667, 1.75, 0.8166666666666667]]\n",
      "[1, 3, [1.1666666666666667, 1.3666666666666667, 0.5]]\n",
      "[1, 3, [1.4166666666666667, 0.35, 0.6666666666666666]]\n",
      "[1, 3, [1.8666666666666667, 0.03333333333333333, 0.26666666666666666]]\n",
      "[1, 3, [1.1833333333333333, 1.3, 0.2]]\n",
      "[1, 3, [1.4333333333333333, 0.13333333333333333, 2.7666666666666666]]\n",
      "[1, 3, [1.4666666666666666, 2.6166666666666667, 2.7333333333333334]]\n",
      "[1, 5, [1.6, 0.8833333333333333, 1.5, 2.6, 1.2]]\n",
      "[1, 3, [1.4, 0.4666666666666667, 1.5]]\n",
      "[1, 3, [1.8, 1.6166666666666667, 2.6666666666666665]]\n",
      "[1, 3, [1.8833333333333333, 0.5, 0.5333333333333333]]\n",
      "[1, 3, [1.35, 1.5333333333333334, 2.1]]\n",
      "[1, 3, [1.7666666666666666, 0.48333333333333334, 0.4666666666666667]]\n",
      "[1, 4, [1.2833333333333334, 0.9, 1.7833333333333334, 1.5333333333333334]]\n",
      "[1, 3, [1.5166666666666666, 0.36666666666666664, 2.5166666666666666]]\n",
      "[1, 3, [1.4833333333333334, 2.1, 2.6666666666666665]]\n",
      "[1, 4, [1.3, 0.43333333333333335, 1.3166666666666667, 2.183333333333333]]\n",
      "[1, 6, [1.8, 0.4666666666666667, 0.6333333333333333, 1.4333333333333333, 0.1, 2.65]]\n",
      "[1, 5, [1.5833333333333333, 1.0833333333333333, 2.316666666666667, 2.183333333333333, 0.6166666666666667]]\n",
      "[1, 3, [1.0166666666666666, 1.6, 0.15]]\n",
      "[1, 3, [1.3, 0.08333333333333333, 1.3333333333333333]]\n",
      "[1, 4, [1.0166666666666666, 2.283333333333333, 0.2833333333333333, 0.5333333333333333]]\n",
      "[1, 3, [1.35, 1.95, 1.0]]\n",
      "[1, 3, [1.7333333333333334, 0.2833333333333333, 2.3833333333333333]]\n",
      "[1, 3, [1.8, 2.1, 2.5833333333333335]]\n",
      "[1, 3, [1.5333333333333334, 0.45, 2.9]]\n",
      "[1, 3, [1.5333333333333334, 1.9166666666666667, 2.65]]\n",
      "[1, 4, [1.5166666666666666, 0.13333333333333333, 1.8666666666666667, 0.85]]\n",
      "[1, 3, [1.35, 2.716666666666667, 2.033333333333333]]\n",
      "[1, 3, [1.45, 0.7166666666666667, 1.3333333333333333]]\n",
      "[1, 3, [1.55, 1.8833333333333333, 0.45]]\n",
      "[1, 3, [1.4833333333333334, 0.6666666666666666, 2.35]]\n",
      "[1, 3, [1.4833333333333334, 0.9, 1.5666666666666667]]\n",
      "[1, 3, [1.9333333333333333, 2.55, 1.9166666666666667]]\n",
      "[1, 3, [1.4333333333333333, 1.1, 0.9666666666666667]]\n",
      "[1, 3, [1.9, 0.2, 2.35]]\n",
      "[1, 3, [1.5833333333333333, 1.9833333333333334, 0.3333333333333333]]\n",
      "[1, 4, [1.6, 0.35, 1.7166666666666666, 1.4833333333333334]]\n",
      "[1, 3, [1.05, 1.3, 1.6]]\n",
      "[1, 5, [1.6333333333333333, 2.7, 0.5166666666666667, 0.36666666666666664, 0.15]]\n",
      "[1, 3, [1.8666666666666667, 2.3333333333333335, 0.7666666666666667]]\n",
      "[1, 3, [1.2166666666666666, 0.2, 2.3333333333333335]]\n",
      "[1, 3, [1.65, 2.066666666666667, 1.3333333333333333]]\n",
      "[1, 3, [1.6, 2.966666666666667, 0.21666666666666667]]\n",
      "[1, 4, [1.2, 0.8666666666666667, 1.5, 2.683333333333333]]\n",
      "[1, 3, [1.0833333333333333, 0.03333333333333333, 2.1166666666666667]]\n",
      "[1, 3, [1.85, 1.1666666666666667, 2.65]]\n",
      "[1, 3, [1.5333333333333334, 2.066666666666667, 2.9]]\n",
      "[1, 3, [1.7166666666666666, 0.6666666666666666, 1.6]]\n",
      "[1, 3, [1.0, 0.3333333333333333, 1.1]]\n",
      "[1, 5, [1.2333333333333334, 0.25, 1.1333333333333333, 1.3166666666666667, 0.1]]\n",
      "[1, 6, [1.3333333333333333, 0.35, 1.5333333333333334, 0.36666666666666664, 0.7333333333333333, 0.95]]\n",
      "[1, 5, [1.7, 1.9166666666666667, 0.7166666666666667, 0.23333333333333334, 0.31666666666666665]]\n",
      "[1, 4, [1.75, 1.1, 0.6833333333333333, 2.2333333333333334]]\n",
      "[1, 3, [1.6833333333333333, 2.533333333333333, 2.6166666666666667]]\n",
      "[1, 3, [1.3, 0.9, 1.95]]\n",
      "[1, 4, [1.4, 0.9333333333333333, 2.716666666666667, 0.18333333333333332]]\n",
      "[1, 3, [1.9166666666666667, 0.5833333333333334, 1.0166666666666666]]\n",
      "[1, 3, [1.75, 1.3666666666666667, 0.2833333333333333]]\n",
      "[1, 5, [1.0666666666666667, 2.1166666666666667, 2.466666666666667, 0.15, 2.2666666666666666]]\n",
      "[1, 3, [1.4666666666666666, 0.11666666666666667, 1.9833333333333334]]\n",
      "[1, 3, [1.7, 0.25, 2.183333333333333]]\n",
      "[1, 3, [1.8833333333333333, 2.8333333333333335, 0.95]]\n",
      "[1, 3, [1.5, 2.5, 1.8]]\n",
      "[1, 4, [1.0333333333333334, 0.7666666666666667, 1.6, 0.15]]\n",
      "[1, 4, [1.55, 0.2833333333333333, 0.4, 1.8333333333333333]]\n",
      "[1, 3, [1.9666666666666666, 2.533333333333333, 0.9333333333333333]]\n",
      "[1, 3, [1.8, 1.2, 2.183333333333333]]\n",
      "[1, 3, [1.9166666666666667, 1.5666666666666667, 1.9166666666666667]]\n",
      "[1, 5, [1.4166666666666667, 0.45, 1.7166666666666666, 1.5333333333333334, 1.5833333333333333]]\n",
      "[1, 3, [1.9666666666666666, 1.1166666666666667, 0.7]]\n",
      "[1, 4, [1.2666666666666666, 1.3166666666666667, 0.38333333333333336, 2.4]]\n",
      "[1, 4, [1.4833333333333334, 0.13333333333333333, 0.48333333333333334, 0.7666666666666667]]\n",
      "[1, 4, [1.5833333333333333, 1.0166666666666666, 0.9666666666666667, 0.31666666666666665]]\n",
      "[1, 3, [1.9, 2.7, 0.4666666666666667]]\n",
      "[1, 3, [1.4833333333333334, 0.05, 2.316666666666667]]\n",
      "[1, 3, [1.6, 0.95, 2.85]]\n",
      "[1, 3, [1.9833333333333334, 2.5166666666666666, 0.7]]\n",
      "[1, 3, [1.0, 2.7333333333333334, 0.4]]\n",
      "[1, 5, [1.95, 1.8333333333333333, 0.11666666666666667, 0.7333333333333333, 1.3666666666666667]]\n",
      "[1, 4, [1.6166666666666667, 0.4666666666666667, 2.316666666666667, 0.05]]\n",
      "[1, 4, [1.8333333333333333, 2.283333333333333, 2.7666666666666666, 1.0333333333333334]]\n",
      "[1, 3, [1.3666666666666667, 2.75, 1.7333333333333334]]\n",
      "[1, 3, [1.5166666666666666, 2.25, 1.9166666666666667]]\n",
      "[1, 3, [1.5166666666666666, 0.38333333333333336, 2.6166666666666667]]\n",
      "[1, 3, [1.6666666666666667, 2.7666666666666666, 1.6333333333333333]]\n",
      "[1, 3, [1.4166666666666667, 1.9, 0.35]]\n",
      "[1, 3, [1.5833333333333333, 2.9833333333333334, 1.3166666666666667]]\n",
      "[1, 3, [1.5333333333333334, 0.35, 1.75]]\n",
      "[1, 3, [1.9166666666666667, 1.4, 2.6666666666666665]]\n",
      "[1, 3, [1.05, 1.85, 2.966666666666667]]\n",
      "[1, 3, [1.15, 0.9166666666666666, 0.7166666666666667]]\n",
      "[1, 3, [1.9, 1.55, 0.3]]\n",
      "[1, 5, [1.45, 0.75, 2.15, 0.6166666666666667, 0.5333333333333333]]\n",
      "[1, 5, [1.8166666666666667, 0.9333333333333333, 2.55, 1.7, 2.3666666666666667]]\n",
      "[1, 3, [1.8833333333333333, 0.2, 2.783333333333333]]\n",
      "[1, 3, [1.2, 1.0, 1.8333333333333333]]\n",
      "[1, 3, [1.0666666666666667, 1.9833333333333334, 0.43333333333333335]]\n",
      "[1, 3, [1.85, 2.716666666666667, 0.48333333333333334]]\n",
      "[1, 5, [1.0, 0.9666666666666667, 2.2, 2.8333333333333335, 2.283333333333333]]\n",
      "[1, 4, [1.3, 0.11666666666666667, 0.11666666666666667, 1.85]]\n",
      "[1, 4, [1.3166666666666667, 2.566666666666667, 2.1, 1.3333333333333333]]\n",
      "[1, 3, [1.25, 2.6166666666666667, 0.18333333333333332]]\n",
      "[1, 6, [1.4166666666666667, 1.5333333333333334, 0.08333333333333333, 2.0166666666666666, 0.6333333333333333, 1.7333333333333334]]\n",
      "[1, 3, [1.6333333333333333, 0.21666666666666667, 2.533333333333333]]\n",
      "[1, 3, [1.5833333333333333, 0.3, 2.816666666666667]]\n",
      "[1, 3, [1.8833333333333333, 0.9333333333333333, 1.3333333333333333]]\n",
      "[1, 3, [1.4166666666666667, 1.4333333333333333, 0.6833333333333333]]\n",
      "[1, 4, [1.3666666666666667, 2.1666666666666665, 1.6333333333333333, 1.1166666666666667]]\n",
      "[1, 3, [1.35, 0.8666666666666667, 1.5]]\n",
      "[1, 3, [1.75, 1.0, 0.5833333333333334]]\n",
      "[1, 3, [1.35, 0.31666666666666665, 0.9833333333333333]]\n",
      "[1, 3, [1.5, 1.0833333333333333, 1.2166666666666666]]\n",
      "[1, 4, [1.6, 2.4166666666666665, 0.4166666666666667, 0.5833333333333334]]\n",
      "[1, 4, [1.5666666666666667, 1.3, 1.8, 2.033333333333333]]\n",
      "[1, 3, [1.85, 1.8333333333333333, 2.566666666666667]]\n",
      "[1, 3, [1.8, 2.566666666666667, 2.2]]\n",
      "[1, 3, [1.3666666666666667, 0.7833333333333333, 1.6166666666666667]]\n",
      "[1, 3, [1.4333333333333333, 1.1833333333333333, 0.6666666666666666]]\n",
      "[1, 3, [1.5, 1.2333333333333334, 0.43333333333333335]]\n",
      "[1, 3, [1.6166666666666667, 0.31666666666666665, 1.8]]\n",
      "[1, 3, [1.1833333333333333, 0.6166666666666667, 2.8833333333333333]]\n",
      "[1, 4, [1.0666666666666667, 1.8666666666666667, 0.9333333333333333, 2.3833333333333333]]\n",
      "[1, 3, [1.4833333333333334, 2.066666666666667, 2.65]]\n",
      "[1, 3, [1.15, 2.4166666666666665, 0.55]]\n",
      "[1, 3, [1.5833333333333333, 0.016666666666666666, 2.3666666666666667]]\n",
      "[1, 4, [1.3833333333333333, 2.1666666666666665, 0.6, 1.0166666666666666]]\n",
      "[1, 4, [1.4, 1.7833333333333334, 2.5, 1.3833333333333333]]\n",
      "[1, 3, [1.0166666666666666, 2.3333333333333335, 0.5166666666666667]]\n",
      "[1, 3, [1.05, 0.5666666666666667, 1.0666666666666667]]\n",
      "[1, 4, [1.8833333333333333, 1.7, 2.5, 1.2333333333333334]]\n",
      "[1, 3, [1.3833333333333333, 0.48333333333333334, 0.5833333333333334]]\n",
      "[1, 3, [1.3333333333333333, 2.5166666666666666, 0.7666666666666667]]\n",
      "[1, 3, [1.4833333333333334, 0.7833333333333333, 1.7833333333333334]]\n",
      "[1, 5, [1.3833333333333333, 1.15, 1.5, 1.15, 2.55]]\n",
      "[1, 3, [1.6833333333333333, 0.8666666666666667, 0.31666666666666665]]\n",
      "[1, 5, [1.8666666666666667, 2.033333333333333, 1.3333333333333333, 1.6666666666666667, 0.23333333333333334]]\n",
      "[1, 3, [1.45, 1.8333333333333333, 0.75]]\n",
      "[1, 3, [1.6, 1.4833333333333334, 2.783333333333333]]\n",
      "[1, 4, [1.15, 1.55, 1.65, 1.0333333333333334]]\n",
      "[1, 3, [1.15, 0.5666666666666667, 0.16666666666666666]]\n",
      "[1, 3, [1.0833333333333333, 1.9, 2.933333333333333]]\n",
      "[1, 3, [1.0, 0.7, 0.85]]\n",
      "[1, 4, [1.65, 2.933333333333333, 1.5166666666666666, 1.4]]\n",
      "[1, 3, [1.2, 0.3, 0.8333333333333334]]\n",
      "[1, 4, [1.2, 1.0833333333333333, 2.183333333333333, 2.1333333333333333]]\n",
      "[1, 3, [1.8166666666666667, 0.5333333333333333, 2.3333333333333335]]\n",
      "[1, 4, [1.6333333333333333, 2.966666666666667, 2.4833333333333334, 2.9]]\n",
      "[1, 4, [1.3, 0.7, 0.7833333333333333, 1.4]]\n",
      "[1, 3, [1.85, 0.2833333333333333, 1.3833333333333333]]\n",
      "[1, 4, [1.8166666666666667, 2.3, 0.55, 0.7]]\n",
      "[1, 3, [1.0333333333333334, 2.066666666666667, 0.9166666666666666]]\n",
      "[1, 5, [1.7666666666666666, 0.31666666666666665, 1.5333333333333334, 2.0166666666666666, 2.2333333333333334]]\n",
      "[1, 4, [1.0, 1.8833333333333333, 0.5, 2.1166666666666667]]\n",
      "[1, 3, [1.45, 2.6166666666666667, 0.2]]\n",
      "[1, 5, [1.2666666666666666, 1.5666666666666667, 0.6166666666666667, 2.0833333333333335, 1.2166666666666666]]\n",
      "[1, 4, [1.35, 2.75, 1.0833333333333333, 2.683333333333333]]\n",
      "[1, 3, [1.4166666666666667, 0.8166666666666667, 1.7666666666666666]]\n",
      "[1, 3, [1.7333333333333334, 2.4833333333333334, 0.48333333333333334]]\n",
      "[1, 3, [1.65, 2.3833333333333333, 1.5]]\n",
      "[1, 4, [1.2833333333333334, 2.15, 2.9, 2.9166666666666665]]\n",
      "[1, 4, [1.75, 0.15, 1.2833333333333334, 0.016666666666666666]]\n",
      "[1, 3, [1.9, 1.1, 0.36666666666666664]]\n",
      "[1, 3, [1.65, 1.4833333333333334, 0.38333333333333336]]\n",
      "[1, 3, [1.8, 1.8833333333333333, 2.65]]\n",
      "[1, 4, [1.3166666666666667, 0.6166666666666667, 0.31666666666666665, 0.95]]\n",
      "[1, 3, [1.7, 0.5666666666666667, 2.35]]\n",
      "[1, 3, [1.3166666666666667, 1.7666666666666666, 2.0833333333333335]]\n",
      "[1, 5, [1.5666666666666667, 1.2833333333333334, 2.566666666666667, 2.45, 0.4]]\n",
      "[1, 5, [1.9166666666666667, 0.6, 1.7666666666666666, 0.6833333333333333, 0.38333333333333336]]\n",
      "[1, 4, [1.4, 1.2, 1.3, 2.466666666666667]]\n",
      "[1, 4, [1.9666666666666666, 1.8166666666666667, 1.75, 0.36666666666666664]]\n",
      "[1, 3, [1.6333333333333333, 0.15, 0.5333333333333333]]\n",
      "[1, 3, [1.4833333333333334, 1.65, 1.3833333333333333]]\n",
      "[1, 3, [1.8333333333333333, 1.9833333333333334, 2.7333333333333334]]\n",
      "[1, 4, [1.9666666666666666, 2.433333333333333, 0.5333333333333333, 0.8333333333333334]]\n",
      "[1, 3, [1.3, 1.9833333333333334, 0.6666666666666666]]\n",
      "[1, 5, [1.35, 0.9666666666666667, 2.1666666666666665, 1.75, 1.3833333333333333]]\n",
      "[1, 3, [1.6666666666666667, 2.033333333333333, 1.8833333333333333]]\n",
      "[1, 3, [1.0666666666666667, 0.7666666666666667, 0.8333333333333334]]\n",
      "[1, 3, [1.0333333333333334, 0.21666666666666667, 2.75]]\n",
      "[1, 4, [1.3333333333333333, 0.75, 2.8333333333333335, 0.95]]\n",
      "[1, 4, [1.0166666666666666, 0.03333333333333333, 1.2833333333333334, 1.7]]\n",
      "[1, 5, [1.1166666666666667, 2.15, 2.8333333333333335, 2.066666666666667, 1.9833333333333334]]\n",
      "[1, 4, [1.2166666666666666, 1.75, 1.1666666666666667, 1.25]]\n",
      "[1, 5, [1.6, 0.9166666666666666, 0.03333333333333333, 0.7333333333333333, 1.7333333333333334]]\n",
      "[1, 3, [1.7166666666666666, 1.05, 1.3]]\n",
      "[1, 3, [1.1833333333333333, 1.6, 2.5166666666666666]]\n",
      "[1, 4, [1.7166666666666666, 1.9833333333333334, 1.7666666666666666, 1.15]]\n",
      "[1, 3, [1.1166666666666667, 0.8666666666666667, 2.0]]\n",
      "[1, 3, [1.85, 2.8833333333333333, 0.08333333333333333]]\n",
      "[1, 3, [1.6166666666666667, 1.15, 2.783333333333333]]\n",
      "[1, 3, [1.1, 0.43333333333333335, 1.15]]\n",
      "[1, 3, [1.1833333333333333, 0.5333333333333333, 0.8666666666666667]]\n",
      "[1, 4, [1.4, 2.85, 1.2, 0.6666666666666666]]\n",
      "[1, 3, [1.0166666666666666, 2.9, 1.1333333333333333]]\n",
      "[1, 4, [1.2333333333333334, 1.75, 1.2833333333333334, 0.03333333333333333]]\n",
      "[1, 3, [1.6, 0.2, 2.8833333333333333]]\n",
      "[1, 4, [1.05, 2.6666666666666665, 2.5833333333333335, 0.8166666666666667]]\n",
      "[1, 3, [1.8, 0.7166666666666667, 0.06666666666666667]]\n",
      "[1, 3, [1.4, 2.85, 0.2833333333333333]]\n",
      "[1, 3, [1.8333333333333333, 2.9166666666666665, 1.0166666666666666]]\n",
      "[1, 4, [1.8, 2.9, 1.2, 0.6833333333333333]]\n",
      "[1, 3, [1.5, 0.16666666666666666, 0.18333333333333332]]\n",
      "[1, 4, [1.0833333333333333, 0.38333333333333336, 1.5833333333333333, 2.6333333333333333]]\n",
      "[1, 3, [1.3666666666666667, 1.3666666666666667, 1.2833333333333334]]\n",
      "[1, 3, [1.7833333333333334, 1.1333333333333333, 1.7166666666666666]]\n",
      "[1, 3, [1.25, 2.1, 0.45]]\n",
      "[1, 3, [1.5833333333333333, 2.6666666666666665, 0.6833333333333333]]\n",
      "[1, 3, [1.2333333333333334, 0.45, 1.6166666666666667]]\n",
      "[1, 3, [1.45, 0.2833333333333333, 1.0833333333333333]]\n",
      "[1, 5, [1.6666666666666667, 2.5, 1.2333333333333334, 1.05, 0.9333333333333333]]\n",
      "[1, 3, [1.5666666666666667, 0.21666666666666667, 0.7666666666666667]]\n",
      "[1, 3, [1.4666666666666666, 0.8833333333333333, 0.23333333333333334]]\n",
      "[1, 4, [1.55, 1.9666666666666666, 2.4, 0.3]]\n",
      "[1, 3, [1.3333333333333333, 0.55, 1.1166666666666667]]\n",
      "[1, 4, [1.5333333333333334, 0.21666666666666667, 1.5666666666666667, 0.8666666666666667]]\n",
      "[1, 3, [1.0833333333333333, 0.8666666666666667, 1.9833333333333334]]\n",
      "[1, 3, [1.7833333333333334, 2.9, 1.5333333333333334]]\n",
      "[1, 3, [1.7833333333333334, 0.2833333333333333, 0.85]]\n",
      "[1, 3, [1.8333333333333333, 0.5666666666666667, 2.566666666666667]]\n",
      "[1, 5, [1.8333333333333333, 1.6833333333333333, 2.6166666666666667, 2.85, 2.1333333333333333]]\n",
      "[1, 3, [1.95, 1.6, 2.066666666666667]]\n",
      "[1, 3, [1.9333333333333333, 2.6166666666666667, 2.55]]\n",
      "[1, 3, [1.3166666666666667, 2.95, 2.8333333333333335]]\n",
      "[1, 3, [1.6666666666666667, 0.9666666666666667, 0.9333333333333333]]\n",
      "[1, 3, [1.9166666666666667, 0.15, 1.6333333333333333]]\n",
      "[1, 3, [1.0333333333333334, 2.033333333333333, 1.4833333333333334]]\n",
      "[1, 4, [1.0166666666666666, 2.8, 1.25, 0.75]]\n",
      "[1, 3, [1.6666666666666667, 1.2333333333333334, 1.0833333333333333]]\n",
      "[1, 3, [1.5166666666666666, 1.4833333333333334, 2.066666666666667]]\n",
      "[1, 3, [1.7666666666666666, 2.533333333333333, 2.8333333333333335]]\n",
      "[1, 3, [1.45, 1.6333333333333333, 0.08333333333333333]]\n",
      "[1, 3, [1.4333333333333333, 0.8, 2.4]]\n",
      "[1, 3, [1.3166666666666667, 1.5333333333333334, 1.6]]\n",
      "[1, 3, [1.0, 1.6666666666666667, 1.9333333333333333]]\n",
      "[1, 3, [1.8166666666666667, 0.7333333333333333, 1.4166666666666667]]\n",
      "[1, 4, [1.6666666666666667, 0.8333333333333334, 0.7333333333333333, 2.6]]\n",
      "[1, 3, [1.3166666666666667, 0.85, 0.4166666666666667]]\n",
      "[1, 3, [1.2333333333333334, 2.3333333333333335, 1.7333333333333334]]\n",
      "[1, 3, [1.45, 1.3166666666666667, 0.65]]\n",
      "[1, 3, [1.8333333333333333, 1.0166666666666666, 0.7166666666666667]]\n",
      "[1, 3, [1.05, 2.9, 1.2]]\n",
      "[1, 3, [1.6833333333333333, 1.1833333333333333, 1.2833333333333334]]\n",
      "[1, 3, [1.75, 0.8666666666666667, 1.2333333333333334]]\n",
      "[1, 3, [1.6833333333333333, 2.783333333333333, 1.3666666666666667]]\n",
      "[1, 3, [1.6, 0.5666666666666667, 1.8833333333333333]]\n",
      "[1, 3, [1.4, 1.5166666666666666, 1.9166666666666667]]\n"
     ]
    }
   ],
   "source": [
    "#AFTER\n",
    "one_num_blocks_after = []\n",
    "two_num_blocks_after = []\n",
    "for i in consecutives_after:\n",
    "    if i[0] == 1:\n",
    "        one_num_blocks_after.append(i[1])\n",
    "    if i[0] == 2:\n",
    "        two_num_blocks_after.append(i[1])\n",
    "for i in consecutives:\n",
    "    if i[1] > 2 and i[0] == 1:\n",
    "        print i"
   ]
  },
  {
   "cell_type": "code",
   "execution_count": 95,
   "metadata": {
    "collapsed": true
   },
   "outputs": [],
   "source": [
    "one_df = pd.DataFrame({\"NumBlocks\":one_num_blocks})\n",
    "two_df = pd.DataFrame({\"NumBlocks\":two_num_blocks})\n",
    "one_after_df = pd.DataFrame({\"NumBlocks\":one_num_blocks_after})\n",
    "two_after_df = pd.DataFrame({\"NumBlocks\":two_num_blocks_after})"
   ]
  },
  {
   "cell_type": "code",
   "execution_count": 96,
   "metadata": {
    "collapsed": false
   },
   "outputs": [
    {
     "data": {
      "text/html": [
       "<div>\n",
       "<table border=\"1\" class=\"dataframe\">\n",
       "  <thead>\n",
       "    <tr style=\"text-align: right;\">\n",
       "      <th></th>\n",
       "      <th>NumBlocks</th>\n",
       "    </tr>\n",
       "  </thead>\n",
       "  <tbody>\n",
       "    <tr>\n",
       "      <th>0</th>\n",
       "      <td>2</td>\n",
       "    </tr>\n",
       "    <tr>\n",
       "      <th>1</th>\n",
       "      <td>3</td>\n",
       "    </tr>\n",
       "    <tr>\n",
       "      <th>2</th>\n",
       "      <td>2</td>\n",
       "    </tr>\n",
       "    <tr>\n",
       "      <th>3</th>\n",
       "      <td>4</td>\n",
       "    </tr>\n",
       "    <tr>\n",
       "      <th>4</th>\n",
       "      <td>3</td>\n",
       "    </tr>\n",
       "  </tbody>\n",
       "</table>\n",
       "</div>"
      ],
      "text/plain": [
       "   NumBlocks\n",
       "0          2\n",
       "1          3\n",
       "2          2\n",
       "3          4\n",
       "4          3"
      ]
     },
     "execution_count": 96,
     "metadata": {},
     "output_type": "execute_result"
    }
   ],
   "source": [
    "one_df.head()"
   ]
  },
  {
   "cell_type": "code",
   "execution_count": 97,
   "metadata": {
    "collapsed": false
   },
   "outputs": [
    {
     "data": {
      "text/plain": [
       "array([[<matplotlib.axes.AxesSubplot object at 0x7f33833958d0>]], dtype=object)"
      ]
     },
     "execution_count": 97,
     "metadata": {},
     "output_type": "execute_result"
    },
    {
     "data": {
      "image/png": "[encoded data removed]",
      "text/plain": [
       "<matplotlib.figure.Figure at 0x7f3383af3850>"
      ]
     },
     "metadata": {},
     "output_type": "display_data"
    }
   ],
   "source": [
    "#before\n",
    "one_df.hist(bins=10)\n",
    "#plt.semilogy()"
   ]
  },
  {
   "cell_type": "code",
   "execution_count": 98,
   "metadata": {
    "collapsed": false
   },
   "outputs": [
    {
     "data": {
      "text/plain": [
       "array([[<matplotlib.axes.AxesSubplot object at 0x7f3383613310>]], dtype=object)"
      ]
     },
     "execution_count": 98,
     "metadata": {},
     "output_type": "execute_result"
    },
    {
     "data": {
      "image/png": "[encoded data removed]",
      "text/plain": [
       "<matplotlib.figure.Figure at 0x7f33835fe850>"
      ]
     },
     "metadata": {},
     "output_type": "display_data"
    }
   ],
   "source": [
    "#before\n",
    "two_df.hist(bins=10)\n"
   ]
  },
  {
   "cell_type": "code",
   "execution_count": 99,
   "metadata": {
    "collapsed": false
   },
   "outputs": [
    {
     "data": {
      "text/plain": [
       "array([[<matplotlib.axes.AxesSubplot object at 0x7f3381ec7cd0>]], dtype=object)"
      ]
     },
     "execution_count": 99,
     "metadata": {},
     "output_type": "execute_result"
    },
    {
     "data": {
      "image/png": "[encoded data removed]",
      "text/plain": [
       "<matplotlib.figure.Figure at 0x7f3381ebca10>"
      ]
     },
     "metadata": {},
     "output_type": "display_data"
    }
   ],
   "source": [
    "#after\n",
    "two_after_df.hist(bins=10)\n"
   ]
  },
  {
   "cell_type": "code",
   "execution_count": 100,
   "metadata": {
    "collapsed": false
   },
   "outputs": [
    {
     "data": {
      "text/plain": [
       "array([[<matplotlib.axes.AxesSubplot object at 0x7f3383225650>]], dtype=object)"
      ]
     },
     "execution_count": 100,
     "metadata": {},
     "output_type": "execute_result"
    },
    {
     "data": {
      "image/png": "[encoded data removed]",
      "text/plain": [
       "<matplotlib.figure.Figure at 0x7f338322f8d0>"
      ]
     },
     "metadata": {},
     "output_type": "display_data"
    }
   ],
   "source": [
    "#after\n",
    "one_after_df.hist(bins=10)\n"
   ]
  },
  {
   "cell_type": "code",
   "execution_count": null,
   "metadata": {
    "collapsed": false
   },
   "outputs": [],
   "source": []
  },
  {
   "cell_type": "code",
   "execution_count": null,
   "metadata": {
    "collapsed": true
   },
   "outputs": [],
   "source": []
  }
 ],
 "metadata": {
  "kernelspec": {
   "display_name": "Python 2",
   "language": "python",
   "name": "python2"
  },
  "language_info": {
   "codemirror_mode": {
    "name": "ipython",
    "version": 2
   },
   "file_extension": ".py",
   "mimetype": "text/x-python",
   "name": "python",
   "nbconvert_exporter": "python",
   "pygments_lexer": "ipython2",
   "version": "2.7.6"
  }
 },
 "nbformat": 4,
 "nbformat_minor": 0
}
