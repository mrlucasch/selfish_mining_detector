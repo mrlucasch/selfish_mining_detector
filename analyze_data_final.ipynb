{
 "cells": [
  {
   "cell_type": "code",
   "execution_count": 4,
   "metadata": {
    "collapsed": false
   },
   "outputs": [],
   "source": [
    "import pickle\n",
    "import datetime\n",
    "from blockchain import blockexplorer\n",
    "import pandas as pd\n",
    "import numpy as np\n",
    "import matplotlib.pyplot as plt\n",
    "from operator import itemgetter, attrgetter, methodcaller\n",
    "import math\n",
    "%matplotlib inline"
   ]
  },
  {
   "cell_type": "code",
   "execution_count": 5,
   "metadata": {
    "collapsed": false
   },
   "outputs": [],
   "source": [
    "dbFile = \"simple_loop_process.dat\"\n",
    "timeFile = \"new_data/times.txt\"\n",
    "timeDiffFile = \"new_data/times_diff.txt\"\n",
    "actualTimeFile = \"new_data/actual_times.txt\"\n",
    "blockchains = []\n",
    "times = []\n",
    "timeDiffs = []\n",
    "actual_diffs = []\n",
    "orphans = []\n",
    "outliers = []"
   ]
  },
  {
   "cell_type": "markdown",
   "metadata": {},
   "source": [
    "Reads data from the dbFile. This reads in blocks so we can manipulate them. The type of each block is simpleBlock from blockchain explorer."
   ]
  },
  {
   "cell_type": "code",
   "execution_count": 6,
   "metadata": {
    "collapsed": true
   },
   "outputs": [],
   "source": [
    "def readData():\n",
    "    with open(dbFile,\"rb\") as f:\n",
    "        for _ in range(407908):\n",
    "            try:\n",
    "                blockchains.append(pickle.load(f))\n",
    "            except:\n",
    "                break"
   ]
  },
  {
   "cell_type": "markdown",
   "metadata": {},
   "source": [
    "Writes the times to a file. Should only need to be done once, but whatever."
   ]
  },
  {
   "cell_type": "code",
   "execution_count": 7,
   "metadata": {
    "collapsed": true
   },
   "outputs": [],
   "source": [
    "def writeTimes():\n",
    "    with open(timeFile,\"w\") as f:\n",
    "        for value in blockchains:\n",
    "            f.write(str(value.time)+\"\\n\")\n",
    "            "
   ]
  },
  {
   "cell_type": "markdown",
   "metadata": {},
   "source": [
    "Reads in the times from the timeFile."
   ]
  },
  {
   "cell_type": "code",
   "execution_count": 8,
   "metadata": {
    "collapsed": true
   },
   "outputs": [],
   "source": [
    "def readTimes():\n",
    "    global times\n",
    "    times = [line.rstrip('\\n') for line in open(timeFile)]"
   ]
  },
  {
   "cell_type": "code",
   "execution_count": 9,
   "metadata": {
    "collapsed": true
   },
   "outputs": [],
   "source": [
    "readData()\n",
    "blockchains = blockchains[131:]"
   ]
  },
  {
   "cell_type": "code",
   "execution_count": 10,
   "metadata": {
    "collapsed": false
   },
   "outputs": [
    {
     "data": {
      "text/plain": [
       "401339"
      ]
     },
     "execution_count": 10,
     "metadata": {},
     "output_type": "execute_result"
    }
   ],
   "source": [
    "#check that we read in the blocks\n",
    "len(blockchains)"
   ]
  },
  {
   "cell_type": "code",
   "execution_count": 11,
   "metadata": {
    "collapsed": false
   },
   "outputs": [
    {
     "data": {
      "text/plain": [
       "401339"
      ]
     },
     "execution_count": 11,
     "metadata": {},
     "output_type": "execute_result"
    }
   ],
   "source": [
    "###SORT BY HEIGHT\n",
    "#sorted(blockchains, key=lambda simple_block: student[2])\n",
    "blockchains = sorted(blockchains, key=attrgetter('height'), reverse=True)\n",
    "len(blockchains)"
   ]
  },
  {
   "cell_type": "code",
   "execution_count": 12,
   "metadata": {
    "collapsed": false
   },
   "outputs": [],
   "source": [
    "def BlockInfo(index):\n",
    "    print \"Height: \",blockchains[index].height\n",
    "    print \"Time: \",blockchains[index].time\n",
    "    print \"Actual Time \",datetime.datetime.fromtimestamp(int(blockchains[index].time)).strftime('%Y-%m-%d %H:%M:%S')\n",
    "    print \"HASH: \",blockchains[index].hash\n",
    "    print \"Main Chain: \",blockchains[index].main_chain"
   ]
  },
  {
   "cell_type": "code",
   "execution_count": 13,
   "metadata": {
    "collapsed": true
   },
   "outputs": [],
   "source": [
    "writeTimes()"
   ]
  },
  {
   "cell_type": "code",
   "execution_count": 14,
   "metadata": {
    "collapsed": false
   },
   "outputs": [],
   "source": [
    "readTimes()"
   ]
  },
  {
   "cell_type": "code",
   "execution_count": 15,
   "metadata": {
    "collapsed": false
   },
   "outputs": [
    {
     "data": {
      "text/plain": [
       "401339"
      ]
     },
     "execution_count": 15,
     "metadata": {},
     "output_type": "execute_result"
    }
   ],
   "source": [
    "#check that we read in the times\n",
    "len(times)"
   ]
  },
  {
   "cell_type": "code",
   "execution_count": 16,
   "metadata": {
    "collapsed": true
   },
   "outputs": [],
   "source": [
    "def write_actual_times():\n",
    "    with open(actualTimeFile,\"w\") as f:\n",
    "        for value in blockchains:\n",
    "            f.write(str(value.height)+\" \"+datetime.datetime.fromtimestamp(int(value.time)).strftime('%Y-%m-%d %H:%M:%S')+\"\\n\")"
   ]
  },
  {
   "cell_type": "code",
   "execution_count": 17,
   "metadata": {
    "collapsed": false
   },
   "outputs": [],
   "source": [
    "#times = times.sort()\n",
    "write_actual_times()\n",
    "#blockchains = blockchains2"
   ]
  },
  {
   "cell_type": "markdown",
   "metadata": {},
   "source": [
    "This is a test block. Allows you to examine the timing and info about block. Ignore this as its lame"
   ]
  },
  {
   "cell_type": "code",
   "execution_count": 18,
   "metadata": {
    "collapsed": false
   },
   "outputs": [
    {
     "name": "stdout",
     "output_type": "stream",
     "text": [
      "<type 'datetime.datetime'>\n",
      "2016-04-18 05:42:25\n",
      "-10.0\n",
      "(-1, 50)\n"
     ]
    }
   ],
   "source": [
    "#print blockchains[0].time\n",
    "#print blockchains[0].hash\n",
    "#print blockchains[0].height\n",
    "#print \"########\"\n",
    "#print blockchains[1].time\n",
    "#print blockchains[1].hash\n",
    "#print blockchains[1].height\n",
    "#print \"########\"\n",
    "#print int(blockchains[0].time) - int(blockchains[1].time)\n",
    "a = datetime.datetime.fromtimestamp(1460972535)\n",
    "b = datetime.datetime.fromtimestamp(1460972545)\n",
    "print type(a)\n",
    "print b\n",
    "#Mon, 18 Apr 2016 09:42:15 GMT\n",
    "#Mon, 18 Apr 2016 09:42:25 GMT\n",
    "#print type(blockchains[0].main_chain )\n",
    "c =  a - b\n",
    "print c.total_seconds()\n",
    "print divmod(c.days * 86400 + c.seconds, 60)"
   ]
  },
  {
   "cell_type": "markdown",
   "metadata": {},
   "source": [
    "Function that iterates over the times list and computes the difference between two times next to each other. Writes out to time_diff.txt. Reports the block height, time, and whether in main chain for each block as well as the time between each block. The last digit is seconds between blocks. Sample:\n",
    "```\n",
    "407864(1460995794,True) - 407863(1460992454,True)==> 0:55:40 ==>3340.0\n",
    "```"
   ]
  },
  {
   "cell_type": "code",
   "execution_count": 19,
   "metadata": {
    "collapsed": false
   },
   "outputs": [],
   "source": [
    "def processTimes():\n",
    "    global times\n",
    "    global timeDiffs\n",
    "    timeDiffs = []\n",
    "    counter = 0\n",
    "    f = open(timeDiffFile,\"w\")\n",
    "    for i in range(len(times)):\n",
    "        if i == len(times)-1:\n",
    "            break\n",
    "        #value = int(times[i]) - int(times[i+1])\n",
    "        value = datetime.datetime.fromtimestamp(int(blockchains[i].time)) - datetime.datetime.fromtimestamp(int(blockchains[i+1].time))\n",
    "        \n",
    "        timeDiffs.append(value.total_seconds())\n",
    "        f.write(str(counter)+\": \"+str(blockchains[i].height)+\"(\"+str(blockchains[i].time)+\",\"+str(blockchains[i].main_chain)+\",\"+datetime.datetime.fromtimestamp(int(blockchains[i].time)).strftime('%Y-%m-%d %H:%M:%S')+\")\"+\" - \"+str(blockchains[i+1].height)+\"(\"+str(blockchains[i+1].time)+\",\"+str(blockchains[i+1].main_chain)+\",\"+datetime.datetime.fromtimestamp(int(blockchains[i+1].time)).strftime('%Y-%m-%d %H:%M:%S')+\")\"+\"==> \"+str(value)+\" ==>\"+str(value.total_seconds())+\" secs ==> \"+str(value.total_seconds()/60)+\" mins\\n\")\n",
    "        counter += 1\n",
    "    f.close()"
   ]
  },
  {
   "cell_type": "code",
   "execution_count": 20,
   "metadata": {
    "collapsed": false
   },
   "outputs": [],
   "source": [
    "processTimes()"
   ]
  },
  {
   "cell_type": "code",
   "execution_count": 21,
   "metadata": {
    "collapsed": false
   },
   "outputs": [
    {
     "data": {
      "text/plain": [
       "401338"
      ]
     },
     "execution_count": 21,
     "metadata": {},
     "output_type": "execute_result"
    }
   ],
   "source": [
    "#test that we have the right data\n",
    "len(timeDiffs)"
   ]
  },
  {
   "cell_type": "code",
   "execution_count": 22,
   "metadata": {
    "collapsed": false
   },
   "outputs": [
    {
     "data": {
      "text/plain": [
       "1429.0"
      ]
     },
     "execution_count": 22,
     "metadata": {},
     "output_type": "execute_result"
    }
   ],
   "source": [
    "timeDiffs[0]"
   ]
  },
  {
   "cell_type": "markdown",
   "metadata": {},
   "source": [
    "Function that converts unix time to human readable times and writes them to a file. Ignore this"
   ]
  },
  {
   "cell_type": "code",
   "execution_count": 23,
   "metadata": {
    "collapsed": false
   },
   "outputs": [],
   "source": [
    "def convertTimes():\n",
    "    global times\n",
    "    global actual_diffs\n",
    "    f = open(actualTimeFile,\"w\")\n",
    "    for value in times:\n",
    "        value = datetime.datetime.fromtimestamp(int(value)).strftime('%Y-%m-%d %H:%M:%S')\n",
    "        f.write(value+\"\\n\")\n",
    "    for value in timeDiffs:\n",
    "        value2 = datetime.datetime.fromtimestamp(int(value)).strftime('%Y-%m-%d %H:%M:%S')\n",
    "        actual_diffs.append(value2)\n",
    "    f.close()"
   ]
  },
  {
   "cell_type": "markdown",
   "metadata": {
    "collapsed": false
   },
   "source": [
    "This converts the data that is negative to positive values"
   ]
  },
  {
   "cell_type": "code",
   "execution_count": 24,
   "metadata": {
    "collapsed": false
   },
   "outputs": [],
   "source": [
    "timeDiff_data = []\n",
    "for value in timeDiffs:\n",
    "    if value < 0:\n",
    "        timeDiff_data.append(-1*value)\n",
    "    else:\n",
    "        timeDiff_data.append(value)"
   ]
  },
  {
   "cell_type": "code",
   "execution_count": 25,
   "metadata": {
    "collapsed": false
   },
   "outputs": [],
   "source": [
    "#import matplotlib.pyplot as plt\n",
    "def plot_data(seq):\n",
    "    #plt.plot([1,2,3,4])\n",
    "    plt.plot(timeDiff_data, seq)\n",
    "    plt.ylabel('Time between blocks')\n",
    "    plt.xlabel('Sequence')\n",
    "    plt.show()"
   ]
  },
  {
   "cell_type": "code",
   "execution_count": 26,
   "metadata": {
    "collapsed": false
   },
   "outputs": [],
   "source": [
    "seq = []\n",
    "for i in range(1,len(timeDiffs)+1):\n",
    "    seq.append(i)\n",
    "    \n",
    "blocks = []\n",
    "for i in range(len(blockchains)):\n",
    "    blocks.append(blockchains[i].height)"
   ]
  },
  {
   "cell_type": "code",
   "execution_count": 27,
   "metadata": {
    "collapsed": false
   },
   "outputs": [
    {
     "data": {
      "text/plain": [
       "1429.0"
      ]
     },
     "execution_count": 27,
     "metadata": {},
     "output_type": "execute_result"
    }
   ],
   "source": [
    "#plot_data(seq)\n",
    "timeDiff_data[0]"
   ]
  },
  {
   "cell_type": "code",
   "execution_count": 28,
   "metadata": {
    "collapsed": false
   },
   "outputs": [
    {
     "name": "stdout",
     "output_type": "stream",
     "text": [
      "401338\n",
      "401338\n",
      "401339\n"
     ]
    }
   ],
   "source": [
    "print len(timeDiff_data)\n",
    "print len(seq)\n",
    "print len(blocks)\n",
    "del blocks[-1]"
   ]
  },
  {
   "cell_type": "code",
   "execution_count": 29,
   "metadata": {
    "collapsed": true
   },
   "outputs": [],
   "source": [
    "def convertToMin(arr):\n",
    "    temp = []\n",
    "    for i in range(len(arr)):\n",
    "        temp.append(arr[i]/60)\n",
    "    return temp"
   ]
  },
  {
   "cell_type": "code",
   "execution_count": 30,
   "metadata": {
    "collapsed": true
   },
   "outputs": [],
   "source": [
    "del seq[-1]\n",
    "del timeDiff_data[-1]"
   ]
  },
  {
   "cell_type": "code",
   "execution_count": 31,
   "metadata": {
    "collapsed": true
   },
   "outputs": [],
   "source": [
    "del timeDiff_data[-1]"
   ]
  },
  {
   "cell_type": "code",
   "execution_count": 32,
   "metadata": {
    "collapsed": false
   },
   "outputs": [
    {
     "name": "stdout",
     "output_type": "stream",
     "text": [
      "               index       time\n",
      "count      50.000000  50.000000\n",
      "mean   406949.960000   8.075333\n",
      "std        14.144964   7.659377\n",
      "min    406926.000000   0.133333\n",
      "25%    406938.250000   1.791667\n",
      "50%    406949.500000   5.966667\n",
      "75%    406961.750000  10.595833\n",
      "max    406974.000000  34.066667\n"
     ]
    }
   ],
   "source": [
    "#df = pd.DataFrame({'index':seq,'time':convertToMin(timeDiff_data)})\n",
    "df = pd.DataFrame({'index':blocks[800:850],'time':convertToMin(timeDiff_data[800:850])})\n",
    "#df = pd.DataFrame({'time':convertToMin(timeDiff_data[800:850])})\n",
    "\n",
    "#df = pd.DataFrame({'index':seq[0:50],'time':timeDiff_data[0:50]})\n",
    "#df = pd.DataFrame({'index':seq[0:50],'time':convertToMin(timeDiff_data[0:50])})\n",
    "#df = pd.DataFrame({'index':seq[300:400],'time':convertToMin(timeDiff_data[300:400])})\n",
    "#df = pd.DataFrame({'index':seq[300:400],'time':timeDiff_data[300:400]})\n",
    "print df.describe()"
   ]
  },
  {
   "cell_type": "code",
   "execution_count": 33,
   "metadata": {
    "collapsed": false
   },
   "outputs": [
    {
     "name": "stdout",
     "output_type": "stream",
     "text": [
      "16.2333333333\n"
     ]
    }
   ],
   "source": [
    "#my_plot = df.plot(kind='bar')\n",
    "timeDiff_mins = convertToMin(timeDiff_data)\n",
    "temp = convertToMin(timeDiff_data[0:50])\n",
    "print temp[6]"
   ]
  },
  {
   "cell_type": "code",
   "execution_count": 34,
   "metadata": {
    "collapsed": false
   },
   "outputs": [
    {
     "name": "stdout",
     "output_type": "stream",
     "text": [
      "     index       time\n",
      "45  406930   0.650000\n",
      "46  406929   3.683333\n",
      "47  406928   0.283333\n",
      "48  406927  17.266667\n",
      "49  406926  10.633333\n"
     ]
    }
   ],
   "source": [
    "print df.tail()"
   ]
  },
  {
   "cell_type": "code",
   "execution_count": 35,
   "metadata": {
    "collapsed": false
   },
   "outputs": [
    {
     "data": {
      "text/plain": [
       "<matplotlib.axes._subplots.AxesSubplot at 0x7f8141014d50>"
      ]
     },
     "execution_count": 35,
     "metadata": {},
     "output_type": "execute_result"
    },
    {
     "data": {
      "image/png": "[encoded data removed]",
      "text/plain": [
       "<matplotlib.figure.Figure at 0x7f8161a3a410>"
      ]
     },
     "metadata": {},
     "output_type": "display_data"
    }
   ],
   "source": [
    "df.plot(kind='line',x='index',y='time')"
   ]
  },
  {
   "cell_type": "code",
   "execution_count": null,
   "metadata": {
    "collapsed": true
   },
   "outputs": [],
   "source": []
  },
  {
   "cell_type": "code",
   "execution_count": 36,
   "metadata": {
    "collapsed": false
   },
   "outputs": [
    {
     "data": {
      "text/plain": [
       "[]"
      ]
     },
     "execution_count": 36,
     "metadata": {},
     "output_type": "execute_result"
    },
    {
     "data": {
      "image/png": "[encoded data removed]",
      "text/plain": [
       "<matplotlib.figure.Figure at 0x7f812f05df90>"
      ]
     },
     "metadata": {},
     "output_type": "display_data"
    }
   ],
   "source": [
    "df2 = pd.DataFrame({'time':convertToMin(timeDiff_data)})\n",
    "#df2.plot(kind='hist',bins=100)\n",
    "df2.hist(bins=200)\n",
    "plt.semilogy()"
   ]
  },
  {
   "cell_type": "code",
   "execution_count": 37,
   "metadata": {
    "collapsed": false
   },
   "outputs": [
    {
     "data": {
      "text/html": [
       "<div>\n",
       "<table border=\"1\" class=\"dataframe\">\n",
       "  <thead>\n",
       "    <tr style=\"text-align: right;\">\n",
       "      <th></th>\n",
       "      <th>time</th>\n",
       "    </tr>\n",
       "  </thead>\n",
       "  <tbody>\n",
       "    <tr>\n",
       "      <th>count</th>\n",
       "      <td>401336.000000</td>\n",
       "    </tr>\n",
       "    <tr>\n",
       "      <th>mean</th>\n",
       "      <td>9.801350</td>\n",
       "    </tr>\n",
       "    <tr>\n",
       "      <th>std</th>\n",
       "      <td>11.751492</td>\n",
       "    </tr>\n",
       "    <tr>\n",
       "      <th>min</th>\n",
       "      <td>0.000000</td>\n",
       "    </tr>\n",
       "    <tr>\n",
       "      <th>25%</th>\n",
       "      <td>2.900000</td>\n",
       "    </tr>\n",
       "    <tr>\n",
       "      <th>50%</th>\n",
       "      <td>6.800000</td>\n",
       "    </tr>\n",
       "    <tr>\n",
       "      <th>75%</th>\n",
       "      <td>13.383333</td>\n",
       "    </tr>\n",
       "    <tr>\n",
       "      <th>max</th>\n",
       "      <td>1508.866667</td>\n",
       "    </tr>\n",
       "  </tbody>\n",
       "</table>\n",
       "</div>"
      ],
      "text/plain": [
       "                time\n",
       "count  401336.000000\n",
       "mean        9.801350\n",
       "std        11.751492\n",
       "min         0.000000\n",
       "25%         2.900000\n",
       "50%         6.800000\n",
       "75%        13.383333\n",
       "max      1508.866667"
      ]
     },
     "execution_count": 37,
     "metadata": {},
     "output_type": "execute_result"
    }
   ],
   "source": [
    "df2.describe()\n"
   ]
  },
  {
   "cell_type": "code",
   "execution_count": 38,
   "metadata": {
    "collapsed": false
   },
   "outputs": [
    {
     "data": {
      "text/plain": [
       "<matplotlib.axes._subplots.AxesSubplot at 0x7f812ee6fa50>"
      ]
     },
     "execution_count": 38,
     "metadata": {},
     "output_type": "execute_result"
    },
    {
     "data": {
      "image/png": "[encoded data removed]",
      "text/plain": [
       "<matplotlib.figure.Figure at 0x7f812eeb9b10>"
      ]
     },
     "metadata": {},
     "output_type": "display_data"
    }
   ],
   "source": [
    "df.plot(kind='hist',bins=25)"
   ]
  },
  {
   "cell_type": "code",
   "execution_count": 39,
   "metadata": {
    "collapsed": false
   },
   "outputs": [],
   "source": [
    "def outlier(points,thresh=10):\n",
    "    if len(points.shape) == 1:\n",
    "        points = points[:,None]\n",
    "    median = np.median(points, axis=0)\n",
    "    diff = np.sum((points - median)**2, axis=-1)\n",
    "    diff = np.sqrt(diff)\n",
    "    med_abs_deviation = np.median(diff)\n",
    "\n",
    "    modified_z_score = 0.6745 * diff / med_abs_deviation\n",
    "\n",
    "    return modified_z_score > thresh"
   ]
  },
  {
   "cell_type": "code",
   "execution_count": 40,
   "metadata": {
    "collapsed": false
   },
   "outputs": [
    {
     "data": {
      "text/plain": [
       "50"
      ]
     },
     "execution_count": 40,
     "metadata": {},
     "output_type": "execute_result"
    }
   ],
   "source": [
    "df3 = pd.DataFrame({'index':seq[800-850],'time':timeDiff_data[800:850]})\n",
    "\n",
    "x = outlier(df3['time'])\n",
    "len(x)"
   ]
  },
  {
   "cell_type": "code",
   "execution_count": 41,
   "metadata": {
    "collapsed": false
   },
   "outputs": [],
   "source": [
    "def remove_outliers(df):\n",
    "    temp = []\n",
    "    x = outlier(df)\n",
    "    for i in range(len(df)):\n",
    "        if x[i] == True:\n",
    "            print \"Removing \",df[i]\n",
    "        else:\n",
    "            temp.append(df[i])\n",
    "    return temp"
   ]
  },
  {
   "cell_type": "code",
   "execution_count": 42,
   "metadata": {
    "collapsed": false
   },
   "outputs": [],
   "source": [
    "new  = remove_outliers(df3['time'])"
   ]
  },
  {
   "cell_type": "code",
   "execution_count": 43,
   "metadata": {
    "collapsed": false
   },
   "outputs": [],
   "source": [
    "df4 = pd.DataFrame({'time':new})"
   ]
  },
  {
   "cell_type": "code",
   "execution_count": 44,
   "metadata": {
    "collapsed": false
   },
   "outputs": [
    {
     "data": {
      "image/png": "[encoded data removed]",
      "text/plain": [
       "<matplotlib.figure.Figure at 0x7f812edcfad0>"
      ]
     },
     "metadata": {},
     "output_type": "display_data"
    }
   ],
   "source": [
    "x = df4.plot(kind='hist',bins=25,range=[0, 65])"
   ]
  },
  {
   "cell_type": "code",
   "execution_count": null,
   "metadata": {
    "collapsed": false
   },
   "outputs": [],
   "source": []
  },
  {
   "cell_type": "code",
   "execution_count": 45,
   "metadata": {
    "collapsed": false
   },
   "outputs": [
    {
     "data": {
      "text/html": [
       "<div>\n",
       "<table border=\"1\" class=\"dataframe\">\n",
       "  <thead>\n",
       "    <tr style=\"text-align: right;\">\n",
       "      <th></th>\n",
       "      <th>time</th>\n",
       "    </tr>\n",
       "  </thead>\n",
       "  <tbody>\n",
       "    <tr>\n",
       "      <th>count</th>\n",
       "      <td>50.000000</td>\n",
       "    </tr>\n",
       "    <tr>\n",
       "      <th>mean</th>\n",
       "      <td>484.520000</td>\n",
       "    </tr>\n",
       "    <tr>\n",
       "      <th>std</th>\n",
       "      <td>459.562624</td>\n",
       "    </tr>\n",
       "    <tr>\n",
       "      <th>min</th>\n",
       "      <td>8.000000</td>\n",
       "    </tr>\n",
       "    <tr>\n",
       "      <th>25%</th>\n",
       "      <td>107.500000</td>\n",
       "    </tr>\n",
       "    <tr>\n",
       "      <th>50%</th>\n",
       "      <td>358.000000</td>\n",
       "    </tr>\n",
       "    <tr>\n",
       "      <th>75%</th>\n",
       "      <td>635.750000</td>\n",
       "    </tr>\n",
       "    <tr>\n",
       "      <th>max</th>\n",
       "      <td>2044.000000</td>\n",
       "    </tr>\n",
       "  </tbody>\n",
       "</table>\n",
       "</div>"
      ],
      "text/plain": [
       "              time\n",
       "count    50.000000\n",
       "mean    484.520000\n",
       "std     459.562624\n",
       "min       8.000000\n",
       "25%     107.500000\n",
       "50%     358.000000\n",
       "75%     635.750000\n",
       "max    2044.000000"
      ]
     },
     "execution_count": 45,
     "metadata": {},
     "output_type": "execute_result"
    }
   ],
   "source": [
    "df4.describe()"
   ]
  },
  {
   "cell_type": "code",
   "execution_count": 46,
   "metadata": {
    "collapsed": false
   },
   "outputs": [
    {
     "data": {
      "text/html": [
       "<div>\n",
       "<table border=\"1\" class=\"dataframe\">\n",
       "  <thead>\n",
       "    <tr style=\"text-align: right;\">\n",
       "      <th></th>\n",
       "      <th>time</th>\n",
       "    </tr>\n",
       "  </thead>\n",
       "  <tbody>\n",
       "    <tr>\n",
       "      <th>0</th>\n",
       "      <td>486</td>\n",
       "    </tr>\n",
       "    <tr>\n",
       "      <th>1</th>\n",
       "      <td>912</td>\n",
       "    </tr>\n",
       "    <tr>\n",
       "      <th>2</th>\n",
       "      <td>1583</td>\n",
       "    </tr>\n",
       "    <tr>\n",
       "      <th>3</th>\n",
       "      <td>546</td>\n",
       "    </tr>\n",
       "    <tr>\n",
       "      <th>4</th>\n",
       "      <td>155</td>\n",
       "    </tr>\n",
       "  </tbody>\n",
       "</table>\n",
       "</div>"
      ],
      "text/plain": [
       "   time\n",
       "0   486\n",
       "1   912\n",
       "2  1583\n",
       "3   546\n",
       "4   155"
      ]
     },
     "execution_count": 46,
     "metadata": {},
     "output_type": "execute_result"
    }
   ],
   "source": [
    "df4.head()"
   ]
  },
  {
   "cell_type": "code",
   "execution_count": 47,
   "metadata": {
    "collapsed": false
   },
   "outputs": [],
   "source": [
    "bins = np.linspace(min(df4['time']),max(df4['time']),25)"
   ]
  },
  {
   "cell_type": "code",
   "execution_count": 48,
   "metadata": {
    "collapsed": false
   },
   "outputs": [
    {
     "data": {
      "image/png": "[encoded data removed]",
      "text/plain": [
       "<matplotlib.figure.Figure at 0x7f812eedc450>"
      ]
     },
     "metadata": {},
     "output_type": "display_data"
    }
   ],
   "source": [
    "fig, ax = plt.subplots(1,1)\n",
    "ax.hist(df4['time'],bins=bins,alpha=0.5,color='#EDD834')\n",
    "#ax.set_xticks(bins[:-1])\n",
    "plt.show()"
   ]
  },
  {
   "cell_type": "code",
   "execution_count": 49,
   "metadata": {
    "collapsed": true
   },
   "outputs": [],
   "source": [
    "def find_orphans():\n",
    "    global orphans\n",
    "    global blockchains\n",
    "    orphans = []\n",
    "    for i in blockchains:\n",
    "        if i.main_chain == False:\n",
    "            orphans.append(i)"
   ]
  },
  {
   "cell_type": "code",
   "execution_count": 50,
   "metadata": {
    "collapsed": false
   },
   "outputs": [
    {
     "data": {
      "text/plain": [
       "0"
      ]
     },
     "execution_count": 50,
     "metadata": {},
     "output_type": "execute_result"
    }
   ],
   "source": [
    "len(orphans)"
   ]
  },
  {
   "cell_type": "code",
   "execution_count": 51,
   "metadata": {
    "collapsed": true
   },
   "outputs": [],
   "source": [
    "find_orphans()"
   ]
  },
  {
   "cell_type": "code",
   "execution_count": 52,
   "metadata": {
    "collapsed": false
   },
   "outputs": [
    {
     "data": {
      "text/plain": [
       "817"
      ]
     },
     "execution_count": 52,
     "metadata": {},
     "output_type": "execute_result"
    }
   ],
   "source": [
    "len(orphans)"
   ]
  },
  {
   "cell_type": "code",
   "execution_count": 53,
   "metadata": {
    "collapsed": false
   },
   "outputs": [],
   "source": [
    "def sell_orphans(chain):\n",
    "    arr = []\n",
    "    for i in chain:\n",
    "        if i.main_chain == True:\n",
    "            arr.append(i)\n",
    "    return arr"
   ]
  },
  {
   "cell_type": "code",
   "execution_count": 54,
   "metadata": {
    "collapsed": false
   },
   "outputs": [
    {
     "name": "stdout",
     "output_type": "stream",
     "text": [
      "401339\n",
      "400522\n"
     ]
    }
   ],
   "source": [
    "print len(blockchains)\n",
    "real_chain = sell_orphans(blockchains)\n",
    "print len(real_chain)"
   ]
  },
  {
   "cell_type": "code",
   "execution_count": 55,
   "metadata": {
    "collapsed": false
   },
   "outputs": [
    {
     "name": "stdout",
     "output_type": "stream",
     "text": [
      "1460907019\n",
      "00000000000000000307fce1866969b24cb465f98bf61519fbcc1f0dc05b0d80\n",
      "407722\n"
     ]
    }
   ],
   "source": [
    "print orphans[0].time\n",
    "print orphans[0].hash\n",
    "print orphans[0].height"
   ]
  },
  {
   "cell_type": "markdown",
   "metadata": {},
   "source": [
    "Segregates blocks into two lists, before and after the paper"
   ]
  },
  {
   "cell_type": "code",
   "execution_count": 56,
   "metadata": {
    "collapsed": false
   },
   "outputs": [],
   "source": [
    "def segregateBlocks(chain):\n",
    "    threshold = 1357016625\n",
    "    before = []\n",
    "    after = []\n",
    "    for block in chain:\n",
    "        if block.time < threshold:\n",
    "            before.append(block)\n",
    "        else:\n",
    "            after.append(block)\n",
    "    before = sorted(before, key=attrgetter('height'), reverse=True)\n",
    "    after = sorted(after, key=attrgetter('height'), reverse=True)\n",
    "    return before,after"
   ]
  },
  {
   "cell_type": "code",
   "execution_count": 57,
   "metadata": {
    "collapsed": true
   },
   "outputs": [],
   "source": [
    "def CalcTimes(chain,fname):\n",
    "    timeDiffs = []\n",
    "    counter = 0\n",
    "    f = open(fname,\"w\")\n",
    "    for i in range(len(chain)):\n",
    "        if i == len(chain)-1:\n",
    "            break\n",
    "        #value = int(times[i]) - int(times[i+1])\n",
    "        value = datetime.datetime.fromtimestamp(int(chain[i].time)) - datetime.datetime.fromtimestamp(int(chain[i+1].time))\n",
    "        \n",
    "        timeDiffs.append(value.total_seconds())\n",
    "        f.write(str(counter)+\": \"+str(chain[i].height)+\"(\"+str(chain[i].time)+\",\"+str(chain[i].main_chain)+\",\"+datetime.datetime.fromtimestamp(int(chain[i].time)).strftime('%Y-%m-%d %H:%M:%S')+\")\"+\" - \"+str(chain[i+1].height)+\"(\"+str(chain[i+1].time)+\",\"+str(chain[i+1].main_chain)+\",\"+datetime.datetime.fromtimestamp(int(chain[i+1].time)).strftime('%Y-%m-%d %H:%M:%S')+\")\"+\"==> \"+str(value)+\" ==>\"+str(value.total_seconds())+\" secs ==> \"+str(value.total_seconds()/60)+\" mins\\n\")\n",
    "        counter += 1\n",
    "    f.close()\n",
    "    return timeDiffs"
   ]
  },
  {
   "cell_type": "code",
   "execution_count": 58,
   "metadata": {
    "collapsed": false,
    "scrolled": false
   },
   "outputs": [
    {
     "name": "stdout",
     "output_type": "stream",
     "text": [
      "208133\n",
      "192389\n"
     ]
    }
   ],
   "source": [
    "before,after = segregateBlocks(real_chain)\n",
    "print len(before)\n",
    "print len(after)"
   ]
  },
  {
   "cell_type": "code",
   "execution_count": 59,
   "metadata": {
    "collapsed": false
   },
   "outputs": [],
   "source": [
    "before_diffs = CalcTimes(before,\"new_data/before_diffs.txt\")\n",
    "after_diffs = CalcTimes(after,\"new_data/after_diffs.txt\")\n",
    "\n"
   ]
  },
  {
   "cell_type": "code",
   "execution_count": 60,
   "metadata": {
    "collapsed": false
   },
   "outputs": [
    {
     "name": "stdout",
     "output_type": "stream",
     "text": [
      "208132\n",
      "208133\n",
      "208132\n"
     ]
    }
   ],
   "source": [
    "print len(before_diffs)\n",
    "print len(before)\n",
    "del before[-1]\n",
    "del after[-1]\n",
    "print len(before)"
   ]
  },
  {
   "cell_type": "code",
   "execution_count": 61,
   "metadata": {
    "collapsed": false
   },
   "outputs": [],
   "source": [
    "before_data = []\n",
    "after_data = []\n",
    "for value in before_diffs:\n",
    "    if value < 0.0:\n",
    "        before_data.append(-1*value)\n",
    "    else:\n",
    "        before_data.append(value)\n",
    "for value in after_diffs:\n",
    "    if value < 0.0:\n",
    "        after_data.append(-1*value)\n",
    "    else:\n",
    "        after_data.append(value)"
   ]
  },
  {
   "cell_type": "code",
   "execution_count": 62,
   "metadata": {
    "collapsed": false,
    "scrolled": true
   },
   "outputs": [
    {
     "name": "stdout",
     "output_type": "stream",
     "text": [
      "                time\n",
      "count  208132.000000\n",
      "mean       10.338053\n",
      "std        21.770765\n",
      "min         0.000000\n",
      "25%         3.016667\n",
      "50%         7.116667\n",
      "75%        13.916667\n",
      "max      7719.333333\n",
      "                time\n",
      "count  192388.000000\n",
      "mean        9.288379\n",
      "std         9.121198\n",
      "min         0.000000\n",
      "25%         2.816667\n",
      "50%         6.516667\n",
      "75%        12.850000\n",
      "max       129.016667\n"
     ]
    }
   ],
   "source": [
    "\n",
    "before_df = pd.DataFrame({'index':before,'time':convertToMin(before_data)})\n",
    "#before_df = pd.DataFrame({'time':remove_outliers(before_df['time'])})\n",
    "after_df = pd.DataFrame({'index':after,'time':convertToMin(after_data)})\n",
    "print before_df.describe()\n",
    "print after_df.describe()"
   ]
  },
  {
   "cell_type": "code",
   "execution_count": 63,
   "metadata": {
    "collapsed": false
   },
   "outputs": [
    {
     "data": {
      "text/plain": [
       "<matplotlib.axes._subplots.AxesSubplot at 0x7f812edadb10>"
      ]
     },
     "execution_count": 63,
     "metadata": {},
     "output_type": "execute_result"
    },
    {
     "data": {
      "image/png": "[encoded data removed]",
      "text/plain": [
       "<matplotlib.figure.Figure at 0x7f812ef32810>"
      ]
     },
     "metadata": {},
     "output_type": "display_data"
    }
   ],
   "source": [
    "#before_df.plot(kind='line',x='index',y='time')\n",
    "before_df.plot(kind='line',y='time')"
   ]
  },
  {
   "cell_type": "code",
   "execution_count": 64,
   "metadata": {
    "collapsed": false
   },
   "outputs": [
    {
     "data": {
      "text/plain": [
       "[]"
      ]
     },
     "execution_count": 64,
     "metadata": {},
     "output_type": "execute_result"
    },
    {
     "data": {
      "image/png": "[encoded data removed]",
      "text/plain": [
       "<matplotlib.figure.Figure at 0x7f812e810410>"
      ]
     },
     "metadata": {},
     "output_type": "display_data"
    }
   ],
   "source": [
    "before_df2 = pd.DataFrame({'time':convertToMin(before_data)})\n",
    "#df2.plot(kind='hist',bins=100)\n",
    "before_df2.hist(bins=100)\n",
    "plt.semilogy()"
   ]
  },
  {
   "cell_type": "code",
   "execution_count": 65,
   "metadata": {
    "collapsed": false
   },
   "outputs": [
    {
     "data": {
      "text/plain": [
       "[]"
      ]
     },
     "execution_count": 65,
     "metadata": {},
     "output_type": "execute_result"
    },
    {
     "data": {
      "image/png": "[encoded data removed]",
      "text/plain": [
       "<matplotlib.figure.Figure at 0x7f812ea04050>"
      ]
     },
     "metadata": {},
     "output_type": "display_data"
    }
   ],
   "source": [
    "after_df2 = pd.DataFrame({'time':convertToMin(after_data)})\n",
    "#df2.plot(kind='hist',bins=100)\n",
    "after_df2.hist(bins=200)\n",
    "plt.semilogy()"
   ]
  },
  {
   "cell_type": "code",
   "execution_count": 66,
   "metadata": {
    "collapsed": false
   },
   "outputs": [
    {
     "data": {
      "text/plain": [
       "<matplotlib.axes._subplots.AxesSubplot at 0x7f812e44ac10>"
      ]
     },
     "execution_count": 66,
     "metadata": {},
     "output_type": "execute_result"
    },
    {
     "data": {
      "image/png": "[encoded data removed]",
      "text/plain": [
       "<matplotlib.figure.Figure at 0x7f812e583050>"
      ]
     },
     "metadata": {},
     "output_type": "display_data"
    }
   ],
   "source": [
    "after_df.plot(kind='line',x='index',y='time')"
   ]
  },
  {
   "cell_type": "code",
   "execution_count": 96,
   "metadata": {
    "collapsed": true
   },
   "outputs": [],
   "source": [
    "#Takes in a chain and a threshold and returns the percent below that threshold(inclusive)\n",
    "# chain ==> a timediff chain aka a python list of times in seconds\n",
    "# threshold ==> a time in seconds so if you want 1 min you use 60\n",
    "def calculate_thresh_percent(chain,prev_threshold,threshold):\n",
    "    #print len(chain)\n",
    "    percent = 0\n",
    "    temp_val = 0\n",
    "    for i in chain:\n",
    "        #if prev_threshold<i <= threshold:\n",
    "        if 0<i <= threshold:\n",
    "            temp_val += 1\n",
    "    #print temp_val\n",
    "    #print len(chain)\n",
    "    percent = temp_val / float(len(chain))\n",
    "    #print percent\n",
    "    return percent,temp_val"
   ]
  },
  {
   "cell_type": "code",
   "execution_count": 97,
   "metadata": {
    "collapsed": false
   },
   "outputs": [
    {
     "name": "stdout",
     "output_type": "stream",
     "text": [
      "True\n"
     ]
    }
   ],
   "source": [
    "if 4.0 <= 60:\n",
    "    print True"
   ]
  },
  {
   "cell_type": "code",
   "execution_count": 98,
   "metadata": {
    "collapsed": false
   },
   "outputs": [],
   "source": [
    "#print calculate_thresh_percent(before_data,60.0)\n",
    "#print calculate_thresh_percent(after_data,60)"
   ]
  },
  {
   "cell_type": "code",
   "execution_count": 99,
   "metadata": {
    "collapsed": true
   },
   "outputs": [],
   "source": [
    "#returns a datafram with thresholds\n",
    "def calculate_thresholds(chain,max_thresh,inc=1):\n",
    "    threshs = []\n",
    "    values = []\n",
    "    blocks = []\n",
    "    index = 0\n",
    "    prev_thresh = 0\n",
    "    while index <= max_thresh: \n",
    "        threshs.append(index)\n",
    "        per,total = calculate_thresh_percent(chain,prev_thresh,index*60)\n",
    "        values.append(per*100.00)\n",
    "        blocks.append(total)\n",
    "        prev_thresh = index*60\n",
    "        index +=inc\n",
    "    return pd.DataFrame({'Thresholds':threshs,\"Percentage\":values,\"NumBlocks\":blocks})"
   ]
  },
  {
   "cell_type": "code",
   "execution_count": 100,
   "metadata": {
    "collapsed": false
   },
   "outputs": [],
   "source": [
    "thresh = 15\n",
    "before_percent = calculate_thresholds(before_data,thresh)\n",
    "after_percent = calculate_thresholds(after_data,thresh)\n",
    "overall = calculate_thresholds(timeDiff_data,thresh)"
   ]
  },
  {
   "cell_type": "code",
   "execution_count": 101,
   "metadata": {
    "collapsed": false
   },
   "outputs": [
    {
     "data": {
      "text/html": [
       "<div>\n",
       "<table border=\"1\" class=\"dataframe\">\n",
       "  <thead>\n",
       "    <tr style=\"text-align: right;\">\n",
       "      <th></th>\n",
       "      <th>NumBlocks</th>\n",
       "      <th>Percentage</th>\n",
       "      <th>Thresholds</th>\n",
       "    </tr>\n",
       "  </thead>\n",
       "  <tbody>\n",
       "    <tr>\n",
       "      <th>0</th>\n",
       "      <td>0</td>\n",
       "      <td>0.000000</td>\n",
       "      <td>0</td>\n",
       "    </tr>\n",
       "    <tr>\n",
       "      <th>1</th>\n",
       "      <td>34754</td>\n",
       "      <td>8.659577</td>\n",
       "      <td>1</td>\n",
       "    </tr>\n",
       "    <tr>\n",
       "      <th>2</th>\n",
       "      <td>70687</td>\n",
       "      <td>17.612923</td>\n",
       "      <td>2</td>\n",
       "    </tr>\n",
       "    <tr>\n",
       "      <th>3</th>\n",
       "      <td>103508</td>\n",
       "      <td>25.790859</td>\n",
       "      <td>3</td>\n",
       "    </tr>\n",
       "    <tr>\n",
       "      <th>4</th>\n",
       "      <td>132526</td>\n",
       "      <td>33.021209</td>\n",
       "      <td>4</td>\n",
       "    </tr>\n",
       "    <tr>\n",
       "      <th>5</th>\n",
       "      <td>159065</td>\n",
       "      <td>39.633873</td>\n",
       "      <td>5</td>\n",
       "    </tr>\n",
       "    <tr>\n",
       "      <th>6</th>\n",
       "      <td>182980</td>\n",
       "      <td>45.592720</td>\n",
       "      <td>6</td>\n",
       "    </tr>\n",
       "    <tr>\n",
       "      <th>7</th>\n",
       "      <td>204692</td>\n",
       "      <td>51.002651</td>\n",
       "      <td>7</td>\n",
       "    </tr>\n",
       "    <tr>\n",
       "      <th>8</th>\n",
       "      <td>224251</td>\n",
       "      <td>55.876124</td>\n",
       "      <td>8</td>\n",
       "    </tr>\n",
       "    <tr>\n",
       "      <th>9</th>\n",
       "      <td>242042</td>\n",
       "      <td>60.309068</td>\n",
       "      <td>9</td>\n",
       "    </tr>\n",
       "    <tr>\n",
       "      <th>10</th>\n",
       "      <td>257905</td>\n",
       "      <td>64.261616</td>\n",
       "      <td>10</td>\n",
       "    </tr>\n",
       "    <tr>\n",
       "      <th>11</th>\n",
       "      <td>272130</td>\n",
       "      <td>67.806028</td>\n",
       "      <td>11</td>\n",
       "    </tr>\n",
       "    <tr>\n",
       "      <th>12</th>\n",
       "      <td>284978</td>\n",
       "      <td>71.007335</td>\n",
       "      <td>12</td>\n",
       "    </tr>\n",
       "    <tr>\n",
       "      <th>13</th>\n",
       "      <td>296676</td>\n",
       "      <td>73.922100</td>\n",
       "      <td>13</td>\n",
       "    </tr>\n",
       "    <tr>\n",
       "      <th>14</th>\n",
       "      <td>307131</td>\n",
       "      <td>76.527149</td>\n",
       "      <td>14</td>\n",
       "    </tr>\n",
       "    <tr>\n",
       "      <th>15</th>\n",
       "      <td>316663</td>\n",
       "      <td>78.902217</td>\n",
       "      <td>15</td>\n",
       "    </tr>\n",
       "  </tbody>\n",
       "</table>\n",
       "</div>"
      ],
      "text/plain": [
       "    NumBlocks  Percentage  Thresholds\n",
       "0           0    0.000000           0\n",
       "1       34754    8.659577           1\n",
       "2       70687   17.612923           2\n",
       "3      103508   25.790859           3\n",
       "4      132526   33.021209           4\n",
       "5      159065   39.633873           5\n",
       "6      182980   45.592720           6\n",
       "7      204692   51.002651           7\n",
       "8      224251   55.876124           8\n",
       "9      242042   60.309068           9\n",
       "10     257905   64.261616          10\n",
       "11     272130   67.806028          11\n",
       "12     284978   71.007335          12\n",
       "13     296676   73.922100          13\n",
       "14     307131   76.527149          14\n",
       "15     316663   78.902217          15"
      ]
     },
     "execution_count": 101,
     "metadata": {},
     "output_type": "execute_result"
    }
   ],
   "source": [
    "len(before_data)\n",
    "overall"
   ]
  },
  {
   "cell_type": "code",
   "execution_count": 102,
   "metadata": {
    "collapsed": false,
    "scrolled": true
   },
   "outputs": [
    {
     "data": {
      "text/html": [
       "<div>\n",
       "<table border=\"1\" class=\"dataframe\">\n",
       "  <thead>\n",
       "    <tr style=\"text-align: right;\">\n",
       "      <th></th>\n",
       "      <th>NumBlocks</th>\n",
       "      <th>Percentage</th>\n",
       "      <th>Thresholds</th>\n",
       "    </tr>\n",
       "  </thead>\n",
       "  <tbody>\n",
       "    <tr>\n",
       "      <th>0</th>\n",
       "      <td>0</td>\n",
       "      <td>0.000000</td>\n",
       "      <td>0</td>\n",
       "    </tr>\n",
       "    <tr>\n",
       "      <th>1</th>\n",
       "      <td>16939</td>\n",
       "      <td>8.804603</td>\n",
       "      <td>1</td>\n",
       "    </tr>\n",
       "    <tr>\n",
       "      <th>2</th>\n",
       "      <td>34817</td>\n",
       "      <td>18.097283</td>\n",
       "      <td>2</td>\n",
       "    </tr>\n",
       "    <tr>\n",
       "      <th>3</th>\n",
       "      <td>51016</td>\n",
       "      <td>26.517246</td>\n",
       "      <td>3</td>\n",
       "    </tr>\n",
       "    <tr>\n",
       "      <th>4</th>\n",
       "      <td>65519</td>\n",
       "      <td>34.055658</td>\n",
       "      <td>4</td>\n",
       "    </tr>\n",
       "    <tr>\n",
       "      <th>5</th>\n",
       "      <td>78767</td>\n",
       "      <td>40.941743</td>\n",
       "      <td>5</td>\n",
       "    </tr>\n",
       "    <tr>\n",
       "      <th>6</th>\n",
       "      <td>90607</td>\n",
       "      <td>47.095973</td>\n",
       "      <td>6</td>\n",
       "    </tr>\n",
       "    <tr>\n",
       "      <th>7</th>\n",
       "      <td>101146</td>\n",
       "      <td>52.573965</td>\n",
       "      <td>7</td>\n",
       "    </tr>\n",
       "    <tr>\n",
       "      <th>8</th>\n",
       "      <td>110571</td>\n",
       "      <td>57.472919</td>\n",
       "      <td>8</td>\n",
       "    </tr>\n",
       "    <tr>\n",
       "      <th>9</th>\n",
       "      <td>119211</td>\n",
       "      <td>61.963844</td>\n",
       "      <td>9</td>\n",
       "    </tr>\n",
       "    <tr>\n",
       "      <th>10</th>\n",
       "      <td>126720</td>\n",
       "      <td>65.866894</td>\n",
       "      <td>10</td>\n",
       "    </tr>\n",
       "    <tr>\n",
       "      <th>11</th>\n",
       "      <td>133466</td>\n",
       "      <td>69.373350</td>\n",
       "      <td>11</td>\n",
       "    </tr>\n",
       "    <tr>\n",
       "      <th>12</th>\n",
       "      <td>139573</td>\n",
       "      <td>72.547664</td>\n",
       "      <td>12</td>\n",
       "    </tr>\n",
       "    <tr>\n",
       "      <th>13</th>\n",
       "      <td>144992</td>\n",
       "      <td>75.364368</td>\n",
       "      <td>13</td>\n",
       "    </tr>\n",
       "    <tr>\n",
       "      <th>14</th>\n",
       "      <td>149892</td>\n",
       "      <td>77.911304</td>\n",
       "      <td>14</td>\n",
       "    </tr>\n",
       "    <tr>\n",
       "      <th>15</th>\n",
       "      <td>154421</td>\n",
       "      <td>80.265401</td>\n",
       "      <td>15</td>\n",
       "    </tr>\n",
       "  </tbody>\n",
       "</table>\n",
       "</div>"
      ],
      "text/plain": [
       "    NumBlocks  Percentage  Thresholds\n",
       "0           0    0.000000           0\n",
       "1       16939    8.804603           1\n",
       "2       34817   18.097283           2\n",
       "3       51016   26.517246           3\n",
       "4       65519   34.055658           4\n",
       "5       78767   40.941743           5\n",
       "6       90607   47.095973           6\n",
       "7      101146   52.573965           7\n",
       "8      110571   57.472919           8\n",
       "9      119211   61.963844           9\n",
       "10     126720   65.866894          10\n",
       "11     133466   69.373350          11\n",
       "12     139573   72.547664          12\n",
       "13     144992   75.364368          13\n",
       "14     149892   77.911304          14\n",
       "15     154421   80.265401          15"
      ]
     },
     "execution_count": 102,
     "metadata": {},
     "output_type": "execute_result"
    }
   ],
   "source": [
    "after_percent"
   ]
  },
  {
   "cell_type": "code",
   "execution_count": null,
   "metadata": {
    "collapsed": true
   },
   "outputs": [],
   "source": []
  },
  {
   "cell_type": "code",
   "execution_count": 103,
   "metadata": {
    "collapsed": false
   },
   "outputs": [
    {
     "data": {
      "text/plain": [
       "<matplotlib.axes._subplots.AxesSubplot at 0x7f812de8a050>"
      ]
     },
     "execution_count": 103,
     "metadata": {},
     "output_type": "execute_result"
    },
    {
     "data": {
      "image/png": "[encoded data removed]",
      "text/plain": [
       "<matplotlib.figure.Figure at 0x7f812dc93390>"
      ]
     },
     "metadata": {},
     "output_type": "display_data"
    }
   ],
   "source": [
    "before_percent.plot(kind='line',x='Thresholds',y='Percentage', title ='Before Paper: % blocks per threshold in mins')\n",
    "#before_percent.plot(kind='line',x='Thresholds',y='NumBlocks')"
   ]
  },
  {
   "cell_type": "code",
   "execution_count": 104,
   "metadata": {
    "collapsed": false
   },
   "outputs": [
    {
     "data": {
      "text/plain": [
       "<matplotlib.axes._subplots.AxesSubplot at 0x7f812da8d190>"
      ]
     },
     "execution_count": 104,
     "metadata": {},
     "output_type": "execute_result"
    },
    {
     "data": {
      "image/png": "[encoded data removed]",
      "text/plain": [
       "<matplotlib.figure.Figure at 0x7f812da7ea90>"
      ]
     },
     "metadata": {},
     "output_type": "display_data"
    }
   ],
   "source": [
    "after_percent.plot(kind='line',x='Thresholds',y='Percentage', title ='After Paper: % blocks per threshold in mins')"
   ]
  },
  {
   "cell_type": "code",
   "execution_count": 105,
   "metadata": {
    "collapsed": false
   },
   "outputs": [
    {
     "data": {
      "text/plain": [
       "<matplotlib.axes._subplots.AxesSubplot at 0x7f812d9aa2d0>"
      ]
     },
     "execution_count": 105,
     "metadata": {},
     "output_type": "execute_result"
    },
    {
     "data": {
      "image/png": "[encoded data removed]",
      "text/plain": [
       "<matplotlib.figure.Figure at 0x7f812d9b3710>"
      ]
     },
     "metadata": {},
     "output_type": "display_data"
    }
   ],
   "source": [
    "overall.plot(kind='line',x='Thresholds',y='Percentage', title ='Overall: % blocks per threshold in mins')"
   ]
  },
  {
   "cell_type": "code",
   "execution_count": 77,
   "metadata": {
    "collapsed": false
   },
   "outputs": [],
   "source": [
    "def calculate_consec(chain,threshold=1):\n",
    "    marker = int(chain[0])\n",
    "    tup = [marker,1,[chain[0]]]\n",
    "    overall = []\n",
    "    for i in range(1,len(chain)):\n",
    "        if marker-threshold < int(chain[i])< marker+threshold:\n",
    "            tup[1] += 1\n",
    "            tup[2].append(chain[i])\n",
    "        else:\n",
    "            if tup[1] > 1:\n",
    "                overall.append(tup)\n",
    "            marker = int(chain[i])\n",
    "            tup = [marker,1,[chain[i]]]\n",
    "    return overall"
   ]
  },
  {
   "cell_type": "code",
   "execution_count": 78,
   "metadata": {
    "collapsed": false
   },
   "outputs": [
    {
     "name": "stdout",
     "output_type": "stream",
     "text": [
      "[1, 2, [1.6166666666666667, 1.2]]\n"
     ]
    }
   ],
   "source": [
    "consecutives = calculate_consec(convertToMin(before_data))\n",
    "len(consecutives)\n",
    "print consecutives[3]"
   ]
  },
  {
   "cell_type": "code",
   "execution_count": 79,
   "metadata": {
    "collapsed": false
   },
   "outputs": [
    {
     "name": "stdout",
     "output_type": "stream",
     "text": [
      "[4, 2, [4.0, 4.283333333333333]]\n"
     ]
    }
   ],
   "source": [
    "consecutives_after = calculate_consec(convertToMin(after_data))\n",
    "len(consecutives_after)\n",
    "print consecutives_after[0]"
   ]
  },
  {
   "cell_type": "code",
   "execution_count": 80,
   "metadata": {
    "collapsed": false
   },
   "outputs": [
    {
     "name": "stdout",
     "output_type": "stream",
     "text": [
      "[1, 2, [1.2833333333333334, 1.55]]\n",
      "571.0\n"
     ]
    }
   ],
   "source": [
    "print consecutives[4]\n",
    "print before_data[1]"
   ]
  },
  {
   "cell_type": "code",
   "execution_count": 180,
   "metadata": {
    "collapsed": true
   },
   "outputs": [],
   "source": [
    "consecutives_all = calculate_consec(convertToMin(timeDiff_data))\n"
   ]
  },
  {
   "cell_type": "code",
   "execution_count": 208,
   "metadata": {
    "collapsed": false
   },
   "outputs": [
    {
     "name": "stdout",
     "output_type": "stream",
     "text": [
      "[2, 2, [2.3833333333333333, 2.433333333333333]]\n",
      "[2, 3, [2.1, 2.4, 2.1166666666666667]]\n",
      "[2, 2, [2.8, 2.933333333333333]]\n",
      "[2, 2, [2.466666666666667, 2.3666666666666667]]\n",
      "[2, 2, [2.816666666666667, 2.5]]\n",
      "[2, 2, [2.1333333333333333, 2.65]]\n",
      "[2, 2, [2.7666666666666666, 2.1333333333333333]]\n",
      "[2, 2, [2.7333333333333334, 2.7]]\n",
      "[2, 2, [2.3666666666666667, 2.15]]\n",
      "[2, 2, [2.966666666666667, 2.3]]\n",
      "[2, 2, [2.7666666666666666, 2.0]]\n",
      "[2, 2, [2.533333333333333, 2.55]]\n",
      "[2, 2, [2.15, 2.6333333333333333]]\n",
      "[2, 2, [2.2333333333333334, 2.966666666666667]]\n",
      "[2, 2, [2.3333333333333335, 2.65]]\n",
      "[2, 2, [2.85, 2.5]]\n",
      "[2, 2, [2.55, 2.6333333333333333]]\n",
      "[2, 2, [2.1666666666666665, 2.933333333333333]]\n",
      "[2, 2, [2.433333333333333, 2.9833333333333334]]\n",
      "[2, 2, [2.716666666666667, 2.2333333333333334]]\n",
      "[2, 2, [2.033333333333333, 2.45]]\n",
      "[2, 2, [2.566666666666667, 2.7333333333333334]]\n",
      "[2, 2, [2.5833333333333335, 2.15]]\n",
      "[2, 2, [2.816666666666667, 2.566666666666667]]\n",
      "[2, 2, [2.783333333333333, 2.1166666666666667]]\n",
      "[2, 2, [2.25, 2.85]]\n",
      "[2, 2, [2.3666666666666667, 2.5166666666666666]]\n",
      "[2, 2, [2.3666666666666667, 2.316666666666667]]\n",
      "[2, 2, [2.8333333333333335, 2.1333333333333333]]\n",
      "[2, 2, [2.2, 2.2]]\n",
      "[2, 2, [2.3333333333333335, 2.8]]\n",
      "[2, 3, [2.8666666666666667, 2.5166666666666666, 2.25]]\n",
      "[2, 2, [2.4833333333333334, 2.2666666666666666]]\n",
      "[2, 2, [2.3833333333333333, 2.466666666666667]]\n",
      "[2, 2, [2.966666666666667, 2.533333333333333]]\n",
      "[2, 2, [2.8666666666666667, 2.683333333333333]]\n",
      "[2, 2, [2.2333333333333334, 2.283333333333333]]\n",
      "[2, 2, [2.6333333333333333, 2.25]]\n",
      "[2, 2, [2.0166666666666666, 2.1166666666666667]]\n",
      "[2, 2, [2.4833333333333334, 2.55]]\n",
      "[2, 2, [2.183333333333333, 2.25]]\n",
      "[2, 2, [2.533333333333333, 2.5]]\n",
      "[2, 2, [2.5166666666666666, 2.3333333333333335]]\n",
      "[2, 2, [2.35, 2.3]]\n",
      "[2, 2, [2.466666666666667, 2.9]]\n",
      "[2, 2, [2.683333333333333, 2.8333333333333335]]\n",
      "[2, 2, [2.466666666666667, 2.533333333333333]]\n",
      "[2, 2, [2.45, 2.8833333333333333]]\n",
      "[2, 2, [2.3833333333333333, 2.2]]\n",
      "[2, 2, [2.8333333333333335, 2.25]]\n",
      "[2, 2, [2.9166666666666665, 2.0833333333333335]]\n",
      "[2, 2, [2.8833333333333333, 2.8333333333333335]]\n",
      "[2, 2, [2.0, 2.3666666666666667]]\n",
      "[2, 3, [2.933333333333333, 2.55, 2.3333333333333335]]\n",
      "[2, 2, [2.783333333333333, 2.033333333333333]]\n",
      "[2, 2, [2.033333333333333, 2.0]]\n",
      "[2, 3, [2.283333333333333, 2.783333333333333, 2.933333333333333]]\n",
      "[2, 3, [2.8, 2.5166666666666666, 2.55]]\n",
      "[2, 2, [2.7666666666666666, 2.6]]\n",
      "[2, 4, [2.183333333333333, 2.3, 2.05, 2.1]]\n",
      "[2, 2, [2.6, 2.3333333333333335]]\n",
      "[2, 2, [2.316666666666667, 2.5833333333333335]]\n",
      "[2, 2, [2.1666666666666665, 2.4]]\n",
      "[2, 3, [2.6, 2.466666666666667, 2.75]]\n",
      "[2, 2, [2.3833333333333333, 2.783333333333333]]\n",
      "[2, 2, [2.1166666666666667, 2.2333333333333334]]\n",
      "[2, 3, [2.7, 2.85, 2.1]]\n",
      "[2, 2, [2.2666666666666666, 2.5833333333333335]]\n",
      "[2, 2, [2.9833333333333334, 2.55]]\n",
      "[2, 2, [2.966666666666667, 2.6166666666666667]]\n",
      "[2, 2, [2.3333333333333335, 2.6166666666666667]]\n",
      "[2, 2, [2.8666666666666667, 2.0833333333333335]]\n",
      "[2, 2, [2.8, 2.8666666666666667]]\n",
      "[2, 2, [2.533333333333333, 2.35]]\n",
      "[2, 2, [2.4, 2.8333333333333335]]\n",
      "[2, 2, [2.8333333333333335, 2.933333333333333]]\n",
      "[2, 2, [2.433333333333333, 2.3833333333333333]]\n",
      "[2, 2, [2.3333333333333335, 2.95]]\n",
      "[2, 2, [2.05, 2.9166666666666665]]\n",
      "[2, 2, [2.8333333333333335, 2.1166666666666667]]\n",
      "[2, 2, [2.8, 2.183333333333333]]\n",
      "[2, 2, [2.7333333333333334, 2.3333333333333335]]\n",
      "[2, 3, [2.9, 2.6166666666666667, 2.966666666666667]]\n",
      "[2, 2, [2.6666666666666665, 2.1666666666666665]]\n",
      "[2, 2, [2.533333333333333, 2.1666666666666665]]\n",
      "[2, 2, [2.3666666666666667, 2.4]]\n",
      "[2, 2, [2.0, 2.95]]\n",
      "[2, 2, [2.466666666666667, 2.9833333333333334]]\n",
      "[2, 2, [2.816666666666667, 2.2]]\n",
      "[2, 3, [2.9, 2.35, 2.2]]\n",
      "[2, 2, [2.4833333333333334, 2.95]]\n",
      "[2, 2, [2.4166666666666665, 2.55]]\n",
      "[2, 2, [2.933333333333333, 2.933333333333333]]\n",
      "[2, 2, [2.9, 2.3]]\n",
      "[2, 2, [2.05, 2.0833333333333335]]\n",
      "[2, 2, [2.95, 2.2333333333333334]]\n",
      "[2, 2, [2.3833333333333333, 2.6]]\n",
      "[2, 2, [2.45, 2.783333333333333]]\n",
      "[2, 2, [2.716666666666667, 2.466666666666667]]\n",
      "[2, 2, [2.0833333333333335, 2.4833333333333334]]\n",
      "[2, 2, [2.7, 2.1333333333333333]]\n",
      "[2, 2, [2.2333333333333334, 2.5833333333333335]]\n",
      "[2, 2, [2.85, 2.2]]\n",
      "[2, 2, [2.783333333333333, 2.466666666666667]]\n",
      "[2, 2, [2.5833333333333335, 2.033333333333333]]\n",
      "[2, 2, [2.4, 2.35]]\n",
      "[2, 2, [2.65, 2.3833333333333333]]\n",
      "[2, 2, [2.716666666666667, 2.05]]\n",
      "[2, 2, [2.8833333333333333, 2.9833333333333334]]\n",
      "[2, 2, [2.033333333333333, 2.7]]\n",
      "[2, 2, [2.283333333333333, 2.0833333333333335]]\n",
      "[2, 2, [2.9833333333333334, 2.316666666666667]]\n",
      "[2, 2, [2.1666666666666665, 2.4833333333333334]]\n",
      "[2, 2, [2.966666666666667, 2.35]]\n",
      "[2, 2, [2.283333333333333, 2.433333333333333]]\n",
      "[2, 2, [2.75, 2.566666666666667]]\n",
      "[2, 2, [2.966666666666667, 2.5]]\n",
      "[2, 3, [2.4833333333333334, 2.816666666666667, 2.1333333333333333]]\n",
      "[2, 3, [2.05, 2.533333333333333, 2.9]]\n",
      "[2, 2, [2.3333333333333335, 2.1]]\n",
      "[2, 2, [2.8333333333333335, 2.4833333333333334]]\n",
      "[2, 2, [2.3333333333333335, 2.05]]\n",
      "[2, 2, [2.45, 2.6]]\n",
      "[2, 2, [2.3, 2.066666666666667]]\n",
      "[2, 2, [2.216666666666667, 2.316666666666667]]\n",
      "[2, 2, [2.4, 2.2333333333333334]]\n",
      "[2, 2, [2.9833333333333334, 2.9166666666666665]]\n",
      "[2, 2, [2.283333333333333, 2.933333333333333]]\n",
      "[2, 2, [2.433333333333333, 2.466666666666667]]\n",
      "[2, 2, [2.7666666666666666, 2.6333333333333333]]\n",
      "[2, 2, [2.25, 2.0833333333333335]]\n",
      "[2, 2, [2.066666666666667, 2.45]]\n",
      "[2, 2, [2.4166666666666665, 2.433333333333333]]\n",
      "[2, 2, [2.716666666666667, 2.9]]\n",
      "[2, 2, [2.466666666666667, 2.566666666666667]]\n",
      "[2, 2, [2.4833333333333334, 2.95]]\n",
      "[2, 2, [2.2, 2.8333333333333335]]\n",
      "[2, 2, [2.5, 2.45]]\n",
      "[2, 2, [2.683333333333333, 2.35]]\n",
      "[2, 3, [2.4, 2.0, 2.066666666666667]]\n",
      "[2, 2, [2.033333333333333, 2.6333333333333333]]\n",
      "[2, 2, [2.0, 2.5166666666666666]]\n",
      "[2, 2, [2.1333333333333333, 2.6666666666666665]]\n",
      "[2, 2, [2.5166666666666666, 2.7666666666666666]]\n",
      "[2, 2, [2.5, 2.2]]\n",
      "[2, 2, [2.033333333333333, 2.1666666666666665]]\n",
      "[2, 2, [2.7333333333333334, 2.566666666666667]]\n",
      "[2, 2, [2.65, 2.466666666666667]]\n",
      "[2, 3, [2.816666666666667, 2.4833333333333334, 2.716666666666667]]\n",
      "[2, 2, [2.0833333333333335, 2.9166666666666665]]\n",
      "[2, 2, [2.4, 2.6166666666666667]]\n",
      "[2, 2, [2.9833333333333334, 2.65]]\n",
      "[2, 2, [2.033333333333333, 2.566666666666667]]\n",
      "[2, 2, [2.6166666666666667, 2.066666666666667]]\n",
      "[2, 2, [2.8833333333333333, 2.316666666666667]]\n",
      "[2, 2, [2.316666666666667, 2.5166666666666666]]\n",
      "[2, 2, [2.8666666666666667, 2.533333333333333]]\n",
      "[2, 2, [2.3833333333333333, 2.1666666666666665]]\n",
      "[2, 2, [2.6, 2.9]]\n",
      "[2, 2, [2.183333333333333, 2.966666666666667]]\n",
      "[2, 2, [2.216666666666667, 2.183333333333333]]\n",
      "[2, 2, [2.3333333333333335, 2.1166666666666667]]\n",
      "[2, 2, [2.0166666666666666, 2.7]]\n",
      "[2, 2, [2.816666666666667, 2.433333333333333]]\n",
      "[2, 2, [2.4833333333333334, 2.8]]\n",
      "[2, 2, [2.3833333333333333, 2.2333333333333334]]\n",
      "[2, 2, [2.433333333333333, 2.3333333333333335]]\n",
      "[2, 2, [2.9166666666666665, 2.283333333333333]]\n",
      "[2, 2, [2.6, 2.4]]\n",
      "[2, 3, [2.6666666666666665, 2.183333333333333, 2.8666666666666667]]\n",
      "[2, 2, [2.716666666666667, 2.183333333333333]]\n",
      "[2, 2, [2.7333333333333334, 2.9833333333333334]]\n",
      "[2, 2, [2.1166666666666667, 2.8666666666666667]]\n",
      "[2, 2, [2.1666666666666665, 2.7333333333333334]]\n",
      "[2, 2, [2.35, 2.7]]\n",
      "[2, 2, [2.5, 2.6]]\n",
      "[2, 2, [2.466666666666667, 2.216666666666667]]\n",
      "[2, 2, [2.1166666666666667, 2.716666666666667]]\n",
      "[2, 2, [2.066666666666667, 2.033333333333333]]\n",
      "[2, 2, [2.5833333333333335, 2.933333333333333]]\n",
      "[2, 2, [2.8833333333333333, 2.183333333333333]]\n",
      "[2, 2, [2.85, 2.683333333333333]]\n",
      "[2, 2, [2.35, 2.15]]\n",
      "[2, 2, [2.25, 2.8]]\n",
      "[2, 2, [2.783333333333333, 2.4]]\n",
      "[2, 2, [2.966666666666667, 2.55]]\n",
      "[2, 2, [2.7333333333333334, 2.7333333333333334]]\n",
      "[2, 2, [2.3333333333333335, 2.5833333333333335]]\n",
      "[2, 2, [2.3833333333333333, 2.283333333333333]]\n",
      "[2, 2, [2.9833333333333334, 2.0166666666666666]]\n",
      "[2, 2, [2.55, 2.8666666666666667]]\n",
      "[2, 2, [2.566666666666667, 2.75]]\n",
      "[2, 2, [2.0166666666666666, 2.566666666666667]]\n",
      "[2, 3, [2.6333333333333333, 2.0166666666666666, 2.033333333333333]]\n",
      "[2, 2, [2.216666666666667, 2.066666666666667]]\n",
      "[2, 2, [2.3666666666666667, 2.0]]\n",
      "[2, 2, [2.8333333333333335, 2.2333333333333334]]\n",
      "[2, 2, [2.1333333333333333, 2.7]]\n",
      "[2, 2, [2.283333333333333, 2.683333333333333]]\n",
      "[2, 2, [2.7333333333333334, 2.816666666666667]]\n",
      "[2, 2, [2.4833333333333334, 2.5166666666666666]]\n",
      "[2, 2, [2.25, 2.85]]\n",
      "[2, 2, [2.1166666666666667, 2.7333333333333334]]\n",
      "[2, 2, [2.65, 2.4166666666666665]]\n",
      "[2, 3, [2.5166666666666666, 2.7, 2.933333333333333]]\n",
      "[2, 2, [2.05, 2.316666666666667]]\n",
      "[2, 2, [2.716666666666667, 2.8]]\n",
      "[2, 2, [2.433333333333333, 2.316666666666667]]\n",
      "[2, 3, [2.466666666666667, 2.3333333333333335, 2.1333333333333333]]\n",
      "[2, 2, [2.183333333333333, 2.033333333333333]]\n",
      "[2, 2, [2.683333333333333, 2.783333333333333]]\n",
      "[2, 2, [2.533333333333333, 2.4833333333333334]]\n",
      "[2, 2, [2.75, 2.2333333333333334]]\n",
      "[2, 2, [2.966666666666667, 2.35]]\n",
      "[2, 2, [2.5, 2.15]]\n",
      "[2, 2, [2.3833333333333333, 2.433333333333333]]\n",
      "[2, 2, [2.2333333333333334, 2.85]]\n",
      "[2, 2, [2.5166666666666666, 2.066666666666667]]\n",
      "[2, 2, [2.1166666666666667, 2.3833333333333333]]\n",
      "[2, 2, [2.466666666666667, 2.1666666666666665]]\n",
      "[2, 2, [2.216666666666667, 2.6166666666666667]]\n",
      "[2, 2, [2.6666666666666665, 2.95]]\n",
      "[2, 2, [2.6, 2.3833333333333333]]\n",
      "[2, 2, [2.8, 2.5833333333333335]]\n",
      "[2, 2, [2.35, 2.6333333333333333]]\n",
      "[2, 2, [2.816666666666667, 2.216666666666667]]\n",
      "[2, 2, [2.816666666666667, 2.7]]\n",
      "[2, 2, [2.25, 2.1666666666666665]]\n",
      "[2, 2, [2.216666666666667, 2.15]]\n",
      "[2, 2, [2.1, 2.6333333333333333]]\n",
      "[2, 2, [2.5, 2.1333333333333333]]\n",
      "[2, 2, [2.3333333333333335, 2.5]]\n",
      "[2, 2, [2.2666666666666666, 2.75]]\n",
      "[2, 2, [2.783333333333333, 2.5833333333333335]]\n",
      "[2, 2, [2.1166666666666667, 2.033333333333333]]\n",
      "[2, 3, [2.316666666666667, 2.05, 2.6333333333333333]]\n",
      "[2, 2, [2.5833333333333335, 2.7]]\n",
      "[2, 2, [2.216666666666667, 2.816666666666667]]\n",
      "[2, 2, [2.8666666666666667, 2.183333333333333]]\n",
      "[2, 2, [2.2, 2.95]]\n",
      "[2, 2, [2.6, 2.1166666666666667]]\n",
      "[2, 2, [2.216666666666667, 2.9166666666666665]]\n",
      "[2, 2, [2.3666666666666667, 2.35]]\n",
      "[2, 2, [2.4, 2.25]]\n",
      "[2, 2, [2.933333333333333, 2.8]]\n",
      "[2, 2, [2.35, 2.45]]\n",
      "[2, 3, [2.683333333333333, 2.3333333333333335, 2.8666666666666667]]\n",
      "[2, 2, [2.1333333333333333, 2.6166666666666667]]\n",
      "[2, 2, [2.683333333333333, 2.5833333333333335]]\n",
      "[2, 2, [2.3666666666666667, 2.45]]\n",
      "[2, 3, [2.7666666666666666, 2.466666666666667, 2.25]]\n",
      "[2, 2, [2.75, 2.5833333333333335]]\n",
      "[2, 2, [2.1666666666666665, 2.283333333333333]]\n",
      "[2, 2, [2.8, 2.6166666666666667]]\n",
      "[2, 2, [2.816666666666667, 2.5166666666666666]]\n",
      "[2, 2, [2.283333333333333, 2.533333333333333]]\n",
      "[2, 2, [2.316666666666667, 2.5166666666666666]]\n",
      "[2, 2, [2.6166666666666667, 2.3666666666666667]]\n",
      "[2, 2, [2.3333333333333335, 2.816666666666667]]\n",
      "[2, 2, [2.25, 2.6]]\n",
      "[2, 2, [2.8833333333333333, 2.683333333333333]]\n",
      "[2, 2, [2.566666666666667, 2.3]]\n",
      "[2, 2, [2.4833333333333334, 2.066666666666667]]\n",
      "[2, 2, [2.4833333333333334, 2.6666666666666665]]\n",
      "[2, 2, [2.8, 2.533333333333333]]\n",
      "[2, 2, [2.8833333333333333, 2.6666666666666665]]\n",
      "[2, 2, [2.95, 2.75]]\n",
      "[2, 2, [2.716666666666667, 2.283333333333333]]\n",
      "[2, 2, [2.566666666666667, 2.533333333333333]]\n",
      "[2, 2, [2.4166666666666665, 2.683333333333333]]\n",
      "[2, 3, [2.1333333333333333, 2.7666666666666666, 2.066666666666667]]\n",
      "[2, 2, [2.683333333333333, 2.65]]\n",
      "[2, 2, [2.6666666666666665, 2.05]]\n",
      "[2, 2, [2.3, 2.966666666666667]]\n",
      "[2, 2, [2.933333333333333, 2.35]]\n",
      "[2, 2, [2.8333333333333335, 2.1]]\n",
      "[2, 2, [2.816666666666667, 2.683333333333333]]\n",
      "[2, 2, [2.9166666666666665, 2.6666666666666665]]\n",
      "[2, 2, [2.933333333333333, 2.066666666666667]]\n",
      "[2, 2, [2.2666666666666666, 2.816666666666667]]\n",
      "[2, 2, [2.25, 2.1333333333333333]]\n",
      "[2, 2, [2.45, 2.5166666666666666]]\n",
      "[2, 2, [2.0166666666666666, 2.8]]\n",
      "[2, 2, [2.283333333333333, 2.8833333333333333]]\n",
      "[2, 2, [2.25, 2.8333333333333335]]\n",
      "[2, 2, [2.283333333333333, 2.3833333333333333]]\n",
      "[2, 2, [2.6666666666666665, 2.25]]\n",
      "[2, 2, [2.2, 2.8666666666666667]]\n",
      "[2, 2, [2.05, 2.433333333333333]]\n",
      "[2, 2, [2.25, 2.1666666666666665]]\n",
      "[2, 2, [2.5833333333333335, 2.966666666666667]]\n",
      "[2, 3, [2.533333333333333, 2.1333333333333333, 2.6]]\n",
      "[2, 2, [2.283333333333333, 2.1333333333333333]]\n",
      "[2, 3, [2.0833333333333335, 2.3833333333333333, 2.3333333333333335]]\n",
      "[2, 2, [2.0833333333333335, 2.283333333333333]]\n",
      "[2, 2, [2.683333333333333, 2.716666666666667]]\n",
      "[2, 2, [2.1166666666666667, 2.8666666666666667]]\n",
      "[2, 2, [2.95, 2.3666666666666667]]\n",
      "[2, 2, [2.1666666666666665, 2.966666666666667]]\n",
      "[2, 2, [2.4, 2.6166666666666667]]\n",
      "[2, 2, [2.6666666666666665, 2.6666666666666665]]\n",
      "[2, 2, [2.2333333333333334, 2.0166666666666666]]\n",
      "[2, 2, [2.0166666666666666, 2.9166666666666665]]\n",
      "[2, 2, [2.45, 2.7]]\n",
      "[2, 2, [2.283333333333333, 2.15]]\n",
      "[2, 2, [2.15, 2.6666666666666665]]\n",
      "[2, 2, [2.7666666666666666, 2.65]]\n",
      "[2, 2, [2.8333333333333335, 2.6333333333333333]]\n",
      "[2, 2, [2.2666666666666666, 2.5833333333333335]]\n",
      "[2, 2, [2.7333333333333334, 2.85]]\n",
      "[2, 2, [2.4166666666666665, 2.45]]\n",
      "[2, 2, [2.15, 2.25]]\n",
      "[2, 2, [2.0, 2.2]]\n",
      "[2, 2, [2.95, 2.7]]\n",
      "[2, 2, [2.2, 2.3333333333333335]]\n",
      "[2, 2, [2.066666666666667, 2.75]]\n",
      "[2, 2, [2.8666666666666667, 2.283333333333333]]\n",
      "[2, 2, [2.1666666666666665, 2.1666666666666665]]\n",
      "[2, 2, [2.4, 2.1666666666666665]]\n",
      "[2, 2, [2.216666666666667, 2.566666666666667]]\n",
      "[2, 2, [2.0833333333333335, 2.216666666666667]]\n",
      "[2, 2, [2.0166666666666666, 2.55]]\n",
      "[2, 2, [2.05, 2.6666666666666665]]\n",
      "[2, 3, [2.05, 2.216666666666667, 2.4166666666666665]]\n",
      "[2, 2, [2.3833333333333333, 2.0166666666666666]]\n",
      "[2, 2, [2.566666666666667, 2.25]]\n",
      "[2, 2, [2.35, 2.1166666666666667]]\n",
      "[2, 3, [2.783333333333333, 2.316666666666667, 2.716666666666667]]\n",
      "[2, 2, [2.5833333333333335, 2.35]]\n",
      "[2, 2, [2.15, 2.05]]\n",
      "[2, 2, [2.3666666666666667, 2.7666666666666666]]\n",
      "[2, 2, [2.1666666666666665, 2.7666666666666666]]\n",
      "[2, 2, [2.6333333333333333, 2.783333333333333]]\n",
      "[2, 2, [2.5166666666666666, 2.6]]\n",
      "[2, 2, [2.5833333333333335, 2.683333333333333]]\n",
      "[2, 2, [2.1333333333333333, 2.0166666666666666]]\n",
      "[2, 2, [2.283333333333333, 2.3833333333333333]]\n",
      "[2, 2, [2.6166666666666667, 2.75]]\n",
      "[2, 2, [2.6333333333333333, 2.6333333333333333]]\n",
      "[2, 2, [2.0, 2.2333333333333334]]\n",
      "[2, 2, [2.283333333333333, 2.2]]\n",
      "[2, 2, [2.466666666666667, 2.316666666666667]]\n",
      "[2, 2, [2.8666666666666667, 2.8333333333333335]]\n",
      "[2, 2, [2.1166666666666667, 2.316666666666667]]\n",
      "[2, 2, [2.5833333333333335, 2.75]]\n",
      "[2, 2, [2.8833333333333333, 2.066666666666667]]\n",
      "[2, 2, [2.65, 2.05]]\n",
      "[2, 2, [2.283333333333333, 2.3833333333333333]]\n",
      "[2, 2, [2.283333333333333, 2.8666666666666667]]\n",
      "[2, 2, [2.566666666666667, 2.2]]\n",
      "[2, 2, [2.85, 2.15]]\n",
      "[2, 2, [2.283333333333333, 2.7]]\n",
      "[2, 2, [2.3833333333333333, 2.05]]\n",
      "[2, 2, [2.8333333333333335, 2.9166666666666665]]\n",
      "[2, 2, [2.55, 2.05]]\n",
      "[2, 2, [2.0833333333333335, 2.1]]\n",
      "[2, 2, [2.2666666666666666, 2.8]]\n",
      "[2, 2, [2.1333333333333333, 2.85]]\n",
      "[2, 2, [2.0, 2.183333333333333]]\n",
      "[2, 2, [2.4833333333333334, 2.966666666666667]]\n",
      "[2, 2, [2.75, 2.1666666666666665]]\n",
      "[2, 2, [2.7333333333333334, 2.95]]\n",
      "[2, 3, [2.65, 2.316666666666667, 2.2]]\n",
      "[2, 2, [2.4, 2.65]]\n",
      "[2, 2, [2.316666666666667, 2.4833333333333334]]\n",
      "[2, 2, [2.4833333333333334, 2.433333333333333]]\n",
      "[2, 2, [2.25, 2.8833333333333333]]\n",
      "[2, 2, [2.95, 2.55]]\n",
      "[2, 2, [2.4166666666666665, 2.433333333333333]]\n",
      "[2, 2, [2.8, 2.7333333333333334]]\n",
      "[2, 2, [2.283333333333333, 2.4833333333333334]]\n",
      "[2, 2, [2.533333333333333, 2.95]]\n",
      "[2, 2, [2.4, 2.8833333333333333]]\n",
      "[2, 2, [2.1666666666666665, 2.65]]\n",
      "[2, 2, [2.6666666666666665, 2.433333333333333]]\n",
      "[2, 2, [2.8833333333333333, 2.783333333333333]]\n",
      "[2, 2, [2.1166666666666667, 2.183333333333333]]\n",
      "[2, 2, [2.466666666666667, 2.65]]\n",
      "[2, 2, [2.95, 2.2333333333333334]]\n",
      "[2, 2, [2.4833333333333334, 2.0833333333333335]]\n",
      "[2, 3, [2.65, 2.0833333333333335, 2.0166666666666666]]\n",
      "[2, 2, [2.1, 2.5166666666666666]]\n",
      "[2, 2, [2.3333333333333335, 2.0166666666666666]]\n",
      "[2, 2, [2.15, 2.316666666666667]]\n",
      "[2, 2, [2.3666666666666667, 2.95]]\n",
      "[2, 2, [2.783333333333333, 2.95]]\n",
      "[2, 2, [2.466666666666667, 2.45]]\n",
      "[2, 3, [2.3833333333333333, 2.316666666666667, 2.283333333333333]]\n",
      "[2, 2, [2.9833333333333334, 2.0166666666666666]]\n",
      "[2, 2, [2.466666666666667, 2.4166666666666665]]\n",
      "[2, 2, [2.45, 2.05]]\n",
      "[2, 2, [2.75, 2.933333333333333]]\n",
      "[2, 4, [2.066666666666667, 2.716666666666667, 2.6666666666666665, 2.0833333333333335]]\n",
      "[2, 2, [2.0, 2.7666666666666666]]\n",
      "[2, 2, [2.3, 2.716666666666667]]\n",
      "[2, 2, [2.0833333333333335, 2.816666666666667]]\n",
      "[2, 3, [2.5166666666666666, 2.3833333333333333, 2.8]]\n",
      "[2, 2, [2.25, 2.8333333333333335]]\n",
      "[2, 2, [2.9833333333333334, 2.05]]\n",
      "[2, 3, [2.3666666666666667, 2.4166666666666665, 2.0]]\n",
      "[2, 2, [2.683333333333333, 2.1333333333333333]]\n",
      "[2, 2, [2.2, 2.75]]\n",
      "[2, 2, [2.1166666666666667, 2.1666666666666665]]\n",
      "[2, 2, [2.6333333333333333, 2.8666666666666667]]\n",
      "[2, 2, [2.2666666666666666, 2.2666666666666666]]\n",
      "[2, 2, [2.3333333333333335, 2.7]]\n",
      "[2, 2, [2.7666666666666666, 2.4833333333333334]]\n",
      "[2, 3, [2.966666666666667, 2.066666666666667, 2.7333333333333334]]\n",
      "[2, 2, [2.0166666666666666, 2.45]]\n",
      "[2, 2, [2.183333333333333, 2.533333333333333]]\n",
      "[2, 2, [2.1333333333333333, 2.283333333333333]]\n",
      "[2, 2, [2.45, 2.783333333333333]]\n",
      "[2, 2, [2.5166666666666666, 2.2333333333333334]]\n",
      "[2, 2, [2.7, 2.4833333333333334]]\n",
      "[2, 4, [2.6166666666666667, 2.4166666666666665, 2.35, 2.316666666666667]]\n",
      "[2, 3, [2.45, 2.3333333333333335, 2.4833333333333334]]\n",
      "[2, 2, [2.75, 2.15]]\n",
      "[2, 2, [2.3666666666666667, 2.4]]\n",
      "[2, 2, [2.6333333333333333, 2.466666666666667]]\n",
      "[2, 2, [2.2333333333333334, 2.8833333333333333]]\n",
      "[2, 3, [2.6333333333333333, 2.3833333333333333, 2.6166666666666667]]\n",
      "[2, 3, [2.3333333333333335, 2.816666666666667, 2.783333333333333]]\n",
      "[2, 2, [2.05, 2.4833333333333334]]\n",
      "[2, 2, [2.3333333333333335, 2.5]]\n",
      "[2, 2, [2.6333333333333333, 2.95]]\n",
      "[2, 2, [2.1, 2.9833333333333334]]\n",
      "[2, 2, [2.75, 2.8333333333333335]]\n",
      "[2, 2, [2.85, 2.433333333333333]]\n",
      "[2, 2, [2.45, 2.0833333333333335]]\n",
      "[2, 2, [2.2666666666666666, 2.4833333333333334]]\n",
      "[2, 2, [2.7, 2.7333333333333334]]\n",
      "[2, 2, [2.4, 2.1333333333333333]]\n",
      "[2, 2, [2.433333333333333, 2.5]]\n",
      "[2, 2, [2.8333333333333335, 2.05]]\n",
      "[2, 2, [2.9166666666666665, 2.8666666666666667]]\n",
      "[2, 2, [2.283333333333333, 2.7]]\n",
      "[2, 3, [2.466666666666667, 2.933333333333333, 2.5833333333333335]]\n",
      "[2, 2, [2.65, 2.45]]\n",
      "[2, 2, [2.033333333333333, 2.216666666666667]]\n",
      "[2, 2, [2.0166666666666666, 2.8666666666666667]]\n",
      "[2, 2, [2.8, 2.0]]\n",
      "[2, 2, [2.3666666666666667, 2.216666666666667]]\n",
      "[2, 2, [2.6333333333333333, 2.0166666666666666]]\n",
      "[2, 2, [2.9166666666666665, 2.6166666666666667]]\n",
      "[2, 2, [2.05, 2.7666666666666666]]\n",
      "[2, 2, [2.5, 2.2666666666666666]]\n",
      "[2, 2, [2.566666666666667, 2.6166666666666667]]\n",
      "[2, 2, [2.85, 2.0833333333333335]]\n",
      "[2, 2, [2.933333333333333, 2.783333333333333]]\n",
      "[2, 2, [2.85, 2.6]]\n",
      "[2, 2, [2.8833333333333333, 2.4166666666666665]]\n",
      "[2, 2, [2.433333333333333, 2.033333333333333]]\n",
      "[2, 2, [2.466666666666667, 2.05]]\n",
      "[2, 2, [2.033333333333333, 2.1166666666666667]]\n",
      "[2, 2, [2.7666666666666666, 2.95]]\n",
      "[2, 2, [2.433333333333333, 2.316666666666667]]\n",
      "[2, 2, [2.8, 2.25]]\n",
      "[2, 2, [2.6, 2.7333333333333334]]\n",
      "[2, 2, [2.6333333333333333, 2.216666666666667]]\n",
      "[2, 2, [2.3, 2.2333333333333334]]\n",
      "[2, 2, [2.8833333333333333, 2.8]]\n",
      "[2, 3, [2.1166666666666667, 2.5833333333333335, 2.466666666666667]]\n",
      "[2, 2, [2.8, 2.0]]\n",
      "[2, 2, [2.8833333333333333, 2.316666666666667]]\n",
      "[2, 3, [2.183333333333333, 2.5833333333333335, 2.2333333333333334]]\n",
      "[2, 2, [2.066666666666667, 2.2333333333333334]]\n",
      "[2, 2, [2.05, 2.4]]\n",
      "[2, 2, [2.933333333333333, 2.716666666666667]]\n",
      "[2, 2, [2.283333333333333, 2.9833333333333334]]\n",
      "[2, 2, [2.0166666666666666, 2.6166666666666667]]\n",
      "[2, 2, [2.9166666666666665, 2.216666666666667]]\n",
      "[2, 2, [2.183333333333333, 2.283333333333333]]\n",
      "[2, 2, [2.2333333333333334, 2.6666666666666665]]\n",
      "[2, 2, [2.3, 2.7666666666666666]]\n",
      "[2, 2, [2.45, 2.6]]\n",
      "[2, 2, [2.95, 2.9833333333333334]]\n",
      "[2, 2, [2.216666666666667, 2.066666666666667]]\n",
      "[2, 2, [2.2, 2.533333333333333]]\n",
      "[2, 2, [2.45, 2.75]]\n",
      "[2, 2, [2.533333333333333, 2.9833333333333334]]\n",
      "[2, 2, [2.183333333333333, 2.683333333333333]]\n",
      "[2, 2, [2.033333333333333, 2.15]]\n",
      "[2, 2, [2.966666666666667, 2.4833333333333334]]\n",
      "[2, 2, [2.533333333333333, 2.4]]\n",
      "[2, 2, [2.0166666666666666, 2.5]]\n",
      "[2, 2, [2.65, 2.4833333333333334]]\n",
      "[2, 2, [2.466666666666667, 2.033333333333333]]\n",
      "[2, 2, [2.183333333333333, 2.433333333333333]]\n",
      "[2, 2, [2.316666666666667, 2.716666666666667]]\n",
      "[2, 2, [2.35, 2.066666666666667]]\n",
      "[2, 2, [2.8666666666666667, 2.816666666666667]]\n",
      "[2, 2, [2.716666666666667, 2.683333333333333]]\n",
      "[2, 2, [2.55, 2.2666666666666666]]\n",
      "[2, 2, [2.2333333333333334, 2.4166666666666665]]\n",
      "[2, 2, [2.3333333333333335, 2.4]]\n",
      "[2, 2, [2.1333333333333333, 2.8333333333333335]]\n",
      "[2, 2, [2.783333333333333, 2.9]]\n",
      "[2, 2, [2.6333333333333333, 2.7]]\n",
      "[2, 2, [2.1, 2.7]]\n",
      "[2, 2, [2.933333333333333, 2.1666666666666665]]\n",
      "[2, 4, [2.65, 2.966666666666667, 2.9833333333333334, 2.6333333333333333]]\n",
      "[2, 2, [2.1, 2.683333333333333]]\n",
      "[2, 3, [2.8, 2.4166666666666665, 2.0166666666666666]]\n",
      "[2, 2, [2.2666666666666666, 2.183333333333333]]\n",
      "[2, 2, [2.65, 2.0833333333333335]]\n",
      "[2, 2, [2.5833333333333335, 2.7333333333333334]]\n",
      "[2, 2, [2.716666666666667, 2.466666666666667]]\n",
      "[2, 2, [2.3333333333333335, 2.15]]\n",
      "[2, 2, [2.0166666666666666, 2.15]]\n",
      "[2, 2, [2.8333333333333335, 2.6]]\n",
      "[2, 2, [2.9, 2.6166666666666667]]\n",
      "[2, 2, [2.6666666666666665, 2.65]]\n",
      "[2, 2, [2.566666666666667, 2.1666666666666665]]\n",
      "[2, 2, [2.75, 2.0833333333333335]]\n",
      "[2, 2, [2.6, 2.1333333333333333]]\n",
      "[2, 2, [2.95, 2.15]]\n",
      "[2, 2, [2.05, 2.95]]\n",
      "[2, 2, [2.25, 2.85]]\n",
      "[2, 2, [2.1166666666666667, 2.0166666666666666]]\n",
      "[2, 2, [2.216666666666667, 2.033333333333333]]\n",
      "[2, 2, [2.9, 2.55]]\n",
      "[2, 3, [2.2333333333333334, 2.0, 2.5]]\n",
      "[2, 2, [2.3333333333333335, 2.1]]\n",
      "[2, 2, [2.35, 2.716666666666667]]\n",
      "[2, 2, [2.683333333333333, 2.6666666666666665]]\n",
      "[2, 2, [2.183333333333333, 2.2]]\n",
      "[2, 2, [2.683333333333333, 2.95]]\n",
      "[2, 2, [2.8833333333333333, 2.75]]\n",
      "[2, 2, [2.816666666666667, 2.033333333333333]]\n",
      "[2, 2, [2.2333333333333334, 2.9166666666666665]]\n",
      "[2, 2, [2.0166666666666666, 2.1]]\n",
      "[2, 2, [2.966666666666667, 2.2666666666666666]]\n",
      "[2, 3, [2.0833333333333335, 2.1666666666666665, 2.35]]\n",
      "[2, 2, [2.4, 2.25]]\n",
      "[2, 2, [2.933333333333333, 2.65]]\n",
      "[2, 2, [2.8833333333333333, 2.783333333333333]]\n",
      "[2, 2, [2.6, 2.466666666666667]]\n",
      "[2, 2, [2.466666666666667, 2.683333333333333]]\n",
      "[2, 2, [2.25, 2.4]]\n",
      "[2, 2, [2.0833333333333335, 2.8833333333333333]]\n",
      "[2, 2, [2.466666666666667, 2.066666666666667]]\n",
      "[2, 2, [2.6666666666666665, 2.5833333333333335]]\n",
      "[2, 2, [2.0166666666666666, 2.65]]\n",
      "[2, 2, [2.433333333333333, 2.433333333333333]]\n",
      "[2, 2, [2.6166666666666667, 2.066666666666667]]\n",
      "[2, 2, [2.316666666666667, 2.216666666666667]]\n",
      "[2, 2, [2.2333333333333334, 2.8666666666666667]]\n",
      "[2, 2, [2.3333333333333335, 2.15]]\n",
      "[2, 2, [2.9833333333333334, 2.9833333333333334]]\n",
      "[2, 2, [2.316666666666667, 2.05]]\n",
      "[2, 2, [2.85, 2.283333333333333]]\n",
      "[2, 2, [2.85, 2.1666666666666665]]\n",
      "[2, 2, [2.6666666666666665, 2.6666666666666665]]\n",
      "[2, 2, [2.6666666666666665, 2.0166666666666666]]\n",
      "[2, 2, [2.683333333333333, 2.6666666666666665]]\n",
      "[2, 2, [2.2333333333333334, 2.3833333333333333]]\n",
      "[2, 2, [2.65, 2.2]]\n",
      "[2, 2, [2.05, 2.45]]\n",
      "[2, 2, [2.7333333333333334, 2.933333333333333]]\n",
      "[2, 2, [2.566666666666667, 2.3]]\n",
      "[2, 2, [2.033333333333333, 2.033333333333333]]\n",
      "[2, 3, [2.066666666666667, 2.5166666666666666, 2.6]]\n",
      "[2, 2, [2.0, 2.0]]\n",
      "[2, 2, [2.8, 2.0]]\n",
      "[2, 3, [2.65, 2.7333333333333334, 2.05]]\n",
      "[2, 2, [2.816666666666667, 2.75]]\n",
      "[2, 2, [2.2, 2.966666666666667]]\n",
      "[2, 2, [2.85, 2.5]]\n",
      "[2, 2, [2.95, 2.6]]\n",
      "[2, 2, [2.0833333333333335, 2.05]]\n",
      "[2, 2, [2.2, 2.0]]\n",
      "[2, 2, [2.4, 2.566666666666667]]\n",
      "[2, 2, [2.35, 2.8666666666666667]]\n",
      "[2, 3, [2.1166666666666667, 2.3666666666666667, 2.2]]\n",
      "[2, 2, [2.5, 2.95]]\n",
      "[2, 2, [2.933333333333333, 2.7]]\n",
      "[2, 2, [2.783333333333333, 2.15]]\n",
      "[2, 2, [2.6666666666666665, 2.433333333333333]]\n",
      "[2, 2, [2.933333333333333, 2.4833333333333334]]\n",
      "[2, 2, [2.2, 2.3666666666666667]]\n",
      "[2, 2, [2.2, 2.033333333333333]]\n",
      "[2, 2, [2.183333333333333, 2.1666666666666665]]\n",
      "[2, 4, [2.45, 2.15, 2.0, 2.4166666666666665]]\n",
      "[2, 3, [2.9166666666666665, 2.9, 2.683333333333333]]\n",
      "[2, 3, [2.8666666666666667, 2.3333333333333335, 2.5]]\n",
      "[2, 3, [2.6, 2.183333333333333, 2.4833333333333334]]\n",
      "[2, 2, [2.5, 2.35]]\n",
      "[2, 2, [2.6666666666666665, 2.8333333333333335]]\n",
      "[2, 2, [2.2333333333333334, 2.316666666666667]]\n",
      "[2, 2, [2.95, 2.1166666666666667]]\n",
      "[2, 2, [2.9, 2.9]]\n",
      "[2, 2, [2.45, 2.2]]\n",
      "[2, 2, [2.0, 2.0166666666666666]]\n",
      "[2, 2, [2.9166666666666665, 2.4]]\n",
      "[2, 2, [2.5833333333333335, 2.1333333333333333]]\n",
      "[2, 2, [2.7666666666666666, 2.35]]\n",
      "[2, 2, [2.3, 2.066666666666667]]\n",
      "[2, 2, [2.466666666666667, 2.1333333333333333]]\n",
      "[2, 2, [2.3666666666666667, 2.7666666666666666]]\n",
      "[2, 2, [2.05, 2.933333333333333]]\n",
      "[2, 2, [2.6166666666666667, 2.066666666666667]]\n",
      "[2, 2, [2.2666666666666666, 2.6666666666666665]]\n",
      "[2, 3, [2.316666666666667, 2.3333333333333335, 2.716666666666667]]\n",
      "[2, 2, [2.5833333333333335, 2.75]]\n",
      "[2, 2, [2.2666666666666666, 2.1666666666666665]]\n",
      "[2, 2, [2.0, 2.033333333333333]]\n",
      "[2, 2, [2.15, 2.5833333333333335]]\n",
      "[2, 2, [2.316666666666667, 2.35]]\n",
      "[2, 2, [2.3666666666666667, 2.85]]\n",
      "[2, 3, [2.55, 2.683333333333333, 2.1166666666666667]]\n",
      "[2, 2, [2.9166666666666665, 2.216666666666667]]\n",
      "[2, 2, [2.9833333333333334, 2.8]]\n",
      "[2, 2, [2.5833333333333335, 2.2666666666666666]]\n",
      "[2, 2, [2.0166666666666666, 2.25]]\n",
      "[2, 2, [2.1333333333333333, 2.6333333333333333]]\n",
      "[2, 2, [2.6666666666666665, 2.783333333333333]]\n",
      "[2, 2, [2.0166666666666666, 2.283333333333333]]\n",
      "[2, 2, [2.433333333333333, 2.7333333333333334]]\n",
      "[2, 2, [2.95, 2.95]]\n",
      "[2, 2, [2.2666666666666666, 2.6]]\n",
      "[2, 2, [2.05, 2.216666666666667]]\n",
      "[2, 2, [2.5, 2.0166666666666666]]\n",
      "[2, 2, [2.1166666666666667, 2.8833333333333333]]\n",
      "[2, 2, [2.7666666666666666, 2.566666666666667]]\n",
      "[2, 2, [2.35, 2.466666666666667]]\n",
      "[2, 3, [2.816666666666667, 2.8833333333333333, 2.066666666666667]]\n",
      "[2, 2, [2.433333333333333, 2.8333333333333335]]\n",
      "[2, 3, [2.25, 2.816666666666667, 2.85]]\n",
      "[2, 2, [2.65, 2.5]]\n",
      "[2, 2, [2.2333333333333334, 2.95]]\n",
      "[2, 2, [2.9166666666666665, 2.183333333333333]]\n",
      "[2, 2, [2.3833333333333333, 2.466666666666667]]\n",
      "[2, 2, [2.033333333333333, 2.6]]\n",
      "[2, 2, [2.716666666666667, 2.6]]\n",
      "[2, 2, [2.2666666666666666, 2.05]]\n",
      "[2, 2, [2.15, 2.9]]\n",
      "[2, 2, [2.7666666666666666, 2.316666666666667]]\n",
      "[2, 2, [2.9166666666666665, 2.85]]\n",
      "[2, 2, [2.7333333333333334, 2.6333333333333333]]\n",
      "[2, 2, [2.3, 2.7666666666666666]]\n",
      "[2, 3, [2.8333333333333335, 2.9166666666666665, 2.466666666666667]]\n",
      "[2, 2, [2.033333333333333, 2.1333333333333333]]\n",
      "[2, 2, [2.3833333333333333, 2.283333333333333]]\n",
      "[2, 2, [2.433333333333333, 2.9]]\n",
      "[2, 2, [2.4833333333333334, 2.8333333333333335]]\n",
      "[2, 2, [2.283333333333333, 2.033333333333333]]\n",
      "[2, 2, [2.5, 2.65]]\n",
      "[2, 2, [2.45, 2.1666666666666665]]\n",
      "[2, 2, [2.183333333333333, 2.9833333333333334]]\n",
      "[2, 2, [2.8666666666666667, 2.216666666666667]]\n",
      "[2, 2, [2.7333333333333334, 2.4833333333333334]]\n",
      "[2, 2, [2.533333333333333, 2.216666666666667]]\n",
      "[2, 2, [2.433333333333333, 2.1166666666666667]]\n",
      "[2, 2, [2.183333333333333, 2.1166666666666667]]\n",
      "[2, 2, [2.85, 2.45]]\n",
      "[2, 2, [2.35, 2.316666666666667]]\n",
      "[2, 2, [2.816666666666667, 2.5833333333333335]]\n",
      "[2, 2, [2.3666666666666667, 2.5]]\n",
      "[2, 2, [2.783333333333333, 2.9]]\n",
      "[2, 2, [2.566666666666667, 2.1666666666666665]]\n",
      "[2, 2, [2.566666666666667, 2.8666666666666667]]\n",
      "[2, 2, [2.1166666666666667, 2.3333333333333335]]\n",
      "[2, 2, [2.6333333333333333, 2.65]]\n",
      "[2, 2, [2.8833333333333333, 2.6]]\n",
      "[2, 2, [2.466666666666667, 2.033333333333333]]\n",
      "[2, 2, [2.1166666666666667, 2.4833333333333334]]\n",
      "[2, 2, [2.5166666666666666, 2.783333333333333]]\n",
      "[2, 3, [2.033333333333333, 2.9, 2.183333333333333]]\n",
      "[2, 2, [2.7333333333333334, 2.816666666666667]]\n",
      "[2, 2, [2.6166666666666667, 2.7333333333333334]]\n",
      "[2, 2, [2.7333333333333334, 2.5166666666666666]]\n",
      "[2, 2, [2.683333333333333, 2.7333333333333334]]\n",
      "[2, 2, [2.8333333333333335, 2.6333333333333333]]\n",
      "[2, 2, [2.216666666666667, 2.05]]\n",
      "[2, 3, [2.1166666666666667, 2.9166666666666665, 2.65]]\n",
      "[2, 2, [2.3, 2.716666666666667]]\n",
      "[2, 2, [2.8833333333333333, 2.3333333333333335]]\n",
      "[2, 2, [2.716666666666667, 2.2333333333333334]]\n",
      "[2, 2, [2.8, 2.45]]\n",
      "[2, 2, [2.7333333333333334, 2.783333333333333]]\n",
      "[2, 2, [2.95, 2.7666666666666666]]\n",
      "[2, 2, [2.3333333333333335, 2.1]]\n",
      "[2, 2, [2.683333333333333, 2.35]]\n",
      "[2, 3, [2.95, 2.216666666666667, 2.9166666666666665]]\n",
      "[2, 2, [2.783333333333333, 2.9]]\n",
      "[2, 2, [2.4166666666666665, 2.3833333333333333]]\n",
      "[2, 2, [2.3, 2.05]]\n",
      "[2, 2, [2.1666666666666665, 2.65]]\n",
      "[2, 3, [2.4833333333333334, 2.6333333333333333, 2.85]]\n",
      "[2, 2, [2.95, 2.2666666666666666]]\n",
      "[2, 2, [2.25, 2.2666666666666666]]\n",
      "[2, 2, [2.783333333333333, 2.8]]\n",
      "[2, 2, [2.683333333333333, 2.4166666666666665]]\n",
      "[2, 2, [2.1, 2.45]]\n",
      "[2, 2, [2.966666666666667, 2.4166666666666665]]\n",
      "[2, 2, [2.85, 2.6333333333333333]]\n",
      "[2, 2, [2.6333333333333333, 2.9166666666666665]]\n",
      "[2, 2, [2.316666666666667, 2.4166666666666665]]\n",
      "[2, 2, [2.6333333333333333, 2.683333333333333]]\n",
      "[2, 2, [2.3, 2.35]]\n",
      "[2, 2, [2.933333333333333, 2.75]]\n",
      "[2, 2, [2.033333333333333, 2.8333333333333335]]\n",
      "[2, 2, [2.0833333333333335, 2.1333333333333333]]\n",
      "[2, 2, [2.9, 2.55]]\n",
      "[2, 2, [2.283333333333333, 2.933333333333333]]\n",
      "[2, 2, [2.1, 2.3]]\n",
      "[2, 2, [2.2333333333333334, 2.3]]\n",
      "[2, 2, [2.433333333333333, 2.2]]\n",
      "[2, 2, [2.0166666666666666, 2.7666666666666666]]\n",
      "[2, 3, [2.3333333333333335, 2.566666666666667, 2.15]]\n",
      "[2, 2, [2.3833333333333333, 2.966666666666667]]\n",
      "[2, 2, [2.0166666666666666, 2.1]]\n",
      "[2, 2, [2.566666666666667, 2.6666666666666665]]\n",
      "[2, 2, [2.4166666666666665, 2.0833333333333335]]\n",
      "[2, 2, [2.9166666666666665, 2.75]]\n",
      "[2, 2, [2.966666666666667, 2.6333333333333333]]\n",
      "[2, 2, [2.4166666666666665, 2.533333333333333]]\n",
      "[2, 2, [2.5, 2.216666666666667]]\n",
      "[2, 3, [2.1666666666666665, 2.566666666666667, 2.2666666666666666]]\n",
      "[2, 2, [2.3666666666666667, 2.7666666666666666]]\n",
      "[2, 2, [2.6166666666666667, 2.35]]\n",
      "[2, 2, [2.0, 2.6]]\n",
      "[2, 2, [2.183333333333333, 2.033333333333333]]\n",
      "[2, 3, [2.7333333333333334, 2.6166666666666667, 2.3666666666666667]]\n",
      "[2, 2, [2.3833333333333333, 2.1]]\n",
      "[2, 2, [2.3, 2.966666666666667]]\n",
      "[2, 2, [2.4833333333333334, 2.8333333333333335]]\n",
      "[2, 3, [2.6333333333333333, 2.0833333333333335, 2.966666666666667]]\n",
      "[2, 2, [2.3333333333333335, 2.6333333333333333]]\n",
      "[2, 3, [2.7333333333333334, 2.1666666666666665, 2.9833333333333334]]\n",
      "[2, 2, [2.6, 2.1666666666666665]]\n",
      "[2, 3, [2.3333333333333335, 2.933333333333333, 2.4]]\n",
      "[2, 2, [2.9166666666666665, 2.6166666666666667]]\n",
      "[2, 2, [2.816666666666667, 2.3]]\n",
      "[2, 2, [2.8833333333333333, 2.816666666666667]]\n",
      "[2, 2, [2.0166666666666666, 2.716666666666667]]\n",
      "[2, 2, [2.05, 2.1166666666666667]]\n",
      "[2, 2, [2.4, 2.6]]\n",
      "[2, 2, [2.8666666666666667, 2.5833333333333335]]\n",
      "[2, 2, [2.65, 2.316666666666667]]\n",
      "[2, 2, [2.183333333333333, 2.3666666666666667]]\n",
      "[2, 2, [2.066666666666667, 2.6666666666666665]]\n",
      "[2, 2, [2.8333333333333335, 2.3833333333333333]]\n",
      "[2, 2, [2.4, 2.816666666666667]]\n",
      "[2, 2, [2.6, 2.8333333333333335]]\n",
      "[2, 2, [2.1333333333333333, 2.316666666666667]]\n",
      "[2, 2, [2.216666666666667, 2.816666666666667]]\n",
      "[2, 2, [2.216666666666667, 2.066666666666667]]\n",
      "[2, 2, [2.316666666666667, 2.7333333333333334]]\n",
      "[2, 2, [2.6666666666666665, 2.8833333333333333]]\n",
      "[2, 2, [2.7666666666666666, 2.033333333333333]]\n",
      "[2, 2, [2.0, 2.716666666666667]]\n",
      "[2, 2, [2.55, 2.55]]\n",
      "[2, 2, [2.0166666666666666, 2.433333333333333]]\n",
      "[2, 2, [2.216666666666667, 2.4]]\n",
      "[2, 2, [2.95, 2.8333333333333335]]\n",
      "[2, 2, [2.3833333333333333, 2.3]]\n",
      "[2, 2, [2.15, 2.1]]\n",
      "[2, 3, [2.8666666666666667, 2.65, 2.1666666666666665]]\n",
      "[2, 2, [2.9166666666666665, 2.466666666666667]]\n",
      "[2, 2, [2.8833333333333333, 2.9166666666666665]]\n",
      "[2, 2, [2.683333333333333, 2.816666666666667]]\n",
      "[2, 2, [2.1166666666666667, 2.5166666666666666]]\n",
      "[2, 2, [2.5166666666666666, 2.1666666666666665]]\n",
      "[2, 2, [2.533333333333333, 2.6]]\n",
      "[2, 2, [2.8, 2.2666666666666666]]\n",
      "[2, 2, [2.8333333333333335, 2.716666666666667]]\n",
      "[2, 2, [2.0, 2.6333333333333333]]\n",
      "[2, 3, [2.0166666666666666, 2.1, 2.1166666666666667]]\n",
      "[2, 2, [2.533333333333333, 2.15]]\n",
      "[2, 3, [2.033333333333333, 2.75, 2.45]]\n",
      "[2, 2, [2.433333333333333, 2.316666666666667]]\n",
      "[2, 2, [2.8, 2.4]]\n",
      "[2, 2, [2.033333333333333, 2.816666666666667]]\n",
      "[2, 2, [2.933333333333333, 2.6]]\n",
      "[2, 2, [2.2666666666666666, 2.0166666666666666]]\n",
      "[2, 2, [2.3, 2.2]]\n",
      "[2, 2, [2.6, 2.3666666666666667]]\n",
      "[2, 2, [2.0833333333333335, 2.566666666666667]]\n",
      "[2, 2, [2.566666666666667, 2.8333333333333335]]\n",
      "[2, 2, [2.966666666666667, 2.25]]\n",
      "[2, 2, [2.7333333333333334, 2.2666666666666666]]\n",
      "[2, 2, [2.5166666666666666, 2.566666666666667]]\n",
      "[2, 2, [2.933333333333333, 2.45]]\n",
      "[2, 2, [2.05, 2.85]]\n",
      "[2, 2, [2.066666666666667, 2.3833333333333333]]\n",
      "[2, 2, [2.45, 2.55]]\n",
      "[2, 2, [2.1, 2.8333333333333335]]\n",
      "[2, 2, [2.0, 2.0833333333333335]]\n",
      "[2, 2, [2.0833333333333335, 2.85]]\n",
      "[2, 2, [2.55, 2.033333333333333]]\n",
      "[2, 2, [2.683333333333333, 2.9166666666666665]]\n",
      "[2, 2, [2.9833333333333334, 2.3333333333333335]]\n",
      "[2, 2, [2.85, 2.033333333333333]]\n",
      "[2, 3, [2.466666666666667, 2.0166666666666666, 2.1666666666666665]]\n",
      "[2, 2, [2.15, 2.65]]\n",
      "[2, 2, [2.6333333333333333, 2.55]]\n",
      "[2, 2, [2.75, 2.783333333333333]]\n",
      "[2, 2, [2.8, 2.7666666666666666]]\n",
      "[2, 2, [2.35, 2.0833333333333335]]\n",
      "[2, 2, [2.216666666666667, 2.3666666666666667]]\n",
      "[2, 2, [2.466666666666667, 2.0]]\n",
      "[2, 2, [2.8833333333333333, 2.5]]\n",
      "[2, 2, [2.816666666666667, 2.3333333333333335]]\n",
      "[2, 2, [2.0, 2.05]]\n",
      "[2, 2, [2.7666666666666666, 2.216666666666667]]\n",
      "[2, 2, [2.1333333333333333, 2.9166666666666665]]\n",
      "[2, 2, [2.05, 2.966666666666667]]\n",
      "[2, 2, [2.6666666666666665, 2.6]]\n",
      "[2, 2, [2.316666666666667, 2.0166666666666666]]\n",
      "[2, 2, [2.066666666666667, 2.3]]\n",
      "[2, 3, [2.9166666666666665, 2.6666666666666665, 2.65]]\n",
      "[2, 2, [2.3, 2.6166666666666667]]\n",
      "[2, 2, [2.566666666666667, 2.683333333333333]]\n",
      "[2, 3, [2.1666666666666665, 2.8333333333333335, 2.25]]\n",
      "[2, 2, [2.7666666666666666, 2.1333333333333333]]\n",
      "[2, 3, [2.2333333333333334, 2.9166666666666665, 2.15]]\n",
      "[2, 2, [2.816666666666667, 2.966666666666667]]\n",
      "[2, 2, [2.283333333333333, 2.15]]\n",
      "[2, 2, [2.6666666666666665, 2.3833333333333333]]\n",
      "[2, 2, [2.0, 2.3333333333333335]]\n",
      "[2, 3, [2.2, 2.033333333333333, 2.5833333333333335]]\n",
      "[2, 2, [2.466666666666667, 2.2333333333333334]]\n",
      "[2, 2, [2.95, 2.033333333333333]]\n",
      "[2, 2, [2.95, 2.316666666666667]]\n",
      "[2, 2, [2.75, 2.216666666666667]]\n",
      "[2, 2, [2.4, 2.466666666666667]]\n",
      "[2, 2, [2.3, 2.283333333333333]]\n",
      "[2, 2, [2.933333333333333, 2.3833333333333333]]\n",
      "[2, 2, [2.816666666666667, 2.4833333333333334]]\n",
      "[2, 2, [2.75, 2.3666666666666667]]\n",
      "[2, 3, [2.5166666666666666, 2.3, 2.316666666666667]]\n",
      "[2, 2, [2.5, 2.5833333333333335]]\n",
      "[2, 2, [2.066666666666667, 2.433333333333333]]\n",
      "[2, 2, [2.75, 2.3666666666666667]]\n",
      "[2, 2, [2.1, 2.5166666666666666]]\n",
      "[2, 2, [2.716666666666667, 2.1166666666666667]]\n",
      "[2, 2, [2.2, 2.3833333333333333]]\n",
      "[2, 2, [2.216666666666667, 2.0]]\n",
      "[2, 2, [2.3833333333333333, 2.0]]\n",
      "[2, 2, [2.066666666666667, 2.1]]\n",
      "[2, 2, [2.816666666666667, 2.283333333333333]]\n",
      "[2, 2, [2.3333333333333335, 2.716666666666667]]\n",
      "[2, 2, [2.7, 2.5166666666666666]]\n",
      "[2, 2, [2.8666666666666667, 2.5833333333333335]]\n",
      "[2, 2, [2.9166666666666665, 2.9833333333333334]]\n",
      "[2, 2, [2.0833333333333335, 2.716666666666667]]\n",
      "[2, 2, [2.55, 2.45]]\n",
      "[2, 2, [2.466666666666667, 2.75]]\n",
      "[2, 2, [2.65, 2.05]]\n",
      "[2, 2, [2.3666666666666667, 2.5]]\n",
      "[2, 2, [2.066666666666667, 2.8833333333333333]]\n",
      "[2, 3, [2.066666666666667, 2.066666666666667, 2.2]]\n",
      "[2, 2, [2.45, 2.316666666666667]]\n",
      "[2, 2, [2.183333333333333, 2.433333333333333]]\n",
      "[2, 2, [2.9833333333333334, 2.15]]\n",
      "[2, 2, [2.25, 2.75]]\n",
      "[2, 2, [2.9833333333333334, 2.35]]\n",
      "[2, 2, [2.5833333333333335, 2.1]]\n",
      "[2, 2, [2.5833333333333335, 2.1666666666666665]]\n",
      "[2, 2, [2.683333333333333, 2.7333333333333334]]\n",
      "[2, 2, [2.6666666666666665, 2.4833333333333334]]\n",
      "[2, 2, [2.5, 2.183333333333333]]\n",
      "[2, 2, [2.65, 2.033333333333333]]\n",
      "[2, 2, [2.3666666666666667, 2.966666666666667]]\n",
      "[2, 2, [2.5166666666666666, 2.6166666666666667]]\n",
      "[2, 2, [2.75, 2.4166666666666665]]\n",
      "[2, 2, [2.05, 2.216666666666667]]\n",
      "[2, 2, [2.3833333333333333, 2.6166666666666667]]\n",
      "[2, 2, [2.3, 2.5166666666666666]]\n",
      "[2, 2, [2.8833333333333333, 2.4]]\n",
      "[2, 3, [2.15, 2.066666666666667, 2.216666666666667]]\n",
      "[2, 2, [2.65, 2.2333333333333334]]\n",
      "[2, 2, [2.2333333333333334, 2.933333333333333]]\n",
      "[2, 2, [2.95, 2.2666666666666666]]\n",
      "[2, 2, [2.75, 2.9166666666666665]]\n",
      "[2, 2, [2.8, 2.0166666666666666]]\n",
      "[2, 2, [2.3833333333333333, 2.7666666666666666]]\n",
      "[2, 2, [2.933333333333333, 2.1666666666666665]]\n",
      "[2, 2, [2.8666666666666667, 2.5833333333333335]]\n",
      "[2, 2, [2.15, 2.1]]\n",
      "[2, 2, [2.1333333333333333, 2.066666666666667]]\n",
      "[2, 2, [2.1, 2.75]]\n",
      "[2, 2, [2.5166666666666666, 2.3]]\n",
      "[2, 2, [2.3333333333333335, 2.7]]\n",
      "[2, 2, [2.8666666666666667, 2.033333333333333]]\n",
      "[2, 2, [2.1, 2.933333333333333]]\n",
      "[2, 2, [2.7, 2.566666666666667]]\n",
      "[2, 2, [2.1, 2.95]]\n",
      "[2, 2, [2.433333333333333, 2.9166666666666665]]\n",
      "[2, 2, [2.6666666666666665, 2.2666666666666666]]\n",
      "[2, 2, [2.7666666666666666, 2.7666666666666666]]\n",
      "[2, 2, [2.6, 2.0833333333333335]]\n",
      "[2, 2, [2.75, 2.816666666666667]]\n",
      "[2, 2, [2.6166666666666667, 2.3833333333333333]]\n",
      "[2, 2, [2.966666666666667, 2.8833333333333333]]\n",
      "[2, 2, [2.6166666666666667, 2.033333333333333]]\n",
      "[2, 2, [2.05, 2.0]]\n",
      "[2, 2, [2.2333333333333334, 2.05]]\n",
      "[2, 2, [2.95, 2.25]]\n",
      "[2, 2, [2.2666666666666666, 2.7333333333333334]]\n",
      "[2, 2, [2.566666666666667, 2.1333333333333333]]\n",
      "[2, 2, [2.15, 2.566666666666667]]\n",
      "[2, 2, [2.1666666666666665, 2.783333333333333]]\n",
      "[2, 3, [2.1333333333333333, 2.65, 2.9]]\n",
      "[2, 2, [2.183333333333333, 2.0833333333333335]]\n",
      "[2, 2, [2.7666666666666666, 2.2666666666666666]]\n",
      "[2, 2, [2.6, 2.316666666666667]]\n",
      "[2, 2, [2.9166666666666665, 2.783333333333333]]\n",
      "[2, 2, [2.85, 2.6]]\n",
      "[2, 2, [2.3666666666666667, 2.5]]\n",
      "[2, 2, [2.183333333333333, 2.75]]\n",
      "[2, 2, [2.566666666666667, 2.0833333333333335]]\n",
      "[2, 2, [2.0, 2.2666666666666666]]\n",
      "[2, 2, [2.566666666666667, 2.0166666666666666]]\n",
      "[2, 2, [2.7, 2.466666666666667]]\n",
      "[2, 2, [2.2333333333333334, 2.1]]\n",
      "[2, 2, [2.1, 2.566666666666667]]\n",
      "[2, 2, [2.2333333333333334, 2.6166666666666667]]\n",
      "[2, 2, [2.2666666666666666, 2.1666666666666665]]\n",
      "[2, 2, [2.066666666666667, 2.2]]\n",
      "[2, 2, [2.5, 2.433333333333333]]\n",
      "[2, 2, [2.0, 2.433333333333333]]\n",
      "[2, 2, [2.1166666666666667, 2.316666666666667]]\n",
      "[2, 2, [2.2666666666666666, 2.533333333333333]]\n",
      "[2, 2, [2.9833333333333334, 2.2333333333333334]]\n",
      "[2, 2, [2.45, 2.1666666666666665]]\n",
      "[2, 2, [2.5166666666666666, 2.966666666666667]]\n",
      "[2, 2, [2.316666666666667, 2.9]]\n",
      "[2, 2, [2.0833333333333335, 2.0833333333333335]]\n",
      "[2, 2, [2.433333333333333, 2.9]]\n",
      "[2, 2, [2.9166666666666665, 2.216666666666667]]\n",
      "[2, 2, [2.9166666666666665, 2.8]]\n",
      "[2, 2, [2.683333333333333, 2.35]]\n",
      "[2, 2, [2.6666666666666665, 2.8333333333333335]]\n",
      "[2, 2, [2.4166666666666665, 2.3666666666666667]]\n",
      "[2, 2, [2.55, 2.85]]\n",
      "[2, 2, [2.9833333333333334, 2.183333333333333]]\n",
      "[2, 2, [2.533333333333333, 2.7333333333333334]]\n",
      "[2, 2, [2.2, 2.15]]\n",
      "[2, 4, [2.45, 2.05, 2.3666666666666667, 2.8666666666666667]]\n",
      "[2, 2, [2.8333333333333335, 2.8666666666666667]]\n",
      "[2, 2, [2.6, 2.5]]\n",
      "[2, 2, [2.183333333333333, 2.05]]\n",
      "[2, 2, [2.466666666666667, 2.816666666666667]]\n",
      "[2, 2, [2.433333333333333, 2.3666666666666667]]\n",
      "[2, 2, [2.45, 2.816666666666667]]\n",
      "[2, 2, [2.1166666666666667, 2.433333333333333]]\n",
      "[2, 2, [2.6333333333333333, 2.933333333333333]]\n",
      "[2, 2, [2.3666666666666667, 2.5833333333333335]]\n",
      "[2, 2, [2.1666666666666665, 2.0]]\n",
      "[2, 2, [2.3, 2.3833333333333333]]\n",
      "[2, 2, [2.3833333333333333, 2.1]]\n",
      "[2, 2, [2.6, 2.9166666666666665]]\n",
      "[2, 2, [2.5166666666666666, 2.183333333333333]]\n",
      "[2, 2, [2.8333333333333335, 2.9]]\n",
      "[2, 2, [2.466666666666667, 2.0]]\n",
      "[2, 2, [2.3666666666666667, 2.75]]\n",
      "[2, 2, [2.45, 2.1333333333333333]]\n",
      "[2, 2, [2.966666666666667, 2.7666666666666666]]\n",
      "[2, 2, [2.0833333333333335, 2.2]]\n",
      "[2, 2, [2.1333333333333333, 2.1666666666666665]]\n",
      "[2, 2, [2.35, 2.5833333333333335]]\n",
      "[2, 2, [2.85, 2.033333333333333]]\n",
      "[2, 3, [2.3333333333333335, 2.9, 2.8833333333333333]]\n",
      "[2, 2, [2.9166666666666665, 2.2666666666666666]]\n",
      "[2, 2, [2.183333333333333, 2.05]]\n",
      "[2, 2, [2.55, 2.85]]\n",
      "[2, 2, [2.55, 2.433333333333333]]\n",
      "[2, 2, [2.4166666666666665, 2.05]]\n",
      "[2, 2, [2.5166666666666666, 2.5833333333333335]]\n",
      "[2, 3, [2.0166666666666666, 2.316666666666667, 2.1]]\n",
      "[2, 2, [2.3, 2.033333333333333]]\n",
      "[2, 2, [2.4166666666666665, 2.8]]\n",
      "[2, 2, [2.05, 2.2666666666666666]]\n",
      "[2, 2, [2.2, 2.433333333333333]]\n",
      "[2, 2, [2.783333333333333, 2.05]]\n",
      "[2, 3, [2.566666666666667, 2.6333333333333333, 2.8333333333333335]]\n",
      "[2, 2, [2.5833333333333335, 2.1166666666666667]]\n",
      "[2, 2, [2.8, 2.1333333333333333]]\n",
      "[2, 2, [2.3833333333333333, 2.4166666666666665]]\n",
      "[2, 2, [2.9166666666666665, 2.6666666666666665]]\n",
      "[2, 2, [2.05, 2.4833333333333334]]\n",
      "[2, 2, [2.3666666666666667, 2.95]]\n",
      "[2, 3, [2.0833333333333335, 2.6333333333333333, 2.033333333333333]]\n",
      "[2, 3, [2.0166666666666666, 2.933333333333333, 2.3]]\n",
      "[2, 2, [2.4166666666666665, 2.85]]\n",
      "[2, 3, [2.25, 2.9833333333333334, 2.7]]\n",
      "[2, 3, [2.933333333333333, 2.033333333333333, 2.65]]\n",
      "[2, 2, [2.7666666666666666, 2.75]]\n",
      "[2, 2, [2.6333333333333333, 2.85]]\n",
      "[2, 2, [2.9, 2.25]]\n",
      "[2, 2, [2.8333333333333335, 2.1666666666666665]]\n",
      "[2, 2, [2.7333333333333334, 2.3]]\n",
      "[2, 2, [2.0833333333333335, 2.8666666666666667]]\n",
      "[2, 2, [2.183333333333333, 2.716666666666667]]\n",
      "[2, 2, [2.8, 2.0]]\n",
      "[2, 2, [2.1166666666666667, 2.2333333333333334]]\n",
      "[2, 2, [2.966666666666667, 2.816666666666667]]\n",
      "[2, 2, [2.7666666666666666, 2.1]]\n",
      "[2, 2, [2.6, 2.716666666666667]]\n",
      "[2, 2, [2.7666666666666666, 2.8333333333333335]]\n",
      "[2, 2, [2.283333333333333, 2.35]]\n",
      "[2, 2, [2.5833333333333335, 2.5]]\n",
      "[2, 3, [2.966666666666667, 2.3333333333333335, 2.3]]\n",
      "[2, 2, [2.3833333333333333, 2.533333333333333]]\n",
      "[2, 2, [2.5166666666666666, 2.8833333333333333]]\n",
      "[2, 2, [2.783333333333333, 2.5833333333333335]]\n",
      "[2, 2, [2.1666666666666665, 2.15]]\n",
      "[2, 2, [2.6333333333333333, 2.7666666666666666]]\n",
      "[2, 2, [2.45, 2.066666666666667]]\n",
      "[2, 2, [2.1333333333333333, 2.3666666666666667]]\n",
      "[2, 2, [2.15, 2.216666666666667]]\n",
      "[2, 4, [2.966666666666667, 2.283333333333333, 2.05, 2.65]]\n",
      "[2, 2, [2.6166666666666667, 2.55]]\n",
      "[2, 2, [2.433333333333333, 2.8666666666666667]]\n",
      "[2, 2, [2.35, 2.7333333333333334]]\n",
      "[2, 3, [2.8833333333333333, 2.65, 2.033333333333333]]\n",
      "[2, 2, [2.4166666666666665, 2.55]]\n",
      "[2, 2, [2.966666666666667, 2.566666666666667]]\n",
      "[2, 2, [2.9166666666666665, 2.3666666666666667]]\n",
      "[2, 2, [2.033333333333333, 2.85]]\n",
      "[2, 2, [2.283333333333333, 2.45]]\n",
      "[2, 2, [2.25, 2.6666666666666665]]\n",
      "[2, 2, [2.0833333333333335, 2.0]]\n",
      "[2, 2, [2.783333333333333, 2.3666666666666667]]\n",
      "[2, 2, [2.3333333333333335, 2.8]]\n",
      "[2, 2, [2.2666666666666666, 2.45]]\n",
      "[2, 2, [2.433333333333333, 2.933333333333333]]\n",
      "[2, 2, [2.6166666666666667, 2.783333333333333]]\n",
      "[2, 2, [2.8, 2.75]]\n",
      "[2, 2, [2.0833333333333335, 2.4166666666666665]]\n",
      "[2, 2, [2.3, 2.85]]\n",
      "[2, 2, [2.3666666666666667, 2.183333333333333]]\n",
      "[2, 2, [2.8333333333333335, 2.1166666666666667]]\n",
      "[2, 2, [2.8833333333333333, 2.3]]\n",
      "[2, 2, [2.6666666666666665, 2.4166666666666665]]\n",
      "[2, 3, [2.2666666666666666, 2.5, 2.8666666666666667]]\n",
      "[2, 2, [2.85, 2.45]]\n",
      "[2, 2, [2.7, 2.283333333333333]]\n",
      "[2, 2, [2.1, 2.75]]\n",
      "[2, 2, [2.4, 2.1333333333333333]]\n",
      "[2, 2, [2.566666666666667, 2.816666666666667]]\n",
      "[2, 2, [2.4166666666666665, 2.35]]\n",
      "[2, 2, [2.75, 2.05]]\n",
      "[2, 2, [2.6166666666666667, 2.4833333333333334]]\n",
      "[2, 2, [2.9833333333333334, 2.05]]\n",
      "[2, 2, [2.35, 2.216666666666667]]\n",
      "[2, 2, [2.75, 2.0]]\n",
      "[2, 2, [2.6, 2.316666666666667]]\n",
      "[2, 2, [2.2666666666666666, 2.1166666666666667]]\n",
      "[2, 2, [2.183333333333333, 2.066666666666667]]\n",
      "[2, 2, [2.9, 2.316666666666667]]\n",
      "[2, 2, [2.933333333333333, 2.3]]\n",
      "[2, 2, [2.3333333333333335, 2.3333333333333335]]\n",
      "[2, 2, [2.183333333333333, 2.0]]\n",
      "[2, 2, [2.6, 2.3]]\n",
      "[2, 2, [2.183333333333333, 2.8333333333333335]]\n",
      "[2, 3, [2.683333333333333, 2.9833333333333334, 2.433333333333333]]\n",
      "[2, 2, [2.55, 2.15]]\n",
      "[2, 2, [2.783333333333333, 2.6666666666666665]]\n",
      "[2, 2, [2.1333333333333333, 2.183333333333333]]\n",
      "[2, 2, [2.566666666666667, 2.85]]\n",
      "[2, 2, [2.283333333333333, 2.433333333333333]]\n",
      "[2, 2, [2.6, 2.55]]\n",
      "[2, 2, [2.1333333333333333, 2.0]]\n",
      "[2, 2, [2.5833333333333335, 2.5]]\n",
      "[2, 2, [2.4, 2.1666666666666665]]\n",
      "[2, 2, [2.85, 2.4166666666666665]]\n",
      "[2, 3, [2.0166666666666666, 2.1333333333333333, 2.0166666666666666]]\n",
      "[2, 2, [2.7666666666666666, 2.8666666666666667]]\n",
      "[2, 2, [2.716666666666667, 2.066666666666667]]\n",
      "[2, 2, [2.0833333333333335, 2.966666666666667]]\n",
      "[2, 3, [2.0, 2.283333333333333, 2.3833333333333333]]\n",
      "[2, 2, [2.8666666666666667, 2.1166666666666667]]\n",
      "[2, 2, [2.533333333333333, 2.0833333333333335]]\n",
      "[2, 2, [2.5833333333333335, 2.6166666666666667]]\n",
      "[2, 2, [2.566666666666667, 2.066666666666667]]\n",
      "[2, 3, [2.0833333333333335, 2.8833333333333333, 2.566666666666667]]\n",
      "[2, 2, [2.05, 2.3833333333333333]]\n",
      "[2, 3, [2.216666666666667, 2.85, 2.066666666666667]]\n",
      "[2, 2, [2.2333333333333334, 2.683333333333333]]\n",
      "[2, 2, [2.183333333333333, 2.3833333333333333]]\n",
      "[2, 2, [2.5, 2.7333333333333334]]\n",
      "[2, 2, [2.0166666666666666, 2.4166666666666665]]\n",
      "[2, 2, [2.1333333333333333, 2.05]]\n",
      "[2, 2, [2.533333333333333, 2.4]]\n",
      "[2, 3, [2.6166666666666667, 2.433333333333333, 2.816666666666667]]\n",
      "[2, 2, [2.7666666666666666, 2.3833333333333333]]\n",
      "[2, 2, [2.9833333333333334, 2.2333333333333334]]\n",
      "[2, 3, [2.4166666666666665, 2.783333333333333, 2.4833333333333334]]\n",
      "[2, 2, [2.1, 2.95]]\n",
      "[2, 2, [2.35, 2.466666666666667]]\n",
      "[2, 2, [2.7666666666666666, 2.6333333333333333]]\n",
      "[2, 2, [2.7, 2.066666666666667]]\n",
      "[2, 2, [2.3333333333333335, 2.05]]\n",
      "[2, 2, [2.0166666666666666, 2.3833333333333333]]\n",
      "[2, 2, [2.0, 2.716666666666667]]\n",
      "[2, 2, [2.816666666666667, 2.8833333333333333]]\n",
      "[2, 2, [2.65, 2.7666666666666666]]\n",
      "[2, 2, [2.4, 2.1333333333333333]]\n",
      "[2, 2, [2.9, 2.8666666666666667]]\n",
      "[2, 2, [2.0166666666666666, 2.4]]\n",
      "[2, 2, [2.9833333333333334, 2.25]]\n",
      "[2, 2, [2.4833333333333334, 2.0833333333333335]]\n",
      "[2, 2, [2.1166666666666667, 2.7]]\n",
      "[2, 2, [2.65, 2.283333333333333]]\n",
      "[2, 3, [2.75, 2.716666666666667, 2.966666666666667]]\n",
      "[2, 2, [2.816666666666667, 2.1166666666666667]]\n",
      "[2, 2, [2.6333333333333333, 2.183333333333333]]\n",
      "[2, 2, [2.3666666666666667, 2.6666666666666665]]\n",
      "[2, 2, [2.55, 2.9]]\n",
      "[2, 2, [2.3333333333333335, 2.7333333333333334]]\n",
      "[2, 2, [2.3666666666666667, 2.7666666666666666]]\n",
      "[2, 2, [2.433333333333333, 2.6333333333333333]]\n",
      "[2, 2, [2.3, 2.216666666666667]]\n",
      "[2, 2, [2.15, 2.5166666666666666]]\n",
      "[2, 2, [2.1333333333333333, 2.15]]\n",
      "[2, 2, [2.9166666666666665, 2.6166666666666667]]\n",
      "[2, 2, [2.066666666666667, 2.3333333333333335]]\n",
      "[2, 2, [2.7333333333333334, 2.75]]\n",
      "[2, 2, [2.05, 2.2]]\n",
      "[2, 2, [2.5, 2.4833333333333334]]\n",
      "[2, 2, [2.25, 2.0833333333333335]]\n",
      "[2, 2, [2.283333333333333, 2.5]]\n",
      "[2, 2, [2.8833333333333333, 2.3]]\n",
      "[2, 2, [2.5, 2.5833333333333335]]\n",
      "[2, 2, [2.7333333333333334, 2.0166666666666666]]\n",
      "[2, 2, [2.9833333333333334, 2.283333333333333]]\n",
      "[2, 2, [2.683333333333333, 2.5166666666666666]]\n",
      "[2, 2, [2.433333333333333, 2.35]]\n",
      "[2, 2, [2.4166666666666665, 2.1333333333333333]]\n",
      "[2, 2, [2.1166666666666667, 2.0]]\n",
      "[2, 2, [2.2666666666666666, 2.566666666666667]]\n",
      "[2, 3, [2.45, 2.9, 2.1666666666666665]]\n",
      "[2, 2, [2.45, 2.9166666666666665]]\n",
      "[2, 2, [2.5833333333333335, 2.8833333333333333]]\n",
      "[2, 2, [2.3833333333333333, 2.4833333333333334]]\n",
      "[2, 2, [2.8666666666666667, 2.35]]\n",
      "[2, 2, [2.1666666666666665, 2.85]]\n",
      "[2, 2, [2.3333333333333335, 2.45]]\n",
      "[2, 2, [2.75, 2.6333333333333333]]\n",
      "[2, 3, [2.45, 2.4166666666666665, 2.033333333333333]]\n",
      "[2, 3, [2.0166666666666666, 2.85, 2.816666666666667]]\n",
      "[2, 2, [2.1, 2.9]]\n",
      "[2, 2, [2.6333333333333333, 2.783333333333333]]\n",
      "[2, 2, [2.433333333333333, 2.716666666666667]]\n",
      "[2, 2, [2.75, 2.716666666666667]]\n",
      "[2, 2, [2.1666666666666665, 2.966666666666667]]\n",
      "[2, 2, [2.65, 2.3833333333333333]]\n",
      "[2, 2, [2.1333333333333333, 2.6166666666666667]]\n",
      "[2, 2, [2.5833333333333335, 2.566666666666667]]\n",
      "[2, 2, [2.533333333333333, 2.05]]\n",
      "[2, 2, [2.283333333333333, 2.4166666666666665]]\n",
      "[2, 2, [2.9833333333333334, 2.933333333333333]]\n",
      "[2, 3, [2.933333333333333, 2.2666666666666666, 2.0166666666666666]]\n",
      "[2, 2, [2.6, 2.3666666666666667]]\n",
      "[2, 2, [2.6333333333333333, 2.35]]\n",
      "[2, 2, [2.1666666666666665, 2.183333333333333]]\n",
      "[2, 2, [2.716666666666667, 2.9]]\n",
      "[2, 2, [2.25, 2.8]]\n",
      "[2, 2, [2.6, 2.55]]\n",
      "[2, 2, [2.0833333333333335, 2.0166666666666666]]\n",
      "[2, 2, [2.283333333333333, 2.716666666666667]]\n",
      "[2, 2, [2.4166666666666665, 2.1333333333333333]]\n",
      "[2, 2, [2.3333333333333335, 2.3]]\n",
      "[2, 2, [2.533333333333333, 2.033333333333333]]\n",
      "[2, 2, [2.2333333333333334, 2.033333333333333]]\n",
      "[2, 2, [2.566666666666667, 2.533333333333333]]\n",
      "[2, 2, [2.4166666666666665, 2.4]]\n",
      "[2, 2, [2.8666666666666667, 2.816666666666667]]\n",
      "[2, 2, [2.85, 2.566666666666667]]\n",
      "[2, 2, [2.9, 2.566666666666667]]\n",
      "[2, 2, [2.85, 2.1666666666666665]]\n",
      "[2, 2, [2.2666666666666666, 2.433333333333333]]\n",
      "[2, 2, [2.033333333333333, 2.6]]\n",
      "[2, 2, [2.2, 2.3833333333333333]]\n",
      "[2, 2, [2.55, 2.5166666666666666]]\n",
      "[2, 2, [2.183333333333333, 2.2666666666666666]]\n",
      "[2, 2, [2.816666666666667, 2.283333333333333]]\n",
      "[2, 2, [2.7666666666666666, 2.816666666666667]]\n",
      "[2, 2, [2.1666666666666665, 2.8666666666666667]]\n",
      "[2, 2, [2.066666666666667, 2.1]]\n",
      "[2, 2, [2.75, 2.8]]\n",
      "[2, 2, [2.2333333333333334, 2.75]]\n",
      "[2, 2, [2.65, 2.183333333333333]]\n",
      "[2, 2, [2.716666666666667, 2.9]]\n",
      "[2, 2, [2.1166666666666667, 2.533333333333333]]\n",
      "[2, 2, [2.566666666666667, 2.4833333333333334]]\n",
      "[2, 2, [2.2666666666666666, 2.3]]\n",
      "[2, 2, [2.4, 2.5]]\n",
      "[2, 2, [2.1333333333333333, 2.316666666666667]]\n",
      "[2, 2, [2.25, 2.8]]\n",
      "[2, 2, [2.7666666666666666, 2.5833333333333335]]\n",
      "[2, 2, [2.7666666666666666, 2.05]]\n",
      "[2, 2, [2.5, 2.5166666666666666]]\n",
      "[2, 2, [2.933333333333333, 2.75]]\n",
      "[2, 2, [2.966666666666667, 2.966666666666667]]\n",
      "[2, 2, [2.5166666666666666, 2.05]]\n",
      "[2, 2, [2.9833333333333334, 2.066666666666667]]\n",
      "[2, 2, [2.7333333333333334, 2.2]]\n",
      "[2, 2, [2.25, 2.283333333333333]]\n",
      "[2, 2, [2.3, 2.3333333333333335]]\n",
      "[2, 2, [2.55, 2.4166666666666665]]\n",
      "[2, 2, [2.783333333333333, 2.783333333333333]]\n",
      "[2, 2, [2.9166666666666665, 2.6166666666666667]]\n",
      "[2, 2, [2.066666666666667, 2.8333333333333335]]\n",
      "[2, 2, [2.8833333333333333, 2.2333333333333334]]\n",
      "[2, 2, [2.6166666666666667, 2.65]]\n",
      "[2, 2, [2.0166666666666666, 2.0]]\n",
      "[2, 2, [2.7, 2.1166666666666667]]\n",
      "[2, 2, [2.2333333333333334, 2.5166666666666666]]\n",
      "[2, 2, [2.5166666666666666, 2.4]]\n",
      "[2, 3, [2.0833333333333335, 2.3333333333333335, 2.4833333333333334]]\n",
      "[2, 2, [2.216666666666667, 2.4833333333333334]]\n",
      "[2, 2, [2.566666666666667, 2.4]]\n",
      "[2, 2, [2.45, 2.466666666666667]]\n",
      "[2, 2, [2.9833333333333334, 2.5833333333333335]]\n",
      "[2, 2, [2.0833333333333335, 2.7]]\n",
      "[2, 2, [2.3666666666666667, 2.7]]\n",
      "[2, 2, [2.433333333333333, 2.5166666666666666]]\n",
      "[2, 2, [2.3, 2.2666666666666666]]\n",
      "[2, 2, [2.5833333333333335, 2.566666666666667]]\n",
      "[2, 2, [2.533333333333333, 2.35]]\n",
      "[2, 2, [2.85, 2.8666666666666667]]\n",
      "[2, 2, [2.183333333333333, 2.9833333333333334]]\n",
      "[2, 2, [2.0833333333333335, 2.4]]\n",
      "[2, 2, [2.8333333333333335, 2.816666666666667]]\n",
      "[2, 2, [2.2333333333333334, 2.55]]\n",
      "[2, 2, [2.9166666666666665, 2.4]]\n",
      "[2, 2, [2.533333333333333, 2.35]]\n",
      "[2, 2, [2.45, 2.816666666666667]]\n",
      "[2, 2, [2.3666666666666667, 2.1333333333333333]]\n",
      "[2, 2, [2.0833333333333335, 2.933333333333333]]\n",
      "[2, 2, [2.216666666666667, 2.816666666666667]]\n",
      "[2, 2, [2.2333333333333334, 2.933333333333333]]\n",
      "[2, 2, [2.6666666666666665, 2.35]]\n",
      "[2, 2, [2.8333333333333335, 2.533333333333333]]\n",
      "[2, 2, [2.9, 2.8333333333333335]]\n",
      "[2, 2, [2.1, 2.5166666666666666]]\n",
      "[2, 2, [2.3, 2.5]]\n",
      "[2, 2, [2.2666666666666666, 2.8333333333333335]]\n",
      "[2, 2, [2.783333333333333, 2.3]]\n",
      "[2, 2, [2.0, 2.65]]\n",
      "[2, 2, [2.8, 2.15]]\n",
      "[2, 2, [2.95, 2.6666666666666665]]\n",
      "[2, 2, [2.9833333333333334, 2.65]]\n",
      "[2, 2, [2.25, 2.066666666666667]]\n",
      "[2, 2, [2.183333333333333, 2.85]]\n",
      "[2, 2, [2.7666666666666666, 2.683333333333333]]\n",
      "[2, 2, [2.3333333333333335, 2.433333333333333]]\n",
      "[2, 2, [2.65, 2.0]]\n",
      "[2, 2, [2.6166666666666667, 2.8]]\n",
      "[2, 2, [2.55, 2.033333333333333]]\n",
      "[2, 2, [2.0833333333333335, 2.8666666666666667]]\n",
      "[2, 2, [2.6, 2.7333333333333334]]\n",
      "[2, 2, [2.8, 2.55]]\n",
      "[2, 3, [2.283333333333333, 2.4833333333333334, 2.7]]\n",
      "[2, 2, [2.85, 2.3333333333333335]]\n",
      "[2, 2, [2.5, 2.433333333333333]]\n",
      "[2, 2, [2.5, 2.05]]\n",
      "[2, 2, [2.216666666666667, 2.1666666666666665]]\n",
      "[2, 2, [2.3, 2.8]]\n",
      "[2, 2, [2.966666666666667, 2.2333333333333334]]\n",
      "[2, 2, [2.7, 2.15]]\n",
      "[2, 2, [2.283333333333333, 2.2666666666666666]]\n",
      "[2, 2, [2.85, 2.9166666666666665]]\n",
      "[2, 2, [2.6, 2.45]]\n",
      "[2, 2, [2.0, 2.3333333333333335]]\n",
      "[2, 2, [2.783333333333333, 2.9]]\n",
      "[2, 2, [2.216666666666667, 2.6333333333333333]]\n",
      "[2, 2, [2.0833333333333335, 2.433333333333333]]\n",
      "[2, 2, [2.2666666666666666, 2.7666666666666666]]\n",
      "[2, 2, [2.8, 2.6666666666666665]]\n",
      "[2, 3, [2.8, 2.216666666666667, 2.433333333333333]]\n",
      "[2, 2, [2.5833333333333335, 2.35]]\n",
      "[2, 2, [2.5, 2.65]]\n",
      "[2, 2, [2.533333333333333, 2.533333333333333]]\n",
      "[2, 2, [2.7666666666666666, 2.8833333333333333]]\n",
      "[2, 2, [2.3333333333333335, 2.4833333333333334]]\n",
      "[2, 2, [2.4833333333333334, 2.8833333333333333]]\n",
      "[2, 2, [2.5833333333333335, 2.8666666666666667]]\n",
      "[2, 2, [2.15, 2.1333333333333333]]\n",
      "[2, 2, [2.3333333333333335, 2.2]]\n",
      "[2, 2, [2.6, 2.066666666666667]]\n",
      "[2, 2, [2.6333333333333333, 2.1]]\n",
      "[2, 2, [2.3, 2.816666666666667]]\n",
      "[2, 2, [2.05, 2.2333333333333334]]\n",
      "[2, 2, [2.2333333333333334, 2.433333333333333]]\n",
      "[2, 2, [2.7666666666666666, 2.9]]\n",
      "[2, 2, [2.8, 2.466666666666667]]\n",
      "[2, 2, [2.5, 2.683333333333333]]\n",
      "[2, 2, [2.3833333333333333, 2.3]]\n",
      "[2, 2, [2.966666666666667, 2.8333333333333335]]\n",
      "[2, 2, [2.2333333333333334, 2.45]]\n",
      "[2, 2, [2.8833333333333333, 2.2]]\n",
      "[2, 2, [2.5833333333333335, 2.8333333333333335]]\n",
      "[2, 2, [2.433333333333333, 2.566666666666667]]\n",
      "[2, 2, [2.6666666666666665, 2.3333333333333335]]\n",
      "[2, 2, [2.35, 2.1666666666666665]]\n",
      "[2, 2, [2.466666666666667, 2.816666666666667]]\n",
      "[2, 2, [2.0, 2.3833333333333333]]\n",
      "[2, 3, [2.95, 2.8, 2.8666666666666667]]\n",
      "[2, 2, [2.283333333333333, 2.1333333333333333]]\n",
      "[2, 2, [2.783333333333333, 2.5]]\n",
      "[2, 2, [2.65, 2.2666666666666666]]\n",
      "[2, 2, [2.1333333333333333, 2.25]]\n",
      "[2, 2, [2.183333333333333, 2.9166666666666665]]\n",
      "[2, 2, [2.4833333333333334, 2.7666666666666666]]\n",
      "[2, 2, [2.533333333333333, 2.35]]\n",
      "[2, 2, [2.9, 2.2333333333333334]]\n",
      "[2, 3, [2.5166666666666666, 2.55, 2.466666666666667]]\n",
      "[2, 2, [2.4, 2.6]]\n",
      "[2, 2, [2.9833333333333334, 2.566666666666667]]\n",
      "[2, 2, [2.65, 2.15]]\n",
      "[2, 2, [2.4166666666666665, 2.433333333333333]]\n",
      "[2, 2, [2.966666666666667, 2.15]]\n",
      "[2, 2, [2.2333333333333334, 2.066666666666667]]\n",
      "[2, 2, [2.1333333333333333, 2.05]]\n",
      "[2, 2, [2.35, 2.066666666666667]]\n",
      "[2, 4, [2.8333333333333335, 2.566666666666667, 2.1333333333333333, 2.05]]\n",
      "[2, 2, [2.8833333333333333, 2.6]]\n",
      "[2, 2, [2.6666666666666665, 2.5]]\n",
      "[2, 2, [2.8333333333333335, 2.45]]\n",
      "[2, 2, [2.1166666666666667, 2.4833333333333334]]\n",
      "[2, 2, [2.433333333333333, 2.2]]\n",
      "[2, 2, [2.1666666666666665, 2.85]]\n",
      "[2, 2, [2.3833333333333333, 2.25]]\n",
      "[2, 2, [2.9, 2.783333333333333]]\n",
      "[2, 2, [2.8666666666666667, 2.85]]\n",
      "[2, 2, [2.316666666666667, 2.5166666666666666]]\n",
      "[2, 2, [2.2666666666666666, 2.716666666666667]]\n",
      "[2, 2, [2.783333333333333, 2.6]]\n",
      "[2, 2, [2.316666666666667, 2.816666666666667]]\n",
      "[2, 2, [2.6333333333333333, 2.5]]\n",
      "[2, 3, [2.8666666666666667, 2.9833333333333334, 2.466666666666667]]\n",
      "[2, 2, [2.9166666666666665, 2.816666666666667]]\n",
      "[2, 3, [2.9, 2.6666666666666665, 2.816666666666667]]\n",
      "[2, 2, [2.3333333333333335, 2.3833333333333333]]\n",
      "[2, 2, [2.5, 2.55]]\n",
      "[2, 2, [2.45, 2.85]]\n",
      "[2, 2, [2.9, 2.3333333333333335]]\n",
      "[2, 2, [2.1333333333333333, 2.4]]\n",
      "[2, 2, [2.35, 2.4833333333333334]]\n",
      "[2, 2, [2.8, 2.466666666666667]]\n",
      "[2, 2, [2.816666666666667, 2.183333333333333]]\n",
      "[2, 2, [2.0, 2.15]]\n",
      "[2, 2, [2.933333333333333, 2.25]]\n",
      "[2, 2, [2.283333333333333, 2.1166666666666667]]\n",
      "[2, 2, [2.6166666666666667, 2.216666666666667]]\n",
      "[2, 2, [2.5166666666666666, 2.783333333333333]]\n",
      "[2, 2, [2.2, 2.2]]\n",
      "[2, 2, [2.1166666666666667, 2.0166666666666666]]\n",
      "[2, 2, [2.066666666666667, 2.1166666666666667]]\n",
      "[2, 2, [2.8333333333333335, 2.0]]\n",
      "[2, 2, [2.35, 2.1333333333333333]]\n",
      "[2, 2, [2.3666666666666667, 2.1333333333333333]]\n",
      "[2, 2, [2.5, 2.8]]\n",
      "[2, 2, [2.6166666666666667, 2.6166666666666667]]\n",
      "[2, 2, [2.45, 2.6]]\n",
      "[2, 2, [2.2666666666666666, 2.4833333333333334]]\n",
      "[2, 2, [2.4, 2.3333333333333335]]\n",
      "[2, 2, [2.283333333333333, 2.15]]\n",
      "[2, 2, [2.6666666666666665, 2.7]]\n",
      "[2, 2, [2.3833333333333333, 2.1333333333333333]]\n",
      "[2, 2, [2.033333333333333, 2.283333333333333]]\n",
      "[2, 4, [2.8333333333333335, 2.6, 2.433333333333333, 2.65]]\n",
      "[2, 2, [2.8, 2.2]]\n",
      "[2, 2, [2.4833333333333334, 2.15]]\n",
      "[2, 2, [2.566666666666667, 2.0833333333333335]]\n",
      "[2, 2, [2.216666666666667, 2.5]]\n",
      "[2, 2, [2.1666666666666665, 2.1333333333333333]]\n",
      "[2, 2, [2.7666666666666666, 2.533333333333333]]\n",
      "[2, 2, [2.216666666666667, 2.283333333333333]]\n",
      "[2, 2, [2.716666666666667, 2.4]]\n",
      "[2, 2, [2.3833333333333333, 2.466666666666667]]\n",
      "[2, 2, [2.5, 2.966666666666667]]\n",
      "[2, 2, [2.3833333333333333, 2.65]]\n",
      "[2, 2, [2.55, 2.033333333333333]]\n",
      "[2, 2, [2.433333333333333, 2.65]]\n",
      "[2, 3, [2.966666666666667, 2.566666666666667, 2.6666666666666665]]\n",
      "[2, 2, [2.3833333333333333, 2.85]]\n",
      "[2, 2, [2.8, 2.0]]\n",
      "[2, 2, [2.3333333333333335, 2.75]]\n",
      "[2, 2, [2.4833333333333334, 2.3333333333333335]]\n",
      "[2, 2, [2.6166666666666667, 2.7]]\n",
      "[2, 2, [2.933333333333333, 2.0833333333333335]]\n",
      "[2, 2, [2.966666666666667, 2.433333333333333]]\n",
      "[2, 2, [2.5166666666666666, 2.65]]\n",
      "[2, 2, [2.2333333333333334, 2.4]]\n",
      "[2, 2, [2.9833333333333334, 2.8]]\n",
      "[2, 2, [2.1, 2.1666666666666665]]\n",
      "[2, 2, [2.316666666666667, 2.6333333333333333]]\n",
      "[2, 2, [2.1333333333333333, 2.1666666666666665]]\n",
      "[2, 2, [2.533333333333333, 2.3833333333333333]]\n",
      "[2, 2, [2.0, 2.8]]\n",
      "[2, 2, [2.3, 2.783333333333333]]\n",
      "[2, 2, [2.783333333333333, 2.6666666666666665]]\n",
      "[2, 2, [2.433333333333333, 2.566666666666667]]\n",
      "[2, 2, [2.4833333333333334, 2.283333333333333]]\n",
      "[2, 2, [2.05, 2.0166666666666666]]\n",
      "[2, 2, [2.95, 2.566666666666667]]\n",
      "[2, 2, [2.8333333333333335, 2.0833333333333335]]\n",
      "[2, 2, [2.2, 2.05]]\n",
      "[2, 2, [2.2666666666666666, 2.6333333333333333]]\n",
      "[2, 2, [2.216666666666667, 2.533333333333333]]\n",
      "[2, 2, [2.1166666666666667, 2.75]]\n",
      "[2, 2, [2.783333333333333, 2.4166666666666665]]\n",
      "[2, 2, [2.65, 2.0166666666666666]]\n",
      "[2, 2, [2.533333333333333, 2.316666666666667]]\n",
      "[2, 2, [2.75, 2.433333333333333]]\n",
      "[2, 2, [2.35, 2.0833333333333335]]\n",
      "[2, 2, [2.75, 2.7333333333333334]]\n",
      "[2, 2, [2.283333333333333, 2.066666666666667]]\n",
      "[2, 2, [2.466666666666667, 2.783333333333333]]\n",
      "[2, 2, [2.566666666666667, 2.95]]\n",
      "[2, 2, [2.4, 2.3333333333333335]]\n",
      "[2, 2, [2.5833333333333335, 2.1166666666666667]]\n",
      "[2, 2, [2.566666666666667, 2.25]]\n",
      "[2, 2, [2.85, 2.5166666666666666]]\n",
      "[2, 3, [2.1666666666666665, 2.1333333333333333, 2.6666666666666665]]\n",
      "[2, 2, [2.1, 2.716666666666667]]\n",
      "[2, 2, [2.6166666666666667, 2.6166666666666667]]\n",
      "[2, 2, [2.8333333333333335, 2.466666666666667]]\n",
      "[2, 3, [2.4833333333333334, 2.65, 2.9833333333333334]]\n",
      "[2, 2, [2.9, 2.4166666666666665]]\n",
      "[2, 2, [2.5, 2.6166666666666667]]\n",
      "[2, 2, [2.7666666666666666, 2.3833333333333333]]\n",
      "[2, 2, [2.1, 2.316666666666667]]\n",
      "[2, 3, [2.7333333333333334, 2.95, 2.3]]\n",
      "[2, 2, [2.783333333333333, 2.716666666666667]]\n",
      "[2, 2, [2.933333333333333, 2.85]]\n",
      "[2, 2, [2.3666666666666667, 2.9833333333333334]]\n",
      "[2, 2, [2.9166666666666665, 2.85]]\n",
      "[2, 2, [2.466666666666667, 2.95]]\n",
      "[2, 2, [2.3833333333333333, 2.6333333333333333]]\n",
      "[2, 2, [2.0, 2.2333333333333334]]\n",
      "[2, 2, [2.7, 2.283333333333333]]\n",
      "[2, 2, [2.95, 2.4833333333333334]]\n",
      "[2, 2, [2.4166666666666665, 2.0]]\n",
      "[2, 2, [2.1166666666666667, 2.1]]\n",
      "[2, 2, [2.183333333333333, 2.966666666666667]]\n",
      "[2, 2, [2.2, 2.95]]\n",
      "[2, 2, [2.283333333333333, 2.033333333333333]]\n",
      "[2, 2, [2.55, 2.533333333333333]]\n",
      "[2, 2, [2.9, 2.1166666666666667]]\n",
      "[2, 2, [2.066666666666667, 2.783333333333333]]\n",
      "[2, 2, [2.216666666666667, 2.35]]\n",
      "[2, 2, [2.05, 2.5]]\n",
      "[2, 3, [2.033333333333333, 2.1166666666666667, 2.1666666666666665]]\n",
      "[2, 3, [2.4833333333333334, 2.7, 2.4833333333333334]]\n",
      "[2, 2, [2.9166666666666665, 2.5]]\n",
      "[2, 2, [2.1333333333333333, 2.966666666666667]]\n",
      "[2, 2, [2.7666666666666666, 2.05]]\n",
      "[2, 2, [2.8333333333333335, 2.816666666666667]]\n",
      "[2, 2, [2.25, 2.1]]\n",
      "[2, 2, [2.316666666666667, 2.15]]\n",
      "[2, 2, [2.7333333333333334, 2.816666666666667]]\n",
      "[2, 2, [2.3, 2.5833333333333335]]\n",
      "[2, 2, [2.4833333333333334, 2.3833333333333333]]\n",
      "[2, 2, [2.6166666666666667, 2.8]]\n",
      "[2, 2, [2.9833333333333334, 2.5]]\n",
      "[2, 2, [2.216666666666667, 2.9833333333333334]]\n",
      "[2, 2, [2.05, 2.3]]\n",
      "[2, 2, [2.7666666666666666, 2.5166666666666666]]\n",
      "[2, 2, [2.4833333333333334, 2.033333333333333]]\n",
      "[2, 4, [2.2, 2.9166666666666665, 2.783333333333333, 2.8666666666666667]]\n",
      "[2, 2, [2.9166666666666665, 2.2]]\n",
      "[2, 2, [2.6, 2.05]]\n",
      "[2, 2, [2.7333333333333334, 2.5]]\n",
      "[2, 2, [2.7666666666666666, 2.35]]\n",
      "[2, 2, [2.716666666666667, 2.1]]\n",
      "[2, 2, [2.8, 2.5833333333333335]]\n",
      "[2, 2, [2.55, 2.1166666666666667]]\n",
      "[2, 2, [2.2333333333333334, 2.716666666666667]]\n",
      "[2, 2, [2.433333333333333, 2.066666666666667]]\n",
      "[2, 4, [2.4833333333333334, 2.8666666666666667, 2.05, 2.0833333333333335]]\n",
      "[2, 2, [2.05, 2.9833333333333334]]\n",
      "[2, 2, [2.5, 2.033333333333333]]\n",
      "[2, 2, [2.4166666666666665, 2.316666666666667]]\n",
      "[2, 2, [2.5166666666666666, 2.2666666666666666]]\n",
      "[2, 2, [2.7333333333333334, 2.816666666666667]]\n",
      "[2, 4, [2.466666666666667, 2.683333333333333, 2.6333333333333333, 2.1333333333333333]]\n",
      "[2, 2, [2.8833333333333333, 2.466666666666667]]\n",
      "[2, 2, [2.0166666666666666, 2.1333333333333333]]\n",
      "[2, 2, [2.783333333333333, 2.1666666666666665]]\n",
      "[2, 2, [2.8833333333333333, 2.9833333333333334]]\n",
      "[2, 2, [2.2333333333333334, 2.1333333333333333]]\n",
      "[2, 3, [2.5, 2.5833333333333335, 2.816666666666667]]\n",
      "[2, 2, [2.533333333333333, 2.0]]\n",
      "[2, 2, [2.0, 2.433333333333333]]\n",
      "[2, 2, [2.966666666666667, 2.45]]\n",
      "[2, 2, [2.433333333333333, 2.45]]\n",
      "[2, 2, [2.6166666666666667, 2.216666666666667]]\n",
      "[2, 2, [2.75, 2.15]]\n",
      "[2, 2, [2.216666666666667, 2.8]]\n",
      "[2, 2, [2.1166666666666667, 2.8666666666666667]]\n",
      "[2, 2, [2.1, 2.9166666666666665]]\n",
      "[2, 2, [2.3666666666666667, 2.466666666666667]]\n",
      "[2, 2, [2.35, 2.0166666666666666]]\n",
      "[2, 2, [2.85, 2.066666666666667]]\n",
      "[2, 2, [2.6, 2.0]]\n",
      "[2, 2, [2.85, 2.566666666666667]]\n",
      "[2, 2, [2.9166666666666665, 2.783333333333333]]\n",
      "[2, 2, [2.85, 2.3833333333333333]]\n",
      "[2, 2, [2.75, 2.0]]\n",
      "[2, 2, [2.75, 2.433333333333333]]\n",
      "[2, 2, [2.6333333333333333, 2.2333333333333334]]\n",
      "[2, 2, [2.2, 2.3333333333333335]]\n",
      "[2, 2, [2.95, 2.2666666666666666]]\n",
      "[2, 2, [2.0, 2.85]]\n",
      "[2, 2, [2.35, 2.9]]\n",
      "[2, 2, [2.8666666666666667, 2.1166666666666667]]\n",
      "[2, 2, [2.1166666666666667, 2.966666666666667]]\n",
      "[2, 2, [2.75, 2.25]]\n",
      "[2, 2, [2.8, 2.283333333333333]]\n",
      "[2, 3, [2.283333333333333, 2.3333333333333335, 2.2333333333333334]]\n",
      "[2, 2, [2.816666666666667, 2.4]]\n",
      "[2, 2, [2.45, 2.6]]\n",
      "[2, 2, [2.3666666666666667, 2.85]]\n",
      "[2, 2, [2.316666666666667, 2.15]]\n",
      "[2, 2, [2.9, 2.8333333333333335]]\n",
      "[2, 2, [2.4, 2.816666666666667]]\n",
      "[2, 2, [2.966666666666667, 2.566666666666667]]\n",
      "[2, 2, [2.1166666666666667, 2.35]]\n",
      "[2, 2, [2.4833333333333334, 2.2]]\n",
      "[2, 2, [2.433333333333333, 2.5833333333333335]]\n",
      "[2, 2, [2.816666666666667, 2.933333333333333]]\n",
      "[2, 2, [2.1333333333333333, 2.2]]\n",
      "[2, 2, [2.2333333333333334, 2.7333333333333334]]\n",
      "[2, 2, [2.8, 2.5]]\n",
      "[2, 2, [2.4833333333333334, 2.0]]\n",
      "[2, 2, [2.8, 2.1333333333333333]]\n",
      "[2, 2, [2.1, 2.216666666666667]]\n",
      "[2, 2, [2.3333333333333335, 2.6666666666666665]]\n",
      "[2, 2, [2.0166666666666666, 2.1333333333333333]]\n",
      "[2, 2, [2.5833333333333335, 2.8333333333333335]]\n",
      "[2, 2, [2.433333333333333, 2.7]]\n",
      "[2, 3, [2.716666666666667, 2.1166666666666667, 2.65]]\n",
      "[2, 2, [2.183333333333333, 2.1166666666666667]]\n",
      "[2, 2, [2.716666666666667, 2.1]]\n",
      "[2, 3, [2.5833333333333335, 2.0, 2.066666666666667]]\n",
      "[2, 2, [2.316666666666667, 2.9]]\n",
      "[2, 2, [2.6666666666666665, 2.7333333333333334]]\n",
      "[2, 2, [2.683333333333333, 2.4833333333333334]]\n",
      "[2, 2, [2.2666666666666666, 2.6333333333333333]]\n",
      "[2, 2, [2.183333333333333, 2.1166666666666667]]\n",
      "[2, 3, [2.8333333333333335, 2.05, 2.1333333333333333]]\n",
      "[2, 2, [2.533333333333333, 2.7666666666666666]]\n",
      "[2, 2, [2.4, 2.283333333333333]]\n",
      "[2, 2, [2.9833333333333334, 2.466666666666667]]\n",
      "[2, 3, [2.35, 2.783333333333333, 2.7666666666666666]]\n",
      "[2, 2, [2.5833333333333335, 2.466666666666667]]\n",
      "[2, 2, [2.2666666666666666, 2.1166666666666667]]\n",
      "[2, 2, [2.033333333333333, 2.8666666666666667]]\n",
      "[2, 2, [2.0, 2.1166666666666667]]\n",
      "[2, 2, [2.0, 2.0833333333333335]]\n",
      "[2, 3, [2.6666666666666665, 2.816666666666667, 2.6333333333333333]]\n",
      "[2, 2, [2.466666666666667, 2.2333333333333334]]\n",
      "[2, 2, [2.95, 2.15]]\n",
      "[2, 2, [2.783333333333333, 2.1666666666666665]]\n",
      "[2, 2, [2.816666666666667, 2.9166666666666665]]\n",
      "[2, 2, [2.95, 2.5166666666666666]]\n",
      "[2, 2, [2.1166666666666667, 2.183333333333333]]\n",
      "[2, 3, [2.716666666666667, 2.5166666666666666, 2.75]]\n",
      "[2, 2, [2.3666666666666667, 2.3666666666666667]]\n",
      "[2, 2, [2.0166666666666666, 2.7333333333333334]]\n",
      "[2, 2, [2.5166666666666666, 2.466666666666667]]\n",
      "[2, 2, [2.216666666666667, 2.0833333333333335]]\n",
      "[2, 2, [2.1, 2.85]]\n",
      "[2, 2, [2.35, 2.2]]\n",
      "[2, 2, [2.45, 2.6666666666666665]]\n",
      "[2, 2, [2.1333333333333333, 2.5]]\n",
      "[2, 2, [2.3666666666666667, 2.0]]\n",
      "[2, 2, [2.216666666666667, 2.15]]\n",
      "[2, 2, [2.066666666666667, 2.8666666666666667]]\n",
      "[2, 2, [2.5166666666666666, 2.6166666666666667]]\n",
      "[2, 2, [2.283333333333333, 2.3333333333333335]]\n",
      "[2, 2, [2.6333333333333333, 2.55]]\n",
      "[2, 2, [2.8, 2.2333333333333334]]\n",
      "[2, 2, [2.816666666666667, 2.2333333333333334]]\n",
      "[2, 2, [2.683333333333333, 2.183333333333333]]\n",
      "[2, 2, [2.466666666666667, 2.8666666666666667]]\n",
      "[2, 2, [2.033333333333333, 2.85]]\n",
      "[2, 2, [2.5166666666666666, 2.75]]\n",
      "[2, 2, [2.933333333333333, 2.283333333333333]]\n",
      "[2, 2, [2.2, 2.9166666666666665]]\n",
      "[2, 2, [2.5, 2.033333333333333]]\n",
      "[2, 2, [2.066666666666667, 2.9]]\n",
      "[2, 2, [2.3666666666666667, 2.816666666666667]]\n",
      "[2, 2, [2.3833333333333333, 2.1166666666666667]]\n",
      "[2, 2, [2.7, 2.6666666666666665]]\n",
      "[2, 2, [2.4166666666666665, 2.3333333333333335]]\n",
      "[2, 2, [2.15, 2.6]]\n",
      "[2, 2, [2.716666666666667, 2.3333333333333335]]\n",
      "[2, 2, [2.3666666666666667, 2.05]]\n",
      "[2, 2, [2.5833333333333335, 2.533333333333333]]\n",
      "[2, 2, [2.2, 2.716666666666667]]\n",
      "[2, 2, [2.933333333333333, 2.4]]\n",
      "[2, 2, [2.216666666666667, 2.683333333333333]]\n",
      "[2, 2, [2.3, 2.15]]\n",
      "[2, 2, [2.3333333333333335, 2.033333333333333]]\n",
      "[2, 2, [2.55, 2.4]]\n",
      "[2, 2, [2.6166666666666667, 2.2]]\n",
      "[2, 2, [2.716666666666667, 2.566666666666667]]\n",
      "[2, 2, [2.9833333333333334, 2.9]]\n",
      "[2, 3, [2.1666666666666665, 2.05, 2.7666666666666666]]\n",
      "[2, 2, [2.6666666666666665, 2.5166666666666666]]\n",
      "[2, 2, [2.7333333333333334, 2.6333333333333333]]\n",
      "[2, 4, [2.6666666666666665, 2.0166666666666666, 2.1333333333333333, 2.55]]\n",
      "[2, 2, [2.7333333333333334, 2.75]]\n",
      "[2, 2, [2.2, 2.033333333333333]]\n",
      "[2, 2, [2.0833333333333335, 2.3833333333333333]]\n",
      "[2, 2, [2.033333333333333, 2.966666666666667]]\n",
      "[2, 2, [2.5, 2.6]]\n",
      "[2, 2, [2.55, 2.783333333333333]]\n",
      "[2, 3, [2.433333333333333, 2.7333333333333334, 2.933333333333333]]\n",
      "[2, 2, [2.183333333333333, 2.95]]\n",
      "[2, 2, [2.8333333333333335, 2.6333333333333333]]\n",
      "[2, 2, [2.7666666666666666, 2.216666666666667]]\n",
      "[2, 2, [2.3, 2.0166666666666666]]\n",
      "[2, 2, [2.7666666666666666, 2.1333333333333333]]\n",
      "[2, 2, [2.95, 2.2]]\n",
      "[2, 2, [2.5166666666666666, 2.3666666666666667]]\n",
      "[2, 2, [2.85, 2.6666666666666665]]\n",
      "[2, 2, [2.066666666666667, 2.1]]\n",
      "[2, 2, [2.2333333333333334, 2.7333333333333334]]\n",
      "[2, 2, [2.066666666666667, 2.3833333333333333]]\n",
      "[2, 2, [2.4, 2.8833333333333333]]\n",
      "[2, 2, [2.5, 2.2666666666666666]]\n",
      "[2, 2, [2.533333333333333, 2.4833333333333334]]\n",
      "[2, 2, [2.316666666666667, 2.8]]\n",
      "[2, 2, [2.7, 2.8333333333333335]]\n",
      "[2, 2, [2.6, 2.35]]\n",
      "[2, 2, [2.283333333333333, 2.5166666666666666]]\n",
      "[2, 3, [2.2, 2.6166666666666667, 2.9166666666666665]]\n",
      "[2, 2, [2.3666666666666667, 2.8333333333333335]]\n",
      "[2, 2, [2.033333333333333, 2.4833333333333334]]\n",
      "[2, 2, [2.85, 2.05]]\n",
      "[2, 3, [2.0833333333333335, 2.8833333333333333, 2.683333333333333]]\n",
      "[2, 2, [2.183333333333333, 2.7666666666666666]]\n",
      "[2, 2, [2.7, 2.3333333333333335]]\n",
      "[2, 2, [2.5833333333333335, 2.3333333333333335]]\n",
      "[2, 2, [2.3333333333333335, 2.25]]\n",
      "[2, 2, [2.35, 2.9166666666666665]]\n",
      "[2, 2, [2.066666666666667, 2.3333333333333335]]\n",
      "[2, 2, [2.8333333333333335, 2.4166666666666665]]\n",
      "[2, 2, [2.933333333333333, 2.4166666666666665]]\n",
      "[2, 2, [2.783333333333333, 2.2666666666666666]]\n",
      "[2, 2, [2.05, 2.8333333333333335]]\n",
      "[2, 2, [2.4166666666666665, 2.1]]\n",
      "[2, 4, [2.3333333333333335, 2.95, 2.216666666666667, 2.1333333333333333]]\n",
      "[2, 2, [2.9166666666666665, 2.533333333333333]]\n",
      "[2, 2, [2.683333333333333, 2.25]]\n",
      "[2, 2, [2.433333333333333, 2.316666666666667]]\n",
      "[2, 2, [2.95, 2.5]]\n",
      "[2, 2, [2.816666666666667, 2.8833333333333333]]\n",
      "[2, 3, [2.7333333333333334, 2.9833333333333334, 2.0]]\n",
      "[2, 2, [2.2666666666666666, 2.5]]\n",
      "[2, 2, [2.433333333333333, 2.9833333333333334]]\n",
      "[2, 2, [2.95, 2.3333333333333335]]\n",
      "[2, 2, [2.8333333333333335, 2.316666666666667]]\n",
      "[2, 2, [2.5833333333333335, 2.9833333333333334]]\n",
      "[2, 2, [2.25, 2.5833333333333335]]\n",
      "[2, 2, [2.25, 2.5]]\n",
      "[2, 2, [2.533333333333333, 2.183333333333333]]\n",
      "[2, 2, [2.066666666666667, 2.533333333333333]]\n",
      "[2, 3, [2.8833333333333333, 2.816666666666667, 2.783333333333333]]\n",
      "[2, 2, [2.05, 2.6333333333333333]]\n",
      "[2, 2, [2.3, 2.45]]\n",
      "[2, 2, [2.9, 2.283333333333333]]\n",
      "[2, 2, [2.2666666666666666, 2.0]]\n",
      "[2, 2, [2.35, 2.5166666666666666]]\n",
      "[2, 3, [2.2333333333333334, 2.033333333333333, 2.95]]\n",
      "[2, 2, [2.316666666666667, 2.8333333333333335]]\n",
      "[2, 2, [2.0, 2.5166666666666666]]\n",
      "[2, 2, [2.6, 2.9166666666666665]]\n",
      "[2, 2, [2.3, 2.2666666666666666]]\n",
      "[2, 2, [2.45, 2.466666666666667]]\n",
      "[2, 3, [2.2, 2.533333333333333, 2.65]]\n",
      "[2, 2, [2.5166666666666666, 2.0]]\n",
      "[2, 2, [2.2666666666666666, 2.0]]\n",
      "[2, 2, [2.466666666666667, 2.316666666666667]]\n",
      "[2, 2, [2.7, 2.216666666666667]]\n",
      "[2, 2, [2.316666666666667, 2.9]]\n",
      "[2, 2, [2.683333333333333, 2.85]]\n",
      "[2, 2, [2.966666666666667, 2.7]]\n",
      "[2, 2, [2.183333333333333, 2.3666666666666667]]\n",
      "[2, 2, [2.15, 2.4166666666666665]]\n",
      "[2, 2, [2.966666666666667, 2.65]]\n",
      "[2, 2, [2.85, 2.1333333333333333]]\n",
      "[2, 2, [2.8, 2.283333333333333]]\n",
      "[2, 2, [2.1, 2.8666666666666667]]\n",
      "[2, 2, [2.8333333333333335, 2.316666666666667]]\n",
      "[2, 2, [2.066666666666667, 2.85]]\n",
      "[2, 2, [2.8666666666666667, 2.1]]\n",
      "[2, 2, [2.683333333333333, 2.2666666666666666]]\n",
      "[2, 2, [2.033333333333333, 2.85]]\n",
      "[2, 2, [2.683333333333333, 2.8666666666666667]]\n",
      "[2, 2, [2.4, 2.85]]\n",
      "[2, 2, [2.1333333333333333, 2.6333333333333333]]\n",
      "[2, 2, [2.316666666666667, 2.8333333333333335]]\n",
      "[2, 3, [2.1, 2.7, 2.35]]\n",
      "[2, 2, [2.2, 2.2]]\n",
      "[2, 2, [2.4833333333333334, 2.65]]\n",
      "[2, 2, [2.2, 2.6666666666666665]]\n",
      "[2, 2, [2.6666666666666665, 2.033333333333333]]\n",
      "[2, 2, [2.1666666666666665, 2.3666666666666667]]\n",
      "[2, 2, [2.9166666666666665, 2.4]]\n",
      "[2, 2, [2.816666666666667, 2.3666666666666667]]\n",
      "[2, 3, [2.45, 2.0, 2.85]]\n",
      "[2, 2, [2.1, 2.0]]\n",
      "[2, 2, [2.533333333333333, 2.566666666666667]]\n",
      "[2, 2, [2.433333333333333, 2.7]]\n",
      "[2, 2, [2.066666666666667, 2.05]]\n",
      "[2, 2, [2.4, 2.25]]\n",
      "[2, 2, [2.683333333333333, 2.8666666666666667]]\n",
      "[2, 2, [2.183333333333333, 2.2]]\n",
      "[2, 3, [2.3833333333333333, 2.1166666666666667, 2.033333333333333]]\n",
      "[2, 2, [2.2, 2.033333333333333]]\n",
      "[2, 2, [2.0166666666666666, 2.3833333333333333]]\n",
      "[2, 2, [2.6, 2.316666666666667]]\n",
      "[2, 3, [2.0833333333333335, 2.3666666666666667, 2.4]]\n",
      "[2, 2, [2.3833333333333333, 2.8666666666666667]]\n",
      "[2, 2, [2.2, 2.6333333333333333]]\n",
      "[2, 2, [2.5, 2.2666666666666666]]\n",
      "[2, 2, [2.033333333333333, 2.3666666666666667]]\n",
      "[2, 2, [2.8, 2.066666666666667]]\n",
      "[2, 2, [2.716666666666667, 2.966666666666667]]\n",
      "[2, 2, [2.966666666666667, 2.15]]\n",
      "[2, 2, [2.683333333333333, 2.4]]\n",
      "[2, 2, [2.3333333333333335, 2.9]]\n",
      "[2, 2, [2.566666666666667, 2.8]]\n",
      "[2, 2, [2.3, 2.1666666666666665]]\n",
      "[2, 2, [2.2666666666666666, 2.85]]\n",
      "[2, 2, [2.0166666666666666, 2.3666666666666667]]\n",
      "[2, 2, [2.3833333333333333, 2.066666666666667]]\n",
      "[2, 3, [2.2, 2.066666666666667, 2.25]]\n",
      "[2, 2, [2.716666666666667, 2.3]]\n",
      "[2, 2, [2.1666666666666665, 2.183333333333333]]\n",
      "[2, 2, [2.2333333333333334, 2.283333333333333]]\n",
      "[2, 2, [2.066666666666667, 2.5166666666666666]]\n",
      "[2, 2, [2.033333333333333, 2.7333333333333334]]\n",
      "[2, 2, [2.1166666666666667, 2.15]]\n",
      "[2, 2, [2.15, 2.5]]\n",
      "[2, 3, [2.566666666666667, 2.35, 2.1166666666666667]]\n",
      "[2, 3, [2.2666666666666666, 2.8333333333333335, 2.7]]\n",
      "[2, 2, [2.8333333333333335, 2.7333333333333334]]\n",
      "[2, 2, [2.283333333333333, 2.4833333333333334]]\n",
      "[2, 2, [2.5, 2.05]]\n",
      "[2, 3, [2.1666666666666665, 2.4, 2.0833333333333335]]\n",
      "[2, 2, [2.9166666666666665, 2.65]]\n",
      "[2, 2, [2.7333333333333334, 2.533333333333333]]\n",
      "[2, 4, [2.6, 2.466666666666667, 2.6333333333333333, 2.55]]\n",
      "[2, 2, [2.7, 2.9833333333333334]]\n",
      "[2, 2, [2.8833333333333333, 2.283333333333333]]\n",
      "[2, 2, [2.9166666666666665, 2.933333333333333]]\n",
      "[2, 2, [2.066666666666667, 2.283333333333333]]\n",
      "[2, 2, [2.35, 2.933333333333333]]\n",
      "[2, 3, [2.2666666666666666, 2.8, 2.216666666666667]]\n",
      "[2, 2, [2.4833333333333334, 2.533333333333333]]\n",
      "[2, 2, [2.2333333333333334, 2.533333333333333]]\n",
      "[2, 2, [2.7666666666666666, 2.2666666666666666]]\n",
      "[2, 2, [2.0166666666666666, 2.8]]\n",
      "[2, 2, [2.8666666666666667, 2.2666666666666666]]\n",
      "[2, 3, [2.5166666666666666, 2.533333333333333, 2.0833333333333335]]\n",
      "[2, 2, [2.45, 2.45]]\n",
      "[2, 2, [2.816666666666667, 2.8833333333333333]]\n",
      "[2, 2, [2.216666666666667, 2.283333333333333]]\n",
      "[2, 2, [2.0, 2.0166666666666666]]\n",
      "[2, 2, [2.8833333333333333, 2.2]]\n",
      "[2, 3, [2.2666666666666666, 2.8666666666666667, 2.283333333333333]]\n",
      "[2, 2, [2.2333333333333334, 2.4]]\n",
      "[2, 2, [2.8333333333333335, 2.35]]\n",
      "[2, 2, [2.7333333333333334, 2.0]]\n",
      "[2, 2, [2.216666666666667, 2.6166666666666667]]\n",
      "[2, 2, [2.1166666666666667, 2.25]]\n",
      "[2, 2, [2.933333333333333, 2.8333333333333335]]\n",
      "[2, 2, [2.5, 2.35]]\n",
      "[2, 2, [2.6, 2.4166666666666665]]\n",
      "[2, 2, [2.466666666666667, 2.3333333333333335]]\n",
      "[2, 2, [2.0166666666666666, 2.4]]\n",
      "[2, 2, [2.216666666666667, 2.933333333333333]]\n",
      "[2, 2, [2.033333333333333, 2.5]]\n",
      "[2, 3, [2.716666666666667, 2.4166666666666665, 2.8666666666666667]]\n",
      "[2, 2, [2.9833333333333334, 2.283333333333333]]\n",
      "[2, 2, [2.066666666666667, 2.65]]\n",
      "[2, 3, [2.1666666666666665, 2.25, 2.8833333333333333]]\n",
      "[2, 2, [2.3833333333333333, 2.6]]\n",
      "[2, 2, [2.8666666666666667, 2.1666666666666665]]\n",
      "[2, 3, [2.95, 2.6333333333333333, 2.85]]\n",
      "[2, 3, [2.316666666666667, 2.716666666666667, 2.2]]\n",
      "[2, 2, [2.0833333333333335, 2.8833333333333333]]\n",
      "[2, 2, [2.35, 2.216666666666667]]\n",
      "[2, 2, [2.066666666666667, 2.2666666666666666]]\n",
      "[2, 2, [2.533333333333333, 2.7666666666666666]]\n",
      "[2, 2, [2.466666666666667, 2.9]]\n",
      "[2, 2, [2.183333333333333, 2.433333333333333]]\n",
      "[2, 2, [2.216666666666667, 2.216666666666667]]\n",
      "[2, 2, [2.066666666666667, 2.1166666666666667]]\n",
      "[2, 2, [2.75, 2.0]]\n",
      "[2, 2, [2.7666666666666666, 2.7]]\n",
      "[2, 2, [2.6333333333333333, 2.15]]\n",
      "[2, 2, [2.816666666666667, 2.6]]\n",
      "[2, 2, [2.3, 2.05]]\n",
      "[2, 2, [2.6666666666666665, 2.3]]\n",
      "[2, 3, [2.65, 2.8666666666666667, 2.1333333333333333]]\n",
      "[2, 3, [2.8333333333333335, 2.6666666666666665, 2.3]]\n",
      "[2, 2, [2.5166666666666666, 2.533333333333333]]\n",
      "[2, 2, [2.3333333333333335, 2.1166666666666667]]\n",
      "[2, 3, [2.683333333333333, 2.85, 2.066666666666667]]\n",
      "[2, 2, [2.7333333333333334, 2.8666666666666667]]\n",
      "[2, 2, [2.183333333333333, 2.75]]\n",
      "[2, 2, [2.2333333333333334, 2.8666666666666667]]\n",
      "[2, 2, [2.533333333333333, 2.716666666666667]]\n",
      "[2, 2, [2.433333333333333, 2.65]]\n",
      "[2, 2, [2.9166666666666665, 2.8333333333333335]]\n",
      "[2, 2, [2.8, 2.7333333333333334]]\n",
      "[2, 2, [2.85, 2.4]]\n",
      "[2, 2, [2.0, 2.4166666666666665]]\n",
      "[2, 2, [2.1666666666666665, 2.1333333333333333]]\n",
      "[2, 2, [2.7, 2.816666666666667]]\n",
      "[2, 2, [2.283333333333333, 2.033333333333333]]\n",
      "[2, 2, [2.4, 2.5833333333333335]]\n",
      "[2, 2, [2.1666666666666665, 2.5166666666666666]]\n",
      "[2, 2, [2.566666666666667, 2.5166666666666666]]\n",
      "[2, 2, [2.566666666666667, 2.816666666666667]]\n",
      "[2, 2, [2.8833333333333333, 2.3333333333333335]]\n",
      "[2, 2, [2.7333333333333334, 2.533333333333333]]\n",
      "[2, 2, [2.966666666666667, 2.3833333333333333]]\n",
      "[2, 2, [2.6166666666666667, 2.6166666666666667]]\n",
      "[2, 2, [2.566666666666667, 2.2]]\n",
      "[2, 2, [2.0166666666666666, 2.55]]\n",
      "[2, 2, [2.8, 2.7666666666666666]]\n",
      "[2, 3, [2.3, 2.55, 2.033333333333333]]\n",
      "[2, 4, [2.05, 2.216666666666667, 2.1333333333333333, 2.2666666666666666]]\n",
      "[2, 2, [2.533333333333333, 2.1333333333333333]]\n",
      "[2, 2, [2.0833333333333335, 2.4166666666666665]]\n",
      "[2, 2, [2.4166666666666665, 2.966666666666667]]\n",
      "[2, 2, [2.5166666666666666, 2.683333333333333]]\n",
      "[2, 2, [2.783333333333333, 2.45]]\n",
      "[2, 2, [2.25, 2.85]]\n",
      "[2, 2, [2.75, 2.2333333333333334]]\n",
      "[2, 2, [2.0, 2.8666666666666667]]\n",
      "[2, 2, [2.683333333333333, 2.066666666666667]]\n",
      "[2, 2, [2.966666666666667, 2.533333333333333]]\n",
      "[2, 2, [2.0833333333333335, 2.466666666666667]]\n",
      "[2, 2, [2.0833333333333335, 2.1666666666666665]]\n",
      "[2, 2, [2.7, 2.55]]\n",
      "[2, 2, [2.85, 2.216666666666667]]\n",
      "[2, 2, [2.9, 2.683333333333333]]\n",
      "[2, 2, [2.933333333333333, 2.3]]\n",
      "[2, 2, [2.8, 2.9]]\n",
      "[2, 2, [2.1333333333333333, 2.2333333333333334]]\n",
      "[2, 2, [2.45, 2.6333333333333333]]\n",
      "[2, 3, [2.95, 2.033333333333333, 2.7]]\n",
      "[2, 2, [2.316666666666667, 2.033333333333333]]\n",
      "[2, 2, [2.3666666666666667, 2.216666666666667]]\n",
      "[2, 2, [2.2666666666666666, 2.7]]\n",
      "[2, 2, [2.816666666666667, 2.783333333333333]]\n",
      "[2, 2, [2.316666666666667, 2.1333333333333333]]\n",
      "[2, 2, [2.85, 2.6]]\n",
      "[2, 3, [2.783333333333333, 2.066666666666667, 2.466666666666667]]\n",
      "[2, 2, [2.9, 2.4166666666666665]]\n",
      "[2, 2, [2.3333333333333335, 2.5833333333333335]]\n",
      "[2, 2, [2.0166666666666666, 2.55]]\n",
      "[2, 2, [2.65, 2.566666666666667]]\n",
      "[2, 2, [2.6, 2.816666666666667]]\n",
      "[2, 2, [2.5833333333333335, 2.25]]\n",
      "[2, 2, [2.3, 2.5]]\n",
      "[2, 2, [2.966666666666667, 2.066666666666667]]\n",
      "[2, 2, [2.0, 2.8333333333333335]]\n",
      "[2, 2, [2.783333333333333, 2.1666666666666665]]\n",
      "[2, 2, [2.716666666666667, 2.6666666666666665]]\n",
      "[2, 2, [2.716666666666667, 2.3666666666666667]]\n",
      "[2, 2, [2.9, 2.933333333333333]]\n",
      "[2, 2, [2.566666666666667, 2.5]]\n",
      "[2, 3, [2.1333333333333333, 2.2, 2.6333333333333333]]\n",
      "[2, 2, [2.8, 2.433333333333333]]\n",
      "[2, 2, [2.7666666666666666, 2.4]]\n",
      "[2, 2, [2.3666666666666667, 2.466666666666667]]\n",
      "[2, 3, [2.0833333333333335, 2.3833333333333333, 2.783333333333333]]\n",
      "[2, 2, [2.433333333333333, 2.5833333333333335]]\n",
      "[2, 2, [2.066666666666667, 2.25]]\n",
      "[2, 2, [2.0166666666666666, 2.6333333333333333]]\n",
      "[2, 2, [2.316666666666667, 2.8833333333333333]]\n",
      "[2, 2, [2.3333333333333335, 2.25]]\n",
      "[2, 2, [2.15, 2.066666666666667]]\n",
      "[2, 2, [2.8333333333333335, 2.183333333333333]]\n",
      "[2, 2, [2.9833333333333334, 2.0166666666666666]]\n",
      "[2, 2, [2.5833333333333335, 2.433333333333333]]\n",
      "[2, 2, [2.8333333333333335, 2.1166666666666667]]\n",
      "[2, 2, [2.9166666666666665, 2.566666666666667]]\n",
      "[2, 2, [2.3333333333333335, 2.716666666666667]]\n",
      "[2, 2, [2.4, 2.55]]\n",
      "[2, 2, [2.8833333333333333, 2.683333333333333]]\n",
      "[2, 2, [2.683333333333333, 2.7666666666666666]]\n",
      "[2, 2, [2.683333333333333, 2.5833333333333335]]\n",
      "[2, 2, [2.6166666666666667, 2.6]]\n",
      "[2, 2, [2.6666666666666665, 2.4]]\n",
      "[2, 2, [2.4166666666666665, 2.7333333333333334]]\n",
      "[2, 2, [2.433333333333333, 2.15]]\n",
      "[2, 2, [2.1666666666666665, 2.95]]\n",
      "[2, 2, [2.3666666666666667, 2.2333333333333334]]\n",
      "[2, 2, [2.183333333333333, 2.283333333333333]]\n",
      "[2, 2, [2.4, 2.4]]\n",
      "[2, 2, [2.316666666666667, 2.9166666666666665]]\n",
      "[2, 2, [2.4, 2.3833333333333333]]\n",
      "[2, 2, [2.5833333333333335, 2.05]]\n",
      "[2, 2, [2.6666666666666665, 2.7333333333333334]]\n",
      "[2, 2, [2.433333333333333, 2.4]]\n",
      "[2, 2, [2.15, 2.0166666666666666]]\n",
      "[2, 2, [2.816666666666667, 2.7666666666666666]]\n",
      "[2, 2, [2.3, 2.8833333333333333]]\n",
      "[2, 2, [2.95, 2.65]]\n",
      "[2, 2, [2.066666666666667, 2.1166666666666667]]\n",
      "[2, 2, [2.75, 2.7333333333333334]]\n",
      "[2, 2, [2.8833333333333333, 2.2666666666666666]]\n",
      "[2, 2, [2.533333333333333, 2.3666666666666667]]\n",
      "[2, 2, [2.15, 2.5]]\n",
      "[2, 2, [2.75, 2.2]]\n",
      "[2, 2, [2.533333333333333, 2.7]]\n",
      "[2, 2, [2.683333333333333, 2.2333333333333334]]\n",
      "[2, 2, [2.683333333333333, 2.7]]\n",
      "[2, 2, [2.3833333333333333, 2.3333333333333335]]\n",
      "[2, 2, [2.316666666666667, 2.7666666666666666]]\n",
      "[2, 2, [2.066666666666667, 2.2333333333333334]]\n",
      "[2, 2, [2.683333333333333, 2.75]]\n",
      "[2, 2, [2.35, 2.4166666666666665]]\n",
      "[2, 2, [2.033333333333333, 2.6333333333333333]]\n",
      "[2, 2, [2.933333333333333, 2.45]]\n",
      "[2, 3, [2.066666666666667, 2.4833333333333334, 2.7333333333333334]]\n",
      "[2, 2, [2.5, 2.7333333333333334]]\n",
      "[2, 2, [2.033333333333333, 2.05]]\n",
      "[2, 2, [2.5833333333333335, 2.15]]\n",
      "[2, 2, [2.3, 2.2]]\n",
      "[2, 2, [2.75, 2.466666666666667]]\n",
      "[2, 2, [2.066666666666667, 2.55]]\n",
      "[2, 2, [2.6333333333333333, 2.316666666666667]]\n",
      "[2, 2, [2.066666666666667, 2.9]]\n",
      "[2, 2, [2.5166666666666666, 2.6]]\n",
      "[2, 2, [2.933333333333333, 2.7666666666666666]]\n",
      "[2, 2, [2.716666666666667, 2.8333333333333335]]\n",
      "[2, 2, [2.1666666666666665, 2.2]]\n",
      "[2, 2, [2.716666666666667, 2.3]]\n",
      "[2, 2, [2.433333333333333, 2.066666666666667]]\n",
      "[2, 2, [2.816666666666667, 2.7333333333333334]]\n",
      "[2, 2, [2.2666666666666666, 2.9833333333333334]]\n",
      "[2, 2, [2.3666666666666667, 2.4]]\n",
      "[2, 2, [2.933333333333333, 2.6166666666666667]]\n",
      "[2, 2, [2.45, 2.55]]\n",
      "[2, 2, [2.1, 2.966666666666667]]\n",
      "[2, 2, [2.1666666666666665, 2.0166666666666666]]\n",
      "[2, 2, [2.1333333333333333, 2.5833333333333335]]\n",
      "[2, 2, [2.6666666666666665, 2.3333333333333335]]\n",
      "[2, 2, [2.2333333333333334, 2.533333333333333]]\n",
      "[2, 2, [2.8, 2.183333333333333]]\n",
      "[2, 2, [2.6166666666666667, 2.1166666666666667]]\n",
      "[2, 2, [2.283333333333333, 2.85]]\n",
      "[2, 3, [2.033333333333333, 2.8333333333333335, 2.466666666666667]]\n",
      "[2, 2, [2.6166666666666667, 2.15]]\n",
      "[2, 2, [2.3, 2.783333333333333]]\n",
      "[2, 2, [2.566666666666667, 2.55]]\n",
      "[2, 2, [2.316666666666667, 2.566666666666667]]\n",
      "[2, 2, [2.216666666666667, 2.9833333333333334]]\n",
      "[2, 3, [2.466666666666667, 2.8833333333333333, 2.5833333333333335]]\n",
      "[2, 3, [2.4833333333333334, 2.8, 2.966666666666667]]\n",
      "[2, 2, [2.0166666666666666, 2.15]]\n",
      "[2, 2, [2.183333333333333, 2.7333333333333334]]\n",
      "[2, 2, [2.3333333333333335, 2.7666666666666666]]\n",
      "[2, 2, [2.0, 2.25]]\n",
      "[2, 2, [2.783333333333333, 2.3666666666666667]]\n",
      "[2, 2, [2.3833333333333333, 2.3833333333333333]]\n",
      "[2, 2, [2.5, 2.1666666666666665]]\n",
      "[2, 2, [2.1333333333333333, 2.9]]\n",
      "[2, 2, [2.2333333333333334, 2.466666666666667]]\n",
      "[2, 2, [2.4, 2.466666666666667]]\n",
      "[2, 2, [2.65, 2.25]]\n",
      "[2, 2, [2.8333333333333335, 2.95]]\n",
      "[2, 2, [2.066666666666667, 2.216666666666667]]\n",
      "[2, 3, [2.85, 2.716666666666667, 2.2666666666666666]]\n",
      "[2, 2, [2.933333333333333, 2.0]]\n",
      "[2, 2, [2.5, 2.7666666666666666]]\n",
      "[2, 2, [2.45, 2.183333333333333]]\n",
      "[2, 2, [2.183333333333333, 2.85]]\n",
      "[2, 2, [2.2333333333333334, 2.6666666666666665]]\n",
      "[2, 2, [2.35, 2.3833333333333333]]\n",
      "[2, 2, [2.283333333333333, 2.433333333333333]]\n",
      "[2, 2, [2.433333333333333, 2.716666666666667]]\n",
      "[2, 2, [2.6, 2.6333333333333333]]\n",
      "[2, 3, [2.816666666666667, 2.15, 2.5166666666666666]]\n",
      "[2, 2, [2.033333333333333, 2.4]]\n",
      "[2, 3, [2.2666666666666666, 2.683333333333333, 2.95]]\n",
      "[2, 2, [2.8666666666666667, 2.3333333333333335]]\n",
      "[2, 2, [2.6333333333333333, 2.7333333333333334]]\n",
      "[2, 2, [2.433333333333333, 2.2]]\n",
      "[2, 2, [2.9833333333333334, 2.7333333333333334]]\n",
      "[2, 2, [2.85, 2.683333333333333]]\n",
      "[2, 2, [2.716666666666667, 2.7]]\n",
      "[2, 2, [2.566666666666667, 2.2]]\n",
      "[2, 2, [2.5833333333333335, 2.1666666666666665]]\n",
      "[2, 2, [2.3, 2.716666666666667]]\n",
      "[2, 2, [2.2, 2.816666666666667]]\n",
      "[2, 2, [2.6333333333333333, 2.4]]\n",
      "[2, 2, [2.283333333333333, 2.066666666666667]]\n",
      "[2, 2, [2.8666666666666667, 2.8]]\n",
      "[2, 3, [2.466666666666667, 2.65, 2.4833333333333334]]\n",
      "[2, 2, [2.966666666666667, 2.1333333333333333]]\n",
      "[2, 2, [2.3833333333333333, 2.316666666666667]]\n",
      "[2, 2, [2.2333333333333334, 2.1333333333333333]]\n",
      "[2, 2, [2.3, 2.1166666666666667]]\n",
      "[2, 2, [2.8333333333333335, 2.1333333333333333]]\n",
      "[2, 2, [2.65, 2.3666666666666667]]\n",
      "[2, 2, [2.4, 2.8333333333333335]]\n",
      "[2, 2, [2.8833333333333333, 2.2333333333333334]]\n",
      "[2, 2, [2.033333333333333, 2.6166666666666667]]\n",
      "[2, 2, [2.15, 2.0833333333333335]]\n",
      "[2, 2, [2.0, 2.6]]\n",
      "[2, 2, [2.55, 2.05]]\n",
      "[2, 2, [2.8333333333333335, 2.05]]\n",
      "[2, 2, [2.283333333333333, 2.533333333333333]]\n",
      "[2, 2, [2.5, 2.433333333333333]]\n",
      "[2, 2, [2.85, 2.5833333333333335]]\n",
      "[2, 2, [2.283333333333333, 2.4166666666666665]]\n",
      "[2, 2, [2.716666666666667, 2.6666666666666665]]\n",
      "[2, 2, [2.85, 2.566666666666667]]\n",
      "[2, 2, [2.15, 2.5]]\n",
      "[2, 2, [2.1666666666666665, 2.95]]\n",
      "[2, 2, [2.1666666666666665, 2.3]]\n",
      "[2, 2, [2.55, 2.1166666666666667]]\n",
      "[2, 2, [2.216666666666667, 2.9]]\n",
      "[2, 2, [2.05, 2.3833333333333333]]\n",
      "[2, 2, [2.0166666666666666, 2.316666666666667]]\n",
      "[2, 2, [2.466666666666667, 2.683333333333333]]\n",
      "[2, 2, [2.0833333333333335, 2.4]]\n",
      "[2, 2, [2.5166666666666666, 2.6166666666666667]]\n",
      "[2, 2, [2.033333333333333, 2.033333333333333]]\n",
      "[2, 2, [2.45, 2.95]]\n",
      "[2, 2, [2.35, 2.283333333333333]]\n",
      "[2, 2, [2.8333333333333335, 2.1333333333333333]]\n",
      "[2, 2, [2.05, 2.966666666666667]]\n",
      "[2, 2, [2.05, 2.85]]\n",
      "[2, 2, [2.316666666666667, 2.05]]\n",
      "[2, 2, [2.5, 2.4166666666666665]]\n",
      "[2, 2, [2.3333333333333335, 2.3]]\n",
      "[2, 2, [2.816666666666667, 2.8333333333333335]]\n",
      "[2, 2, [2.716666666666667, 2.75]]\n",
      "[2, 2, [2.5, 2.216666666666667]]\n",
      "[2, 2, [2.0, 2.0833333333333335]]\n",
      "[2, 2, [2.933333333333333, 2.9166666666666665]]\n",
      "[2, 3, [2.566666666666667, 2.35, 2.05]]\n",
      "[2, 3, [2.35, 2.7, 2.3833333333333333]]\n",
      "[2, 2, [2.55, 2.433333333333333]]\n",
      "[2, 2, [2.6166666666666667, 2.4166666666666665]]\n",
      "[2, 2, [2.4, 2.95]]\n",
      "[2, 3, [2.183333333333333, 2.2333333333333334, 2.2666666666666666]]\n",
      "[2, 3, [2.9166666666666665, 2.0833333333333335, 2.716666666666667]]\n",
      "[2, 2, [2.566666666666667, 2.0166666666666666]]\n",
      "[2, 2, [2.3666666666666667, 2.4166666666666665]]\n",
      "[2, 2, [2.1, 2.3]]\n",
      "[2, 2, [2.216666666666667, 2.4833333333333334]]\n",
      "[2, 2, [2.3333333333333335, 2.466666666666667]]\n",
      "[2, 2, [2.0166666666666666, 2.4]]\n",
      "[2, 2, [2.966666666666667, 2.6166666666666667]]\n",
      "[2, 2, [2.9166666666666665, 2.066666666666667]]\n",
      "[2, 3, [2.1333333333333333, 2.85, 2.9166666666666665]]\n",
      "[2, 2, [2.2666666666666666, 2.816666666666667]]\n",
      "[2, 2, [2.85, 2.683333333333333]]\n",
      "[2, 2, [2.95, 2.1666666666666665]]\n",
      "[2, 2, [2.0833333333333335, 2.8833333333333333]]\n",
      "[2, 2, [2.55, 2.8833333333333333]]\n",
      "[2, 2, [2.316666666666667, 2.316666666666667]]\n",
      "[2, 2, [2.85, 2.6166666666666667]]\n",
      "[2, 2, [2.2666666666666666, 2.5166666666666666]]\n",
      "[2, 2, [2.9833333333333334, 2.783333333333333]]\n",
      "[2, 2, [2.2333333333333334, 2.566666666666667]]\n",
      "[2, 2, [2.75, 2.0166666666666666]]\n",
      "[2, 2, [2.1333333333333333, 2.8833333333333333]]\n",
      "[2, 2, [2.283333333333333, 2.2666666666666666]]\n",
      "[2, 2, [2.6, 2.4833333333333334]]\n",
      "[2, 2, [2.95, 2.65]]\n",
      "[2, 2, [2.35, 2.066666666666667]]\n",
      "[2, 2, [2.6166666666666667, 2.7333333333333334]]\n",
      "[2, 3, [2.066666666666667, 2.1166666666666667, 2.85]]\n",
      "[2, 2, [2.15, 2.55]]\n",
      "[2, 2, [2.75, 2.0833333333333335]]\n",
      "[2, 2, [2.0833333333333335, 2.8]]\n",
      "[2, 2, [2.9166666666666665, 2.2333333333333334]]\n",
      "[2, 2, [2.6, 2.9]]\n",
      "[2, 2, [2.7333333333333334, 2.5833333333333335]]\n",
      "[2, 2, [2.066666666666667, 2.65]]\n",
      "[2, 2, [2.35, 2.5166666666666666]]\n",
      "[2, 2, [2.05, 2.066666666666667]]\n",
      "[2, 2, [2.0833333333333335, 2.566666666666667]]\n",
      "[2, 2, [2.683333333333333, 2.05]]\n",
      "[2, 2, [2.066666666666667, 2.9]]\n",
      "[2, 2, [2.8, 2.2333333333333334]]\n",
      "[2, 2, [2.4, 2.683333333333333]]\n",
      "[2, 2, [2.05, 2.3]]\n",
      "[2, 2, [2.183333333333333, 2.9]]\n",
      "[2, 3, [2.6, 2.066666666666667, 2.5]]\n",
      "[2, 2, [2.9166666666666665, 2.2333333333333334]]\n",
      "[2, 2, [2.316666666666667, 2.45]]\n",
      "[2, 2, [2.95, 2.1]]\n",
      "[2, 2, [2.0833333333333335, 2.9166666666666665]]\n",
      "[2, 2, [2.3666666666666667, 2.1]]\n",
      "[2, 2, [2.0, 2.0833333333333335]]\n",
      "[2, 2, [2.9166666666666665, 2.1666666666666665]]\n",
      "[2, 2, [2.05, 2.5]]\n",
      "[2, 3, [2.35, 2.9833333333333334, 2.2]]\n",
      "[2, 2, [2.6333333333333333, 2.8833333333333333]]\n",
      "[2, 2, [2.933333333333333, 2.3333333333333335]]\n",
      "[2, 3, [2.6, 2.1333333333333333, 2.066666666666667]]\n",
      "[2, 2, [2.466666666666667, 2.466666666666667]]\n",
      "[2, 3, [2.566666666666667, 2.683333333333333, 2.966666666666667]]\n",
      "[2, 2, [2.8666666666666667, 2.65]]\n",
      "[2, 2, [2.066666666666667, 2.533333333333333]]\n",
      "[2, 2, [2.3, 2.15]]\n",
      "[2, 2, [2.8833333333333333, 2.683333333333333]]\n",
      "[2, 2, [2.55, 2.6]]\n",
      "[2, 2, [2.5, 2.8666666666666667]]\n",
      "[2, 2, [2.8333333333333335, 2.0]]\n",
      "[2, 2, [2.05, 2.183333333333333]]\n",
      "[2, 2, [2.5, 2.3]]\n",
      "[2, 2, [2.5, 2.8666666666666667]]\n",
      "[2, 2, [2.2, 2.3]]\n",
      "[2, 2, [2.45, 2.8833333333333333]]\n",
      "[2, 2, [2.2, 2.8666666666666667]]\n",
      "[2, 2, [2.716666666666667, 2.6666666666666665]]\n",
      "[2, 2, [2.8666666666666667, 2.433333333333333]]\n",
      "[2, 2, [2.966666666666667, 2.7666666666666666]]\n",
      "[2, 2, [2.5833333333333335, 2.183333333333333]]\n",
      "[2, 2, [2.2666666666666666, 2.7666666666666666]]\n",
      "[2, 2, [2.716666666666667, 2.183333333333333]]\n",
      "[2, 2, [2.433333333333333, 2.066666666666667]]\n",
      "[2, 2, [2.55, 2.05]]\n",
      "[2, 2, [2.7666666666666666, 2.15]]\n",
      "[2, 2, [2.7, 2.933333333333333]]\n",
      "[2, 2, [2.683333333333333, 2.85]]\n",
      "[2, 2, [2.4, 2.45]]\n",
      "[2, 2, [2.816666666666667, 2.25]]\n",
      "[2, 2, [2.65, 2.9]]\n",
      "[2, 2, [2.6, 2.8333333333333335]]\n",
      "[2, 2, [2.9833333333333334, 2.9166666666666665]]\n",
      "[2, 2, [2.45, 2.5166666666666666]]\n",
      "[2, 2, [2.1666666666666665, 2.0]]\n",
      "[2, 2, [2.5833333333333335, 2.683333333333333]]\n",
      "[2, 2, [2.8, 2.4]]\n",
      "[2, 2, [2.6166666666666667, 2.7333333333333334]]\n",
      "[2, 2, [2.0, 2.3833333333333333]]\n",
      "[2, 2, [2.8, 2.4]]\n",
      "[2, 2, [2.1, 2.05]]\n",
      "[2, 2, [2.283333333333333, 2.716666666666667]]\n",
      "[2, 3, [2.2666666666666666, 2.216666666666667, 2.1333333333333333]]\n",
      "[2, 2, [2.1666666666666665, 2.716666666666667]]\n",
      "[2, 2, [2.45, 2.15]]\n",
      "[2, 2, [2.3666666666666667, 2.183333333333333]]\n",
      "[2, 2, [2.0, 2.65]]\n",
      "[2, 2, [2.3, 2.683333333333333]]\n",
      "[2, 2, [2.066666666666667, 2.7666666666666666]]\n",
      "[2, 4, [2.75, 2.2666666666666666, 2.1, 2.6666666666666665]]\n",
      "[2, 2, [2.6, 2.15]]\n",
      "[2, 3, [2.6666666666666665, 2.45, 2.5833333333333335]]\n",
      "[2, 2, [2.4833333333333334, 2.316666666666667]]\n",
      "[2, 2, [2.1, 2.6666666666666665]]\n",
      "[2, 2, [2.3, 2.066666666666667]]\n",
      "[2, 3, [2.0833333333333335, 2.683333333333333, 2.6166666666666667]]\n",
      "[2, 2, [2.316666666666667, 2.183333333333333]]\n",
      "[2, 2, [2.2, 2.6166666666666667]]\n",
      "[2, 2, [2.6, 2.3]]\n",
      "[2, 2, [2.95, 2.35]]\n",
      "[2, 2, [2.0, 2.6666666666666665]]\n",
      "[2, 2, [2.45, 2.2]]\n",
      "[2, 2, [2.3333333333333335, 2.85]]\n",
      "[2, 2, [2.316666666666667, 2.216666666666667]]\n",
      "[2, 2, [2.8333333333333335, 2.4166666666666665]]\n",
      "[2, 2, [2.4, 2.5]]\n",
      "[2, 2, [2.566666666666667, 2.2333333333333334]]\n",
      "[2, 2, [2.1, 2.5833333333333335]]\n",
      "[2, 2, [2.9, 2.95]]\n",
      "[2, 2, [2.533333333333333, 2.2666666666666666]]\n",
      "[2, 2, [2.7333333333333334, 2.433333333333333]]\n",
      "[2, 4, [2.0833333333333335, 2.7666666666666666, 2.45, 2.4166666666666665]]\n",
      "[2, 2, [2.716666666666667, 2.033333333333333]]\n",
      "[2, 2, [2.716666666666667, 2.933333333333333]]\n",
      "[2, 2, [2.4166666666666665, 2.6166666666666667]]\n",
      "[2, 2, [2.466666666666667, 2.1]]\n",
      "[2, 2, [2.9833333333333334, 2.0833333333333335]]\n",
      "[2, 2, [2.6, 2.283333333333333]]\n",
      "[2, 2, [2.2, 2.6]]\n",
      "[2, 2, [2.65, 2.066666666666667]]\n",
      "[2, 2, [2.7333333333333334, 2.2]]\n",
      "[2, 2, [2.1333333333333333, 2.4166666666666665]]\n",
      "[2, 2, [2.716666666666667, 2.9166666666666665]]\n",
      "[2, 2, [2.3666666666666667, 2.183333333333333]]\n",
      "[2, 2, [2.183333333333333, 2.7666666666666666]]\n",
      "[2, 2, [2.4833333333333334, 2.1166666666666667]]\n",
      "[2, 2, [2.25, 2.95]]\n",
      "[2, 2, [2.0, 2.2333333333333334]]\n",
      "[2, 3, [2.6333333333333333, 2.05, 2.933333333333333]]\n",
      "[2, 3, [2.4, 2.3833333333333333, 2.433333333333333]]\n",
      "[2, 2, [2.066666666666667, 2.783333333333333]]\n",
      "[2, 2, [2.6666666666666665, 2.85]]\n",
      "[2, 3, [2.25, 2.55, 2.95]]\n",
      "[2, 2, [2.066666666666667, 2.9]]\n",
      "[2, 2, [2.716666666666667, 2.75]]\n",
      "[2, 2, [2.5166666666666666, 2.933333333333333]]\n",
      "[2, 2, [2.533333333333333, 2.6166666666666667]]\n",
      "[2, 2, [2.1166666666666667, 2.7666666666666666]]\n",
      "[2, 2, [2.1666666666666665, 2.533333333333333]]\n",
      "[2, 2, [2.9833333333333334, 2.8333333333333335]]\n",
      "[2, 2, [2.1166666666666667, 2.466666666666667]]\n",
      "[2, 2, [2.716666666666667, 2.0]]\n",
      "[2, 2, [2.8833333333333333, 2.9833333333333334]]\n",
      "[2, 2, [2.9833333333333334, 2.65]]\n",
      "[2, 2, [2.466666666666667, 2.8]]\n",
      "[2, 2, [2.5166666666666666, 2.15]]\n",
      "[2, 2, [2.2666666666666666, 2.716666666666667]]\n",
      "[2, 2, [2.2333333333333334, 2.6]]\n",
      "[2, 2, [2.1166666666666667, 2.0833333333333335]]\n",
      "[2, 2, [2.2666666666666666, 2.533333333333333]]\n",
      "[2, 2, [2.55, 2.783333333333333]]\n",
      "[2, 2, [2.6666666666666665, 2.65]]\n",
      "[2, 2, [2.2, 2.066666666666667]]\n",
      "[2, 2, [2.8, 2.25]]\n",
      "[2, 2, [2.75, 2.283333333333333]]\n",
      "[2, 2, [2.7333333333333334, 2.55]]\n",
      "[2, 2, [2.033333333333333, 2.183333333333333]]\n",
      "[2, 2, [2.5833333333333335, 2.3666666666666667]]\n",
      "[2, 3, [2.2, 2.8666666666666667, 2.966666666666667]]\n",
      "[2, 2, [2.1666666666666665, 2.4]]\n",
      "[2, 2, [2.4833333333333334, 2.0833333333333335]]\n",
      "[2, 3, [2.183333333333333, 2.5, 2.6666666666666665]]\n",
      "[2, 2, [2.4166666666666665, 2.5833333333333335]]\n",
      "[2, 2, [2.9, 2.1166666666666667]]\n",
      "[2, 2, [2.7333333333333334, 2.4166666666666665]]\n",
      "[2, 2, [2.6, 2.7]]\n",
      "[2, 2, [2.45, 2.8666666666666667]]\n",
      "[2, 2, [2.283333333333333, 2.7666666666666666]]\n",
      "[2, 2, [2.1166666666666667, 2.1666666666666665]]\n",
      "[2, 2, [2.5833333333333335, 2.316666666666667]]\n",
      "[2, 3, [2.3, 2.55, 2.216666666666667]]\n",
      "[2, 2, [2.7666666666666666, 2.8333333333333335]]\n",
      "[2, 2, [2.5, 2.35]]\n",
      "[2, 2, [2.3666666666666667, 2.0833333333333335]]\n",
      "[2, 2, [2.4166666666666665, 2.05]]\n",
      "[2, 2, [2.8333333333333335, 2.783333333333333]]\n",
      "[2, 2, [2.7333333333333334, 2.566666666666667]]\n",
      "[2, 2, [2.1, 2.0]]\n",
      "[2, 2, [2.6166666666666667, 2.1166666666666667]]\n",
      "[2, 2, [2.4833333333333334, 2.283333333333333]]\n",
      "[2, 2, [2.783333333333333, 2.8]]\n",
      "[2, 2, [2.9, 2.75]]\n",
      "[2, 2, [2.533333333333333, 2.283333333333333]]\n",
      "[2, 3, [2.2, 2.8333333333333335, 2.283333333333333]]\n",
      "[2, 2, [2.566666666666667, 2.1]]\n",
      "[2, 2, [2.933333333333333, 2.9]]\n",
      "[2, 3, [2.0, 2.5166666666666666, 2.8666666666666667]]\n",
      "[2, 2, [2.4, 2.066666666666667]]\n",
      "[2, 2, [2.683333333333333, 2.75]]\n",
      "[2, 2, [2.4166666666666665, 2.15]]\n",
      "[2, 2, [2.6333333333333333, 2.4]]\n",
      "[2, 2, [2.1166666666666667, 2.716666666666667]]\n",
      "[2, 2, [2.95, 2.966666666666667]]\n",
      "[2, 2, [2.7666666666666666, 2.933333333333333]]\n",
      "[2, 2, [2.95, 2.9]]\n",
      "[2, 3, [2.2666666666666666, 2.1166666666666667, 2.0]]\n",
      "[2, 2, [2.8666666666666667, 2.966666666666667]]\n",
      "[2, 3, [2.7666666666666666, 2.5166666666666666, 2.216666666666667]]\n",
      "[2, 2, [2.8333333333333335, 2.5166666666666666]]\n",
      "[2, 2, [2.6, 2.066666666666667]]\n",
      "[2, 2, [2.033333333333333, 2.15]]\n",
      "[2, 2, [2.3333333333333335, 2.6333333333333333]]\n",
      "[2, 2, [2.0166666666666666, 2.4166666666666665]]\n",
      "[2, 2, [2.783333333333333, 2.1333333333333333]]\n",
      "[2, 2, [2.566666666666667, 2.2]]\n",
      "[2, 2, [2.5, 2.15]]\n",
      "[2, 2, [2.033333333333333, 2.1333333333333333]]\n",
      "[2, 2, [2.716666666666667, 2.4833333333333334]]\n",
      "[2, 2, [2.9, 2.8833333333333333]]\n",
      "[2, 2, [2.1, 2.533333333333333]]\n",
      "[2, 2, [2.4, 2.816666666666667]]\n",
      "[2, 2, [2.4833333333333334, 2.75]]\n",
      "[2, 2, [2.15, 2.7666666666666666]]\n",
      "[2, 2, [2.8333333333333335, 2.933333333333333]]\n",
      "[2, 2, [2.5166666666666666, 2.2333333333333334]]\n",
      "[2, 2, [2.9166666666666665, 2.0166666666666666]]\n",
      "[2, 2, [2.25, 2.6333333333333333]]\n",
      "[2, 2, [2.3333333333333335, 2.1666666666666665]]\n",
      "[2, 2, [2.75, 2.8333333333333335]]\n",
      "[2, 2, [2.066666666666667, 2.65]]\n",
      "[2, 2, [2.7, 2.4166666666666665]]\n",
      "[2, 2, [2.816666666666667, 2.9833333333333334]]\n",
      "[2, 2, [2.5166666666666666, 2.7333333333333334]]\n",
      "[2, 2, [2.15, 2.033333333333333]]\n",
      "[2, 2, [2.1, 2.9]]\n",
      "[2, 2, [2.8, 2.8333333333333335]]\n",
      "[2, 3, [2.1, 2.1666666666666665, 2.5833333333333335]]\n",
      "[2, 2, [2.466666666666667, 2.3]]\n",
      "[2, 2, [2.183333333333333, 2.7]]\n",
      "[2, 2, [2.1, 2.183333333333333]]\n",
      "[2, 2, [2.6666666666666665, 2.85]]\n",
      "[2, 2, [2.9833333333333334, 2.816666666666667]]\n",
      "[2, 2, [2.8333333333333335, 2.1166666666666667]]\n",
      "[2, 2, [2.966666666666667, 2.7666666666666666]]\n",
      "[2, 2, [2.933333333333333, 2.45]]\n",
      "[2, 2, [2.0166666666666666, 2.9833333333333334]]\n",
      "[2, 2, [2.75, 2.6666666666666665]]\n",
      "[2, 2, [2.716666666666667, 2.3666666666666667]]\n",
      "[2, 2, [2.533333333333333, 2.933333333333333]]\n",
      "[2, 2, [2.5166666666666666, 2.1666666666666665]]\n",
      "[2, 2, [2.7333333333333334, 2.2333333333333334]]\n",
      "[2, 2, [2.1, 2.6333333333333333]]\n",
      "[2, 2, [2.5833333333333335, 2.3333333333333335]]\n",
      "[2, 2, [2.433333333333333, 2.966666666666667]]\n",
      "[2, 2, [2.033333333333333, 2.316666666666667]]\n",
      "[2, 2, [2.3333333333333335, 2.3666666666666667]]\n",
      "[2, 2, [2.3833333333333333, 2.15]]\n",
      "[2, 3, [2.5166666666666666, 2.3833333333333333, 2.1333333333333333]]\n",
      "[2, 2, [2.6, 2.9166666666666665]]\n",
      "[2, 2, [2.783333333333333, 2.216666666666667]]\n",
      "[2, 2, [2.183333333333333, 2.1333333333333333]]\n",
      "[2, 3, [2.5833333333333335, 2.683333333333333, 2.7]]\n",
      "[2, 2, [2.8, 2.35]]\n",
      "[2, 3, [2.966666666666667, 2.4833333333333334, 2.9]]\n",
      "[2, 2, [2.183333333333333, 2.6]]\n",
      "[2, 2, [2.316666666666667, 2.7666666666666666]]\n",
      "[2, 2, [2.9166666666666665, 2.25]]\n",
      "[2, 2, [2.0, 2.8]]\n",
      "[2, 2, [2.466666666666667, 2.4166666666666665]]\n",
      "[2, 2, [2.3333333333333335, 2.183333333333333]]\n",
      "[2, 2, [2.0166666666666666, 2.2333333333333334]]\n",
      "[2, 2, [2.2, 2.15]]\n",
      "[2, 2, [2.9166666666666665, 2.1]]\n",
      "[2, 2, [2.5, 2.933333333333333]]\n",
      "[2, 2, [2.3666666666666667, 2.8]]\n",
      "[2, 2, [2.45, 2.5166666666666666]]\n",
      "[2, 2, [2.2333333333333334, 2.8666666666666667]]\n",
      "[2, 2, [2.55, 2.6166666666666667]]\n",
      "[2, 2, [2.816666666666667, 2.4166666666666665]]\n",
      "[2, 2, [2.933333333333333, 2.283333333333333]]\n",
      "[2, 2, [2.2, 2.7666666666666666]]\n",
      "[2, 2, [2.683333333333333, 2.783333333333333]]\n",
      "[2, 2, [2.55, 2.05]]\n",
      "[2, 2, [2.933333333333333, 2.9166666666666665]]\n",
      "[2, 2, [2.8833333333333333, 2.9]]\n",
      "[2, 2, [2.683333333333333, 2.2]]\n",
      "[2, 2, [2.5166666666666666, 2.3833333333333333]]\n",
      "[2, 2, [2.566666666666667, 2.2666666666666666]]\n",
      "[2, 3, [2.65, 2.35, 2.183333333333333]]\n",
      "[2, 3, [2.15, 2.9, 2.9166666666666665]]\n",
      "[2, 2, [2.033333333333333, 2.6166666666666667]]\n",
      "[2, 3, [2.966666666666667, 2.4, 2.2333333333333334]]\n",
      "[2, 2, [2.25, 2.2333333333333334]]\n",
      "[2, 3, [2.6333333333333333, 2.95, 2.6]]\n",
      "[2, 2, [2.716666666666667, 2.1166666666666667]]\n",
      "[2, 3, [2.966666666666667, 2.066666666666667, 2.3333333333333335]]\n",
      "[2, 2, [2.8, 2.3833333333333333]]\n",
      "[2, 2, [2.683333333333333, 2.05]]\n",
      "[2, 2, [2.75, 2.55]]\n",
      "[2, 2, [2.85, 2.45]]\n",
      "[2, 2, [2.1666666666666665, 2.6166666666666667]]\n",
      "[2, 2, [2.3333333333333335, 2.716666666666667]]\n",
      "[2, 2, [2.216666666666667, 2.9]]\n",
      "[2, 2, [2.0833333333333335, 2.8833333333333333]]\n",
      "[2, 2, [2.566666666666667, 2.45]]\n",
      "[2, 2, [2.283333333333333, 2.066666666666667]]\n",
      "[2, 2, [2.25, 2.1166666666666667]]\n",
      "[2, 3, [2.8333333333333335, 2.783333333333333, 2.4]]\n",
      "[2, 2, [2.933333333333333, 2.966666666666667]]\n",
      "[2, 2, [2.5, 2.65]]\n",
      "[2, 2, [2.033333333333333, 2.3833333333333333]]\n",
      "[2, 2, [2.2666666666666666, 2.5833333333333335]]\n",
      "[2, 3, [2.5833333333333335, 2.6, 2.816666666666667]]\n",
      "[2, 2, [2.533333333333333, 2.15]]\n",
      "[2, 2, [2.6, 2.1]]\n",
      "[2, 2, [2.5833333333333335, 2.566666666666667]]\n",
      "[2, 2, [2.3333333333333335, 2.6333333333333333]]\n",
      "[2, 2, [2.25, 2.783333333333333]]\n",
      "[2, 2, [2.3833333333333333, 2.9166666666666665]]\n",
      "[2, 2, [2.1, 2.5]]\n",
      "[2, 2, [2.066666666666667, 2.533333333333333]]\n",
      "[2, 2, [2.35, 2.8833333333333333]]\n",
      "[2, 3, [2.15, 2.8333333333333335, 2.066666666666667]]\n",
      "[2, 4, [2.8, 2.6333333333333333, 2.3666666666666667, 2.45]]\n",
      "[2, 2, [2.3833333333333333, 2.0]]\n",
      "[2, 2, [2.5, 2.6166666666666667]]\n",
      "[2, 2, [2.4166666666666665, 2.05]]\n",
      "[2, 2, [2.7666666666666666, 2.066666666666667]]\n",
      "[2, 2, [2.5, 2.033333333333333]]\n",
      "[2, 2, [2.6666666666666665, 2.3666666666666667]]\n",
      "[2, 2, [2.533333333333333, 2.8333333333333335]]\n",
      "[2, 2, [2.9833333333333334, 2.533333333333333]]\n",
      "[2, 2, [2.2666666666666666, 2.9]]\n",
      "[2, 2, [2.15, 2.9]]\n",
      "[2, 2, [2.95, 2.5]]\n",
      "[2, 3, [2.05, 2.35, 2.3666666666666667]]\n",
      "[2, 2, [2.0833333333333335, 2.716666666666667]]\n",
      "[2, 2, [2.716666666666667, 2.6]]\n",
      "[2, 2, [2.6333333333333333, 2.75]]\n",
      "[2, 2, [2.466666666666667, 2.7666666666666666]]\n",
      "[2, 2, [2.25, 2.6333333333333333]]\n",
      "[2, 2, [2.716666666666667, 2.3333333333333335]]\n",
      "[2, 2, [2.966666666666667, 2.433333333333333]]\n",
      "[2, 2, [2.7333333333333334, 2.55]]\n",
      "[2, 2, [2.6666666666666665, 2.5833333333333335]]\n",
      "[2, 2, [2.1666666666666665, 2.3]]\n",
      "[2, 2, [2.2, 2.533333333333333]]\n",
      "[2, 3, [2.783333333333333, 2.3833333333333333, 2.2666666666666666]]\n",
      "[2, 4, [2.0833333333333335, 2.533333333333333, 2.1, 2.533333333333333]]\n",
      "[2, 2, [2.75, 2.7333333333333334]]\n",
      "[2, 2, [2.1, 2.95]]\n",
      "[2, 2, [2.966666666666667, 2.066666666666667]]\n",
      "[2, 2, [2.75, 2.2]]\n",
      "[2, 2, [2.283333333333333, 2.45]]\n",
      "[2, 2, [2.0833333333333335, 2.6]]\n",
      "[2, 2, [2.566666666666667, 2.716666666666667]]\n",
      "[2, 2, [2.9166666666666665, 2.35]]\n",
      "[2, 2, [2.566666666666667, 2.566666666666667]]\n",
      "[2, 2, [2.7666666666666666, 2.033333333333333]]\n",
      "[2, 2, [2.8833333333333333, 2.0833333333333335]]\n",
      "[2, 2, [2.8333333333333335, 2.466666666666667]]\n",
      "[2, 2, [2.3833333333333333, 2.466666666666667]]\n",
      "[2, 2, [2.7, 2.183333333333333]]\n",
      "[2, 2, [2.466666666666667, 2.75]]\n",
      "[2, 2, [2.55, 2.4166666666666665]]\n",
      "[2, 3, [2.183333333333333, 2.6, 2.45]]\n",
      "[2, 3, [2.466666666666667, 2.6166666666666667, 2.2666666666666666]]\n",
      "[2, 2, [2.816666666666667, 2.55]]\n",
      "[2, 2, [2.45, 2.433333333333333]]\n",
      "[2, 2, [2.2666666666666666, 2.6166666666666667]]\n",
      "[2, 3, [2.6166666666666667, 2.85, 2.1333333333333333]]\n",
      "[2, 2, [2.4833333333333334, 2.033333333333333]]\n",
      "[2, 2, [2.6166666666666667, 2.55]]\n",
      "[2, 2, [2.0166666666666666, 2.7]]\n",
      "[2, 2, [2.95, 2.8333333333333335]]\n",
      "[2, 2, [2.783333333333333, 2.6666666666666665]]\n",
      "[2, 2, [2.033333333333333, 2.7666666666666666]]\n",
      "[2, 2, [2.533333333333333, 2.8333333333333335]]\n",
      "[2, 2, [2.45, 2.716666666666667]]\n",
      "[2, 2, [2.6333333333333333, 2.216666666666667]]\n",
      "[2, 2, [2.1666666666666665, 2.55]]\n",
      "[2, 2, [2.4, 2.316666666666667]]\n",
      "[2, 2, [2.9833333333333334, 2.85]]\n",
      "[2, 2, [2.2666666666666666, 2.533333333333333]]\n",
      "[2, 2, [2.9166666666666665, 2.183333333333333]]\n",
      "[2, 2, [2.1166666666666667, 2.1166666666666667]]\n",
      "[2, 2, [2.3666666666666667, 2.466666666666667]]\n",
      "[2, 2, [2.05, 2.566666666666667]]\n",
      "[2, 2, [2.433333333333333, 2.35]]\n",
      "[2, 2, [2.316666666666667, 2.9166666666666665]]\n",
      "[2, 2, [2.566666666666667, 2.75]]\n",
      "[2, 2, [2.4833333333333334, 2.15]]\n",
      "[2, 2, [2.783333333333333, 2.3833333333333333]]\n",
      "[2, 2, [2.65, 2.85]]\n",
      "[2, 2, [2.6666666666666665, 2.1666666666666665]]\n",
      "[2, 2, [2.466666666666667, 2.95]]\n",
      "[2, 2, [2.9, 2.1]]\n",
      "[2, 2, [2.933333333333333, 2.966666666666667]]\n",
      "[2, 2, [2.3, 2.5166666666666666]]\n",
      "[2, 2, [2.75, 2.716666666666667]]\n",
      "[2, 2, [2.7333333333333334, 2.566666666666667]]\n",
      "[2, 2, [2.45, 2.4166666666666665]]\n",
      "[2, 2, [2.216666666666667, 2.75]]\n",
      "[2, 2, [2.316666666666667, 2.95]]\n",
      "[2, 2, [2.216666666666667, 2.2]]\n",
      "[2, 2, [2.066666666666667, 2.3833333333333333]]\n",
      "[2, 2, [2.1166666666666667, 2.966666666666667]]\n",
      "[2, 2, [2.566666666666667, 2.6666666666666665]]\n",
      "[2, 2, [2.7333333333333334, 2.6166666666666667]]\n",
      "[2, 2, [2.35, 2.183333333333333]]\n",
      "[2, 2, [2.8333333333333335, 2.933333333333333]]\n",
      "[2, 2, [2.3, 2.45]]\n",
      "[2, 2, [2.8666666666666667, 2.6666666666666665]]\n",
      "[2, 2, [2.3666666666666667, 2.6166666666666667]]\n",
      "[2, 2, [2.183333333333333, 2.033333333333333]]\n",
      "[2, 2, [2.6666666666666665, 2.4166666666666665]]\n",
      "[2, 2, [2.6166666666666667, 2.85]]\n",
      "[2, 2, [2.4833333333333334, 2.6166666666666667]]\n",
      "[2, 2, [2.716666666666667, 2.4]]\n",
      "[2, 2, [2.183333333333333, 2.033333333333333]]\n",
      "[2, 2, [2.2333333333333334, 2.466666666666667]]\n",
      "[2, 2, [2.566666666666667, 2.1]]\n",
      "[2, 2, [2.4166666666666665, 2.4833333333333334]]\n",
      "[2, 2, [2.4833333333333334, 2.466666666666667]]\n",
      "[2, 2, [2.3333333333333335, 2.7666666666666666]]\n",
      "[2, 2, [2.75, 2.6333333333333333]]\n",
      "[2, 3, [2.4166666666666665, 2.7, 2.1333333333333333]]\n",
      "[2, 2, [2.6333333333333333, 2.1666666666666665]]\n",
      "[2, 2, [2.566666666666667, 2.9]]\n",
      "[2, 2, [2.183333333333333, 2.9166666666666665]]\n",
      "[2, 2, [2.25, 2.2333333333333334]]\n",
      "[2, 2, [2.6333333333333333, 2.75]]\n",
      "[2, 2, [2.0, 2.45]]\n",
      "[2, 2, [2.7, 2.6]]\n",
      "[2, 2, [2.033333333333333, 2.7333333333333334]]\n",
      "[2, 2, [2.5833333333333335, 2.1666666666666665]]\n",
      "[2, 2, [2.966666666666667, 2.1666666666666665]]\n",
      "[2, 2, [2.716666666666667, 2.15]]\n",
      "[2, 2, [2.683333333333333, 2.8]]\n"
     ]
    }
   ],
   "source": [
    "len(consecutives_all)\n",
    "\n",
    "four_min_data = []\n",
    "\n",
    "for i in consecutives_all:\n",
    "    if i[0] == 2:\n",
    "        #four_min_data.append(i[1])\n",
    "        print i"
   ]
  },
  {
   "cell_type": "code",
   "execution_count": 211,
   "metadata": {
    "collapsed": false
   },
   "outputs": [
    {
     "name": "stdout",
     "output_type": "stream",
     "text": [
      "[2, 4, [2.183333333333333, 2.3, 2.05, 2.1]]\n"
     ]
    }
   ],
   "source": [
    "max = 0\n",
    "marker = []\n",
    "for i in consecutives_all:\n",
    "    if i[1] > max and i[0]==2:\n",
    "        max = i[1]\n",
    "        marker= i\n",
    "print marker"
   ]
  },
  {
   "cell_type": "code",
   "execution_count": 81,
   "metadata": {
    "collapsed": false
   },
   "outputs": [
    {
     "name": "stdout",
     "output_type": "stream",
     "text": [
      "[1, 3, [1.3666666666666667, 1.7333333333333334, 1.7166666666666666]]\n",
      "[1, 3, [1.5666666666666667, 1.3333333333333333, 1.85]]\n",
      "[1, 3, [1.0166666666666666, 1.05, 1.15]]\n",
      "[1, 3, [1.2333333333333334, 1.5666666666666667, 1.75]]\n",
      "[1, 3, [1.8833333333333333, 1.8666666666666667, 1.8833333333333333]]\n",
      "[1, 3, [1.6333333333333333, 1.5666666666666667, 1.0166666666666666]]\n",
      "[1, 3, [1.45, 1.6333333333333333, 1.4]]\n",
      "[1, 3, [1.7, 1.2, 1.2166666666666666]]\n",
      "[1, 3, [1.85, 1.9666666666666666, 1.0666666666666667]]\n",
      "[1, 3, [1.1833333333333333, 1.8666666666666667, 1.35]]\n",
      "[1, 3, [1.6333333333333333, 1.1833333333333333, 1.6833333333333333]]\n",
      "[1, 3, [1.3166666666666667, 1.9, 1.7]]\n",
      "[1, 3, [1.3166666666666667, 1.2833333333333334, 1.5166666666666666]]\n",
      "[1, 3, [1.9833333333333334, 1.65, 1.3833333333333333]]\n",
      "[1, 3, [1.0333333333333334, 1.6666666666666667, 1.9333333333333333]]\n",
      "[1, 3, [1.7833333333333334, 1.95, 1.1833333333333333]]\n",
      "[1, 3, [1.9333333333333333, 1.5666666666666667, 1.9166666666666667]]\n",
      "[1, 3, [1.15, 1.5833333333333333, 1.95]]\n",
      "[1, 3, [1.6166666666666667, 1.4833333333333334, 1.55]]\n",
      "[1, 3, [1.2, 1.65, 1.5]]\n",
      "[1, 3, [1.3333333333333333, 1.4666666666666666, 1.2]]\n",
      "[1, 3, [1.45, 1.0166666666666666, 1.9166666666666667]]\n",
      "[1, 3, [1.45, 1.5833333333333333, 1.15]]\n",
      "[1, 3, [1.8166666666666667, 1.4666666666666666, 1.8833333333333333]]\n",
      "[1, 3, [1.7, 1.75, 1.0833333333333333]]\n",
      "[1, 3, [1.0666666666666667, 1.2666666666666666, 1.35]]\n",
      "[1, 3, [1.35, 1.2333333333333334, 1.1166666666666667]]\n",
      "[1, 3, [1.8333333333333333, 1.0333333333333334, 1.2833333333333334]]\n",
      "[1, 3, [1.0833333333333333, 1.7, 1.6166666666666667]]\n",
      "[1, 3, [1.1333333333333333, 1.9333333333333333, 1.75]]\n",
      "[1, 3, [1.8833333333333333, 1.7666666666666666, 1.1166666666666667]]\n",
      "[1, 3, [1.35, 1.7833333333333334, 1.8166666666666667]]\n",
      "[1, 3, [1.5666666666666667, 1.1, 1.8333333333333333]]\n",
      "[1, 3, [1.3333333333333333, 1.6166666666666667, 1.4]]\n",
      "[1, 3, [1.0166666666666666, 1.2666666666666666, 1.3333333333333333]]\n",
      "[1, 3, [1.8333333333333333, 1.15, 1.9166666666666667]]\n",
      "[1, 3, [1.3666666666666667, 1.25, 1.3833333333333333]]\n",
      "[1, 3, [1.7666666666666666, 1.6166666666666667, 1.1833333333333333]]\n",
      "[1, 3, [1.1166666666666667, 1.6666666666666667, 1.2833333333333334]]\n",
      "[1, 3, [1.1166666666666667, 1.3, 1.5333333333333334]]\n",
      "[1, 3, [1.4166666666666667, 1.75, 1.8]]\n",
      "[1, 3, [1.1666666666666667, 1.6833333333333333, 1.5833333333333333]]\n",
      "[1, 3, [1.85, 1.9166666666666667, 1.2666666666666666]]\n",
      "[1, 3, [1.4666666666666666, 1.6833333333333333, 1.3666666666666667]]\n",
      "[1, 3, [1.7, 1.4833333333333334, 1.7833333333333334]]\n",
      "[1, 3, [1.2833333333333334, 1.8833333333333333, 1.4333333333333333]]\n",
      "[1, 3, [1.8666666666666667, 1.7, 1.5166666666666666]]\n",
      "[1, 3, [1.1666666666666667, 1.9166666666666667, 1.7333333333333334]]\n",
      "[1, 3, [1.1666666666666667, 1.3666666666666667, 1.0833333333333333]]\n",
      "[1, 3, [1.9833333333333334, 1.9833333333333334, 1.5833333333333333]]\n",
      "[1, 3, [1.8, 1.55, 1.1]]\n",
      "[1, 3, [1.8, 1.45, 1.7166666666666666]]\n",
      "[1, 3, [1.1333333333333333, 1.8833333333333333, 1.5666666666666667]]\n",
      "[1, 4, [1.3833333333333333, 1.1833333333333333, 1.1, 1.7666666666666666]]\n",
      "[1, 3, [1.9666666666666666, 1.1666666666666667, 1.6]]\n",
      "[1, 3, [1.8166666666666667, 1.0, 1.35]]\n",
      "[1, 3, [1.45, 1.5666666666666667, 1.05]]\n",
      "[1, 3, [1.1833333333333333, 1.45, 1.25]]\n",
      "[1, 3, [1.1666666666666667, 1.4166666666666667, 1.1833333333333333]]\n",
      "[1, 3, [1.0833333333333333, 1.3166666666666667, 1.3333333333333333]]\n",
      "[1, 3, [1.5166666666666666, 1.4833333333333334, 1.75]]\n",
      "[1, 3, [1.2666666666666666, 1.1, 1.8166666666666667]]\n",
      "[1, 3, [1.7333333333333334, 1.7333333333333334, 1.6]]\n",
      "[1, 3, [1.55, 1.95, 1.7333333333333334]]\n",
      "[1, 3, [1.05, 1.55, 1.1]]\n",
      "[1, 5, [1.1166666666666667, 1.65, 1.0166666666666666, 1.85, 1.15]]\n",
      "[1, 3, [1.0, 1.8833333333333333, 1.0166666666666666]]\n",
      "[1, 3, [1.2166666666666666, 1.0, 1.1833333333333333]]\n",
      "[1, 3, [1.3166666666666667, 1.0333333333333334, 1.7166666666666666]]\n",
      "[1, 3, [1.3166666666666667, 1.45, 1.4833333333333334]]\n",
      "[1, 3, [1.75, 1.6166666666666667, 1.55]]\n",
      "[1, 3, [1.7, 1.0, 1.25]]\n",
      "[1, 3, [1.1166666666666667, 1.7333333333333334, 1.7333333333333334]]\n",
      "[1, 3, [1.6166666666666667, 1.3333333333333333, 1.4666666666666666]]\n",
      "[1, 3, [1.6333333333333333, 1.5, 1.2833333333333334]]\n",
      "[1, 3, [1.9333333333333333, 1.7666666666666666, 1.0166666666666666]]\n",
      "[1, 3, [1.2333333333333334, 1.9166666666666667, 1.9333333333333333]]\n",
      "[1, 3, [1.0833333333333333, 1.9333333333333333, 1.4666666666666666]]\n",
      "[1, 4, [1.2666666666666666, 1.6, 1.9666666666666666, 1.4333333333333333]]\n",
      "[1, 3, [1.15, 1.25, 1.1333333333333333]]\n",
      "[1, 3, [1.7166666666666666, 1.5833333333333333, 1.9333333333333333]]\n",
      "[1, 3, [1.8, 1.8166666666666667, 1.1333333333333333]]\n",
      "[1, 3, [1.5333333333333334, 1.2666666666666666, 1.75]]\n",
      "[1, 3, [1.4333333333333333, 1.8166666666666667, 1.4833333333333334]]\n",
      "[1, 4, [1.5333333333333334, 1.25, 1.6833333333333333, 1.5833333333333333]]\n",
      "[1, 3, [1.0833333333333333, 1.4666666666666666, 1.3333333333333333]]\n",
      "[1, 3, [1.5666666666666667, 1.5, 1.9166666666666667]]\n",
      "[1, 3, [1.05, 1.0333333333333334, 1.9833333333333334]]\n",
      "[1, 4, [1.35, 1.9166666666666667, 1.65, 1.7166666666666666]]\n",
      "[1, 3, [1.1333333333333333, 1.1333333333333333, 1.8]]\n",
      "[1, 3, [1.85, 1.3333333333333333, 1.5333333333333334]]\n",
      "[1, 4, [1.0, 1.8166666666666667, 1.7166666666666666, 1.2166666666666666]]\n",
      "[1, 3, [1.25, 1.3333333333333333, 1.4166666666666667]]\n",
      "[1, 3, [1.5333333333333334, 1.5, 1.5333333333333334]]\n",
      "[1, 3, [1.6666666666666667, 1.1333333333333333, 1.1666666666666667]]\n",
      "[1, 3, [1.2, 1.05, 1.8]]\n",
      "[1, 3, [1.75, 1.2833333333333334, 1.0]]\n",
      "[1, 3, [1.2, 1.25, 1.4666666666666666]]\n",
      "[1, 4, [1.5333333333333334, 1.4166666666666667, 1.7, 1.7333333333333334]]\n",
      "[1, 3, [1.7, 1.35, 1.5833333333333333]]\n",
      "[1, 4, [1.9333333333333333, 1.3333333333333333, 1.85, 1.1833333333333333]]\n",
      "[1, 3, [1.9833333333333334, 1.4166666666666667, 1.3833333333333333]]\n",
      "[1, 3, [1.5166666666666666, 1.5333333333333334, 1.8333333333333333]]\n",
      "[1, 3, [1.7666666666666666, 1.5166666666666666, 1.8833333333333333]]\n",
      "[1, 3, [1.55, 1.7666666666666666, 1.9166666666666667]]\n",
      "[1, 3, [1.5666666666666667, 1.5, 1.55]]\n",
      "[1, 3, [1.35, 1.95, 1.0]]\n",
      "[1, 3, [1.05, 1.3, 1.6]]\n",
      "[1, 3, [1.9166666666666667, 1.5666666666666667, 1.9166666666666667]]\n",
      "[1, 3, [1.7166666666666666, 1.5333333333333334, 1.5833333333333333]]\n",
      "[1, 3, [1.2, 1.0, 1.8333333333333333]]\n",
      "[1, 3, [1.6833333333333333, 1.25, 1.6166666666666667]]\n",
      "[1, 3, [1.5, 1.0833333333333333, 1.2166666666666666]]\n",
      "[1, 3, [1.5666666666666667, 1.3, 1.8]]\n",
      "[1, 4, [1.3833333333333333, 1.15, 1.5, 1.15]]\n",
      "[1, 4, [1.15, 1.55, 1.65, 1.0333333333333334]]\n",
      "[1, 3, [1.0833333333333333, 1.6333333333333333, 1.0666666666666667]]\n",
      "[1, 3, [1.4, 1.2, 1.3]]\n",
      "[1, 3, [1.9666666666666666, 1.8166666666666667, 1.75]]\n",
      "[1, 3, [1.0833333333333333, 1.9333333333333333, 1.6666666666666667]]\n",
      "[1, 3, [1.4833333333333334, 1.65, 1.3833333333333333]]\n",
      "[1, 4, [1.2166666666666666, 1.75, 1.1666666666666667, 1.25]]\n",
      "[1, 3, [1.7166666666666666, 1.05, 1.3]]\n",
      "[1, 4, [1.7166666666666666, 1.9833333333333334, 1.7666666666666666, 1.15]]\n",
      "[1, 3, [1.2333333333333334, 1.75, 1.2833333333333334]]\n",
      "[1, 3, [1.2, 1.3833333333333333, 1.5333333333333334]]\n",
      "[1, 3, [1.5166666666666666, 1.5333333333333334, 1.2166666666666666]]\n",
      "[1, 3, [1.3666666666666667, 1.3666666666666667, 1.2833333333333334]]\n",
      "[1, 3, [1.7833333333333334, 1.1333333333333333, 1.7166666666666666]]\n",
      "[1, 3, [1.6666666666666667, 1.2333333333333334, 1.0833333333333333]]\n",
      "[1, 3, [1.3166666666666667, 1.5333333333333334, 1.6]]\n",
      "[1, 3, [1.0, 1.6666666666666667, 1.9333333333333333]]\n",
      "[1, 3, [1.6833333333333333, 1.1833333333333333, 1.2833333333333334]]\n",
      "[1, 3, [1.4, 1.5166666666666666, 1.9166666666666667]]\n"
     ]
    }
   ],
   "source": [
    "#BEFORE\n",
    "one_num_blocks = []\n",
    "two_num_blocks = []\n",
    "for i in consecutives:\n",
    "    if i[0] == 1:\n",
    "        one_num_blocks.append(i[1])\n",
    "    if i[0] == 2:\n",
    "        two_num_blocks.append(i[1])\n",
    "for i in consecutives:\n",
    "    if i[1] > 2 and i[0] == 1:\n",
    "        print i\n",
    "        "
   ]
  },
  {
   "cell_type": "code",
   "execution_count": 224,
   "metadata": {
    "collapsed": false
   },
   "outputs": [
    {
     "name": "stdout",
     "output_type": "stream",
     "text": [
      "[0, 4, [0.26666666666666666, 0.8833333333333333, 0.05, 0.0]]\n",
      "[0, 3, [0.6333333333333333, 0.4166666666666667, 0.26666666666666666]]\n",
      "[0, 3, [0.9, 0.45, 0.5333333333333333]]\n",
      "[0, 3, [0.5833333333333334, 0.9833333333333333, 0.8333333333333334]]\n",
      "[0, 3, [0.4, 0.65, 0.9333333333333333]]\n",
      "[0, 3, [0.23333333333333334, 0.8, 0.3333333333333333]]\n",
      "[0, 3, [0.9, 0.43333333333333335, 0.5833333333333334]]\n",
      "[0, 3, [0.18333333333333332, 0.6, 0.7]]\n",
      "[0, 3, [0.7, 0.7833333333333333, 0.43333333333333335]]\n",
      "[0, 3, [0.9166666666666666, 0.7166666666666667, 0.8333333333333334]]\n",
      "[0, 3, [0.5, 0.3, 0.43333333333333335]]\n",
      "[0, 3, [0.7, 0.7166666666666667, 0.31666666666666665]]\n",
      "[0, 4, [0.1, 0.8333333333333334, 0.8333333333333334, 0.7]]\n",
      "[0, 3, [0.8333333333333334, 0.6833333333333333, 0.26666666666666666]]\n",
      "[0, 3, [0.9666666666666667, 0.7833333333333333, 0.9833333333333333]]\n",
      "[0, 3, [0.9166666666666666, 0.8833333333333333, 0.9666666666666667]]\n",
      "[0, 3, [0.16666666666666666, 0.95, 0.6333333333333333]]\n",
      "[0, 4, [0.06666666666666667, 0.9166666666666666, 0.4, 0.6833333333333333]]\n",
      "[0, 4, [0.36666666666666664, 0.9333333333333333, 0.35, 0.5333333333333333]]\n",
      "[0, 3, [0.6, 0.5166666666666667, 0.06666666666666667]]\n",
      "[0, 3, [0.25, 0.7333333333333333, 0.5]]\n",
      "[0, 3, [0.85, 0.26666666666666666, 0.85]]\n",
      "[0, 3, [0.55, 0.6833333333333333, 0.4666666666666667]]\n",
      "[0, 3, [0.8, 0.4, 0.85]]\n",
      "[0, 3, [0.11666666666666667, 0.9, 0.5833333333333334]]\n",
      "[0, 3, [0.5, 0.6833333333333333, 0.7166666666666667]]\n",
      "[0, 3, [0.35, 0.35, 0.6833333333333333]]\n",
      "[0, 3, [0.9166666666666666, 0.85, 0.5166666666666667]]\n",
      "[0, 3, [0.5333333333333333, 0.05, 0.8666666666666667]]\n",
      "[0, 3, [0.31666666666666665, 0.65, 0.25]]\n",
      "[0, 3, [0.38333333333333336, 0.43333333333333335, 0.6]]\n",
      "[0, 4, [0.7833333333333333, 0.65, 0.43333333333333335, 0.36666666666666664]]\n",
      "[0, 3, [0.48333333333333334, 0.18333333333333332, 0.85]]\n",
      "[0, 3, [0.21666666666666667, 0.8, 0.45]]\n",
      "[0, 3, [0.45, 0.5333333333333333, 0.8]]\n",
      "[0, 3, [0.43333333333333335, 0.7833333333333333, 0.55]]\n",
      "[0, 3, [0.38333333333333336, 0.6333333333333333, 0.9]]\n",
      "[0, 3, [0.65, 0.4166666666666667, 0.8666666666666667]]\n",
      "[0, 3, [0.06666666666666667, 0.16666666666666666, 0.65]]\n",
      "[0, 3, [0.16666666666666666, 0.23333333333333334, 0.85]]\n",
      "[0, 3, [0.7, 0.6833333333333333, 0.2833333333333333]]\n",
      "[0, 3, [0.4666666666666667, 0.5833333333333334, 0.75]]\n",
      "[0, 3, [0.15, 0.6, 0.8833333333333333]]\n",
      "[0, 3, [0.9333333333333333, 0.9, 0.85]]\n",
      "[0, 3, [0.8833333333333333, 0.21666666666666667, 0.1]]\n",
      "[0, 3, [0.8, 0.8833333333333333, 0.36666666666666664]]\n",
      "[0, 3, [0.85, 0.03333333333333333, 0.8]]\n",
      "[0, 3, [0.25, 0.4166666666666667, 0.4166666666666667]]\n",
      "[0, 3, [0.9333333333333333, 0.65, 0.4166666666666667]]\n",
      "[0, 3, [0.55, 0.8833333333333333, 0.15]]\n",
      "[0, 3, [0.43333333333333335, 0.85, 0.9333333333333333]]\n",
      "[0, 4, [0.85, 0.6166666666666667, 0.8833333333333333, 0.2833333333333333]]\n",
      "[0, 3, [0.65, 0.15, 0.43333333333333335]]\n",
      "[0, 3, [0.6666666666666666, 0.15, 0.11666666666666667]]\n",
      "[0, 3, [0.95, 0.8166666666666667, 0.8666666666666667]]\n",
      "[0, 3, [0.5166666666666667, 0.16666666666666666, 0.5]]\n",
      "[0, 3, [0.31666666666666665, 0.4666666666666667, 0.7833333333333333]]\n",
      "[0, 3, [0.0, 0.6666666666666666, 0.48333333333333334]]\n",
      "[0, 3, [0.7, 0.06666666666666667, 0.7666666666666667]]\n",
      "[0, 3, [0.11666666666666667, 0.8166666666666667, 0.5666666666666667]]\n",
      "[0, 3, [0.35, 0.5166666666666667, 0.5166666666666667]]\n",
      "[0, 3, [0.9333333333333333, 0.5833333333333334, 0.38333333333333336]]\n",
      "[0, 3, [0.11666666666666667, 0.9166666666666666, 0.6333333333333333]]\n",
      "[0, 3, [0.18333333333333332, 0.08333333333333333, 0.31666666666666665]]\n",
      "[0, 3, [0.45, 0.16666666666666666, 0.5666666666666667]]\n",
      "[0, 3, [0.11666666666666667, 0.21666666666666667, 0.5166666666666667]]\n",
      "[0, 3, [0.5, 0.23333333333333334, 0.5]]\n",
      "[0, 3, [0.8833333333333333, 0.75, 0.9333333333333333]]\n",
      "[0, 3, [0.11666666666666667, 0.3333333333333333, 0.6833333333333333]]\n",
      "[0, 3, [0.7, 0.3333333333333333, 0.6666666666666666]]\n",
      "[0, 4, [0.6833333333333333, 0.5666666666666667, 0.4166666666666667, 0.13333333333333333]]\n",
      "[0, 3, [0.3333333333333333, 0.23333333333333334, 0.6166666666666667]]\n",
      "[0, 3, [0.8, 0.6666666666666666, 0.9833333333333333]]\n",
      "[0, 3, [0.5166666666666667, 0.36666666666666664, 0.15]]\n",
      "[0, 3, [0.9833333333333333, 0.9, 0.03333333333333333]]\n",
      "[0, 3, [0.016666666666666666, 0.9333333333333333, 0.7333333333333333]]\n",
      "[0, 3, [0.31666666666666665, 0.5333333333333333, 0.06666666666666667]]\n",
      "[0, 3, [0.36666666666666664, 0.7333333333333333, 0.95]]\n",
      "[0, 3, [0.7166666666666667, 0.23333333333333334, 0.31666666666666665]]\n",
      "[0, 3, [0.8, 0.05, 0.6333333333333333]]\n",
      "[0, 3, [0.13333333333333333, 0.48333333333333334, 0.7666666666666667]]\n",
      "[0, 3, [0.9333333333333333, 0.5833333333333334, 0.3]]\n",
      "[0, 3, [0.8333333333333334, 0.06666666666666667, 0.7333333333333333]]\n",
      "[0, 3, [0.7666666666666667, 0.4, 0.85]]\n",
      "[0, 3, [0.65, 0.4, 0.13333333333333333]]\n",
      "[0, 3, [0.5333333333333333, 0.9166666666666666, 0.38333333333333336]]\n",
      "[0, 3, [0.7666666666666667, 0.45, 0.8166666666666667]]\n",
      "[0, 3, [0.06666666666666667, 0.5833333333333334, 0.7666666666666667]]\n",
      "[0, 3, [0.43333333333333335, 0.9166666666666666, 0.9666666666666667]]\n",
      "[0, 3, [0.6833333333333333, 0.4666666666666667, 0.38333333333333336]]\n",
      "[0, 3, [0.1, 0.6666666666666666, 0.8166666666666667]]\n",
      "[0, 3, [0.5666666666666667, 0.5666666666666667, 0.38333333333333336]]\n",
      "[0, 3, [0.6833333333333333, 0.2833333333333333, 0.23333333333333334]]\n",
      "[0, 3, [0.6166666666666667, 0.31666666666666665, 0.95]]\n",
      "[0, 3, [0.36666666666666664, 0.4666666666666667, 0.4166666666666667]]\n",
      "[0, 3, [0.9166666666666666, 0.03333333333333333, 0.7333333333333333]]\n",
      "[0, 3, [0.18333333333333332, 0.7166666666666667, 0.2833333333333333]]\n",
      "[0, 4, [0.38333333333333336, 0.18333333333333332, 0.4666666666666667, 0.5833333333333334]]\n",
      "[0, 3, [0.05, 0.75, 0.75]]\n",
      "[0, 3, [0.06666666666666667, 0.05, 0.5666666666666667]]\n"
     ]
    }
   ],
   "source": [
    "#AFTER\n",
    "one_num_blocks_after = []\n",
    "one_num_blocks_after_chains = []\n",
    "two_num_blocks_after = []\n",
    "nine_num_blocks_after = []\n",
    "four_num_blocks= []\n",
    "for i in consecutives_after:\n",
    "    if i[0] == 1:\n",
    "        one_num_blocks_after.append(i[1])\n",
    "        one_num_blocks_after_chains.append(i[2])\n",
    "    if i[0] == 2:\n",
    "        two_num_blocks_after.append(i[1])\n",
    "    if i[0] == 9:\n",
    "        nine_num_blocks_after.append(i[1])\n",
    "for i in consecutives:\n",
    "    if i[1] > 2 and i[0] == 0:\n",
    "        print i\n",
    "\n",
    "        "
   ]
  },
  {
   "cell_type": "code",
   "execution_count": 83,
   "metadata": {
    "collapsed": false
   },
   "outputs": [],
   "source": [
    "\n",
    "for i in range(len(one_num_blocks_after)):\n",
    "    if one_num_blocks_after[i] == 5:\n",
    "        print one_num_blocks_after_chains[i]"
   ]
  },
  {
   "cell_type": "code",
   "execution_count": 84,
   "metadata": {
    "collapsed": false
   },
   "outputs": [],
   "source": [
    "one_df = pd.DataFrame({\"NumBlocks\":one_num_blocks})\n",
    "two_df = pd.DataFrame({\"NumBlocks\":two_num_blocks})\n",
    "one_after_df = pd.DataFrame({\"NumBlocks\":one_num_blocks_after})\n",
    "two_after_df = pd.DataFrame({\"NumBlocks\":two_num_blocks_after})\n",
    "nine_after_df = pd.DataFrame({\"NumBlocks\": nine_num_blocks_after})"
   ]
  },
  {
   "cell_type": "code",
   "execution_count": 150,
   "metadata": {
    "collapsed": false
   },
   "outputs": [
    {
     "data": {
      "text/plain": [
       "18937"
      ]
     },
     "execution_count": 150,
     "metadata": {},
     "output_type": "execute_result"
    }
   ],
   "source": [
    "#nine_after_df.hist(bins=10)\n",
    "len(consecutives)+ len(consecutives_after)"
   ]
  },
  {
   "cell_type": "code",
   "execution_count": 86,
   "metadata": {
    "collapsed": false
   },
   "outputs": [
    {
     "data": {
      "image/png": "[encoded data removed]",
      "text/plain": [
       "<matplotlib.figure.Figure at 0x7f812e838290>"
      ]
     },
     "metadata": {},
     "output_type": "display_data"
    }
   ],
   "source": [
    "#before\n",
    "x = one_df.hist(bins=10)\n",
    "#plt.semilogy()"
   ]
  },
  {
   "cell_type": "code",
   "execution_count": null,
   "metadata": {
    "collapsed": false
   },
   "outputs": [],
   "source": []
  },
  {
   "cell_type": "code",
   "execution_count": 87,
   "metadata": {
    "collapsed": false
   },
   "outputs": [
    {
     "data": {
      "text/plain": [
       "array([[<matplotlib.axes._subplots.AxesSubplot object at 0x7f812decc510>]], dtype=object)"
      ]
     },
     "execution_count": 87,
     "metadata": {},
     "output_type": "execute_result"
    },
    {
     "data": {
      "image/png": "[encoded data removed]",
      "text/plain": [
       "<matplotlib.figure.Figure at 0x7f812defa090>"
      ]
     },
     "metadata": {},
     "output_type": "display_data"
    }
   ],
   "source": [
    "#before\n",
    "two_df.hist(bins=10)"
   ]
  },
  {
   "cell_type": "code",
   "execution_count": 88,
   "metadata": {
    "collapsed": false
   },
   "outputs": [
    {
     "data": {
      "text/plain": [
       "array([[<matplotlib.axes._subplots.AxesSubplot object at 0x7f812de46950>]], dtype=object)"
      ]
     },
     "execution_count": 88,
     "metadata": {},
     "output_type": "execute_result"
    },
    {
     "data": {
      "image/png": "[encoded data removed]",
      "text/plain": [
       "<matplotlib.figure.Figure at 0x7f812de4fe90>"
      ]
     },
     "metadata": {},
     "output_type": "display_data"
    }
   ],
   "source": [
    "#after\n",
    "two_after_df.hist(bins=10)\n"
   ]
  },
  {
   "cell_type": "code",
   "execution_count": 89,
   "metadata": {
    "collapsed": false
   },
   "outputs": [
    {
     "data": {
      "text/plain": [
       "array([[<matplotlib.axes._subplots.AxesSubplot object at 0x7f812dd89650>]], dtype=object)"
      ]
     },
     "execution_count": 89,
     "metadata": {},
     "output_type": "execute_result"
    },
    {
     "data": {
      "image/png": "[encoded data removed]",
      "text/plain": [
       "<matplotlib.figure.Figure at 0x7f812dd950d0>"
      ]
     },
     "metadata": {},
     "output_type": "display_data"
    }
   ],
   "source": [
    "#after\n",
    "one_after_df.hist(bins=10)\n",
    "#as a percentage of blocks, different one for each one."
   ]
  },
  {
   "cell_type": "markdown",
   "metadata": {
    "collapsed": false
   },
   "source": [
    "\n",
    "1-((1-x^n)^z)"
   ]
  },
  {
   "cell_type": "code",
   "execution_count": 225,
   "metadata": {
    "collapsed": false
   },
   "outputs": [],
   "source": [
    "def prob_distribution(n):\n",
    "    z = 400000\n",
    "    x = .15\n",
    "    temp = math.pow(x,n)\n",
    "    temp = 1- temp\n",
    "    temp = math.pow(temp,z)\n",
    "    return  1-temp"
   ]
  },
  {
   "cell_type": "code",
   "execution_count": 226,
   "metadata": {
    "collapsed": false
   },
   "outputs": [
    {
     "data": {
      "text/plain": [
       "8.881784197001252e-11"
      ]
     },
     "execution_count": 226,
     "metadata": {},
     "output_type": "execute_result"
    }
   ],
   "source": [
    "prob_distribution(19)"
   ]
  },
  {
   "cell_type": "code",
   "execution_count": 227,
   "metadata": {
    "collapsed": false
   },
   "outputs": [],
   "source": [
    "nums = [1,2,3,4,5,6,7,8,9,10,11,13,14,15,16,17,18,19]\n",
    "#nums = [.1,.2,.3,.4,.5,.6,.7,.8,.9,1]\n",
    "sample = map(prob_distribution, nums)"
   ]
  },
  {
   "cell_type": "code",
   "execution_count": 228,
   "metadata": {
    "collapsed": false
   },
   "outputs": [
    {
     "data": {
      "text/plain": [
       "[1.0,\n",
       " 1.0,\n",
       " 1.0,\n",
       " 1.0,\n",
       " 0.9999999999999357,\n",
       " 0.9894989071834018,\n",
       " 0.49512180856191645,\n",
       " 0.09743596478739724,\n",
       " 0.015259716399913525,\n",
       " 0.0023039434217920762,\n",
       " 0.0003459303666945024,\n",
       " 7.784764729512617e-06,\n",
       " 1.1677318955127802e-06,\n",
       " 1.7514876904378696e-07,\n",
       " 2.62900808900568e-08,\n",
       " 3.952393967665557e-09,\n",
       " 5.773159728050814e-10,\n",
       " 8.881784197001252e-11]"
      ]
     },
     "execution_count": 228,
     "metadata": {},
     "output_type": "execute_result"
    }
   ],
   "source": [
    "sample"
   ]
  },
  {
   "cell_type": "code",
   "execution_count": 229,
   "metadata": {
    "collapsed": false
   },
   "outputs": [
    {
     "data": {
      "text/plain": [
       "<matplotlib.axes._subplots.AxesSubplot at 0x7f812e573d10>"
      ]
     },
     "execution_count": 229,
     "metadata": {},
     "output_type": "execute_result"
    },
    {
     "data": {
      "image/png": "[encoded data removed]",
      "text/plain": [
       "<matplotlib.figure.Figure at 0x7f812e4f5410>"
      ]
     },
     "metadata": {},
     "output_type": "display_data"
    }
   ],
   "source": [
    "sample_df = pd.DataFrame({\"Prob\":sample})\n",
    "sample_df.plot(kind='line',title ='Overall: % blocks per threshold in mins')\n",
    "#sample_df.plot(kind='line',x='Thresholds',y='Percentage', title ='Overall: % blocks per threshold in mins')"
   ]
  },
  {
   "cell_type": "code",
   "execution_count": null,
   "metadata": {
    "collapsed": true
   },
   "outputs": [],
   "source": []
  },
  {
   "cell_type": "code",
   "execution_count": null,
   "metadata": {
    "collapsed": true
   },
   "outputs": [],
   "source": []
  }
 ],
 "metadata": {
  "kernelspec": {
   "display_name": "Python 2",
   "language": "python",
   "name": "python2"
  },
  "language_info": {
   "codemirror_mode": {
    "name": "ipython",
    "version": 2
   },
   "file_extension": ".py",
   "mimetype": "text/x-python",
   "name": "python",
   "nbconvert_exporter": "python",
   "pygments_lexer": "ipython2",
   "version": "2.7.10"
  }
 },
 "nbformat": 4,
 "nbformat_minor": 0
}
